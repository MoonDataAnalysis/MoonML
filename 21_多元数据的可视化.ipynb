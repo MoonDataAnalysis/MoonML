{
 "cells": [
  {
   "cell_type": "markdown",
   "id": "039f852b",
   "metadata": {},
   "source": [
    "# 多元数据的可视化"
   ]
  },
  {
   "cell_type": "markdown",
   "id": "33005c3a",
   "metadata": {},
   "source": [
    "### 绘制折线图（轮廓图）呈现每一个样本在各特征上的表现\n",
    "\n",
    "（1）做直角坐标系，横坐标取p个点，表示p个变量\n",
    "（2）各p点上取值\n",
    "（3）p个点连线\n",
    "（4）每个被试皆重复上述步骤"
   ]
  },
  {
   "cell_type": "code",
   "execution_count": 9,
   "id": "edb3123e",
   "metadata": {},
   "outputs": [
    {
     "data": {
      "text/html": [
       "<table class=\"dataframe\">\n",
       "<caption>A data.frame: 6 × 5</caption>\n",
       "<thead>\n",
       "\t<tr><th></th><th scope=col>政治</th><th scope=col>语文</th><th scope=col>外语</th><th scope=col>数学</th><th scope=col>物理</th></tr>\n",
       "\t<tr><th></th><th scope=col>&lt;int&gt;</th><th scope=col>&lt;int&gt;</th><th scope=col>&lt;int&gt;</th><th scope=col>&lt;int&gt;</th><th scope=col>&lt;int&gt;</th></tr>\n",
       "</thead>\n",
       "<tbody>\n",
       "\t<tr><th scope=row>1</th><td> 99</td><td>94</td><td>93</td><td>100</td><td>100</td></tr>\n",
       "\t<tr><th scope=row>2</th><td> 99</td><td>88</td><td>96</td><td> 99</td><td> 97</td></tr>\n",
       "\t<tr><th scope=row>3</th><td>100</td><td>98</td><td>81</td><td> 96</td><td>100</td></tr>\n",
       "\t<tr><th scope=row>4</th><td> 93</td><td>88</td><td>88</td><td> 99</td><td> 96</td></tr>\n",
       "\t<tr><th scope=row>5</th><td>100</td><td>91</td><td>72</td><td> 96</td><td> 78</td></tr>\n",
       "\t<tr><th scope=row>6</th><td> 90</td><td>78</td><td>82</td><td> 75</td><td> 97</td></tr>\n",
       "</tbody>\n",
       "</table>\n"
      ],
      "text/latex": [
       "A data.frame: 6 × 5\n",
       "\\begin{tabular}{r|lllll}\n",
       "  & 政治 & 语文 & 外语 & 数学 & 物理\\\\\n",
       "  & <int> & <int> & <int> & <int> & <int>\\\\\n",
       "\\hline\n",
       "\t1 &  99 & 94 & 93 & 100 & 100\\\\\n",
       "\t2 &  99 & 88 & 96 &  99 &  97\\\\\n",
       "\t3 & 100 & 98 & 81 &  96 & 100\\\\\n",
       "\t4 &  93 & 88 & 88 &  99 &  96\\\\\n",
       "\t5 & 100 & 91 & 72 &  96 &  78\\\\\n",
       "\t6 &  90 & 78 & 82 &  75 &  97\\\\\n",
       "\\end{tabular}\n"
      ],
      "text/markdown": [
       "\n",
       "A data.frame: 6 × 5\n",
       "\n",
       "| <!--/--> | 政治 &lt;int&gt; | 语文 &lt;int&gt; | 外语 &lt;int&gt; | 数学 &lt;int&gt; | 物理 &lt;int&gt; |\n",
       "|---|---|---|---|---|---|\n",
       "| 1 |  99 | 94 | 93 | 100 | 100 |\n",
       "| 2 |  99 | 88 | 96 |  99 |  97 |\n",
       "| 3 | 100 | 98 | 81 |  96 | 100 |\n",
       "| 4 |  93 | 88 | 88 |  99 |  96 |\n",
       "| 5 | 100 | 91 | 72 |  96 |  78 |\n",
       "| 6 |  90 | 78 | 82 |  75 |  97 |\n",
       "\n"
      ],
      "text/plain": [
       "  政治 语文 外语 数学 物理\n",
       "1  99  94   93   100  100 \n",
       "2  99  88   96    99   97 \n",
       "3 100  98   81    96  100 \n",
       "4  93  88   88    99   96 \n",
       "5 100  91   72    96   78 \n",
       "6  90  78   82    75   97 "
      ]
     },
     "metadata": {},
     "output_type": "display_data"
    }
   ],
   "source": [
    "line <- read.table(\"course.data\",encoding = 'UTF-8')\n",
    "head(line)"
   ]
  },
  {
   "cell_type": "code",
   "execution_count": 10,
   "id": "0565ddb6",
   "metadata": {},
   "outputs": [],
   "source": [
    "outline <- function(x, txt=T){\n",
    "    if(is.data.frame(x)==T){\n",
    "        x <- as.matrix(x)\n",
    "        m <- nrow(x); n<-ncol(x)\n",
    "        plot(c(1,n), c(min(x), max(x)),\n",
    "            type=\"n\", main = \"The outline graph of Data\",\n",
    "            xlab =\"Number\", ylab = \"Value\")\n",
    "        for(i in 1:m){\n",
    "            lines(x[i,], col=i)\n",
    "            if(txt==T){\n",
    "                k <- dimnames(x)[[1]][i]\n",
    "                text(1+(i-1)%%n, x[i,1+(i-1)%%n], k)\n",
    "            }\n",
    "        }\n",
    "    }  \n",
    "}\n",
    "#txt==T时，给出挂测值标号，否则不标"
   ]
  },
  {
   "cell_type": "code",
   "execution_count": 11,
   "id": "fb9345b3",
   "metadata": {},
   "outputs": [
    {
     "data": {
      "image/png": "[encoded data removed]",
      "text/plain": [
       "Plot with title \"The outline graph of Data\""
      ]
     },
     "metadata": {
      "image/png": {
       "height": 420,
       "width": 420
      }
     },
     "output_type": "display_data"
    }
   ],
   "source": [
    "outline(line)"
   ]
  },
  {
   "cell_type": "code",
   "execution_count": 12,
   "id": "fa498aa0",
   "metadata": {},
   "outputs": [],
   "source": [
    "#画的还可以，但是太复杂了！\n",
    "#使用ggplot2包中的高级绘图函数\n",
    "library('ggplot2')"
   ]
  },
  {
   "cell_type": "code",
   "execution_count": 13,
   "id": "dbae286c",
   "metadata": {},
   "outputs": [
    {
     "data": {
      "text/html": [
       "<table class=\"dataframe\">\n",
       "<caption>A data.frame: 6 × 5</caption>\n",
       "<thead>\n",
       "\t<tr><th></th><th scope=col>政治</th><th scope=col>语文</th><th scope=col>外语</th><th scope=col>数学</th><th scope=col>物理</th></tr>\n",
       "\t<tr><th></th><th scope=col>&lt;int&gt;</th><th scope=col>&lt;int&gt;</th><th scope=col>&lt;int&gt;</th><th scope=col>&lt;int&gt;</th><th scope=col>&lt;int&gt;</th></tr>\n",
       "</thead>\n",
       "<tbody>\n",
       "\t<tr><th scope=row>1</th><td> 99</td><td>94</td><td>93</td><td>100</td><td>100</td></tr>\n",
       "\t<tr><th scope=row>2</th><td> 99</td><td>88</td><td>96</td><td> 99</td><td> 97</td></tr>\n",
       "\t<tr><th scope=row>3</th><td>100</td><td>98</td><td>81</td><td> 96</td><td>100</td></tr>\n",
       "\t<tr><th scope=row>4</th><td> 93</td><td>88</td><td>88</td><td> 99</td><td> 96</td></tr>\n",
       "\t<tr><th scope=row>5</th><td>100</td><td>91</td><td>72</td><td> 96</td><td> 78</td></tr>\n",
       "\t<tr><th scope=row>6</th><td> 90</td><td>78</td><td>82</td><td> 75</td><td> 97</td></tr>\n",
       "</tbody>\n",
       "</table>\n"
      ],
      "text/latex": [
       "A data.frame: 6 × 5\n",
       "\\begin{tabular}{r|lllll}\n",
       "  & 政治 & 语文 & 外语 & 数学 & 物理\\\\\n",
       "  & <int> & <int> & <int> & <int> & <int>\\\\\n",
       "\\hline\n",
       "\t1 &  99 & 94 & 93 & 100 & 100\\\\\n",
       "\t2 &  99 & 88 & 96 &  99 &  97\\\\\n",
       "\t3 & 100 & 98 & 81 &  96 & 100\\\\\n",
       "\t4 &  93 & 88 & 88 &  99 &  96\\\\\n",
       "\t5 & 100 & 91 & 72 &  96 &  78\\\\\n",
       "\t6 &  90 & 78 & 82 &  75 &  97\\\\\n",
       "\\end{tabular}\n"
      ],
      "text/markdown": [
       "\n",
       "A data.frame: 6 × 5\n",
       "\n",
       "| <!--/--> | 政治 &lt;int&gt; | 语文 &lt;int&gt; | 外语 &lt;int&gt; | 数学 &lt;int&gt; | 物理 &lt;int&gt; |\n",
       "|---|---|---|---|---|---|\n",
       "| 1 |  99 | 94 | 93 | 100 | 100 |\n",
       "| 2 |  99 | 88 | 96 |  99 |  97 |\n",
       "| 3 | 100 | 98 | 81 |  96 | 100 |\n",
       "| 4 |  93 | 88 | 88 |  99 |  96 |\n",
       "| 5 | 100 | 91 | 72 |  96 |  78 |\n",
       "| 6 |  90 | 78 | 82 |  75 |  97 |\n",
       "\n"
      ],
      "text/plain": [
       "  政治 语文 外语 数学 物理\n",
       "1  99  94   93   100  100 \n",
       "2  99  88   96    99   97 \n",
       "3 100  98   81    96  100 \n",
       "4  93  88   88    99   96 \n",
       "5 100  91   72    96   78 \n",
       "6  90  78   82    75   97 "
      ]
     },
     "metadata": {},
     "output_type": "display_data"
    },
    {
     "data": {
      "text/html": [
       "<table class=\"dataframe\">\n",
       "<caption>A data.frame: 60 × 3</caption>\n",
       "<thead>\n",
       "\t<tr><th></th><th scope=col>id</th><th scope=col>variable</th><th scope=col>value</th></tr>\n",
       "\t<tr><th></th><th scope=col>&lt;int&gt;</th><th scope=col>&lt;fct&gt;</th><th scope=col>&lt;int&gt;</th></tr>\n",
       "</thead>\n",
       "<tbody>\n",
       "\t<tr><th scope=row>1</th><td> 1</td><td>政治</td><td> 99</td></tr>\n",
       "\t<tr><th scope=row>13</th><td> 1</td><td>语文</td><td> 94</td></tr>\n",
       "\t<tr><th scope=row>25</th><td> 1</td><td>外语</td><td> 93</td></tr>\n",
       "\t<tr><th scope=row>37</th><td> 1</td><td>数学</td><td>100</td></tr>\n",
       "\t<tr><th scope=row>49</th><td> 1</td><td>物理</td><td>100</td></tr>\n",
       "\t<tr><th scope=row>2</th><td> 2</td><td>政治</td><td> 99</td></tr>\n",
       "\t<tr><th scope=row>14</th><td> 2</td><td>语文</td><td> 88</td></tr>\n",
       "\t<tr><th scope=row>26</th><td> 2</td><td>外语</td><td> 96</td></tr>\n",
       "\t<tr><th scope=row>38</th><td> 2</td><td>数学</td><td> 99</td></tr>\n",
       "\t<tr><th scope=row>50</th><td> 2</td><td>物理</td><td> 97</td></tr>\n",
       "\t<tr><th scope=row>3</th><td> 3</td><td>政治</td><td>100</td></tr>\n",
       "\t<tr><th scope=row>15</th><td> 3</td><td>语文</td><td> 98</td></tr>\n",
       "\t<tr><th scope=row>27</th><td> 3</td><td>外语</td><td> 81</td></tr>\n",
       "\t<tr><th scope=row>39</th><td> 3</td><td>数学</td><td> 96</td></tr>\n",
       "\t<tr><th scope=row>51</th><td> 3</td><td>物理</td><td>100</td></tr>\n",
       "\t<tr><th scope=row>4</th><td> 4</td><td>政治</td><td> 93</td></tr>\n",
       "\t<tr><th scope=row>16</th><td> 4</td><td>语文</td><td> 88</td></tr>\n",
       "\t<tr><th scope=row>28</th><td> 4</td><td>外语</td><td> 88</td></tr>\n",
       "\t<tr><th scope=row>40</th><td> 4</td><td>数学</td><td> 99</td></tr>\n",
       "\t<tr><th scope=row>52</th><td> 4</td><td>物理</td><td> 96</td></tr>\n",
       "\t<tr><th scope=row>5</th><td> 5</td><td>政治</td><td>100</td></tr>\n",
       "\t<tr><th scope=row>17</th><td> 5</td><td>语文</td><td> 91</td></tr>\n",
       "\t<tr><th scope=row>29</th><td> 5</td><td>外语</td><td> 72</td></tr>\n",
       "\t<tr><th scope=row>41</th><td> 5</td><td>数学</td><td> 96</td></tr>\n",
       "\t<tr><th scope=row>53</th><td> 5</td><td>物理</td><td> 78</td></tr>\n",
       "\t<tr><th scope=row>6</th><td> 6</td><td>政治</td><td> 90</td></tr>\n",
       "\t<tr><th scope=row>18</th><td> 6</td><td>语文</td><td> 78</td></tr>\n",
       "\t<tr><th scope=row>30</th><td> 6</td><td>外语</td><td> 82</td></tr>\n",
       "\t<tr><th scope=row>42</th><td> 6</td><td>数学</td><td> 75</td></tr>\n",
       "\t<tr><th scope=row>54</th><td> 6</td><td>物理</td><td> 97</td></tr>\n",
       "\t<tr><th scope=row>7</th><td> 7</td><td>政治</td><td> 75</td></tr>\n",
       "\t<tr><th scope=row>19</th><td> 7</td><td>语文</td><td> 73</td></tr>\n",
       "\t<tr><th scope=row>31</th><td> 7</td><td>外语</td><td> 88</td></tr>\n",
       "\t<tr><th scope=row>43</th><td> 7</td><td>数学</td><td> 97</td></tr>\n",
       "\t<tr><th scope=row>55</th><td> 7</td><td>物理</td><td> 89</td></tr>\n",
       "\t<tr><th scope=row>8</th><td> 8</td><td>政治</td><td> 93</td></tr>\n",
       "\t<tr><th scope=row>20</th><td> 8</td><td>语文</td><td> 84</td></tr>\n",
       "\t<tr><th scope=row>32</th><td> 8</td><td>外语</td><td> 83</td></tr>\n",
       "\t<tr><th scope=row>44</th><td> 8</td><td>数学</td><td> 68</td></tr>\n",
       "\t<tr><th scope=row>56</th><td> 8</td><td>物理</td><td> 88</td></tr>\n",
       "\t<tr><th scope=row>9</th><td> 9</td><td>政治</td><td> 87</td></tr>\n",
       "\t<tr><th scope=row>21</th><td> 9</td><td>语文</td><td> 73</td></tr>\n",
       "\t<tr><th scope=row>33</th><td> 9</td><td>外语</td><td> 60</td></tr>\n",
       "\t<tr><th scope=row>45</th><td> 9</td><td>数学</td><td> 76</td></tr>\n",
       "\t<tr><th scope=row>57</th><td> 9</td><td>物理</td><td> 84</td></tr>\n",
       "\t<tr><th scope=row>10</th><td>10</td><td>政治</td><td> 95</td></tr>\n",
       "\t<tr><th scope=row>22</th><td>10</td><td>语文</td><td> 82</td></tr>\n",
       "\t<tr><th scope=row>34</th><td>10</td><td>外语</td><td> 90</td></tr>\n",
       "\t<tr><th scope=row>46</th><td>10</td><td>数学</td><td> 62</td></tr>\n",
       "\t<tr><th scope=row>58</th><td>10</td><td>物理</td><td> 39</td></tr>\n",
       "\t<tr><th scope=row>11</th><td>11</td><td>政治</td><td> 76</td></tr>\n",
       "\t<tr><th scope=row>23</th><td>11</td><td>语文</td><td> 72</td></tr>\n",
       "\t<tr><th scope=row>35</th><td>11</td><td>外语</td><td> 43</td></tr>\n",
       "\t<tr><th scope=row>47</th><td>11</td><td>数学</td><td> 67</td></tr>\n",
       "\t<tr><th scope=row>59</th><td>11</td><td>物理</td><td> 78</td></tr>\n",
       "\t<tr><th scope=row>12</th><td>12</td><td>政治</td><td> 85</td></tr>\n",
       "\t<tr><th scope=row>24</th><td>12</td><td>语文</td><td> 75</td></tr>\n",
       "\t<tr><th scope=row>36</th><td>12</td><td>外语</td><td> 50</td></tr>\n",
       "\t<tr><th scope=row>48</th><td>12</td><td>数学</td><td> 34</td></tr>\n",
       "\t<tr><th scope=row>60</th><td>12</td><td>物理</td><td> 37</td></tr>\n",
       "</tbody>\n",
       "</table>\n"
      ],
      "text/latex": [
       "A data.frame: 60 × 3\n",
       "\\begin{tabular}{r|lll}\n",
       "  & id & variable & value\\\\\n",
       "  & <int> & <fct> & <int>\\\\\n",
       "\\hline\n",
       "\t1 &  1 & 政治 &  99\\\\\n",
       "\t13 &  1 & 语文 &  94\\\\\n",
       "\t25 &  1 & 外语 &  93\\\\\n",
       "\t37 &  1 & 数学 & 100\\\\\n",
       "\t49 &  1 & 物理 & 100\\\\\n",
       "\t2 &  2 & 政治 &  99\\\\\n",
       "\t14 &  2 & 语文 &  88\\\\\n",
       "\t26 &  2 & 外语 &  96\\\\\n",
       "\t38 &  2 & 数学 &  99\\\\\n",
       "\t50 &  2 & 物理 &  97\\\\\n",
       "\t3 &  3 & 政治 & 100\\\\\n",
       "\t15 &  3 & 语文 &  98\\\\\n",
       "\t27 &  3 & 外语 &  81\\\\\n",
       "\t39 &  3 & 数学 &  96\\\\\n",
       "\t51 &  3 & 物理 & 100\\\\\n",
       "\t4 &  4 & 政治 &  93\\\\\n",
       "\t16 &  4 & 语文 &  88\\\\\n",
       "\t28 &  4 & 外语 &  88\\\\\n",
       "\t40 &  4 & 数学 &  99\\\\\n",
       "\t52 &  4 & 物理 &  96\\\\\n",
       "\t5 &  5 & 政治 & 100\\\\\n",
       "\t17 &  5 & 语文 &  91\\\\\n",
       "\t29 &  5 & 外语 &  72\\\\\n",
       "\t41 &  5 & 数学 &  96\\\\\n",
       "\t53 &  5 & 物理 &  78\\\\\n",
       "\t6 &  6 & 政治 &  90\\\\\n",
       "\t18 &  6 & 语文 &  78\\\\\n",
       "\t30 &  6 & 外语 &  82\\\\\n",
       "\t42 &  6 & 数学 &  75\\\\\n",
       "\t54 &  6 & 物理 &  97\\\\\n",
       "\t7 &  7 & 政治 &  75\\\\\n",
       "\t19 &  7 & 语文 &  73\\\\\n",
       "\t31 &  7 & 外语 &  88\\\\\n",
       "\t43 &  7 & 数学 &  97\\\\\n",
       "\t55 &  7 & 物理 &  89\\\\\n",
       "\t8 &  8 & 政治 &  93\\\\\n",
       "\t20 &  8 & 语文 &  84\\\\\n",
       "\t32 &  8 & 外语 &  83\\\\\n",
       "\t44 &  8 & 数学 &  68\\\\\n",
       "\t56 &  8 & 物理 &  88\\\\\n",
       "\t9 &  9 & 政治 &  87\\\\\n",
       "\t21 &  9 & 语文 &  73\\\\\n",
       "\t33 &  9 & 外语 &  60\\\\\n",
       "\t45 &  9 & 数学 &  76\\\\\n",
       "\t57 &  9 & 物理 &  84\\\\\n",
       "\t10 & 10 & 政治 &  95\\\\\n",
       "\t22 & 10 & 语文 &  82\\\\\n",
       "\t34 & 10 & 外语 &  90\\\\\n",
       "\t46 & 10 & 数学 &  62\\\\\n",
       "\t58 & 10 & 物理 &  39\\\\\n",
       "\t11 & 11 & 政治 &  76\\\\\n",
       "\t23 & 11 & 语文 &  72\\\\\n",
       "\t35 & 11 & 外语 &  43\\\\\n",
       "\t47 & 11 & 数学 &  67\\\\\n",
       "\t59 & 11 & 物理 &  78\\\\\n",
       "\t12 & 12 & 政治 &  85\\\\\n",
       "\t24 & 12 & 语文 &  75\\\\\n",
       "\t36 & 12 & 外语 &  50\\\\\n",
       "\t48 & 12 & 数学 &  34\\\\\n",
       "\t60 & 12 & 物理 &  37\\\\\n",
       "\\end{tabular}\n"
      ],
      "text/markdown": [
       "\n",
       "A data.frame: 60 × 3\n",
       "\n",
       "| <!--/--> | id &lt;int&gt; | variable &lt;fct&gt; | value &lt;int&gt; |\n",
       "|---|---|---|---|\n",
       "| 1 |  1 | 政治 |  99 |\n",
       "| 13 |  1 | 语文 |  94 |\n",
       "| 25 |  1 | 外语 |  93 |\n",
       "| 37 |  1 | 数学 | 100 |\n",
       "| 49 |  1 | 物理 | 100 |\n",
       "| 2 |  2 | 政治 |  99 |\n",
       "| 14 |  2 | 语文 |  88 |\n",
       "| 26 |  2 | 外语 |  96 |\n",
       "| 38 |  2 | 数学 |  99 |\n",
       "| 50 |  2 | 物理 |  97 |\n",
       "| 3 |  3 | 政治 | 100 |\n",
       "| 15 |  3 | 语文 |  98 |\n",
       "| 27 |  3 | 外语 |  81 |\n",
       "| 39 |  3 | 数学 |  96 |\n",
       "| 51 |  3 | 物理 | 100 |\n",
       "| 4 |  4 | 政治 |  93 |\n",
       "| 16 |  4 | 语文 |  88 |\n",
       "| 28 |  4 | 外语 |  88 |\n",
       "| 40 |  4 | 数学 |  99 |\n",
       "| 52 |  4 | 物理 |  96 |\n",
       "| 5 |  5 | 政治 | 100 |\n",
       "| 17 |  5 | 语文 |  91 |\n",
       "| 29 |  5 | 外语 |  72 |\n",
       "| 41 |  5 | 数学 |  96 |\n",
       "| 53 |  5 | 物理 |  78 |\n",
       "| 6 |  6 | 政治 |  90 |\n",
       "| 18 |  6 | 语文 |  78 |\n",
       "| 30 |  6 | 外语 |  82 |\n",
       "| 42 |  6 | 数学 |  75 |\n",
       "| 54 |  6 | 物理 |  97 |\n",
       "| 7 |  7 | 政治 |  75 |\n",
       "| 19 |  7 | 语文 |  73 |\n",
       "| 31 |  7 | 外语 |  88 |\n",
       "| 43 |  7 | 数学 |  97 |\n",
       "| 55 |  7 | 物理 |  89 |\n",
       "| 8 |  8 | 政治 |  93 |\n",
       "| 20 |  8 | 语文 |  84 |\n",
       "| 32 |  8 | 外语 |  83 |\n",
       "| 44 |  8 | 数学 |  68 |\n",
       "| 56 |  8 | 物理 |  88 |\n",
       "| 9 |  9 | 政治 |  87 |\n",
       "| 21 |  9 | 语文 |  73 |\n",
       "| 33 |  9 | 外语 |  60 |\n",
       "| 45 |  9 | 数学 |  76 |\n",
       "| 57 |  9 | 物理 |  84 |\n",
       "| 10 | 10 | 政治 |  95 |\n",
       "| 22 | 10 | 语文 |  82 |\n",
       "| 34 | 10 | 外语 |  90 |\n",
       "| 46 | 10 | 数学 |  62 |\n",
       "| 58 | 10 | 物理 |  39 |\n",
       "| 11 | 11 | 政治 |  76 |\n",
       "| 23 | 11 | 语文 |  72 |\n",
       "| 35 | 11 | 外语 |  43 |\n",
       "| 47 | 11 | 数学 |  67 |\n",
       "| 59 | 11 | 物理 |  78 |\n",
       "| 12 | 12 | 政治 |  85 |\n",
       "| 24 | 12 | 语文 |  75 |\n",
       "| 36 | 12 | 外语 |  50 |\n",
       "| 48 | 12 | 数学 |  34 |\n",
       "| 60 | 12 | 物理 |  37 |\n",
       "\n"
      ],
      "text/plain": [
       "   id variable value\n",
       "1   1 政治      99  \n",
       "13  1 语文      94  \n",
       "25  1 外语      93  \n",
       "37  1 数学     100  \n",
       "49  1 物理     100  \n",
       "2   2 政治      99  \n",
       "14  2 语文      88  \n",
       "26  2 外语      96  \n",
       "38  2 数学      99  \n",
       "50  2 物理      97  \n",
       "3   3 政治     100  \n",
       "15  3 语文      98  \n",
       "27  3 外语      81  \n",
       "39  3 数学      96  \n",
       "51  3 物理     100  \n",
       "4   4 政治      93  \n",
       "16  4 语文      88  \n",
       "28  4 外语      88  \n",
       "40  4 数学      99  \n",
       "52  4 物理      96  \n",
       "5   5 政治     100  \n",
       "17  5 语文      91  \n",
       "29  5 外语      72  \n",
       "41  5 数学      96  \n",
       "53  5 物理      78  \n",
       "6   6 政治      90  \n",
       "18  6 语文      78  \n",
       "30  6 外语      82  \n",
       "42  6 数学      75  \n",
       "54  6 物理      97  \n",
       "7   7 政治      75  \n",
       "19  7 语文      73  \n",
       "31  7 外语      88  \n",
       "43  7 数学      97  \n",
       "55  7 物理      89  \n",
       "8   8 政治      93  \n",
       "20  8 语文      84  \n",
       "32  8 外语      83  \n",
       "44  8 数学      68  \n",
       "56  8 物理      88  \n",
       "9   9 政治      87  \n",
       "21  9 语文      73  \n",
       "33  9 外语      60  \n",
       "45  9 数学      76  \n",
       "57  9 物理      84  \n",
       "10 10 政治      95  \n",
       "22 10 语文      82  \n",
       "34 10 外语      90  \n",
       "46 10 数学      62  \n",
       "58 10 物理      39  \n",
       "11 11 政治      76  \n",
       "23 11 语文      72  \n",
       "35 11 外语      43  \n",
       "47 11 数学      67  \n",
       "59 11 物理      78  \n",
       "12 12 政治      85  \n",
       "24 12 语文      75  \n",
       "36 12 外语      50  \n",
       "48 12 数学      34  \n",
       "60 12 物理      37  "
      ]
     },
     "metadata": {},
     "output_type": "display_data"
    }
   ],
   "source": [
    "#首先宽数据转长数据\n",
    "head(line)\n",
    "line$id <- 1:dim(line)[1]\n",
    "line2 <- reshape2::melt(line,id.vars = 'id')\n",
    "line2"
   ]
  },
  {
   "cell_type": "code",
   "execution_count": 14,
   "id": "caa90e1e",
   "metadata": {},
   "outputs": [
    {
     "data": {
      "image/png": "[encoded data removed]",
      "text/plain": [
       "plot without title"
      ]
     },
     "metadata": {
      "image/png": {
       "height": 420,
       "width": 420
      }
     },
     "output_type": "display_data"
    }
   ],
   "source": [
    "ggplot(line2,aes(x=variable, y=value, group=id, color=id)) +\n",
    "      geom_line() "
   ]
  },
  {
   "cell_type": "markdown",
   "id": "064a8328",
   "metadata": {},
   "source": [
    "### 星图\n",
    "\n",
    "（1）作圆， 把圆周p等分\n",
    "（2）连接圆心和各分点，把p条半径依次作为坐标轴\n",
    "（3）n次观测值合一作n个星图"
   ]
  },
  {
   "cell_type": "code",
   "execution_count": 15,
   "id": "4fec0ada",
   "metadata": {},
   "outputs": [
    {
     "data": {
      "text/html": [
       "<table class=\"dataframe\">\n",
       "<caption>A data.frame: 12 × 6</caption>\n",
       "<thead>\n",
       "\t<tr><th></th><th scope=col>政治</th><th scope=col>语文</th><th scope=col>外语</th><th scope=col>数学</th><th scope=col>物理</th><th scope=col>id</th></tr>\n",
       "\t<tr><th></th><th scope=col>&lt;int&gt;</th><th scope=col>&lt;int&gt;</th><th scope=col>&lt;int&gt;</th><th scope=col>&lt;int&gt;</th><th scope=col>&lt;int&gt;</th><th scope=col>&lt;int&gt;</th></tr>\n",
       "</thead>\n",
       "<tbody>\n",
       "\t<tr><th scope=row>1</th><td> 99</td><td>94</td><td>93</td><td>100</td><td>100</td><td> 1</td></tr>\n",
       "\t<tr><th scope=row>2</th><td> 99</td><td>88</td><td>96</td><td> 99</td><td> 97</td><td> 2</td></tr>\n",
       "\t<tr><th scope=row>3</th><td>100</td><td>98</td><td>81</td><td> 96</td><td>100</td><td> 3</td></tr>\n",
       "\t<tr><th scope=row>4</th><td> 93</td><td>88</td><td>88</td><td> 99</td><td> 96</td><td> 4</td></tr>\n",
       "\t<tr><th scope=row>5</th><td>100</td><td>91</td><td>72</td><td> 96</td><td> 78</td><td> 5</td></tr>\n",
       "\t<tr><th scope=row>6</th><td> 90</td><td>78</td><td>82</td><td> 75</td><td> 97</td><td> 6</td></tr>\n",
       "\t<tr><th scope=row>7</th><td> 75</td><td>73</td><td>88</td><td> 97</td><td> 89</td><td> 7</td></tr>\n",
       "\t<tr><th scope=row>8</th><td> 93</td><td>84</td><td>83</td><td> 68</td><td> 88</td><td> 8</td></tr>\n",
       "\t<tr><th scope=row>9</th><td> 87</td><td>73</td><td>60</td><td> 76</td><td> 84</td><td> 9</td></tr>\n",
       "\t<tr><th scope=row>10</th><td> 95</td><td>82</td><td>90</td><td> 62</td><td> 39</td><td>10</td></tr>\n",
       "\t<tr><th scope=row>11</th><td> 76</td><td>72</td><td>43</td><td> 67</td><td> 78</td><td>11</td></tr>\n",
       "\t<tr><th scope=row>12</th><td> 85</td><td>75</td><td>50</td><td> 34</td><td> 37</td><td>12</td></tr>\n",
       "</tbody>\n",
       "</table>\n"
      ],
      "text/latex": [
       "A data.frame: 12 × 6\n",
       "\\begin{tabular}{r|llllll}\n",
       "  & 政治 & 语文 & 外语 & 数学 & 物理 & id\\\\\n",
       "  & <int> & <int> & <int> & <int> & <int> & <int>\\\\\n",
       "\\hline\n",
       "\t1 &  99 & 94 & 93 & 100 & 100 &  1\\\\\n",
       "\t2 &  99 & 88 & 96 &  99 &  97 &  2\\\\\n",
       "\t3 & 100 & 98 & 81 &  96 & 100 &  3\\\\\n",
       "\t4 &  93 & 88 & 88 &  99 &  96 &  4\\\\\n",
       "\t5 & 100 & 91 & 72 &  96 &  78 &  5\\\\\n",
       "\t6 &  90 & 78 & 82 &  75 &  97 &  6\\\\\n",
       "\t7 &  75 & 73 & 88 &  97 &  89 &  7\\\\\n",
       "\t8 &  93 & 84 & 83 &  68 &  88 &  8\\\\\n",
       "\t9 &  87 & 73 & 60 &  76 &  84 &  9\\\\\n",
       "\t10 &  95 & 82 & 90 &  62 &  39 & 10\\\\\n",
       "\t11 &  76 & 72 & 43 &  67 &  78 & 11\\\\\n",
       "\t12 &  85 & 75 & 50 &  34 &  37 & 12\\\\\n",
       "\\end{tabular}\n"
      ],
      "text/markdown": [
       "\n",
       "A data.frame: 12 × 6\n",
       "\n",
       "| <!--/--> | 政治 &lt;int&gt; | 语文 &lt;int&gt; | 外语 &lt;int&gt; | 数学 &lt;int&gt; | 物理 &lt;int&gt; | id &lt;int&gt; |\n",
       "|---|---|---|---|---|---|---|\n",
       "| 1 |  99 | 94 | 93 | 100 | 100 |  1 |\n",
       "| 2 |  99 | 88 | 96 |  99 |  97 |  2 |\n",
       "| 3 | 100 | 98 | 81 |  96 | 100 |  3 |\n",
       "| 4 |  93 | 88 | 88 |  99 |  96 |  4 |\n",
       "| 5 | 100 | 91 | 72 |  96 |  78 |  5 |\n",
       "| 6 |  90 | 78 | 82 |  75 |  97 |  6 |\n",
       "| 7 |  75 | 73 | 88 |  97 |  89 |  7 |\n",
       "| 8 |  93 | 84 | 83 |  68 |  88 |  8 |\n",
       "| 9 |  87 | 73 | 60 |  76 |  84 |  9 |\n",
       "| 10 |  95 | 82 | 90 |  62 |  39 | 10 |\n",
       "| 11 |  76 | 72 | 43 |  67 |  78 | 11 |\n",
       "| 12 |  85 | 75 | 50 |  34 |  37 | 12 |\n",
       "\n"
      ],
      "text/plain": [
       "   政治 语文 外语 数学 物理 id\n",
       "1   99  94   93   100  100   1\n",
       "2   99  88   96    99   97   2\n",
       "3  100  98   81    96  100   3\n",
       "4   93  88   88    99   96   4\n",
       "5  100  91   72    96   78   5\n",
       "6   90  78   82    75   97   6\n",
       "7   75  73   88    97   89   7\n",
       "8   93  84   83    68   88   8\n",
       "9   87  73   60    76   84   9\n",
       "10  95  82   90    62   39  10\n",
       "11  76  72   43    67   78  11\n",
       "12  85  75   50    34   37  12"
      ]
     },
     "metadata": {},
     "output_type": "display_data"
    }
   ],
   "source": [
    "line"
   ]
  },
  {
   "cell_type": "code",
   "execution_count": 16,
   "id": "853abf4a",
   "metadata": {},
   "outputs": [
    {
     "data": {
      "image/png": "[encoded data removed]",
      "text/plain": [
       "plot without title"
      ]
     },
     "metadata": {
      "image/png": {
       "height": 420,
       "width": 420
      }
     },
     "output_type": "display_data"
    }
   ],
   "source": [
    "stars(line[1:5])\n",
    "#星图中水平轴是第一个特征，沿逆时针，依次是特征2, 特征3..."
   ]
  },
  {
   "cell_type": "code",
   "execution_count": 18,
   "id": "5013ecef",
   "metadata": {},
   "outputs": [
    {
     "data": {
      "image/png": "[encoded data removed]",
      "text/plain": [
       "plot without title"
      ]
     },
     "metadata": {
      "image/png": {
       "height": 420,
       "width": 420
      }
     },
     "output_type": "display_data"
    }
   ],
   "source": [
    "#上面的不好理解？\n",
    "stars(line, full= F, draw.segments = T, key.loc = c(5,0,5), mar = c(2,0,0,0))"
   ]
  },
  {
   "cell_type": "markdown",
   "id": "08ac9679",
   "metadata": {},
   "source": [
    "### 热力图显示多变量相关性"
   ]
  },
  {
   "cell_type": "code",
   "execution_count": 18,
   "id": "f7b6fd6f",
   "metadata": {},
   "outputs": [
    {
     "data": {
      "text/html": [
       "<table class=\"dataframe\">\n",
       "<caption>A data.frame: 6 × 11</caption>\n",
       "<thead>\n",
       "\t<tr><th></th><th scope=col>mpg</th><th scope=col>cyl</th><th scope=col>disp</th><th scope=col>hp</th><th scope=col>drat</th><th scope=col>wt</th><th scope=col>qsec</th><th scope=col>vs</th><th scope=col>am</th><th scope=col>gear</th><th scope=col>carb</th></tr>\n",
       "\t<tr><th></th><th scope=col>&lt;dbl&gt;</th><th scope=col>&lt;dbl&gt;</th><th scope=col>&lt;dbl&gt;</th><th scope=col>&lt;dbl&gt;</th><th scope=col>&lt;dbl&gt;</th><th scope=col>&lt;dbl&gt;</th><th scope=col>&lt;dbl&gt;</th><th scope=col>&lt;dbl&gt;</th><th scope=col>&lt;dbl&gt;</th><th scope=col>&lt;dbl&gt;</th><th scope=col>&lt;dbl&gt;</th></tr>\n",
       "</thead>\n",
       "<tbody>\n",
       "\t<tr><th scope=row>Mazda RX4</th><td>21.0</td><td>6</td><td>160</td><td>110</td><td>3.90</td><td>2.620</td><td>16.46</td><td>0</td><td>1</td><td>4</td><td>4</td></tr>\n",
       "\t<tr><th scope=row>Mazda RX4 Wag</th><td>21.0</td><td>6</td><td>160</td><td>110</td><td>3.90</td><td>2.875</td><td>17.02</td><td>0</td><td>1</td><td>4</td><td>4</td></tr>\n",
       "\t<tr><th scope=row>Datsun 710</th><td>22.8</td><td>4</td><td>108</td><td> 93</td><td>3.85</td><td>2.320</td><td>18.61</td><td>1</td><td>1</td><td>4</td><td>1</td></tr>\n",
       "\t<tr><th scope=row>Hornet 4 Drive</th><td>21.4</td><td>6</td><td>258</td><td>110</td><td>3.08</td><td>3.215</td><td>19.44</td><td>1</td><td>0</td><td>3</td><td>1</td></tr>\n",
       "\t<tr><th scope=row>Hornet Sportabout</th><td>18.7</td><td>8</td><td>360</td><td>175</td><td>3.15</td><td>3.440</td><td>17.02</td><td>0</td><td>0</td><td>3</td><td>2</td></tr>\n",
       "\t<tr><th scope=row>Valiant</th><td>18.1</td><td>6</td><td>225</td><td>105</td><td>2.76</td><td>3.460</td><td>20.22</td><td>1</td><td>0</td><td>3</td><td>1</td></tr>\n",
       "</tbody>\n",
       "</table>\n"
      ],
      "text/latex": [
       "A data.frame: 6 × 11\n",
       "\\begin{tabular}{r|lllllllllll}\n",
       "  & mpg & cyl & disp & hp & drat & wt & qsec & vs & am & gear & carb\\\\\n",
       "  & <dbl> & <dbl> & <dbl> & <dbl> & <dbl> & <dbl> & <dbl> & <dbl> & <dbl> & <dbl> & <dbl>\\\\\n",
       "\\hline\n",
       "\tMazda RX4 & 21.0 & 6 & 160 & 110 & 3.90 & 2.620 & 16.46 & 0 & 1 & 4 & 4\\\\\n",
       "\tMazda RX4 Wag & 21.0 & 6 & 160 & 110 & 3.90 & 2.875 & 17.02 & 0 & 1 & 4 & 4\\\\\n",
       "\tDatsun 710 & 22.8 & 4 & 108 &  93 & 3.85 & 2.320 & 18.61 & 1 & 1 & 4 & 1\\\\\n",
       "\tHornet 4 Drive & 21.4 & 6 & 258 & 110 & 3.08 & 3.215 & 19.44 & 1 & 0 & 3 & 1\\\\\n",
       "\tHornet Sportabout & 18.7 & 8 & 360 & 175 & 3.15 & 3.440 & 17.02 & 0 & 0 & 3 & 2\\\\\n",
       "\tValiant & 18.1 & 6 & 225 & 105 & 2.76 & 3.460 & 20.22 & 1 & 0 & 3 & 1\\\\\n",
       "\\end{tabular}\n"
      ],
      "text/markdown": [
       "\n",
       "A data.frame: 6 × 11\n",
       "\n",
       "| <!--/--> | mpg &lt;dbl&gt; | cyl &lt;dbl&gt; | disp &lt;dbl&gt; | hp &lt;dbl&gt; | drat &lt;dbl&gt; | wt &lt;dbl&gt; | qsec &lt;dbl&gt; | vs &lt;dbl&gt; | am &lt;dbl&gt; | gear &lt;dbl&gt; | carb &lt;dbl&gt; |\n",
       "|---|---|---|---|---|---|---|---|---|---|---|---|\n",
       "| Mazda RX4 | 21.0 | 6 | 160 | 110 | 3.90 | 2.620 | 16.46 | 0 | 1 | 4 | 4 |\n",
       "| Mazda RX4 Wag | 21.0 | 6 | 160 | 110 | 3.90 | 2.875 | 17.02 | 0 | 1 | 4 | 4 |\n",
       "| Datsun 710 | 22.8 | 4 | 108 |  93 | 3.85 | 2.320 | 18.61 | 1 | 1 | 4 | 1 |\n",
       "| Hornet 4 Drive | 21.4 | 6 | 258 | 110 | 3.08 | 3.215 | 19.44 | 1 | 0 | 3 | 1 |\n",
       "| Hornet Sportabout | 18.7 | 8 | 360 | 175 | 3.15 | 3.440 | 17.02 | 0 | 0 | 3 | 2 |\n",
       "| Valiant | 18.1 | 6 | 225 | 105 | 2.76 | 3.460 | 20.22 | 1 | 0 | 3 | 1 |\n",
       "\n"
      ],
      "text/plain": [
       "                  mpg  cyl disp hp  drat wt    qsec  vs am gear carb\n",
       "Mazda RX4         21.0 6   160  110 3.90 2.620 16.46 0  1  4    4   \n",
       "Mazda RX4 Wag     21.0 6   160  110 3.90 2.875 17.02 0  1  4    4   \n",
       "Datsun 710        22.8 4   108   93 3.85 2.320 18.61 1  1  4    1   \n",
       "Hornet 4 Drive    21.4 6   258  110 3.08 3.215 19.44 1  0  3    1   \n",
       "Hornet Sportabout 18.7 8   360  175 3.15 3.440 17.02 0  0  3    2   \n",
       "Valiant           18.1 6   225  105 2.76 3.460 20.22 1  0  3    1   "
      ]
     },
     "metadata": {},
     "output_type": "display_data"
    }
   ],
   "source": [
    "data(mtcars)\n",
    "head(mtcars)"
   ]
  },
  {
   "cell_type": "code",
   "execution_count": 19,
   "id": "c6fa2016",
   "metadata": {},
   "outputs": [
    {
     "data": {
      "text/html": [
       "<table class=\"dataframe\">\n",
       "<caption>A matrix: 11 × 11 of type dbl</caption>\n",
       "<thead>\n",
       "\t<tr><th></th><th scope=col>mpg</th><th scope=col>cyl</th><th scope=col>disp</th><th scope=col>hp</th><th scope=col>drat</th><th scope=col>wt</th><th scope=col>qsec</th><th scope=col>vs</th><th scope=col>am</th><th scope=col>gear</th><th scope=col>carb</th></tr>\n",
       "</thead>\n",
       "<tbody>\n",
       "\t<tr><th scope=row>mpg</th><td> 1.0</td><td>-0.9</td><td>-0.8</td><td>-0.8</td><td> 0.7</td><td>-0.9</td><td> 0.4</td><td> 0.7</td><td> 0.6</td><td> 0.5</td><td>-0.6</td></tr>\n",
       "\t<tr><th scope=row>cyl</th><td>-0.9</td><td> 1.0</td><td> 0.9</td><td> 0.8</td><td>-0.7</td><td> 0.8</td><td>-0.6</td><td>-0.8</td><td>-0.5</td><td>-0.5</td><td> 0.5</td></tr>\n",
       "\t<tr><th scope=row>disp</th><td>-0.8</td><td> 0.9</td><td> 1.0</td><td> 0.8</td><td>-0.7</td><td> 0.9</td><td>-0.4</td><td>-0.7</td><td>-0.6</td><td>-0.6</td><td> 0.4</td></tr>\n",
       "\t<tr><th scope=row>hp</th><td>-0.8</td><td> 0.8</td><td> 0.8</td><td> 1.0</td><td>-0.4</td><td> 0.7</td><td>-0.7</td><td>-0.7</td><td>-0.2</td><td>-0.1</td><td> 0.7</td></tr>\n",
       "\t<tr><th scope=row>drat</th><td> 0.7</td><td>-0.7</td><td>-0.7</td><td>-0.4</td><td> 1.0</td><td>-0.7</td><td> 0.1</td><td> 0.4</td><td> 0.7</td><td> 0.7</td><td>-0.1</td></tr>\n",
       "\t<tr><th scope=row>wt</th><td>-0.9</td><td> 0.8</td><td> 0.9</td><td> 0.7</td><td>-0.7</td><td> 1.0</td><td>-0.2</td><td>-0.6</td><td>-0.7</td><td>-0.6</td><td> 0.4</td></tr>\n",
       "\t<tr><th scope=row>qsec</th><td> 0.4</td><td>-0.6</td><td>-0.4</td><td>-0.7</td><td> 0.1</td><td>-0.2</td><td> 1.0</td><td> 0.7</td><td>-0.2</td><td>-0.2</td><td>-0.7</td></tr>\n",
       "\t<tr><th scope=row>vs</th><td> 0.7</td><td>-0.8</td><td>-0.7</td><td>-0.7</td><td> 0.4</td><td>-0.6</td><td> 0.7</td><td> 1.0</td><td> 0.2</td><td> 0.2</td><td>-0.6</td></tr>\n",
       "\t<tr><th scope=row>am</th><td> 0.6</td><td>-0.5</td><td>-0.6</td><td>-0.2</td><td> 0.7</td><td>-0.7</td><td>-0.2</td><td> 0.2</td><td> 1.0</td><td> 0.8</td><td> 0.1</td></tr>\n",
       "\t<tr><th scope=row>gear</th><td> 0.5</td><td>-0.5</td><td>-0.6</td><td>-0.1</td><td> 0.7</td><td>-0.6</td><td>-0.2</td><td> 0.2</td><td> 0.8</td><td> 1.0</td><td> 0.3</td></tr>\n",
       "\t<tr><th scope=row>carb</th><td>-0.6</td><td> 0.5</td><td> 0.4</td><td> 0.7</td><td>-0.1</td><td> 0.4</td><td>-0.7</td><td>-0.6</td><td> 0.1</td><td> 0.3</td><td> 1.0</td></tr>\n",
       "</tbody>\n",
       "</table>\n"
      ],
      "text/latex": [
       "A matrix: 11 × 11 of type dbl\n",
       "\\begin{tabular}{r|lllllllllll}\n",
       "  & mpg & cyl & disp & hp & drat & wt & qsec & vs & am & gear & carb\\\\\n",
       "\\hline\n",
       "\tmpg &  1.0 & -0.9 & -0.8 & -0.8 &  0.7 & -0.9 &  0.4 &  0.7 &  0.6 &  0.5 & -0.6\\\\\n",
       "\tcyl & -0.9 &  1.0 &  0.9 &  0.8 & -0.7 &  0.8 & -0.6 & -0.8 & -0.5 & -0.5 &  0.5\\\\\n",
       "\tdisp & -0.8 &  0.9 &  1.0 &  0.8 & -0.7 &  0.9 & -0.4 & -0.7 & -0.6 & -0.6 &  0.4\\\\\n",
       "\thp & -0.8 &  0.8 &  0.8 &  1.0 & -0.4 &  0.7 & -0.7 & -0.7 & -0.2 & -0.1 &  0.7\\\\\n",
       "\tdrat &  0.7 & -0.7 & -0.7 & -0.4 &  1.0 & -0.7 &  0.1 &  0.4 &  0.7 &  0.7 & -0.1\\\\\n",
       "\twt & -0.9 &  0.8 &  0.9 &  0.7 & -0.7 &  1.0 & -0.2 & -0.6 & -0.7 & -0.6 &  0.4\\\\\n",
       "\tqsec &  0.4 & -0.6 & -0.4 & -0.7 &  0.1 & -0.2 &  1.0 &  0.7 & -0.2 & -0.2 & -0.7\\\\\n",
       "\tvs &  0.7 & -0.8 & -0.7 & -0.7 &  0.4 & -0.6 &  0.7 &  1.0 &  0.2 &  0.2 & -0.6\\\\\n",
       "\tam &  0.6 & -0.5 & -0.6 & -0.2 &  0.7 & -0.7 & -0.2 &  0.2 &  1.0 &  0.8 &  0.1\\\\\n",
       "\tgear &  0.5 & -0.5 & -0.6 & -0.1 &  0.7 & -0.6 & -0.2 &  0.2 &  0.8 &  1.0 &  0.3\\\\\n",
       "\tcarb & -0.6 &  0.5 &  0.4 &  0.7 & -0.1 &  0.4 & -0.7 & -0.6 &  0.1 &  0.3 &  1.0\\\\\n",
       "\\end{tabular}\n"
      ],
      "text/markdown": [
       "\n",
       "A matrix: 11 × 11 of type dbl\n",
       "\n",
       "| <!--/--> | mpg | cyl | disp | hp | drat | wt | qsec | vs | am | gear | carb |\n",
       "|---|---|---|---|---|---|---|---|---|---|---|---|\n",
       "| mpg |  1.0 | -0.9 | -0.8 | -0.8 |  0.7 | -0.9 |  0.4 |  0.7 |  0.6 |  0.5 | -0.6 |\n",
       "| cyl | -0.9 |  1.0 |  0.9 |  0.8 | -0.7 |  0.8 | -0.6 | -0.8 | -0.5 | -0.5 |  0.5 |\n",
       "| disp | -0.8 |  0.9 |  1.0 |  0.8 | -0.7 |  0.9 | -0.4 | -0.7 | -0.6 | -0.6 |  0.4 |\n",
       "| hp | -0.8 |  0.8 |  0.8 |  1.0 | -0.4 |  0.7 | -0.7 | -0.7 | -0.2 | -0.1 |  0.7 |\n",
       "| drat |  0.7 | -0.7 | -0.7 | -0.4 |  1.0 | -0.7 |  0.1 |  0.4 |  0.7 |  0.7 | -0.1 |\n",
       "| wt | -0.9 |  0.8 |  0.9 |  0.7 | -0.7 |  1.0 | -0.2 | -0.6 | -0.7 | -0.6 |  0.4 |\n",
       "| qsec |  0.4 | -0.6 | -0.4 | -0.7 |  0.1 | -0.2 |  1.0 |  0.7 | -0.2 | -0.2 | -0.7 |\n",
       "| vs |  0.7 | -0.8 | -0.7 | -0.7 |  0.4 | -0.6 |  0.7 |  1.0 |  0.2 |  0.2 | -0.6 |\n",
       "| am |  0.6 | -0.5 | -0.6 | -0.2 |  0.7 | -0.7 | -0.2 |  0.2 |  1.0 |  0.8 |  0.1 |\n",
       "| gear |  0.5 | -0.5 | -0.6 | -0.1 |  0.7 | -0.6 | -0.2 |  0.2 |  0.8 |  1.0 |  0.3 |\n",
       "| carb | -0.6 |  0.5 |  0.4 |  0.7 | -0.1 |  0.4 | -0.7 | -0.6 |  0.1 |  0.3 |  1.0 |\n",
       "\n"
      ],
      "text/plain": [
       "     mpg  cyl  disp hp   drat wt   qsec vs   am   gear carb\n",
       "mpg   1.0 -0.9 -0.8 -0.8  0.7 -0.9  0.4  0.7  0.6  0.5 -0.6\n",
       "cyl  -0.9  1.0  0.9  0.8 -0.7  0.8 -0.6 -0.8 -0.5 -0.5  0.5\n",
       "disp -0.8  0.9  1.0  0.8 -0.7  0.9 -0.4 -0.7 -0.6 -0.6  0.4\n",
       "hp   -0.8  0.8  0.8  1.0 -0.4  0.7 -0.7 -0.7 -0.2 -0.1  0.7\n",
       "drat  0.7 -0.7 -0.7 -0.4  1.0 -0.7  0.1  0.4  0.7  0.7 -0.1\n",
       "wt   -0.9  0.8  0.9  0.7 -0.7  1.0 -0.2 -0.6 -0.7 -0.6  0.4\n",
       "qsec  0.4 -0.6 -0.4 -0.7  0.1 -0.2  1.0  0.7 -0.2 -0.2 -0.7\n",
       "vs    0.7 -0.8 -0.7 -0.7  0.4 -0.6  0.7  1.0  0.2  0.2 -0.6\n",
       "am    0.6 -0.5 -0.6 -0.2  0.7 -0.7 -0.2  0.2  1.0  0.8  0.1\n",
       "gear  0.5 -0.5 -0.6 -0.1  0.7 -0.6 -0.2  0.2  0.8  1.0  0.3\n",
       "carb -0.6  0.5  0.4  0.7 -0.1  0.4 -0.7 -0.6  0.1  0.3  1.0"
      ]
     },
     "metadata": {},
     "output_type": "display_data"
    }
   ],
   "source": [
    "corr <- round(cor(mtcars),1)\n",
    "corr"
   ]
  },
  {
   "cell_type": "code",
   "execution_count": 20,
   "id": "b573d545",
   "metadata": {},
   "outputs": [
    {
     "name": "stderr",
     "output_type": "stream",
     "text": [
      "Warning message:\n",
      "\"程辑包'ggcorrplot'是用R版本4.2.2 来建造的\"\n"
     ]
    }
   ],
   "source": [
    "#引入ggcorplot包\n",
    "library(ggcorrplot)"
   ]
  },
  {
   "cell_type": "code",
   "execution_count": 21,
   "id": "a31d8220",
   "metadata": {},
   "outputs": [
    {
     "data": {
      "image/png": "[encoded data removed]",
      "text/plain": [
       "plot without title"
      ]
     },
     "metadata": {
      "image/png": {
       "height": 420,
       "width": 420
      }
     },
     "output_type": "display_data"
    },
    {
     "data": {
      "image/png": "[encoded data removed]",
      "text/plain": [
       "plot without title"
      ]
     },
     "metadata": {
      "image/png": {
       "height": 420,
       "width": 420
      }
     },
     "output_type": "display_data"
    }
   ],
   "source": [
    "ggcorrplot(corr)\n",
    "ggcorrplot(corr, method = \"circle\")"
   ]
  },
  {
   "cell_type": "code",
   "execution_count": 23,
   "id": "b6cc0582",
   "metadata": {},
   "outputs": [
    {
     "data": {
      "text/html": [
       "<table class=\"dataframe\">\n",
       "<caption>A matrix: 11 × 11 of type dbl</caption>\n",
       "<thead>\n",
       "\t<tr><th></th><th scope=col>mpg</th><th scope=col>cyl</th><th scope=col>disp</th><th scope=col>hp</th><th scope=col>drat</th><th scope=col>wt</th><th scope=col>qsec</th><th scope=col>vs</th><th scope=col>am</th><th scope=col>gear</th><th scope=col>carb</th></tr>\n",
       "</thead>\n",
       "<tbody>\n",
       "\t<tr><th scope=row>mpg</th><td> 1.0</td><td>-0.9</td><td>-0.8</td><td>-0.8</td><td> 0.7</td><td>-0.9</td><td> 0.4</td><td> 0.7</td><td> 0.6</td><td> 0.5</td><td>-0.6</td></tr>\n",
       "\t<tr><th scope=row>cyl</th><td>-0.9</td><td> 1.0</td><td> 0.9</td><td> 0.8</td><td>-0.7</td><td> 0.8</td><td>-0.6</td><td>-0.8</td><td>-0.5</td><td>-0.5</td><td> 0.5</td></tr>\n",
       "\t<tr><th scope=row>disp</th><td>-0.8</td><td> 0.9</td><td> 1.0</td><td> 0.8</td><td>-0.7</td><td> 0.9</td><td>-0.4</td><td>-0.7</td><td>-0.6</td><td>-0.6</td><td> 0.4</td></tr>\n",
       "\t<tr><th scope=row>hp</th><td>-0.8</td><td> 0.8</td><td> 0.8</td><td> 1.0</td><td>-0.4</td><td> 0.7</td><td>-0.7</td><td>-0.7</td><td>-0.2</td><td>-0.1</td><td> 0.7</td></tr>\n",
       "\t<tr><th scope=row>drat</th><td> 0.7</td><td>-0.7</td><td>-0.7</td><td>-0.4</td><td> 1.0</td><td>-0.7</td><td> 0.1</td><td> 0.4</td><td> 0.7</td><td> 0.7</td><td>-0.1</td></tr>\n",
       "\t<tr><th scope=row>wt</th><td>-0.9</td><td> 0.8</td><td> 0.9</td><td> 0.7</td><td>-0.7</td><td> 1.0</td><td>-0.2</td><td>-0.6</td><td>-0.7</td><td>-0.6</td><td> 0.4</td></tr>\n",
       "\t<tr><th scope=row>qsec</th><td> 0.4</td><td>-0.6</td><td>-0.4</td><td>-0.7</td><td> 0.1</td><td>-0.2</td><td> 1.0</td><td> 0.7</td><td>-0.2</td><td>-0.2</td><td>-0.7</td></tr>\n",
       "\t<tr><th scope=row>vs</th><td> 0.7</td><td>-0.8</td><td>-0.7</td><td>-0.7</td><td> 0.4</td><td>-0.6</td><td> 0.7</td><td> 1.0</td><td> 0.2</td><td> 0.2</td><td>-0.6</td></tr>\n",
       "\t<tr><th scope=row>am</th><td> 0.6</td><td>-0.5</td><td>-0.6</td><td>-0.2</td><td> 0.7</td><td>-0.7</td><td>-0.2</td><td> 0.2</td><td> 1.0</td><td> 0.8</td><td> 0.1</td></tr>\n",
       "\t<tr><th scope=row>gear</th><td> 0.5</td><td>-0.5</td><td>-0.6</td><td>-0.1</td><td> 0.7</td><td>-0.6</td><td>-0.2</td><td> 0.2</td><td> 0.8</td><td> 1.0</td><td> 0.3</td></tr>\n",
       "\t<tr><th scope=row>carb</th><td>-0.6</td><td> 0.5</td><td> 0.4</td><td> 0.7</td><td>-0.1</td><td> 0.4</td><td>-0.7</td><td>-0.6</td><td> 0.1</td><td> 0.3</td><td> 1.0</td></tr>\n",
       "</tbody>\n",
       "</table>\n"
      ],
      "text/latex": [
       "A matrix: 11 × 11 of type dbl\n",
       "\\begin{tabular}{r|lllllllllll}\n",
       "  & mpg & cyl & disp & hp & drat & wt & qsec & vs & am & gear & carb\\\\\n",
       "\\hline\n",
       "\tmpg &  1.0 & -0.9 & -0.8 & -0.8 &  0.7 & -0.9 &  0.4 &  0.7 &  0.6 &  0.5 & -0.6\\\\\n",
       "\tcyl & -0.9 &  1.0 &  0.9 &  0.8 & -0.7 &  0.8 & -0.6 & -0.8 & -0.5 & -0.5 &  0.5\\\\\n",
       "\tdisp & -0.8 &  0.9 &  1.0 &  0.8 & -0.7 &  0.9 & -0.4 & -0.7 & -0.6 & -0.6 &  0.4\\\\\n",
       "\thp & -0.8 &  0.8 &  0.8 &  1.0 & -0.4 &  0.7 & -0.7 & -0.7 & -0.2 & -0.1 &  0.7\\\\\n",
       "\tdrat &  0.7 & -0.7 & -0.7 & -0.4 &  1.0 & -0.7 &  0.1 &  0.4 &  0.7 &  0.7 & -0.1\\\\\n",
       "\twt & -0.9 &  0.8 &  0.9 &  0.7 & -0.7 &  1.0 & -0.2 & -0.6 & -0.7 & -0.6 &  0.4\\\\\n",
       "\tqsec &  0.4 & -0.6 & -0.4 & -0.7 &  0.1 & -0.2 &  1.0 &  0.7 & -0.2 & -0.2 & -0.7\\\\\n",
       "\tvs &  0.7 & -0.8 & -0.7 & -0.7 &  0.4 & -0.6 &  0.7 &  1.0 &  0.2 &  0.2 & -0.6\\\\\n",
       "\tam &  0.6 & -0.5 & -0.6 & -0.2 &  0.7 & -0.7 & -0.2 &  0.2 &  1.0 &  0.8 &  0.1\\\\\n",
       "\tgear &  0.5 & -0.5 & -0.6 & -0.1 &  0.7 & -0.6 & -0.2 &  0.2 &  0.8 &  1.0 &  0.3\\\\\n",
       "\tcarb & -0.6 &  0.5 &  0.4 &  0.7 & -0.1 &  0.4 & -0.7 & -0.6 &  0.1 &  0.3 &  1.0\\\\\n",
       "\\end{tabular}\n"
      ],
      "text/markdown": [
       "\n",
       "A matrix: 11 × 11 of type dbl\n",
       "\n",
       "| <!--/--> | mpg | cyl | disp | hp | drat | wt | qsec | vs | am | gear | carb |\n",
       "|---|---|---|---|---|---|---|---|---|---|---|---|\n",
       "| mpg |  1.0 | -0.9 | -0.8 | -0.8 |  0.7 | -0.9 |  0.4 |  0.7 |  0.6 |  0.5 | -0.6 |\n",
       "| cyl | -0.9 |  1.0 |  0.9 |  0.8 | -0.7 |  0.8 | -0.6 | -0.8 | -0.5 | -0.5 |  0.5 |\n",
       "| disp | -0.8 |  0.9 |  1.0 |  0.8 | -0.7 |  0.9 | -0.4 | -0.7 | -0.6 | -0.6 |  0.4 |\n",
       "| hp | -0.8 |  0.8 |  0.8 |  1.0 | -0.4 |  0.7 | -0.7 | -0.7 | -0.2 | -0.1 |  0.7 |\n",
       "| drat |  0.7 | -0.7 | -0.7 | -0.4 |  1.0 | -0.7 |  0.1 |  0.4 |  0.7 |  0.7 | -0.1 |\n",
       "| wt | -0.9 |  0.8 |  0.9 |  0.7 | -0.7 |  1.0 | -0.2 | -0.6 | -0.7 | -0.6 |  0.4 |\n",
       "| qsec |  0.4 | -0.6 | -0.4 | -0.7 |  0.1 | -0.2 |  1.0 |  0.7 | -0.2 | -0.2 | -0.7 |\n",
       "| vs |  0.7 | -0.8 | -0.7 | -0.7 |  0.4 | -0.6 |  0.7 |  1.0 |  0.2 |  0.2 | -0.6 |\n",
       "| am |  0.6 | -0.5 | -0.6 | -0.2 |  0.7 | -0.7 | -0.2 |  0.2 |  1.0 |  0.8 |  0.1 |\n",
       "| gear |  0.5 | -0.5 | -0.6 | -0.1 |  0.7 | -0.6 | -0.2 |  0.2 |  0.8 |  1.0 |  0.3 |\n",
       "| carb | -0.6 |  0.5 |  0.4 |  0.7 | -0.1 |  0.4 | -0.7 | -0.6 |  0.1 |  0.3 |  1.0 |\n",
       "\n"
      ],
      "text/plain": [
       "     mpg  cyl  disp hp   drat wt   qsec vs   am   gear carb\n",
       "mpg   1.0 -0.9 -0.8 -0.8  0.7 -0.9  0.4  0.7  0.6  0.5 -0.6\n",
       "cyl  -0.9  1.0  0.9  0.8 -0.7  0.8 -0.6 -0.8 -0.5 -0.5  0.5\n",
       "disp -0.8  0.9  1.0  0.8 -0.7  0.9 -0.4 -0.7 -0.6 -0.6  0.4\n",
       "hp   -0.8  0.8  0.8  1.0 -0.4  0.7 -0.7 -0.7 -0.2 -0.1  0.7\n",
       "drat  0.7 -0.7 -0.7 -0.4  1.0 -0.7  0.1  0.4  0.7  0.7 -0.1\n",
       "wt   -0.9  0.8  0.9  0.7 -0.7  1.0 -0.2 -0.6 -0.7 -0.6  0.4\n",
       "qsec  0.4 -0.6 -0.4 -0.7  0.1 -0.2  1.0  0.7 -0.2 -0.2 -0.7\n",
       "vs    0.7 -0.8 -0.7 -0.7  0.4 -0.6  0.7  1.0  0.2  0.2 -0.6\n",
       "am    0.6 -0.5 -0.6 -0.2  0.7 -0.7 -0.2  0.2  1.0  0.8  0.1\n",
       "gear  0.5 -0.5 -0.6 -0.1  0.7 -0.6 -0.2  0.2  0.8  1.0  0.3\n",
       "carb -0.6  0.5  0.4  0.7 -0.1  0.4 -0.7 -0.6  0.1  0.3  1.0"
      ]
     },
     "metadata": {},
     "output_type": "display_data"
    },
    {
     "data": {
      "text/html": [
       "<table class=\"dataframe\">\n",
       "<caption>A matrix: 11 × 11 of type dbl</caption>\n",
       "<thead>\n",
       "\t<tr><th></th><th scope=col>mpg</th><th scope=col>cyl</th><th scope=col>disp</th><th scope=col>hp</th><th scope=col>drat</th><th scope=col>wt</th><th scope=col>qsec</th><th scope=col>vs</th><th scope=col>am</th><th scope=col>gear</th><th scope=col>carb</th></tr>\n",
       "</thead>\n",
       "<tbody>\n",
       "\t<tr><th scope=row>mpg</th><td>          NA</td><td>3.458565e-09</td><td>8.131585e-09</td><td>5.146017e-06</td><td>2.173785e-05</td><td>2.040184e-08</td><td>1.310692e-02</td><td>1.713588e-05</td><td>1.870638e-03</td><td>6.232914e-03</td><td>4.320556e-03</td></tr>\n",
       "\t<tr><th scope=row>cyl</th><td>3.458565e-09</td><td>          NA</td><td>4.543562e-09</td><td>8.694614e-07</td><td>5.771711e-05</td><td>6.525079e-07</td><td>5.675104e-03</td><td>1.723126e-06</td><td>4.296581e-03</td><td>9.672112e-03</td><td>3.067906e-03</td></tr>\n",
       "\t<tr><th scope=row>disp</th><td>8.131585e-09</td><td>4.543562e-09</td><td>          NA</td><td>2.282631e-05</td><td>4.419540e-06</td><td>3.907608e-09</td><td>2.032881e-02</td><td>3.884761e-05</td><td>8.379883e-04</td><td>2.331829e-03</td><td>1.162562e-02</td></tr>\n",
       "\t<tr><th scope=row>hp</th><td>5.146017e-06</td><td>8.694614e-07</td><td>2.282631e-05</td><td>          NA</td><td>2.503356e-03</td><td>1.395321e-04</td><td>3.072542e-04</td><td>4.024920e-08</td><td>3.807903e-02</td><td>7.303047e-02</td><td>9.359895e-05</td></tr>\n",
       "\t<tr><th scope=row>drat</th><td>2.173785e-05</td><td>5.771711e-05</td><td>4.419540e-06</td><td>2.503356e-03</td><td>          NA</td><td>7.767796e-07</td><td>1.404240e-01</td><td>3.531559e-03</td><td>1.242322e-05</td><td>6.050189e-05</td><td>8.838669e-02</td></tr>\n",
       "\t<tr><th scope=row>wt</th><td>2.040184e-08</td><td>6.525079e-07</td><td>3.907608e-09</td><td>1.395321e-04</td><td>7.767796e-07</td><td>          NA</td><td>4.731985e-02</td><td>2.557188e-04</td><td>1.786849e-04</td><td>9.230473e-04</td><td>2.099347e-02</td></tr>\n",
       "\t<tr><th scope=row>qsec</th><td>1.310692e-02</td><td>5.675104e-03</td><td>2.032881e-02</td><td>3.072542e-04</td><td>1.404240e-01</td><td>4.731985e-02</td><td>          NA</td><td>2.286319e-04</td><td>5.277362e-01</td><td>6.676093e-01</td><td>3.368253e-06</td></tr>\n",
       "\t<tr><th scope=row>vs</th><td>1.713588e-05</td><td>1.723126e-06</td><td>3.884761e-05</td><td>4.024920e-08</td><td>3.531559e-03</td><td>2.557188e-04</td><td>2.286319e-04</td><td>          NA</td><td>4.684249e-02</td><td>7.853950e-02</td><td>1.312202e-04</td></tr>\n",
       "\t<tr><th scope=row>am</th><td>1.870638e-03</td><td>4.296581e-03</td><td>8.379883e-04</td><td>3.807903e-02</td><td>1.242322e-05</td><td>1.786849e-04</td><td>5.277362e-01</td><td>4.684249e-02</td><td>          NA</td><td>1.229685e-07</td><td>3.623496e-01</td></tr>\n",
       "\t<tr><th scope=row>gear</th><td>6.232914e-03</td><td>9.672112e-03</td><td>2.331829e-03</td><td>7.303047e-02</td><td>6.050189e-05</td><td>9.230473e-04</td><td>6.676093e-01</td><td>7.853950e-02</td><td>1.229685e-07</td><td>          NA</td><td>5.503220e-01</td></tr>\n",
       "\t<tr><th scope=row>carb</th><td>4.320556e-03</td><td>3.067906e-03</td><td>1.162562e-02</td><td>9.359895e-05</td><td>8.838669e-02</td><td>2.099347e-02</td><td>3.368253e-06</td><td>1.312202e-04</td><td>3.623496e-01</td><td>5.503220e-01</td><td>          NA</td></tr>\n",
       "</tbody>\n",
       "</table>\n"
      ],
      "text/latex": [
       "A matrix: 11 × 11 of type dbl\n",
       "\\begin{tabular}{r|lllllllllll}\n",
       "  & mpg & cyl & disp & hp & drat & wt & qsec & vs & am & gear & carb\\\\\n",
       "\\hline\n",
       "\tmpg &           NA & 3.458565e-09 & 8.131585e-09 & 5.146017e-06 & 2.173785e-05 & 2.040184e-08 & 1.310692e-02 & 1.713588e-05 & 1.870638e-03 & 6.232914e-03 & 4.320556e-03\\\\\n",
       "\tcyl & 3.458565e-09 &           NA & 4.543562e-09 & 8.694614e-07 & 5.771711e-05 & 6.525079e-07 & 5.675104e-03 & 1.723126e-06 & 4.296581e-03 & 9.672112e-03 & 3.067906e-03\\\\\n",
       "\tdisp & 8.131585e-09 & 4.543562e-09 &           NA & 2.282631e-05 & 4.419540e-06 & 3.907608e-09 & 2.032881e-02 & 3.884761e-05 & 8.379883e-04 & 2.331829e-03 & 1.162562e-02\\\\\n",
       "\thp & 5.146017e-06 & 8.694614e-07 & 2.282631e-05 &           NA & 2.503356e-03 & 1.395321e-04 & 3.072542e-04 & 4.024920e-08 & 3.807903e-02 & 7.303047e-02 & 9.359895e-05\\\\\n",
       "\tdrat & 2.173785e-05 & 5.771711e-05 & 4.419540e-06 & 2.503356e-03 &           NA & 7.767796e-07 & 1.404240e-01 & 3.531559e-03 & 1.242322e-05 & 6.050189e-05 & 8.838669e-02\\\\\n",
       "\twt & 2.040184e-08 & 6.525079e-07 & 3.907608e-09 & 1.395321e-04 & 7.767796e-07 &           NA & 4.731985e-02 & 2.557188e-04 & 1.786849e-04 & 9.230473e-04 & 2.099347e-02\\\\\n",
       "\tqsec & 1.310692e-02 & 5.675104e-03 & 2.032881e-02 & 3.072542e-04 & 1.404240e-01 & 4.731985e-02 &           NA & 2.286319e-04 & 5.277362e-01 & 6.676093e-01 & 3.368253e-06\\\\\n",
       "\tvs & 1.713588e-05 & 1.723126e-06 & 3.884761e-05 & 4.024920e-08 & 3.531559e-03 & 2.557188e-04 & 2.286319e-04 &           NA & 4.684249e-02 & 7.853950e-02 & 1.312202e-04\\\\\n",
       "\tam & 1.870638e-03 & 4.296581e-03 & 8.379883e-04 & 3.807903e-02 & 1.242322e-05 & 1.786849e-04 & 5.277362e-01 & 4.684249e-02 &           NA & 1.229685e-07 & 3.623496e-01\\\\\n",
       "\tgear & 6.232914e-03 & 9.672112e-03 & 2.331829e-03 & 7.303047e-02 & 6.050189e-05 & 9.230473e-04 & 6.676093e-01 & 7.853950e-02 & 1.229685e-07 &           NA & 5.503220e-01\\\\\n",
       "\tcarb & 4.320556e-03 & 3.067906e-03 & 1.162562e-02 & 9.359895e-05 & 8.838669e-02 & 2.099347e-02 & 3.368253e-06 & 1.312202e-04 & 3.623496e-01 & 5.503220e-01 &           NA\\\\\n",
       "\\end{tabular}\n"
      ],
      "text/markdown": [
       "\n",
       "A matrix: 11 × 11 of type dbl\n",
       "\n",
       "| <!--/--> | mpg | cyl | disp | hp | drat | wt | qsec | vs | am | gear | carb |\n",
       "|---|---|---|---|---|---|---|---|---|---|---|---|\n",
       "| mpg |           NA | 3.458565e-09 | 8.131585e-09 | 5.146017e-06 | 2.173785e-05 | 2.040184e-08 | 1.310692e-02 | 1.713588e-05 | 1.870638e-03 | 6.232914e-03 | 4.320556e-03 |\n",
       "| cyl | 3.458565e-09 |           NA | 4.543562e-09 | 8.694614e-07 | 5.771711e-05 | 6.525079e-07 | 5.675104e-03 | 1.723126e-06 | 4.296581e-03 | 9.672112e-03 | 3.067906e-03 |\n",
       "| disp | 8.131585e-09 | 4.543562e-09 |           NA | 2.282631e-05 | 4.419540e-06 | 3.907608e-09 | 2.032881e-02 | 3.884761e-05 | 8.379883e-04 | 2.331829e-03 | 1.162562e-02 |\n",
       "| hp | 5.146017e-06 | 8.694614e-07 | 2.282631e-05 |           NA | 2.503356e-03 | 1.395321e-04 | 3.072542e-04 | 4.024920e-08 | 3.807903e-02 | 7.303047e-02 | 9.359895e-05 |\n",
       "| drat | 2.173785e-05 | 5.771711e-05 | 4.419540e-06 | 2.503356e-03 |           NA | 7.767796e-07 | 1.404240e-01 | 3.531559e-03 | 1.242322e-05 | 6.050189e-05 | 8.838669e-02 |\n",
       "| wt | 2.040184e-08 | 6.525079e-07 | 3.907608e-09 | 1.395321e-04 | 7.767796e-07 |           NA | 4.731985e-02 | 2.557188e-04 | 1.786849e-04 | 9.230473e-04 | 2.099347e-02 |\n",
       "| qsec | 1.310692e-02 | 5.675104e-03 | 2.032881e-02 | 3.072542e-04 | 1.404240e-01 | 4.731985e-02 |           NA | 2.286319e-04 | 5.277362e-01 | 6.676093e-01 | 3.368253e-06 |\n",
       "| vs | 1.713588e-05 | 1.723126e-06 | 3.884761e-05 | 4.024920e-08 | 3.531559e-03 | 2.557188e-04 | 2.286319e-04 |           NA | 4.684249e-02 | 7.853950e-02 | 1.312202e-04 |\n",
       "| am | 1.870638e-03 | 4.296581e-03 | 8.379883e-04 | 3.807903e-02 | 1.242322e-05 | 1.786849e-04 | 5.277362e-01 | 4.684249e-02 |           NA | 1.229685e-07 | 3.623496e-01 |\n",
       "| gear | 6.232914e-03 | 9.672112e-03 | 2.331829e-03 | 7.303047e-02 | 6.050189e-05 | 9.230473e-04 | 6.676093e-01 | 7.853950e-02 | 1.229685e-07 |           NA | 5.503220e-01 |\n",
       "| carb | 4.320556e-03 | 3.067906e-03 | 1.162562e-02 | 9.359895e-05 | 8.838669e-02 | 2.099347e-02 | 3.368253e-06 | 1.312202e-04 | 3.623496e-01 | 5.503220e-01 |           NA |\n",
       "\n"
      ],
      "text/plain": [
       "     mpg          cyl          disp         hp           drat        \n",
       "mpg            NA 3.458565e-09 8.131585e-09 5.146017e-06 2.173785e-05\n",
       "cyl  3.458565e-09           NA 4.543562e-09 8.694614e-07 5.771711e-05\n",
       "disp 8.131585e-09 4.543562e-09           NA 2.282631e-05 4.419540e-06\n",
       "hp   5.146017e-06 8.694614e-07 2.282631e-05           NA 2.503356e-03\n",
       "drat 2.173785e-05 5.771711e-05 4.419540e-06 2.503356e-03           NA\n",
       "wt   2.040184e-08 6.525079e-07 3.907608e-09 1.395321e-04 7.767796e-07\n",
       "qsec 1.310692e-02 5.675104e-03 2.032881e-02 3.072542e-04 1.404240e-01\n",
       "vs   1.713588e-05 1.723126e-06 3.884761e-05 4.024920e-08 3.531559e-03\n",
       "am   1.870638e-03 4.296581e-03 8.379883e-04 3.807903e-02 1.242322e-05\n",
       "gear 6.232914e-03 9.672112e-03 2.331829e-03 7.303047e-02 6.050189e-05\n",
       "carb 4.320556e-03 3.067906e-03 1.162562e-02 9.359895e-05 8.838669e-02\n",
       "     wt           qsec         vs           am           gear        \n",
       "mpg  2.040184e-08 1.310692e-02 1.713588e-05 1.870638e-03 6.232914e-03\n",
       "cyl  6.525079e-07 5.675104e-03 1.723126e-06 4.296581e-03 9.672112e-03\n",
       "disp 3.907608e-09 2.032881e-02 3.884761e-05 8.379883e-04 2.331829e-03\n",
       "hp   1.395321e-04 3.072542e-04 4.024920e-08 3.807903e-02 7.303047e-02\n",
       "drat 7.767796e-07 1.404240e-01 3.531559e-03 1.242322e-05 6.050189e-05\n",
       "wt             NA 4.731985e-02 2.557188e-04 1.786849e-04 9.230473e-04\n",
       "qsec 4.731985e-02           NA 2.286319e-04 5.277362e-01 6.676093e-01\n",
       "vs   2.557188e-04 2.286319e-04           NA 4.684249e-02 7.853950e-02\n",
       "am   1.786849e-04 5.277362e-01 4.684249e-02           NA 1.229685e-07\n",
       "gear 9.230473e-04 6.676093e-01 7.853950e-02 1.229685e-07           NA\n",
       "carb 2.099347e-02 3.368253e-06 1.312202e-04 3.623496e-01 5.503220e-01\n",
       "     carb        \n",
       "mpg  4.320556e-03\n",
       "cyl  3.067906e-03\n",
       "disp 1.162562e-02\n",
       "hp   9.359895e-05\n",
       "drat 8.838669e-02\n",
       "wt   2.099347e-02\n",
       "qsec 3.368253e-06\n",
       "vs   1.312202e-04\n",
       "am   3.623496e-01\n",
       "gear 5.503220e-01\n",
       "carb           NA"
      ]
     },
     "metadata": {},
     "output_type": "display_data"
    }
   ],
   "source": [
    "#还需要显著性\n",
    "p <- Hmisc::rcorr(corr)$P\n",
    "corr\n",
    "p"
   ]
  },
  {
   "cell_type": "code",
   "execution_count": 24,
   "id": "1dbc9256",
   "metadata": {},
   "outputs": [
    {
     "data": {
      "image/png": "[encoded data removed]",
      "text/plain": [
       "plot without title"
      ]
     },
     "metadata": {
      "image/png": {
       "height": 420,
       "width": 420
      }
     },
     "output_type": "display_data"
    },
    {
     "data": {
      "image/png": "[encoded data removed]",
      "text/plain": [
       "plot without title"
      ]
     },
     "metadata": {
      "image/png": {
       "height": 420,
       "width": 420
      }
     },
     "output_type": "display_data"
    }
   ],
   "source": [
    "ggcorrplot(corr, type = 'lower',p.mat = p)\n",
    "ggcorrplot(corr, type = 'upper',method = \"circle\",p.mat = p)"
   ]
  },
  {
   "cell_type": "code",
   "execution_count": null,
   "id": "65cd3e9b",
   "metadata": {},
   "outputs": [],
   "source": []
  }
 ],
 "metadata": {
  "kernelspec": {
   "display_name": "R",
   "language": "R",
   "name": "ir"
  },
  "language_info": {
   "codemirror_mode": "r",
   "file_extension": ".r",
   "mimetype": "text/x-r-source",
   "name": "R",
   "pygments_lexer": "r",
   "version": "4.2.1"
  }
 },
 "nbformat": 4,
 "nbformat_minor": 5
}
