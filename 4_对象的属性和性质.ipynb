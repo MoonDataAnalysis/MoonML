{
 "cells": [
  {
   "cell_type": "markdown",
   "id": "48d91de1",
   "metadata": {},
   "source": [
    "# 对象和它的模式与属性"
   ]
  },
  {
   "cell_type": "markdown",
   "id": "60517cc2",
   "metadata": {},
   "source": [
    "### 固有属性： mode和length"
   ]
  },
  {
   "cell_type": "code",
   "execution_count": null,
   "id": "fb0c6d8d",
   "metadata": {},
   "outputs": [],
   "source": [
    "#R对象都有两个基本的属性：mode（类型）属性和length（长度）属性。\n",
    "#比如向量的类型可以为逻辑型、数值型、复数型、字符型"
   ]
  },
  {
   "cell_type": "code",
   "execution_count": 44,
   "id": "6feaf2e8",
   "metadata": {},
   "outputs": [
    {
     "data": {
      "text/html": [
       "'numeric'"
      ],
      "text/latex": [
       "'numeric'"
      ],
      "text/markdown": [
       "'numeric'"
      ],
      "text/plain": [
       "[1] \"numeric\""
      ]
     },
     "metadata": {},
     "output_type": "display_data"
    }
   ],
   "source": [
    "mode(c(1,3,5))"
   ]
  },
  {
   "cell_type": "code",
   "execution_count": 45,
   "id": "1b169ca5",
   "metadata": {},
   "outputs": [
    {
     "data": {
      "text/html": [
       "<style>\n",
       ".list-inline {list-style: none; margin:0; padding: 0}\n",
       ".list-inline>li {display: inline-block}\n",
       ".list-inline>li:not(:last-child)::after {content: \"\\00b7\"; padding: 0 .5ex}\n",
       "</style>\n",
       "<ol class=list-inline><li>FALSE</li><li>FALSE</li><li>FALSE</li></ol>\n"
      ],
      "text/latex": [
       "\\begin{enumerate*}\n",
       "\\item FALSE\n",
       "\\item FALSE\n",
       "\\item FALSE\n",
       "\\end{enumerate*}\n"
      ],
      "text/markdown": [
       "1. FALSE\n",
       "2. FALSE\n",
       "3. FALSE\n",
       "\n",
       "\n"
      ],
      "text/plain": [
       "[1] FALSE FALSE FALSE"
      ]
     },
     "metadata": {},
     "output_type": "display_data"
    },
    {
     "data": {
      "text/html": [
       "'logical'"
      ],
      "text/latex": [
       "'logical'"
      ],
      "text/markdown": [
       "'logical'"
      ],
      "text/plain": [
       "[1] \"logical\""
      ]
     },
     "metadata": {},
     "output_type": "display_data"
    }
   ],
   "source": [
    "c(1,3,5)>5\n",
    "mode(c(1,3,5)>5)"
   ]
  },
  {
   "cell_type": "code",
   "execution_count": 46,
   "id": "665a160f",
   "metadata": {},
   "outputs": [
    {
     "name": "stdout",
     "output_type": "stream",
     "text": [
      "NULL\n"
     ]
    },
    {
     "data": {
      "text/html": [
       "'NULL'"
      ],
      "text/latex": [
       "'NULL'"
      ],
      "text/markdown": [
       "'NULL'"
      ],
      "text/plain": [
       "[1] \"NULL\""
      ]
     },
     "metadata": {},
     "output_type": "display_data"
    }
   ],
   "source": [
    "#空值型null，只有一个特殊的NULL值，表示没有值不同于（NA，NA是一种特殊值，而NULL\n",
    "#是根本没有对象值）\n",
    "print(c())\n",
    "mode(c())"
   ]
  },
  {
   "cell_type": "code",
   "execution_count": 47,
   "id": "377d995a",
   "metadata": {},
   "outputs": [
    {
     "data": {
      "text/html": [
       "TRUE"
      ],
      "text/latex": [
       "TRUE"
      ],
      "text/markdown": [
       "TRUE"
      ],
      "text/plain": [
       "[1] TRUE"
      ]
     },
     "metadata": {},
     "output_type": "display_data"
    },
    {
     "data": {
      "text/html": [
       "FALSE"
      ],
      "text/latex": [
       "FALSE"
      ],
      "text/markdown": [
       "FALSE"
      ],
      "text/plain": [
       "[1] FALSE"
      ]
     },
     "metadata": {},
     "output_type": "display_data"
    },
    {
     "data": {
      "text/html": [
       "TRUE"
      ],
      "text/latex": [
       "TRUE"
      ],
      "text/markdown": [
       "TRUE"
      ],
      "text/plain": [
       "[1] TRUE"
      ]
     },
     "metadata": {},
     "output_type": "display_data"
    }
   ],
   "source": [
    "#还可以使用is.numeric, is.character 等函数检验对象性质\n",
    "is.numeric(c(1,3,5))\n",
    "is.character(c(1,3,5))\n",
    "is.character(c('1','3','5'))"
   ]
  },
  {
   "cell_type": "code",
   "execution_count": 48,
   "id": "fd07f4b3",
   "metadata": {},
   "outputs": [
    {
     "name": "stdout",
     "output_type": "stream",
     "text": [
      "[1] \"1\" \"3\" \"5\"\n"
     ]
    }
   ],
   "source": [
    "#使用as.numeric, as.character强制转换数据类型\n",
    "x <- c('1','3','5')\n",
    "print(x)"
   ]
  },
  {
   "cell_type": "code",
   "execution_count": 49,
   "id": "6d147b77",
   "metadata": {},
   "outputs": [
    {
     "name": "stdout",
     "output_type": "stream",
     "text": [
      "[1] 1 3 5\n"
     ]
    }
   ],
   "source": [
    "y <- as.numeric(x)\n",
    "print(y)"
   ]
  },
  {
   "cell_type": "code",
   "execution_count": 50,
   "id": "18f91e9e",
   "metadata": {},
   "outputs": [
    {
     "name": "stdout",
     "output_type": "stream",
     "text": [
      "[1] \"1\" \"3\" \"5\"\n"
     ]
    }
   ],
   "source": [
    "z <- as.character(y)\n",
    "print(z)"
   ]
  },
  {
   "cell_type": "markdown",
   "id": "017969d4",
   "metadata": {},
   "source": [
    "### 修改对象的长度"
   ]
  },
  {
   "cell_type": "code",
   "execution_count": null,
   "id": "6e09c0bc",
   "metadata": {},
   "outputs": [],
   "source": [
    "#对象可以取0或正整数为长度。 R允许对超过对象的长度的下标赋值，\n",
    "#这时对象长度自动伸长以包括下标，为赋值的元素去缺失值（NA）"
   ]
  },
  {
   "cell_type": "code",
   "execution_count": 52,
   "id": "cc643dc2",
   "metadata": {},
   "outputs": [
    {
     "name": "stdout",
     "output_type": "stream",
     "text": [
      "numeric(0)\n"
     ]
    },
    {
     "data": {
      "text/html": [
       "0"
      ],
      "text/latex": [
       "0"
      ],
      "text/markdown": [
       "0"
      ],
      "text/plain": [
       "[1] 0"
      ]
     },
     "metadata": {},
     "output_type": "display_data"
    }
   ],
   "source": [
    "x <- numeric()\n",
    "print(x)\n",
    "length(x)"
   ]
  },
  {
   "cell_type": "code",
   "execution_count": 53,
   "id": "b5cd901a",
   "metadata": {},
   "outputs": [
    {
     "name": "stdout",
     "output_type": "stream",
     "text": [
      "[1] NA NA 17\n"
     ]
    }
   ],
   "source": [
    "x[3] <- 17\n",
    "print(x)"
   ]
  },
  {
   "cell_type": "code",
   "execution_count": 54,
   "id": "7a343522",
   "metadata": {},
   "outputs": [
    {
     "name": "stdout",
     "output_type": "stream",
     "text": [
      "[1] 1 2 3\n"
     ]
    },
    {
     "data": {
      "text/html": [
       "3"
      ],
      "text/latex": [
       "3"
      ],
      "text/markdown": [
       "3"
      ],
      "text/plain": [
       "[1] 3"
      ]
     },
     "metadata": {},
     "output_type": "display_data"
    }
   ],
   "source": [
    "#要增加对象的长度只需要作赋值运算就可以了，如\n",
    "x <- 1:3\n",
    "print(x)\n",
    "length(x)"
   ]
  },
  {
   "cell_type": "code",
   "execution_count": 55,
   "id": "fdad924e",
   "metadata": {},
   "outputs": [
    {
     "name": "stdout",
     "output_type": "stream",
     "text": [
      "[1] 1 2 3 4\n"
     ]
    },
    {
     "data": {
      "text/html": [
       "4"
      ],
      "text/latex": [
       "4"
      ],
      "text/markdown": [
       "4"
      ],
      "text/plain": [
       "[1] 4"
      ]
     },
     "metadata": {},
     "output_type": "display_data"
    }
   ],
   "source": [
    "x <- 1:4\n",
    "print(x)\n",
    "length(x)"
   ]
  },
  {
   "cell_type": "code",
   "execution_count": 56,
   "id": "6872649c",
   "metadata": {},
   "outputs": [
    {
     "name": "stdout",
     "output_type": "stream",
     "text": [
      "[1] 1 2 3 4\n",
      "[1] 1 2\n"
     ]
    }
   ],
   "source": [
    "#如果要缩短对象长度，只需要赋给它长度短的子集即可\n",
    "print(x)\n",
    "x <- x[1:2]\n",
    "print(x)"
   ]
  },
  {
   "cell_type": "code",
   "execution_count": 57,
   "id": "9b5460ff",
   "metadata": {},
   "outputs": [
    {
     "name": "stdout",
     "output_type": "stream",
     "text": [
      "[1] 1 2 3\n"
     ]
    }
   ],
   "source": [
    "#或给对象的长度赋值\n",
    "x <-1:4\n",
    "length(x) <- 3\n",
    "print(x)"
   ]
  },
  {
   "cell_type": "markdown",
   "id": "0594af4b",
   "metadata": {},
   "source": [
    "### attributes()和attr（）函数"
   ]
  },
  {
   "cell_type": "code",
   "execution_count": null,
   "id": "5954a7fe",
   "metadata": {},
   "outputs": [],
   "source": [
    "#attribute（object）返回对象object的个特殊属性组成的列表，不包括固有属性mode和length"
   ]
  },
  {
   "cell_type": "code",
   "execution_count": 58,
   "id": "fcde1da5",
   "metadata": {},
   "outputs": [
    {
     "name": "stdout",
     "output_type": "stream",
     "text": [
      " apple orange \n",
      "   2.5    2.1 \n"
     ]
    }
   ],
   "source": [
    "x <- c(apple=2.5, orange=2.1)\n",
    "print(x)"
   ]
  },
  {
   "cell_type": "code",
   "execution_count": 59,
   "id": "b43e2100",
   "metadata": {},
   "outputs": [
    {
     "data": {
      "text/html": [
       "<strong>$names</strong> = <style>\n",
       ".list-inline {list-style: none; margin:0; padding: 0}\n",
       ".list-inline>li {display: inline-block}\n",
       ".list-inline>li:not(:last-child)::after {content: \"\\00b7\"; padding: 0 .5ex}\n",
       "</style>\n",
       "<ol class=list-inline><li>'apple'</li><li>'orange'</li></ol>\n"
      ],
      "text/latex": [
       "\\textbf{\\$names} = \\begin{enumerate*}\n",
       "\\item 'apple'\n",
       "\\item 'orange'\n",
       "\\end{enumerate*}\n"
      ],
      "text/markdown": [
       "**$names** = 1. 'apple'\n",
       "2. 'orange'\n",
       "\n",
       "\n"
      ],
      "text/plain": [
       "$names\n",
       "[1] \"apple\"  \"orange\"\n"
      ]
     },
     "metadata": {},
     "output_type": "display_data"
    }
   ],
   "source": [
    "attributes(x)"
   ]
  },
  {
   "cell_type": "code",
   "execution_count": 60,
   "id": "35a50e9e",
   "metadata": {},
   "outputs": [
    {
     "name": "stdout",
     "output_type": "stream",
     "text": [
      "[1] 2.5 2.1\n"
     ]
    },
    {
     "data": {
      "text/plain": [
       "NULL"
      ]
     },
     "metadata": {},
     "output_type": "display_data"
    }
   ],
   "source": [
    "x <- c(2.5,2.1)\n",
    "print(x)\n",
    "attributes(x)"
   ]
  },
  {
   "cell_type": "code",
   "execution_count": 61,
   "id": "3622ebb8",
   "metadata": {},
   "outputs": [
    {
     "name": "stdout",
     "output_type": "stream",
     "text": [
      " apple grapes \n",
      "   2.5    2.1 \n"
     ]
    }
   ],
   "source": [
    "#也可以把attr()函数写作赋值的左边以改变属性值或定义新的属性，例如，\n",
    "x <- c(2.5, 2.1)\n",
    "attr(x,'names') <-c('apple','grapes')\n",
    "print(x)"
   ]
  },
  {
   "cell_type": "code",
   "execution_count": 62,
   "id": "054af08e",
   "metadata": {},
   "outputs": [
    {
     "name": "stdout",
     "output_type": "stream",
     "text": [
      " apple grapes \n",
      "   2.5    2.1 \n",
      "attr(,\"type\")\n",
      "[1] \"fruit\"\n"
     ]
    }
   ],
   "source": [
    "attr(x,'type') <- 'fruit'\n",
    "print(x)"
   ]
  },
  {
   "cell_type": "code",
   "execution_count": 63,
   "id": "b8b36cad",
   "metadata": {},
   "outputs": [
    {
     "data": {
      "text/html": [
       "<dl>\n",
       "\t<dt>$names</dt>\n",
       "\t\t<dd><style>\n",
       ".list-inline {list-style: none; margin:0; padding: 0}\n",
       ".list-inline>li {display: inline-block}\n",
       ".list-inline>li:not(:last-child)::after {content: \"\\00b7\"; padding: 0 .5ex}\n",
       "</style>\n",
       "<ol class=list-inline><li>'apple'</li><li>'grapes'</li></ol>\n",
       "</dd>\n",
       "\t<dt>$type</dt>\n",
       "\t\t<dd>'fruit'</dd>\n",
       "</dl>\n"
      ],
      "text/latex": [
       "\\begin{description}\n",
       "\\item[\\$names] \\begin{enumerate*}\n",
       "\\item 'apple'\n",
       "\\item 'grapes'\n",
       "\\end{enumerate*}\n",
       "\n",
       "\\item[\\$type] 'fruit'\n",
       "\\end{description}\n"
      ],
      "text/markdown": [
       "$names\n",
       ":   1. 'apple'\n",
       "2. 'grapes'\n",
       "\n",
       "\n",
       "\n",
       "$type\n",
       ":   'fruit'\n",
       "\n",
       "\n"
      ],
      "text/plain": [
       "$names\n",
       "[1] \"apple\"  \"grapes\"\n",
       "\n",
       "$type\n",
       "[1] \"fruit\"\n"
      ]
     },
     "metadata": {},
     "output_type": "display_data"
    }
   ],
   "source": [
    "attributes(x)"
   ]
  },
  {
   "cell_type": "markdown",
   "id": "aede975e",
   "metadata": {},
   "source": [
    "### 对象的class属性"
   ]
  },
  {
   "cell_type": "code",
   "execution_count": null,
   "id": "1e2cc7b6",
   "metadata": {},
   "outputs": [],
   "source": [
    "#在R中可以用特殊的class属性来支持面向对象的编程风格，\n",
    "#对象的class属性用来区分对象的类\n",
    "#前面的学习已经学完了向量，后面我们将以此讲其他不同的calss。"
   ]
  }
 ],
 "metadata": {
  "kernelspec": {
   "display_name": "R",
   "language": "R",
   "name": "ir"
  },
  "language_info": {
   "codemirror_mode": "r",
   "file_extension": ".r",
   "mimetype": "text/x-r-source",
   "name": "R",
   "pygments_lexer": "r",
   "version": "3.6.3"
  }
 },
 "nbformat": 4,
 "nbformat_minor": 5
}
