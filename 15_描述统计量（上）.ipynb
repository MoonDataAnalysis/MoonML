{
 "cells": [
  {
   "cell_type": "markdown",
   "id": "a67ad8c7",
   "metadata": {},
   "source": [
    "# 描述统计量"
   ]
  },
  {
   "cell_type": "markdown",
   "id": "867adc32",
   "metadata": {},
   "source": [
    "### 位置的度量"
   ]
  },
  {
   "cell_type": "code",
   "execution_count": null,
   "id": "4a4182b4",
   "metadata": {},
   "outputs": [],
   "source": [
    "#描述数据集中趋势的统计量，常见的有均值、众数、中位数、百分位数等"
   ]
  },
  {
   "attachments": {
    "image.png": {
     "image/png": "[encoded data removed]"
    }
   },
   "cell_type": "markdown",
   "id": "85c52f83",
   "metadata": {},
   "source": [
    "均值，即数据的平均数\n",
    "![image.png](attachment:image.png)\n",
    "反映数据取值的平均位置，可以用函数mean():\n",
    "mean(x, trim=0, na.rm=F)\n",
    "x是对象， trim是去掉与均值差较大的数据的比例， na.rm=T,允许有缺失值"
   ]
  },
  {
   "cell_type": "code",
   "execution_count": 61,
   "id": "47af735d",
   "metadata": {},
   "outputs": [],
   "source": [
    "#例1：已知15位学生的体重\n",
    "w <- c(75.0, 64.0, 47.4, 66.9, 62.2, 62.2, 58.7, 63.5,\n",
    "       66.6, 64.0, 57.0, 69.0, 56.9, 50.0, 72.0)"
   ]
  },
  {
   "cell_type": "code",
   "execution_count": 62,
   "id": "3e4d8a56",
   "metadata": {},
   "outputs": [
    {
     "data": {
      "text/html": [
       "62.36"
      ],
      "text/latex": [
       "62.36"
      ],
      "text/markdown": [
       "62.36"
      ],
      "text/plain": [
       "[1] 62.36"
      ]
     },
     "metadata": {},
     "output_type": "display_data"
    }
   ],
   "source": [
    "#求均值\n",
    "mean(w)"
   ]
  },
  {
   "cell_type": "code",
   "execution_count": 63,
   "id": "ae42affb",
   "metadata": {},
   "outputs": [
    {
     "data": {
      "text/html": [
       "<table class=\"dataframe\">\n",
       "<caption>A matrix: 3 × 4 of type int</caption>\n",
       "<tbody>\n",
       "\t<tr><td>1</td><td>4</td><td>7</td><td>10</td></tr>\n",
       "\t<tr><td>2</td><td>5</td><td>8</td><td>11</td></tr>\n",
       "\t<tr><td>3</td><td>6</td><td>9</td><td>12</td></tr>\n",
       "</tbody>\n",
       "</table>\n"
      ],
      "text/latex": [
       "A matrix: 3 × 4 of type int\n",
       "\\begin{tabular}{llll}\n",
       "\t 1 & 4 & 7 & 10\\\\\n",
       "\t 2 & 5 & 8 & 11\\\\\n",
       "\t 3 & 6 & 9 & 12\\\\\n",
       "\\end{tabular}\n"
      ],
      "text/markdown": [
       "\n",
       "A matrix: 3 × 4 of type int\n",
       "\n",
       "| 1 | 4 | 7 | 10 |\n",
       "| 2 | 5 | 8 | 11 |\n",
       "| 3 | 6 | 9 | 12 |\n",
       "\n"
      ],
      "text/plain": [
       "     [,1] [,2] [,3] [,4]\n",
       "[1,] 1    4    7    10  \n",
       "[2,] 2    5    8    11  \n",
       "[3,] 3    6    9    12  "
      ]
     },
     "metadata": {},
     "output_type": "display_data"
    }
   ],
   "source": [
    "#求一组矩阵的均值\n",
    "x <- array(1:12,c(3,4))\n",
    "x"
   ]
  },
  {
   "cell_type": "code",
   "execution_count": 64,
   "id": "9fad3c58",
   "metadata": {},
   "outputs": [
    {
     "data": {
      "text/html": [
       "6.5"
      ],
      "text/latex": [
       "6.5"
      ],
      "text/markdown": [
       "6.5"
      ],
      "text/plain": [
       "[1] 6.5"
      ]
     },
     "metadata": {},
     "output_type": "display_data"
    }
   ],
   "source": [
    "mean(x)"
   ]
  },
  {
   "cell_type": "code",
   "execution_count": 65,
   "id": "b959df30",
   "metadata": {},
   "outputs": [
    {
     "data": {
      "text/html": [
       "<style>\n",
       ".list-inline {list-style: none; margin:0; padding: 0}\n",
       ".list-inline>li {display: inline-block}\n",
       ".list-inline>li:not(:last-child)::after {content: \"\\00b7\"; padding: 0 .5ex}\n",
       "</style>\n",
       "<ol class=list-inline><li>5.5</li><li>6.5</li><li>7.5</li></ol>\n"
      ],
      "text/latex": [
       "\\begin{enumerate*}\n",
       "\\item 5.5\n",
       "\\item 6.5\n",
       "\\item 7.5\n",
       "\\end{enumerate*}\n"
      ],
      "text/markdown": [
       "1. 5.5\n",
       "2. 6.5\n",
       "3. 7.5\n",
       "\n",
       "\n"
      ],
      "text/plain": [
       "[1] 5.5 6.5 7.5"
      ]
     },
     "metadata": {},
     "output_type": "display_data"
    }
   ],
   "source": [
    "#如果想求矩阵的某一维度均值，用apply\n",
    "apply(x,1,mean)"
   ]
  },
  {
   "cell_type": "code",
   "execution_count": 66,
   "id": "53a2e92c",
   "metadata": {},
   "outputs": [
    {
     "data": {
      "text/html": [
       "<style>\n",
       ".list-inline {list-style: none; margin:0; padding: 0}\n",
       ".list-inline>li {display: inline-block}\n",
       ".list-inline>li:not(:last-child)::after {content: \"\\00b7\"; padding: 0 .5ex}\n",
       "</style>\n",
       "<ol class=list-inline><li>2</li><li>5</li><li>8</li><li>11</li></ol>\n"
      ],
      "text/latex": [
       "\\begin{enumerate*}\n",
       "\\item 2\n",
       "\\item 5\n",
       "\\item 8\n",
       "\\item 11\n",
       "\\end{enumerate*}\n"
      ],
      "text/markdown": [
       "1. 2\n",
       "2. 5\n",
       "3. 8\n",
       "4. 11\n",
       "\n",
       "\n"
      ],
      "text/plain": [
       "[1]  2  5  8 11"
      ]
     },
     "metadata": {},
     "output_type": "display_data"
    }
   ],
   "source": [
    "apply(x,2,mean)"
   ]
  },
  {
   "cell_type": "code",
   "execution_count": 67,
   "id": "e4141c45",
   "metadata": {},
   "outputs": [
    {
     "data": {
      "text/html": [
       "<style>\n",
       ".list-inline {list-style: none; margin:0; padding: 0}\n",
       ".list-inline>li {display: inline-block}\n",
       ".list-inline>li:not(:last-child)::after {content: \"\\00b7\"; padding: 0 .5ex}\n",
       "</style>\n",
       "<ol class=list-inline><li>75</li><li>64</li><li>47.4</li><li>66.9</li><li>62.2</li><li>62.2</li><li>58.7</li><li>63.5</li><li>66.6</li><li>64</li><li>57</li><li>69</li><li>56.9</li><li>50</li><li>72</li></ol>\n"
      ],
      "text/latex": [
       "\\begin{enumerate*}\n",
       "\\item 75\n",
       "\\item 64\n",
       "\\item 47.4\n",
       "\\item 66.9\n",
       "\\item 62.2\n",
       "\\item 62.2\n",
       "\\item 58.7\n",
       "\\item 63.5\n",
       "\\item 66.6\n",
       "\\item 64\n",
       "\\item 57\n",
       "\\item 69\n",
       "\\item 56.9\n",
       "\\item 50\n",
       "\\item 72\n",
       "\\end{enumerate*}\n"
      ],
      "text/markdown": [
       "1. 75\n",
       "2. 64\n",
       "3. 47.4\n",
       "4. 66.9\n",
       "5. 62.2\n",
       "6. 62.2\n",
       "7. 58.7\n",
       "8. 63.5\n",
       "9. 66.6\n",
       "10. 64\n",
       "11. 57\n",
       "12. 69\n",
       "13. 56.9\n",
       "14. 50\n",
       "15. 72\n",
       "\n",
       "\n"
      ],
      "text/plain": [
       " [1] 75.0 64.0 47.4 66.9 62.2 62.2 58.7 63.5 66.6 64.0 57.0 69.0 56.9 50.0 72.0"
      ]
     },
     "metadata": {},
     "output_type": "display_data"
    }
   ],
   "source": [
    "#如果数据中有异常值,继续用前面体重的例子\n",
    "w"
   ]
  },
  {
   "cell_type": "code",
   "execution_count": 68,
   "id": "14401fb4",
   "metadata": {},
   "outputs": [
    {
     "data": {
      "text/html": [
       "<style>\n",
       ".list-inline {list-style: none; margin:0; padding: 0}\n",
       ".list-inline>li {display: inline-block}\n",
       ".list-inline>li:not(:last-child)::after {content: \"\\00b7\"; padding: 0 .5ex}\n",
       "</style>\n",
       "<ol class=list-inline><li>750</li><li>64</li><li>47.4</li><li>66.9</li><li>62.2</li><li>62.2</li><li>58.7</li><li>63.5</li><li>66.6</li><li>64</li><li>57</li><li>69</li><li>56.9</li><li>50</li><li>72</li></ol>\n"
      ],
      "text/latex": [
       "\\begin{enumerate*}\n",
       "\\item 750\n",
       "\\item 64\n",
       "\\item 47.4\n",
       "\\item 66.9\n",
       "\\item 62.2\n",
       "\\item 62.2\n",
       "\\item 58.7\n",
       "\\item 63.5\n",
       "\\item 66.6\n",
       "\\item 64\n",
       "\\item 57\n",
       "\\item 69\n",
       "\\item 56.9\n",
       "\\item 50\n",
       "\\item 72\n",
       "\\end{enumerate*}\n"
      ],
      "text/markdown": [
       "1. 750\n",
       "2. 64\n",
       "3. 47.4\n",
       "4. 66.9\n",
       "5. 62.2\n",
       "6. 62.2\n",
       "7. 58.7\n",
       "8. 63.5\n",
       "9. 66.6\n",
       "10. 64\n",
       "11. 57\n",
       "12. 69\n",
       "13. 56.9\n",
       "14. 50\n",
       "15. 72\n",
       "\n",
       "\n"
      ],
      "text/plain": [
       " [1] 750.0  64.0  47.4  66.9  62.2  62.2  58.7  63.5  66.6  64.0  57.0  69.0\n",
       "[13]  56.9  50.0  72.0"
      ]
     },
     "metadata": {},
     "output_type": "display_data"
    }
   ],
   "source": [
    "w[1]<-750\n",
    "w"
   ]
  },
  {
   "cell_type": "code",
   "execution_count": 69,
   "id": "c7ecba6f",
   "metadata": {},
   "outputs": [
    {
     "data": {
      "text/html": [
       "62.5384615384615"
      ],
      "text/latex": [
       "62.5384615384615"
      ],
      "text/markdown": [
       "62.5384615384615"
      ],
      "text/plain": [
       "[1] 62.53846"
      ]
     },
     "metadata": {},
     "output_type": "display_data"
    }
   ],
   "source": [
    "#去掉10%的异常值\n",
    "mean(w,trim = 0.1)"
   ]
  },
  {
   "cell_type": "code",
   "execution_count": 70,
   "id": "0a631061",
   "metadata": {},
   "outputs": [
    {
     "data": {
      "text/html": [
       "<style>\n",
       ".list-inline {list-style: none; margin:0; padding: 0}\n",
       ".list-inline>li {display: inline-block}\n",
       ".list-inline>li:not(:last-child)::after {content: \"\\00b7\"; padding: 0 .5ex}\n",
       "</style>\n",
       "<ol class=list-inline><li>750</li><li>NaN</li><li>47.4</li><li>66.9</li><li>62.2</li><li>62.2</li><li>58.7</li><li>63.5</li><li>66.6</li><li>64</li><li>57</li><li>69</li><li>56.9</li><li>50</li><li>72</li></ol>\n"
      ],
      "text/latex": [
       "\\begin{enumerate*}\n",
       "\\item 750\n",
       "\\item NaN\n",
       "\\item 47.4\n",
       "\\item 66.9\n",
       "\\item 62.2\n",
       "\\item 62.2\n",
       "\\item 58.7\n",
       "\\item 63.5\n",
       "\\item 66.6\n",
       "\\item 64\n",
       "\\item 57\n",
       "\\item 69\n",
       "\\item 56.9\n",
       "\\item 50\n",
       "\\item 72\n",
       "\\end{enumerate*}\n"
      ],
      "text/markdown": [
       "1. 750\n",
       "2. NaN\n",
       "3. 47.4\n",
       "4. 66.9\n",
       "5. 62.2\n",
       "6. 62.2\n",
       "7. 58.7\n",
       "8. 63.5\n",
       "9. 66.6\n",
       "10. 64\n",
       "11. 57\n",
       "12. 69\n",
       "13. 56.9\n",
       "14. 50\n",
       "15. 72\n",
       "\n",
       "\n"
      ],
      "text/plain": [
       " [1] 750.0   NaN  47.4  66.9  62.2  62.2  58.7  63.5  66.6  64.0  57.0  69.0\n",
       "[13]  56.9  50.0  72.0"
      ]
     },
     "metadata": {},
     "output_type": "display_data"
    }
   ],
   "source": [
    "w[2] <- NaN\n",
    "w"
   ]
  },
  {
   "cell_type": "code",
   "execution_count": 72,
   "id": "90b0fa3b",
   "metadata": {},
   "outputs": [
    {
     "data": {
      "text/html": [
       "&lt;NA&gt;"
      ],
      "text/latex": [
       "<NA>"
      ],
      "text/markdown": [
       "&lt;NA&gt;"
      ],
      "text/plain": [
       "[1] NA"
      ]
     },
     "metadata": {},
     "output_type": "display_data"
    }
   ],
   "source": [
    "mean(w,trim = 0.1, na.rm = T)"
   ]
  },
  {
   "cell_type": "code",
   "execution_count": 73,
   "id": "d0a59623",
   "metadata": {},
   "outputs": [
    {
     "data": {
      "text/html": [
       "94.3761904761905"
      ],
      "text/latex": [
       "94.3761904761905"
      ],
      "text/markdown": [
       "94.3761904761905"
      ],
      "text/plain": [
       "[1] 94.37619"
      ]
     },
     "metadata": {},
     "output_type": "display_data"
    }
   ],
   "source": [
    "#加权平均\n",
    "we <- c(1, 1, 1, 1, 1, 1, 1, 1,\n",
    "       2, 2, 2, 2, 2, 2, 2)\n",
    "weighted.mean(w,we,na.rm = T)"
   ]
  },
  {
   "cell_type": "markdown",
   "id": "28b7def4",
   "metadata": {},
   "source": [
    "### 顺序统计量"
   ]
  },
  {
   "cell_type": "code",
   "execution_count": 74,
   "id": "d15d21ff",
   "metadata": {},
   "outputs": [
    {
     "data": {
      "text/html": [
       "<style>\n",
       ".list-inline {list-style: none; margin:0; padding: 0}\n",
       ".list-inline>li {display: inline-block}\n",
       ".list-inline>li:not(:last-child)::after {content: \"\\00b7\"; padding: 0 .5ex}\n",
       "</style>\n",
       "<ol class=list-inline><li>750</li><li>NaN</li><li>47.4</li><li>66.9</li><li>62.2</li><li>62.2</li><li>58.7</li><li>63.5</li><li>66.6</li><li>64</li><li>57</li><li>69</li><li>56.9</li><li>50</li><li>72</li></ol>\n"
      ],
      "text/latex": [
       "\\begin{enumerate*}\n",
       "\\item 750\n",
       "\\item NaN\n",
       "\\item 47.4\n",
       "\\item 66.9\n",
       "\\item 62.2\n",
       "\\item 62.2\n",
       "\\item 58.7\n",
       "\\item 63.5\n",
       "\\item 66.6\n",
       "\\item 64\n",
       "\\item 57\n",
       "\\item 69\n",
       "\\item 56.9\n",
       "\\item 50\n",
       "\\item 72\n",
       "\\end{enumerate*}\n"
      ],
      "text/markdown": [
       "1. 750\n",
       "2. NaN\n",
       "3. 47.4\n",
       "4. 66.9\n",
       "5. 62.2\n",
       "6. 62.2\n",
       "7. 58.7\n",
       "8. 63.5\n",
       "9. 66.6\n",
       "10. 64\n",
       "11. 57\n",
       "12. 69\n",
       "13. 56.9\n",
       "14. 50\n",
       "15. 72\n",
       "\n",
       "\n"
      ],
      "text/plain": [
       " [1] 750.0   NaN  47.4  66.9  62.2  62.2  58.7  63.5  66.6  64.0  57.0  69.0\n",
       "[13]  56.9  50.0  72.0"
      ]
     },
     "metadata": {},
     "output_type": "display_data"
    },
    {
     "data": {
      "text/html": [
       "<style>\n",
       ".list-inline {list-style: none; margin:0; padding: 0}\n",
       ".list-inline>li {display: inline-block}\n",
       ".list-inline>li:not(:last-child)::after {content: \"\\00b7\"; padding: 0 .5ex}\n",
       "</style>\n",
       "<ol class=list-inline><li>47.4</li><li>50</li><li>56.9</li><li>57</li><li>58.7</li><li>62.2</li><li>62.2</li><li>63.5</li><li>64</li><li>66.6</li><li>66.9</li><li>69</li><li>72</li><li>750</li></ol>\n"
      ],
      "text/latex": [
       "\\begin{enumerate*}\n",
       "\\item 47.4\n",
       "\\item 50\n",
       "\\item 56.9\n",
       "\\item 57\n",
       "\\item 58.7\n",
       "\\item 62.2\n",
       "\\item 62.2\n",
       "\\item 63.5\n",
       "\\item 64\n",
       "\\item 66.6\n",
       "\\item 66.9\n",
       "\\item 69\n",
       "\\item 72\n",
       "\\item 750\n",
       "\\end{enumerate*}\n"
      ],
      "text/markdown": [
       "1. 47.4\n",
       "2. 50\n",
       "3. 56.9\n",
       "4. 57\n",
       "5. 58.7\n",
       "6. 62.2\n",
       "7. 62.2\n",
       "8. 63.5\n",
       "9. 64\n",
       "10. 66.6\n",
       "11. 66.9\n",
       "12. 69\n",
       "13. 72\n",
       "14. 750\n",
       "\n",
       "\n"
      ],
      "text/plain": [
       " [1]  47.4  50.0  56.9  57.0  58.7  62.2  62.2  63.5  64.0  66.6  66.9  69.0\n",
       "[13]  72.0 750.0"
      ]
     },
     "metadata": {},
     "output_type": "display_data"
    }
   ],
   "source": [
    "#如何把体重排序\n",
    "w\n",
    "sort(w)"
   ]
  },
  {
   "cell_type": "code",
   "execution_count": 75,
   "id": "f7a95cc1",
   "metadata": {},
   "outputs": [
    {
     "data": {
      "text/html": [
       "<style>\n",
       ".list-inline {list-style: none; margin:0; padding: 0}\n",
       ".list-inline>li {display: inline-block}\n",
       ".list-inline>li:not(:last-child)::after {content: \"\\00b7\"; padding: 0 .5ex}\n",
       "</style>\n",
       "<ol class=list-inline><li>47.4</li><li>50</li><li>56.9</li><li>57</li><li>58.7</li><li>62.2</li><li>62.2</li><li>63.5</li><li>64</li><li>66.6</li><li>66.9</li><li>69</li><li>72</li><li>750</li><li>NaN</li></ol>\n"
      ],
      "text/latex": [
       "\\begin{enumerate*}\n",
       "\\item 47.4\n",
       "\\item 50\n",
       "\\item 56.9\n",
       "\\item 57\n",
       "\\item 58.7\n",
       "\\item 62.2\n",
       "\\item 62.2\n",
       "\\item 63.5\n",
       "\\item 64\n",
       "\\item 66.6\n",
       "\\item 66.9\n",
       "\\item 69\n",
       "\\item 72\n",
       "\\item 750\n",
       "\\item NaN\n",
       "\\end{enumerate*}\n"
      ],
      "text/markdown": [
       "1. 47.4\n",
       "2. 50\n",
       "3. 56.9\n",
       "4. 57\n",
       "5. 58.7\n",
       "6. 62.2\n",
       "7. 62.2\n",
       "8. 63.5\n",
       "9. 64\n",
       "10. 66.6\n",
       "11. 66.9\n",
       "12. 69\n",
       "13. 72\n",
       "14. 750\n",
       "15. NaN\n",
       "\n",
       "\n"
      ],
      "text/plain": [
       " [1]  47.4  50.0  56.9  57.0  58.7  62.2  62.2  63.5  64.0  66.6  66.9  69.0\n",
       "[13]  72.0 750.0   NaN"
      ]
     },
     "metadata": {},
     "output_type": "display_data"
    }
   ],
   "source": [
    "sort(w, na.last = T)"
   ]
  },
  {
   "cell_type": "code",
   "execution_count": 76,
   "id": "2a4774b9",
   "metadata": {},
   "outputs": [
    {
     "data": {
      "text/html": [
       "<style>\n",
       ".list-inline {list-style: none; margin:0; padding: 0}\n",
       ".list-inline>li {display: inline-block}\n",
       ".list-inline>li:not(:last-child)::after {content: \"\\00b7\"; padding: 0 .5ex}\n",
       "</style>\n",
       "<ol class=list-inline><li>750</li><li>72</li><li>69</li><li>66.9</li><li>66.6</li><li>64</li><li>63.5</li><li>62.2</li><li>62.2</li><li>58.7</li><li>57</li><li>56.9</li><li>50</li><li>47.4</li></ol>\n"
      ],
      "text/latex": [
       "\\begin{enumerate*}\n",
       "\\item 750\n",
       "\\item 72\n",
       "\\item 69\n",
       "\\item 66.9\n",
       "\\item 66.6\n",
       "\\item 64\n",
       "\\item 63.5\n",
       "\\item 62.2\n",
       "\\item 62.2\n",
       "\\item 58.7\n",
       "\\item 57\n",
       "\\item 56.9\n",
       "\\item 50\n",
       "\\item 47.4\n",
       "\\end{enumerate*}\n"
      ],
      "text/markdown": [
       "1. 750\n",
       "2. 72\n",
       "3. 69\n",
       "4. 66.9\n",
       "5. 66.6\n",
       "6. 64\n",
       "7. 63.5\n",
       "8. 62.2\n",
       "9. 62.2\n",
       "10. 58.7\n",
       "11. 57\n",
       "12. 56.9\n",
       "13. 50\n",
       "14. 47.4\n",
       "\n",
       "\n"
      ],
      "text/plain": [
       " [1] 750.0  72.0  69.0  66.9  66.6  64.0  63.5  62.2  62.2  58.7  57.0  56.9\n",
       "[13]  50.0  47.4"
      ]
     },
     "metadata": {},
     "output_type": "display_data"
    }
   ],
   "source": [
    "#由小到大，还是由大到小\n",
    "sort(w,decreasing = T)"
   ]
  },
  {
   "cell_type": "markdown",
   "id": "44cf0b52",
   "metadata": {},
   "source": [
    "### 中位数"
   ]
  },
  {
   "attachments": {
    "image.png": {
     "image/png": "[encoded data removed]"
    }
   },
   "cell_type": "markdown",
   "id": "dd291b03",
   "metadata": {},
   "source": [
    "![image.png](attachment:image.png)\n",
    "中位数描述中心位置，不受偏态性（异常值）影响"
   ]
  },
  {
   "cell_type": "code",
   "execution_count": 77,
   "id": "a3437b3f",
   "metadata": {},
   "outputs": [],
   "source": [
    "#体重\n",
    "x <- c(75, 64, 47.4, 66.9, 62.2, 62.2, 58.7, 63.5)"
   ]
  },
  {
   "cell_type": "code",
   "execution_count": 78,
   "id": "6570e52f",
   "metadata": {
    "scrolled": true
   },
   "outputs": [
    {
     "data": {
      "text/html": [
       "62.85"
      ],
      "text/latex": [
       "62.85"
      ],
      "text/markdown": [
       "62.85"
      ],
      "text/plain": [
       "[1] 62.85"
      ]
     },
     "metadata": {},
     "output_type": "display_data"
    }
   ],
   "source": [
    "median(x)"
   ]
  },
  {
   "cell_type": "code",
   "execution_count": 79,
   "id": "dc64c66d",
   "metadata": {},
   "outputs": [
    {
     "data": {
      "text/html": [
       "<style>\n",
       ".list-inline {list-style: none; margin:0; padding: 0}\n",
       ".list-inline>li {display: inline-block}\n",
       ".list-inline>li:not(:last-child)::after {content: \"\\00b7\"; padding: 0 .5ex}\n",
       "</style>\n",
       "<ol class=list-inline><li>750</li><li>NaN</li><li>47.4</li><li>66.9</li><li>62.2</li><li>62.2</li><li>58.7</li><li>63.5</li><li>66.6</li><li>64</li><li>57</li><li>69</li><li>56.9</li><li>50</li><li>72</li></ol>\n"
      ],
      "text/latex": [
       "\\begin{enumerate*}\n",
       "\\item 750\n",
       "\\item NaN\n",
       "\\item 47.4\n",
       "\\item 66.9\n",
       "\\item 62.2\n",
       "\\item 62.2\n",
       "\\item 58.7\n",
       "\\item 63.5\n",
       "\\item 66.6\n",
       "\\item 64\n",
       "\\item 57\n",
       "\\item 69\n",
       "\\item 56.9\n",
       "\\item 50\n",
       "\\item 72\n",
       "\\end{enumerate*}\n"
      ],
      "text/markdown": [
       "1. 750\n",
       "2. NaN\n",
       "3. 47.4\n",
       "4. 66.9\n",
       "5. 62.2\n",
       "6. 62.2\n",
       "7. 58.7\n",
       "8. 63.5\n",
       "9. 66.6\n",
       "10. 64\n",
       "11. 57\n",
       "12. 69\n",
       "13. 56.9\n",
       "14. 50\n",
       "15. 72\n",
       "\n",
       "\n"
      ],
      "text/plain": [
       " [1] 750.0   NaN  47.4  66.9  62.2  62.2  58.7  63.5  66.6  64.0  57.0  69.0\n",
       "[13]  56.9  50.0  72.0"
      ]
     },
     "metadata": {},
     "output_type": "display_data"
    },
    {
     "data": {
      "text/html": [
       "&lt;NA&gt;"
      ],
      "text/latex": [
       "<NA>"
      ],
      "text/markdown": [
       "&lt;NA&gt;"
      ],
      "text/plain": [
       "[1] NA"
      ]
     },
     "metadata": {},
     "output_type": "display_data"
    }
   ],
   "source": [
    "#有缺失值时\n",
    "w\n",
    "median(w)"
   ]
  },
  {
   "cell_type": "code",
   "execution_count": 80,
   "id": "f14fc8e0",
   "metadata": {},
   "outputs": [
    {
     "data": {
      "text/html": [
       "62.85"
      ],
      "text/latex": [
       "62.85"
      ],
      "text/markdown": [
       "62.85"
      ],
      "text/plain": [
       "[1] 62.85"
      ]
     },
     "metadata": {},
     "output_type": "display_data"
    }
   ],
   "source": [
    "median(w,na.rm = T)"
   ]
  },
  {
   "cell_type": "markdown",
   "id": "7ee3562b",
   "metadata": {},
   "source": [
    "### 百分位数"
   ]
  },
  {
   "attachments": {
    "image.png": {
     "image/png": "[encoded data removed]"
    }
   },
   "cell_type": "markdown",
   "id": "652581cc",
   "metadata": {},
   "source": [
    "将数据从小到大排序后，p（百分位）所在的点，即为百分位数\n",
    "\n",
    "![image.png](attachment:image.png)"
   ]
  },
  {
   "cell_type": "code",
   "execution_count": 81,
   "id": "892ec9da",
   "metadata": {},
   "outputs": [
    {
     "data": {
      "text/html": [
       "10"
      ],
      "text/latex": [
       "10"
      ],
      "text/markdown": [
       "10"
      ],
      "text/plain": [
       "[1] 10"
      ]
     },
     "metadata": {},
     "output_type": "display_data"
    },
    {
     "data": {
      "text/html": [
       "<style>\n",
       ".list-inline {list-style: none; margin:0; padding: 0}\n",
       ".list-inline>li {display: inline-block}\n",
       ".list-inline>li:not(:last-child)::after {content: \"\\00b7\"; padding: 0 .5ex}\n",
       "</style>\n",
       "<ol class=list-inline><li>47.4</li><li>58.7</li><li>62.2</li><li>62.2</li><li>63.5</li><li>64</li><li>66.9</li><li>70</li><li>75</li><li>80</li></ol>\n"
      ],
      "text/latex": [
       "\\begin{enumerate*}\n",
       "\\item 47.4\n",
       "\\item 58.7\n",
       "\\item 62.2\n",
       "\\item 62.2\n",
       "\\item 63.5\n",
       "\\item 64\n",
       "\\item 66.9\n",
       "\\item 70\n",
       "\\item 75\n",
       "\\item 80\n",
       "\\end{enumerate*}\n"
      ],
      "text/markdown": [
       "1. 47.4\n",
       "2. 58.7\n",
       "3. 62.2\n",
       "4. 62.2\n",
       "5. 63.5\n",
       "6. 64\n",
       "7. 66.9\n",
       "8. 70\n",
       "9. 75\n",
       "10. 80\n",
       "\n",
       "\n"
      ],
      "text/plain": [
       " [1] 47.4 58.7 62.2 62.2 63.5 64.0 66.9 70.0 75.0 80.0"
      ]
     },
     "metadata": {},
     "output_type": "display_data"
    }
   ],
   "source": [
    "#4分位数是百分位数中较常用的，有0.75和0.25\n",
    "x<- c(75, 64, 47.4, 66.9, 62.2, 62.2, 58.7, 63.5, 70,80)\n",
    "length(x)\n",
    "sort(x)"
   ]
  },
  {
   "cell_type": "code",
   "execution_count": 82,
   "id": "9af63c00",
   "metadata": {},
   "outputs": [
    {
     "data": {
      "text/html": [
       "<style>\n",
       ".dl-inline {width: auto; margin:0; padding: 0}\n",
       ".dl-inline>dt, .dl-inline>dd {float: none; width: auto; display: inline-block}\n",
       ".dl-inline>dt::after {content: \":\\0020\"; padding-right: .5ex}\n",
       ".dl-inline>dt:not(:first-of-type) {padding-left: .5ex}\n",
       "</style><dl class=dl-inline><dt>0%</dt><dd>47.4</dd><dt>25%</dt><dd>62.2</dd><dt>50%</dt><dd>63.75</dd><dt>75%</dt><dd>69.225</dd><dt>100%</dt><dd>80</dd></dl>\n"
      ],
      "text/latex": [
       "\\begin{description*}\n",
       "\\item[0\\textbackslash{}\\%] 47.4\n",
       "\\item[25\\textbackslash{}\\%] 62.2\n",
       "\\item[50\\textbackslash{}\\%] 63.75\n",
       "\\item[75\\textbackslash{}\\%] 69.225\n",
       "\\item[100\\textbackslash{}\\%] 80\n",
       "\\end{description*}\n"
      ],
      "text/markdown": [
       "0%\n",
       ":   47.425%\n",
       ":   62.250%\n",
       ":   63.7575%\n",
       ":   69.225100%\n",
       ":   80\n",
       "\n"
      ],
      "text/plain": [
       "    0%    25%    50%    75%   100% \n",
       "47.400 62.200 63.750 69.225 80.000 "
      ]
     },
     "metadata": {},
     "output_type": "display_data"
    }
   ],
   "source": [
    "quantile(x)"
   ]
  },
  {
   "cell_type": "code",
   "execution_count": 83,
   "id": "eda8b5ea",
   "metadata": {},
   "outputs": [
    {
     "data": {
      "text/html": [
       "8"
      ],
      "text/latex": [
       "8"
      ],
      "text/markdown": [
       "8"
      ],
      "text/plain": [
       "[1] 8"
      ]
     },
     "metadata": {},
     "output_type": "display_data"
    },
    {
     "data": {
      "text/html": [
       "<style>\n",
       ".list-inline {list-style: none; margin:0; padding: 0}\n",
       ".list-inline>li {display: inline-block}\n",
       ".list-inline>li:not(:last-child)::after {content: \"\\00b7\"; padding: 0 .5ex}\n",
       "</style>\n",
       "<ol class=list-inline><li>47.4</li><li>58.7</li><li>62.2</li><li>62.2</li><li>63.5</li><li>64</li><li>66.9</li><li>70</li></ol>\n"
      ],
      "text/latex": [
       "\\begin{enumerate*}\n",
       "\\item 47.4\n",
       "\\item 58.7\n",
       "\\item 62.2\n",
       "\\item 62.2\n",
       "\\item 63.5\n",
       "\\item 64\n",
       "\\item 66.9\n",
       "\\item 70\n",
       "\\end{enumerate*}\n"
      ],
      "text/markdown": [
       "1. 47.4\n",
       "2. 58.7\n",
       "3. 62.2\n",
       "4. 62.2\n",
       "5. 63.5\n",
       "6. 64\n",
       "7. 66.9\n",
       "8. 70\n",
       "\n",
       "\n"
      ],
      "text/plain": [
       "[1] 47.4 58.7 62.2 62.2 63.5 64.0 66.9 70.0"
      ]
     },
     "metadata": {},
     "output_type": "display_data"
    }
   ],
   "source": [
    "y<- c( 64, 47.4, 66.9, 62.2, 62.2, 58.7, 63.5, 70)\n",
    "length(y)\n",
    "sort(y)"
   ]
  },
  {
   "cell_type": "code",
   "execution_count": 84,
   "id": "e52b5e3d",
   "metadata": {},
   "outputs": [
    {
     "data": {
      "text/html": [
       "<style>\n",
       ".dl-inline {width: auto; margin:0; padding: 0}\n",
       ".dl-inline>dt, .dl-inline>dd {float: none; width: auto; display: inline-block}\n",
       ".dl-inline>dt::after {content: \":\\0020\"; padding-right: .5ex}\n",
       ".dl-inline>dt:not(:first-of-type) {padding-left: .5ex}\n",
       "</style><dl class=dl-inline><dt>0%</dt><dd>47.4</dd><dt>25%</dt><dd>61.325</dd><dt>50%</dt><dd>62.85</dd><dt>75%</dt><dd>64.725</dd><dt>100%</dt><dd>70</dd></dl>\n"
      ],
      "text/latex": [
       "\\begin{description*}\n",
       "\\item[0\\textbackslash{}\\%] 47.4\n",
       "\\item[25\\textbackslash{}\\%] 61.325\n",
       "\\item[50\\textbackslash{}\\%] 62.85\n",
       "\\item[75\\textbackslash{}\\%] 64.725\n",
       "\\item[100\\textbackslash{}\\%] 70\n",
       "\\end{description*}\n"
      ],
      "text/markdown": [
       "0%\n",
       ":   47.425%\n",
       ":   61.32550%\n",
       ":   62.8575%\n",
       ":   64.725100%\n",
       ":   70\n",
       "\n"
      ],
      "text/plain": [
       "    0%    25%    50%    75%   100% \n",
       "47.400 61.325 62.850 64.725 70.000 "
      ]
     },
     "metadata": {},
     "output_type": "display_data"
    }
   ],
   "source": [
    "quantile(y)"
   ]
  },
  {
   "cell_type": "code",
   "execution_count": 85,
   "id": "98985d3e",
   "metadata": {},
   "outputs": [
    {
     "data": {
      "text/html": [
       "<style>\n",
       ".dl-inline {width: auto; margin:0; padding: 0}\n",
       ".dl-inline>dt, .dl-inline>dd {float: none; width: auto; display: inline-block}\n",
       ".dl-inline>dt::after {content: \":\\0020\"; padding-right: .5ex}\n",
       ".dl-inline>dt:not(:first-of-type) {padding-left: .5ex}\n",
       "</style><dl class=dl-inline><dt>0%</dt><dd>47.4</dd><dt>20%</dt><dd>61.5</dd><dt>40%</dt><dd>62.98</dd><dt>60%</dt><dd>65.16</dd><dt>80%</dt><dd>71</dd></dl>\n"
      ],
      "text/latex": [
       "\\begin{description*}\n",
       "\\item[0\\textbackslash{}\\%] 47.4\n",
       "\\item[20\\textbackslash{}\\%] 61.5\n",
       "\\item[40\\textbackslash{}\\%] 62.98\n",
       "\\item[60\\textbackslash{}\\%] 65.16\n",
       "\\item[80\\textbackslash{}\\%] 71\n",
       "\\end{description*}\n"
      ],
      "text/markdown": [
       "0%\n",
       ":   47.420%\n",
       ":   61.540%\n",
       ":   62.9860%\n",
       ":   65.1680%\n",
       ":   71\n",
       "\n"
      ],
      "text/plain": [
       "   0%   20%   40%   60%   80% \n",
       "47.40 61.50 62.98 65.16 71.00 "
      ]
     },
     "metadata": {},
     "output_type": "display_data"
    }
   ],
   "source": [
    "#用quantile，计算其他百分位\n",
    "quantile(x, probs = c(0,0.2,0.4,0.6,0.8))"
   ]
  },
  {
   "cell_type": "code",
   "execution_count": null,
   "id": "6564549b",
   "metadata": {},
   "outputs": [],
   "source": []
  }
 ],
 "metadata": {
  "kernelspec": {
   "display_name": "R",
   "language": "R",
   "name": "ir"
  },
  "language_info": {
   "codemirror_mode": "r",
   "file_extension": ".r",
   "mimetype": "text/x-r-source",
   "name": "R",
   "pygments_lexer": "r",
   "version": "4.2.1"
  }
 },
 "nbformat": 4,
 "nbformat_minor": 5
}
