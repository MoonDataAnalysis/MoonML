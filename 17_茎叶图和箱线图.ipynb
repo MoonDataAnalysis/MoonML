{
 "cells": [
  {
   "cell_type": "markdown",
   "id": "3c39b3b8",
   "metadata": {},
   "source": [
    "# 茎叶图、箱线图"
   ]
  },
  {
   "cell_type": "code",
   "execution_count": null,
   "id": "ccefc1ad",
   "metadata": {},
   "outputs": [],
   "source": [
    "#茎叶图\n",
    "#与直方图比较，茎叶图更细致地看出数据分布结构"
   ]
  },
  {
   "cell_type": "code",
   "execution_count": 2,
   "id": "dfea5936",
   "metadata": {},
   "outputs": [
    {
     "data": {
      "text/html": [
       "<style>\n",
       ".list-inline {list-style: none; margin:0; padding: 0}\n",
       ".list-inline>li {display: inline-block}\n",
       ".list-inline>li:not(:last-child)::after {content: \"\\00b7\"; padding: 0 .5ex}\n",
       "</style>\n",
       "<ol class=list-inline><li>25</li><li>45</li><li>50</li><li>54</li><li>55</li><li>61</li><li>64</li><li>68</li><li>72</li><li>75</li><li>75</li><li>78</li><li>79</li><li>81</li><li>83</li><li>84</li><li>84</li><li>84</li><li>85</li><li>86</li><li>86</li><li>86</li><li>87</li><li>89</li><li>89</li><li>89</li><li>90</li><li>91</li><li>91</li><li>92</li><li>100</li></ol>\n"
      ],
      "text/latex": [
       "\\begin{enumerate*}\n",
       "\\item 25\n",
       "\\item 45\n",
       "\\item 50\n",
       "\\item 54\n",
       "\\item 55\n",
       "\\item 61\n",
       "\\item 64\n",
       "\\item 68\n",
       "\\item 72\n",
       "\\item 75\n",
       "\\item 75\n",
       "\\item 78\n",
       "\\item 79\n",
       "\\item 81\n",
       "\\item 83\n",
       "\\item 84\n",
       "\\item 84\n",
       "\\item 84\n",
       "\\item 85\n",
       "\\item 86\n",
       "\\item 86\n",
       "\\item 86\n",
       "\\item 87\n",
       "\\item 89\n",
       "\\item 89\n",
       "\\item 89\n",
       "\\item 90\n",
       "\\item 91\n",
       "\\item 91\n",
       "\\item 92\n",
       "\\item 100\n",
       "\\end{enumerate*}\n"
      ],
      "text/markdown": [
       "1. 25\n",
       "2. 45\n",
       "3. 50\n",
       "4. 54\n",
       "5. 55\n",
       "6. 61\n",
       "7. 64\n",
       "8. 68\n",
       "9. 72\n",
       "10. 75\n",
       "11. 75\n",
       "12. 78\n",
       "13. 79\n",
       "14. 81\n",
       "15. 83\n",
       "16. 84\n",
       "17. 84\n",
       "18. 84\n",
       "19. 85\n",
       "20. 86\n",
       "21. 86\n",
       "22. 86\n",
       "23. 87\n",
       "24. 89\n",
       "25. 89\n",
       "26. 89\n",
       "27. 90\n",
       "28. 91\n",
       "29. 91\n",
       "30. 92\n",
       "31. 100\n",
       "\n",
       "\n"
      ],
      "text/plain": [
       " [1]  25  45  50  54  55  61  64  68  72  75  75  78  79  81  83  84  84  84  85\n",
       "[20]  86  86  86  87  89  89  89  90  91  91  92 100"
      ]
     },
     "metadata": {},
     "output_type": "display_data"
    }
   ],
   "source": [
    "#例：某班有31名学生，考试成绩如下\n",
    " x<-c(25, 45, 50, 54, 55, 61, 64, 68, 72, 75, 75,\n",
    "      78, 79, 81, 83, 84, 84, 84, 85, 86, 86, 86,\n",
    "      87, 89, 89, 89, 90, 91, 91, 92, 100)\n",
    "x"
   ]
  },
  {
   "cell_type": "code",
   "execution_count": 3,
   "id": "9941623c",
   "metadata": {},
   "outputs": [
    {
     "name": "stdout",
     "output_type": "stream",
     "text": [
      "\n",
      "  The decimal point is 1 digit(s) to the right of the |\n",
      "\n",
      "   2 | 5\n",
      "   3 | \n",
      "   4 | 5\n",
      "   5 | 045\n",
      "   6 | 148\n",
      "   7 | 25589\n",
      "   8 | 1344456667999\n",
      "   9 | 0112\n",
      "  10 | 0\n",
      "\n"
     ]
    }
   ],
   "source": [
    "#使用stem函数\n",
    "stem(x)"
   ]
  },
  {
   "attachments": {
    "image.png": {
     "image/png": "[encoded data removed]"
    }
   },
   "cell_type": "markdown",
   "id": "84923159",
   "metadata": {},
   "source": [
    "垂线左手边是十分位，右手边是个位\n",
    "![image.png](attachment:image.png)\n",
    "\n",
    "stem(x, scale = 1, width = 80)\n",
    "其中，x是数据向量，  scale绘制茎叶图长度， width绘制宽度"
   ]
  },
  {
   "cell_type": "code",
   "execution_count": 4,
   "id": "6b2bdf1b",
   "metadata": {},
   "outputs": [
    {
     "data": {
      "image/png": "[encoded data removed]",
      "text/plain": [
       "plot without title"
      ]
     },
     "metadata": {
      "image/png": {
       "height": 420,
       "width": 420
      }
     },
     "output_type": "display_data"
    }
   ],
   "source": [
    "#箱线图\n",
    "boxplot(x)"
   ]
  },
  {
   "cell_type": "markdown",
   "id": "ad80ed57",
   "metadata": {},
   "source": [
    "上下四分位数确定箱体顶部和底部，箱体中间粗线是中位数，\n",
    "箱体向上向下伸出垂直部分表示散布范围，异常值用“o”表示\n",
    "\n",
    "boxplot使用形式有两种种：\n",
    "\n",
    "第一种，直接输入数值向量，或者数据框\n",
    "boxplot(x, ..., range = 1.5, width = NULL, varwidth = FALSE,\n",
    "notch = FALSE, outline = TRUE, names, plot = TRUE,\n",
    "border = par(\"fg\"), col = NULL, log = \"\",\n",
    "pars = list(boxwex = 0.8, staplewex = 0.5, outwex = 0.5),\n",
    "horizontal = FALSE, add = FALSE, at = NULL)\n",
    "其中，range设置Error范围， outline = FALSE,不标明异常值的点， \n",
    "notch = TRUE，则箱图带切口， horizontal=TRUE设置箱型图水平，\n",
    "add=TRUE，在原图上再画图，否则另起一张\n",
    "\n",
    "第二种：\n",
    "boxplot(formula, data = NULL, ..., subset, na.action = NULL)\n",
    "其中formula是公式， y~grp，  y是由数据构成的数值型向量， grp是数据的分组，\n",
    "data是数据\n",
    "\n"
   ]
  },
  {
   "cell_type": "code",
   "execution_count": 5,
   "id": "53f5f07d",
   "metadata": {},
   "outputs": [],
   "source": [
    "#方法1举例：\n",
    "A <- c(79.98, 80.04, 80.02, 80.04, 80.03, 80.03, 80.04,\n",
    "79.97, 80.05, 80.03, 80.02, 80.00, 80.02)\n",
    "\n",
    "B <- c(80.02, 79.94, 79.98, 79.97, 79.97, 80.03, 79.95,\n",
    "79.97)\n",
    "\n"
   ]
  },
  {
   "cell_type": "code",
   "execution_count": 6,
   "id": "e18e5541",
   "metadata": {},
   "outputs": [
    {
     "name": "stderr",
     "output_type": "stream",
     "text": [
      "Warning message in (function (z, notch = FALSE, width = NULL, varwidth = FALSE, :\n",
      "\"一些槽在折叶点外('box'): 可能是因为notch=FALSE\"\n"
     ]
    },
    {
     "data": {
      "image/png": "[encoded data removed]",
      "text/plain": [
       "plot without title"
      ]
     },
     "metadata": {
      "image/png": {
       "height": 420,
       "width": 420
      }
     },
     "output_type": "display_data"
    }
   ],
   "source": [
    "boxplot(A,B, notch = T, names = c('A','B'),col=c('red','blue'))"
   ]
  },
  {
   "cell_type": "code",
   "execution_count": 7,
   "id": "a7eb0f3f",
   "metadata": {},
   "outputs": [
    {
     "data": {
      "text/html": [
       "<table class=\"dataframe\">\n",
       "<caption>A data.frame: 10 × 2</caption>\n",
       "<thead>\n",
       "\t<tr><th></th><th scope=col>count</th><th scope=col>spray</th></tr>\n",
       "\t<tr><th></th><th scope=col>&lt;dbl&gt;</th><th scope=col>&lt;fct&gt;</th></tr>\n",
       "</thead>\n",
       "<tbody>\n",
       "\t<tr><th scope=row>1</th><td>10</td><td>A</td></tr>\n",
       "\t<tr><th scope=row>2</th><td> 7</td><td>A</td></tr>\n",
       "\t<tr><th scope=row>3</th><td>20</td><td>A</td></tr>\n",
       "\t<tr><th scope=row>4</th><td>14</td><td>A</td></tr>\n",
       "\t<tr><th scope=row>5</th><td>14</td><td>A</td></tr>\n",
       "\t<tr><th scope=row>6</th><td>12</td><td>A</td></tr>\n",
       "\t<tr><th scope=row>7</th><td>10</td><td>A</td></tr>\n",
       "\t<tr><th scope=row>8</th><td>23</td><td>A</td></tr>\n",
       "\t<tr><th scope=row>9</th><td>17</td><td>A</td></tr>\n",
       "\t<tr><th scope=row>10</th><td>20</td><td>A</td></tr>\n",
       "</tbody>\n",
       "</table>\n"
      ],
      "text/latex": [
       "A data.frame: 10 × 2\n",
       "\\begin{tabular}{r|ll}\n",
       "  & count & spray\\\\\n",
       "  & <dbl> & <fct>\\\\\n",
       "\\hline\n",
       "\t1 & 10 & A\\\\\n",
       "\t2 &  7 & A\\\\\n",
       "\t3 & 20 & A\\\\\n",
       "\t4 & 14 & A\\\\\n",
       "\t5 & 14 & A\\\\\n",
       "\t6 & 12 & A\\\\\n",
       "\t7 & 10 & A\\\\\n",
       "\t8 & 23 & A\\\\\n",
       "\t9 & 17 & A\\\\\n",
       "\t10 & 20 & A\\\\\n",
       "\\end{tabular}\n"
      ],
      "text/markdown": [
       "\n",
       "A data.frame: 10 × 2\n",
       "\n",
       "| <!--/--> | count &lt;dbl&gt; | spray &lt;fct&gt; |\n",
       "|---|---|---|\n",
       "| 1 | 10 | A |\n",
       "| 2 |  7 | A |\n",
       "| 3 | 20 | A |\n",
       "| 4 | 14 | A |\n",
       "| 5 | 14 | A |\n",
       "| 6 | 12 | A |\n",
       "| 7 | 10 | A |\n",
       "| 8 | 23 | A |\n",
       "| 9 | 17 | A |\n",
       "| 10 | 20 | A |\n",
       "\n"
      ],
      "text/plain": [
       "   count spray\n",
       "1  10    A    \n",
       "2   7    A    \n",
       "3  20    A    \n",
       "4  14    A    \n",
       "5  14    A    \n",
       "6  12    A    \n",
       "7  10    A    \n",
       "8  23    A    \n",
       "9  17    A    \n",
       "10 20    A    "
      ]
     },
     "metadata": {},
     "output_type": "display_data"
    }
   ],
   "source": [
    "head(InsectSprays,10)"
   ]
  },
  {
   "cell_type": "code",
   "execution_count": 8,
   "id": "755b5be6",
   "metadata": {},
   "outputs": [
    {
     "data": {
      "image/png": "[encoded data removed]",
      "text/plain": [
       "plot without title"
      ]
     },
     "metadata": {
      "image/png": {
       "height": 420,
       "width": 420
      }
     },
     "output_type": "display_data"
    }
   ],
   "source": [
    "boxplot(count ~ spray, data = InsectSprays, col = c(2:7))"
   ]
  },
  {
   "cell_type": "code",
   "execution_count": null,
   "id": "6f9112eb",
   "metadata": {},
   "outputs": [],
   "source": []
  }
 ],
 "metadata": {
  "kernelspec": {
   "display_name": "R",
   "language": "R",
   "name": "ir"
  },
  "language_info": {
   "codemirror_mode": "r",
   "file_extension": ".r",
   "mimetype": "text/x-r-source",
   "name": "R",
   "pygments_lexer": "r",
   "version": "4.2.1"
  }
 },
 "nbformat": 4,
 "nbformat_minor": 5
}
