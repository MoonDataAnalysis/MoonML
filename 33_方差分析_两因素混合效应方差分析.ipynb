{
 "cells": [
  {
   "cell_type": "markdown",
   "id": "13809185",
   "metadata": {},
   "source": [
    "# Mixed ANOVA\n",
    "\n",
    "1. 个体间差异：形成人与人的分组，每个个体对应一个组\n",
    "2. 个体内差异：每个个体对应多个因素水平，典型的例子是重复测量多次\n",
    "\n",
    "前提条件：\n",
    "1. 满足正态性\n",
    "2. 各组满足方差齐性\n",
    "3. 不同组的个体内变异一致(Mauchly’s test 球形检验)："
   ]
  },
  {
   "cell_type": "markdown",
   "id": "bc66cdf6",
   "metadata": {},
   "source": [
    "### 两因素混合方差分析：一个个体间因素，一个个体内因素"
   ]
  },
  {
   "cell_type": "code",
   "execution_count": 1,
   "id": "a98435d2",
   "metadata": {},
   "outputs": [
    {
     "name": "stderr",
     "output_type": "stream",
     "text": [
      "Warning message:\n",
      "\"程辑包'tidyverse'是用R版本4.2.2 来建造的\"\n",
      "-- \u001b[1mAttaching packages\u001b[22m ------------------------------------------------------------------------------- tidyverse 1.3.2 --\n",
      "\u001b[32mv\u001b[39m \u001b[34mggplot2\u001b[39m 3.4.0      \u001b[32mv\u001b[39m \u001b[34mpurrr  \u001b[39m 0.3.5 \n",
      "\u001b[32mv\u001b[39m \u001b[34mtibble \u001b[39m 3.1.8      \u001b[32mv\u001b[39m \u001b[34mdplyr  \u001b[39m 1.0.10\n",
      "\u001b[32mv\u001b[39m \u001b[34mtidyr  \u001b[39m 1.2.1      \u001b[32mv\u001b[39m \u001b[34mstringr\u001b[39m 1.4.1 \n",
      "\u001b[32mv\u001b[39m \u001b[34mreadr  \u001b[39m 2.1.3      \u001b[32mv\u001b[39m \u001b[34mforcats\u001b[39m 0.5.2 \n",
      "Warning message:\n",
      "\"程辑包'ggplot2'是用R版本4.2.2 来建造的\"\n",
      "Warning message:\n",
      "\"程辑包'readr'是用R版本4.2.2 来建造的\"\n",
      "Warning message:\n",
      "\"程辑包'forcats'是用R版本4.2.2 来建造的\"\n",
      "-- \u001b[1mConflicts\u001b[22m ---------------------------------------------------------------------------------- tidyverse_conflicts() --\n",
      "\u001b[31mx\u001b[39m \u001b[34mdplyr\u001b[39m::\u001b[32mfilter()\u001b[39m masks \u001b[34mstats\u001b[39m::filter()\n",
      "\u001b[31mx\u001b[39m \u001b[34mdplyr\u001b[39m::\u001b[32mlag()\u001b[39m    masks \u001b[34mstats\u001b[39m::lag()\n",
      "Warning message:\n",
      "\"程辑包'ggpubr'是用R版本4.2.2 来建造的\"\n",
      "Warning message:\n",
      "\"程辑包'rstatix'是用R版本4.2.2 来建造的\"\n",
      "\n",
      "载入程辑包：'rstatix'\n",
      "\n",
      "\n",
      "The following object is masked from 'package:stats':\n",
      "\n",
      "    filter\n",
      "\n",
      "\n"
     ]
    }
   ],
   "source": [
    "#推荐使用rstatix的anova_test()函数\n",
    "library(tidyverse)\n",
    "library(ggpubr)\n",
    "library(rstatix)"
   ]
  },
  {
   "cell_type": "code",
   "execution_count": 2,
   "id": "f91a5571",
   "metadata": {},
   "outputs": [
    {
     "data": {
      "text/html": [
       "<table class=\"dataframe\">\n",
       "<caption>A tibble: 6 × 5</caption>\n",
       "<thead>\n",
       "\t<tr><th scope=col>id</th><th scope=col>group</th><th scope=col>t1</th><th scope=col>t2</th><th scope=col>t3</th></tr>\n",
       "\t<tr><th scope=col>&lt;fct&gt;</th><th scope=col>&lt;fct&gt;</th><th scope=col>&lt;dbl&gt;</th><th scope=col>&lt;dbl&gt;</th><th scope=col>&lt;dbl&gt;</th></tr>\n",
       "</thead>\n",
       "<tbody>\n",
       "\t<tr><td>1</td><td>grp1</td><td>14.1</td><td>14.4</td><td>14.1</td></tr>\n",
       "\t<tr><td>2</td><td>grp1</td><td>14.5</td><td>14.6</td><td>14.3</td></tr>\n",
       "\t<tr><td>3</td><td>grp1</td><td>15.7</td><td>15.2</td><td>14.9</td></tr>\n",
       "\t<tr><td>4</td><td>grp1</td><td>16.0</td><td>15.5</td><td>15.3</td></tr>\n",
       "\t<tr><td>5</td><td>grp1</td><td>16.5</td><td>15.8</td><td>15.7</td></tr>\n",
       "\t<tr><td>6</td><td>grp1</td><td>16.9</td><td>16.5</td><td>16.2</td></tr>\n",
       "</tbody>\n",
       "</table>\n"
      ],
      "text/latex": [
       "A tibble: 6 × 5\n",
       "\\begin{tabular}{lllll}\n",
       " id & group & t1 & t2 & t3\\\\\n",
       " <fct> & <fct> & <dbl> & <dbl> & <dbl>\\\\\n",
       "\\hline\n",
       "\t 1 & grp1 & 14.1 & 14.4 & 14.1\\\\\n",
       "\t 2 & grp1 & 14.5 & 14.6 & 14.3\\\\\n",
       "\t 3 & grp1 & 15.7 & 15.2 & 14.9\\\\\n",
       "\t 4 & grp1 & 16.0 & 15.5 & 15.3\\\\\n",
       "\t 5 & grp1 & 16.5 & 15.8 & 15.7\\\\\n",
       "\t 6 & grp1 & 16.9 & 16.5 & 16.2\\\\\n",
       "\\end{tabular}\n"
      ],
      "text/markdown": [
       "\n",
       "A tibble: 6 × 5\n",
       "\n",
       "| id &lt;fct&gt; | group &lt;fct&gt; | t1 &lt;dbl&gt; | t2 &lt;dbl&gt; | t3 &lt;dbl&gt; |\n",
       "|---|---|---|---|---|\n",
       "| 1 | grp1 | 14.1 | 14.4 | 14.1 |\n",
       "| 2 | grp1 | 14.5 | 14.6 | 14.3 |\n",
       "| 3 | grp1 | 15.7 | 15.2 | 14.9 |\n",
       "| 4 | grp1 | 16.0 | 15.5 | 15.3 |\n",
       "| 5 | grp1 | 16.5 | 15.8 | 15.7 |\n",
       "| 6 | grp1 | 16.9 | 16.5 | 16.2 |\n",
       "\n"
      ],
      "text/plain": [
       "  id group t1   t2   t3  \n",
       "1 1  grp1  14.1 14.4 14.1\n",
       "2 2  grp1  14.5 14.6 14.3\n",
       "3 3  grp1  15.7 15.2 14.9\n",
       "4 4  grp1  16.0 15.5 15.3\n",
       "5 5  grp1  16.5 15.8 15.7\n",
       "6 6  grp1  16.9 16.5 16.2"
      ]
     },
     "metadata": {},
     "output_type": "display_data"
    }
   ],
   "source": [
    "#举例：一群人根据体育锻炼水平分三组（低，中，高），\n",
    "#测他们焦虑情况三次（锻炼前，中，后），欲了解锻炼水平和测验时间对焦虑测量的影响\n",
    "data(\"anxiety\", package = \"datarium\")\n",
    "head(anxiety)"
   ]
  },
  {
   "cell_type": "code",
   "execution_count": 3,
   "id": "afa735f4",
   "metadata": {},
   "outputs": [],
   "source": [
    "# 宽数据转长数据\n",
    "anxiety <- anxiety %>%\n",
    "  gather(key = \"time\", value = \"score\",t1,t2,t3) %>%\n",
    "  convert_as_factor(id, time) \n",
    "\n"
   ]
  },
  {
   "cell_type": "code",
   "execution_count": 4,
   "id": "baf78975",
   "metadata": {},
   "outputs": [
    {
     "data": {
      "text/html": [
       "<table class=\"dataframe\">\n",
       "<caption>A tibble: 6 × 4</caption>\n",
       "<thead>\n",
       "\t<tr><th scope=col>id</th><th scope=col>group</th><th scope=col>time</th><th scope=col>score</th></tr>\n",
       "\t<tr><th scope=col>&lt;fct&gt;</th><th scope=col>&lt;fct&gt;</th><th scope=col>&lt;fct&gt;</th><th scope=col>&lt;dbl&gt;</th></tr>\n",
       "</thead>\n",
       "<tbody>\n",
       "\t<tr><td>1</td><td>grp1</td><td>t1</td><td>14.1</td></tr>\n",
       "\t<tr><td>2</td><td>grp1</td><td>t1</td><td>14.5</td></tr>\n",
       "\t<tr><td>3</td><td>grp1</td><td>t1</td><td>15.7</td></tr>\n",
       "\t<tr><td>4</td><td>grp1</td><td>t1</td><td>16.0</td></tr>\n",
       "\t<tr><td>5</td><td>grp1</td><td>t1</td><td>16.5</td></tr>\n",
       "\t<tr><td>6</td><td>grp1</td><td>t1</td><td>16.9</td></tr>\n",
       "</tbody>\n",
       "</table>\n"
      ],
      "text/latex": [
       "A tibble: 6 × 4\n",
       "\\begin{tabular}{llll}\n",
       " id & group & time & score\\\\\n",
       " <fct> & <fct> & <fct> & <dbl>\\\\\n",
       "\\hline\n",
       "\t 1 & grp1 & t1 & 14.1\\\\\n",
       "\t 2 & grp1 & t1 & 14.5\\\\\n",
       "\t 3 & grp1 & t1 & 15.7\\\\\n",
       "\t 4 & grp1 & t1 & 16.0\\\\\n",
       "\t 5 & grp1 & t1 & 16.5\\\\\n",
       "\t 6 & grp1 & t1 & 16.9\\\\\n",
       "\\end{tabular}\n"
      ],
      "text/markdown": [
       "\n",
       "A tibble: 6 × 4\n",
       "\n",
       "| id &lt;fct&gt; | group &lt;fct&gt; | time &lt;fct&gt; | score &lt;dbl&gt; |\n",
       "|---|---|---|---|\n",
       "| 1 | grp1 | t1 | 14.1 |\n",
       "| 2 | grp1 | t1 | 14.5 |\n",
       "| 3 | grp1 | t1 | 15.7 |\n",
       "| 4 | grp1 | t1 | 16.0 |\n",
       "| 5 | grp1 | t1 | 16.5 |\n",
       "| 6 | grp1 | t1 | 16.9 |\n",
       "\n"
      ],
      "text/plain": [
       "  id group time score\n",
       "1 1  grp1  t1   14.1 \n",
       "2 2  grp1  t1   14.5 \n",
       "3 3  grp1  t1   15.7 \n",
       "4 4  grp1  t1   16.0 \n",
       "5 5  grp1  t1   16.5 \n",
       "6 6  grp1  t1   16.9 "
      ]
     },
     "metadata": {},
     "output_type": "display_data"
    }
   ],
   "source": [
    "head(anxiety)"
   ]
  },
  {
   "cell_type": "code",
   "execution_count": 5,
   "id": "17c67a1d",
   "metadata": {},
   "outputs": [
    {
     "data": {
      "image/png": "[encoded data removed]",
      "text/plain": [
       "plot without title"
      ]
     },
     "metadata": {
      "image/png": {
       "height": 420,
       "width": 420
      }
     },
     "output_type": "display_data"
    }
   ],
   "source": [
    "ggboxplot(\n",
    "  anxiety, x = \"time\", y = \"score\",\n",
    "  color = \"group\", palette = \"jco\"\n",
    "  )\n"
   ]
  },
  {
   "cell_type": "code",
   "execution_count": 6,
   "id": "f2b5d50e",
   "metadata": {},
   "outputs": [
    {
     "data": {
      "text/html": [
       "<table class=\"dataframe\">\n",
       "<caption>A tibble: 9 × 5</caption>\n",
       "<thead>\n",
       "\t<tr><th scope=col>group</th><th scope=col>time</th><th scope=col>variable</th><th scope=col>statistic</th><th scope=col>p</th></tr>\n",
       "\t<tr><th scope=col>&lt;fct&gt;</th><th scope=col>&lt;fct&gt;</th><th scope=col>&lt;chr&gt;</th><th scope=col>&lt;dbl&gt;</th><th scope=col>&lt;dbl&gt;</th></tr>\n",
       "</thead>\n",
       "<tbody>\n",
       "\t<tr><td>grp1</td><td>t1</td><td>score</td><td>0.9644384</td><td>0.7689109</td></tr>\n",
       "\t<tr><td>grp2</td><td>t1</td><td>score</td><td>0.9774363</td><td>0.9489758</td></tr>\n",
       "\t<tr><td>grp3</td><td>t1</td><td>score</td><td>0.9539227</td><td>0.5881991</td></tr>\n",
       "\t<tr><td>grp1</td><td>t2</td><td>score</td><td>0.9560505</td><td>0.6241596</td></tr>\n",
       "\t<tr><td>grp2</td><td>t2</td><td>score</td><td>0.9354260</td><td>0.3283178</td></tr>\n",
       "\t<tr><td>grp3</td><td>t2</td><td>score</td><td>0.9521172</td><td>0.5583945</td></tr>\n",
       "\t<tr><td>grp1</td><td>t3</td><td>score</td><td>0.9488300</td><td>0.5062152</td></tr>\n",
       "\t<tr><td>grp2</td><td>t3</td><td>score</td><td>0.9090953</td><td>0.1311525</td></tr>\n",
       "\t<tr><td>grp3</td><td>t3</td><td>score</td><td>0.9253666</td><td>0.2324214</td></tr>\n",
       "</tbody>\n",
       "</table>\n"
      ],
      "text/latex": [
       "A tibble: 9 × 5\n",
       "\\begin{tabular}{lllll}\n",
       " group & time & variable & statistic & p\\\\\n",
       " <fct> & <fct> & <chr> & <dbl> & <dbl>\\\\\n",
       "\\hline\n",
       "\t grp1 & t1 & score & 0.9644384 & 0.7689109\\\\\n",
       "\t grp2 & t1 & score & 0.9774363 & 0.9489758\\\\\n",
       "\t grp3 & t1 & score & 0.9539227 & 0.5881991\\\\\n",
       "\t grp1 & t2 & score & 0.9560505 & 0.6241596\\\\\n",
       "\t grp2 & t2 & score & 0.9354260 & 0.3283178\\\\\n",
       "\t grp3 & t2 & score & 0.9521172 & 0.5583945\\\\\n",
       "\t grp1 & t3 & score & 0.9488300 & 0.5062152\\\\\n",
       "\t grp2 & t3 & score & 0.9090953 & 0.1311525\\\\\n",
       "\t grp3 & t3 & score & 0.9253666 & 0.2324214\\\\\n",
       "\\end{tabular}\n"
      ],
      "text/markdown": [
       "\n",
       "A tibble: 9 × 5\n",
       "\n",
       "| group &lt;fct&gt; | time &lt;fct&gt; | variable &lt;chr&gt; | statistic &lt;dbl&gt; | p &lt;dbl&gt; |\n",
       "|---|---|---|---|---|\n",
       "| grp1 | t1 | score | 0.9644384 | 0.7689109 |\n",
       "| grp2 | t1 | score | 0.9774363 | 0.9489758 |\n",
       "| grp3 | t1 | score | 0.9539227 | 0.5881991 |\n",
       "| grp1 | t2 | score | 0.9560505 | 0.6241596 |\n",
       "| grp2 | t2 | score | 0.9354260 | 0.3283178 |\n",
       "| grp3 | t2 | score | 0.9521172 | 0.5583945 |\n",
       "| grp1 | t3 | score | 0.9488300 | 0.5062152 |\n",
       "| grp2 | t3 | score | 0.9090953 | 0.1311525 |\n",
       "| grp3 | t3 | score | 0.9253666 | 0.2324214 |\n",
       "\n"
      ],
      "text/plain": [
       "  group time variable statistic p        \n",
       "1 grp1  t1   score    0.9644384 0.7689109\n",
       "2 grp2  t1   score    0.9774363 0.9489758\n",
       "3 grp3  t1   score    0.9539227 0.5881991\n",
       "4 grp1  t2   score    0.9560505 0.6241596\n",
       "5 grp2  t2   score    0.9354260 0.3283178\n",
       "6 grp3  t2   score    0.9521172 0.5583945\n",
       "7 grp1  t3   score    0.9488300 0.5062152\n",
       "8 grp2  t3   score    0.9090953 0.1311525\n",
       "9 grp3  t3   score    0.9253666 0.2324214"
      ]
     },
     "metadata": {},
     "output_type": "display_data"
    }
   ],
   "source": [
    "#检验正态性\n",
    "\n",
    "anxiety %>%\n",
    "  group_by(time, group) %>%\n",
    "  shapiro_test(score)"
   ]
  },
  {
   "cell_type": "code",
   "execution_count": 7,
   "id": "0ad86bc6",
   "metadata": {},
   "outputs": [
    {
     "data": {
      "text/plain": [
       "\n",
       "\tBartlett test of homogeneity of variances\n",
       "\n",
       "data:  score by group\n",
       "Bartlett's K-squared = 1.9311, df = 2, p-value = 0.3808\n"
      ]
     },
     "metadata": {},
     "output_type": "display_data"
    }
   ],
   "source": [
    "#检验方差齐性假设\n",
    "bartlett.test(score ~ group, data=anxiety)"
   ]
  },
  {
   "cell_type": "code",
   "execution_count": 8,
   "id": "b6472830",
   "metadata": {},
   "outputs": [
    {
     "data": {
      "text/html": [
       "<table class=\"dataframe\">\n",
       "<caption>A anova_test: 3 × 7</caption>\n",
       "<thead>\n",
       "\t<tr><th></th><th scope=col>Effect</th><th scope=col>DFn</th><th scope=col>DFd</th><th scope=col>F</th><th scope=col>p</th><th scope=col>p&lt;.05</th><th scope=col>ges</th></tr>\n",
       "\t<tr><th></th><th scope=col>&lt;chr&gt;</th><th scope=col>&lt;dbl&gt;</th><th scope=col>&lt;dbl&gt;</th><th scope=col>&lt;dbl&gt;</th><th scope=col>&lt;dbl&gt;</th><th scope=col>&lt;chr&gt;</th><th scope=col>&lt;dbl&gt;</th></tr>\n",
       "</thead>\n",
       "<tbody>\n",
       "\t<tr><th scope=row>1</th><td>group     </td><td>2</td><td>42</td><td>  4.352</td><td>1.90e-02</td><td>*</td><td>0.168</td></tr>\n",
       "\t<tr><th scope=row>2</th><td>time      </td><td>2</td><td>84</td><td>394.909</td><td>1.91e-43</td><td>*</td><td>0.179</td></tr>\n",
       "\t<tr><th scope=row>3</th><td>group:time</td><td>4</td><td>84</td><td>110.188</td><td>1.38e-32</td><td>*</td><td>0.108</td></tr>\n",
       "</tbody>\n",
       "</table>\n"
      ],
      "text/latex": [
       "A anova\\_test: 3 × 7\n",
       "\\begin{tabular}{r|lllllll}\n",
       "  & Effect & DFn & DFd & F & p & p<.05 & ges\\\\\n",
       "  & <chr> & <dbl> & <dbl> & <dbl> & <dbl> & <chr> & <dbl>\\\\\n",
       "\\hline\n",
       "\t1 & group      & 2 & 42 &   4.352 & 1.90e-02 & * & 0.168\\\\\n",
       "\t2 & time       & 2 & 84 & 394.909 & 1.91e-43 & * & 0.179\\\\\n",
       "\t3 & group:time & 4 & 84 & 110.188 & 1.38e-32 & * & 0.108\\\\\n",
       "\\end{tabular}\n"
      ],
      "text/markdown": [
       "\n",
       "A anova_test: 3 × 7\n",
       "\n",
       "| <!--/--> | Effect &lt;chr&gt; | DFn &lt;dbl&gt; | DFd &lt;dbl&gt; | F &lt;dbl&gt; | p &lt;dbl&gt; | p&lt;.05 &lt;chr&gt; | ges &lt;dbl&gt; |\n",
       "|---|---|---|---|---|---|---|---|\n",
       "| 1 | group      | 2 | 42 |   4.352 | 1.90e-02 | * | 0.168 |\n",
       "| 2 | time       | 2 | 84 | 394.909 | 1.91e-43 | * | 0.179 |\n",
       "| 3 | group:time | 4 | 84 | 110.188 | 1.38e-32 | * | 0.108 |\n",
       "\n"
      ],
      "text/plain": [
       "  Effect     DFn DFd F       p        p<.05 ges  \n",
       "1 group      2   42    4.352 1.90e-02 *     0.168\n",
       "2 time       2   84  394.909 1.91e-43 *     0.179\n",
       "3 group:time 4   84  110.188 1.38e-32 *     0.108"
      ]
     },
     "metadata": {},
     "output_type": "display_data"
    }
   ],
   "source": [
    "#nova_test()会直接返回球形检验结果\n",
    "res.aov <- anova_test(\n",
    "  data = anxiety, dv = score, wid = id,\n",
    "  between = group, within = time\n",
    "  )\n",
    "get_anova_table(res.aov)"
   ]
  },
  {
   "cell_type": "code",
   "execution_count": 9,
   "id": "2c065a68",
   "metadata": {},
   "outputs": [
    {
     "data": {
      "text/html": [
       "<dl>\n",
       "\t<dt>$ANOVA</dt>\n",
       "\t\t<dd><table class=\"dataframe\">\n",
       "<caption>A data.frame: 3 × 7</caption>\n",
       "<thead>\n",
       "\t<tr><th scope=col>Effect</th><th scope=col>DFn</th><th scope=col>DFd</th><th scope=col>F</th><th scope=col>p</th><th scope=col>p&lt;.05</th><th scope=col>ges</th></tr>\n",
       "\t<tr><th scope=col>&lt;chr&gt;</th><th scope=col>&lt;dbl&gt;</th><th scope=col>&lt;dbl&gt;</th><th scope=col>&lt;dbl&gt;</th><th scope=col>&lt;dbl&gt;</th><th scope=col>&lt;chr&gt;</th><th scope=col>&lt;dbl&gt;</th></tr>\n",
       "</thead>\n",
       "<tbody>\n",
       "\t<tr><td>group     </td><td>2</td><td>42</td><td>  4.352</td><td>1.90e-02</td><td>*</td><td>0.168</td></tr>\n",
       "\t<tr><td>time      </td><td>2</td><td>84</td><td>394.909</td><td>1.91e-43</td><td>*</td><td>0.179</td></tr>\n",
       "\t<tr><td>group:time</td><td>4</td><td>84</td><td>110.188</td><td>1.38e-32</td><td>*</td><td>0.108</td></tr>\n",
       "</tbody>\n",
       "</table>\n",
       "</dd>\n",
       "\t<dt>$`Mauchly's Test for Sphericity`</dt>\n",
       "\t\t<dd><table class=\"dataframe\">\n",
       "<caption>A data.frame: 2 × 4</caption>\n",
       "<thead>\n",
       "\t<tr><th></th><th scope=col>Effect</th><th scope=col>W</th><th scope=col>p</th><th scope=col>p&lt;.05</th></tr>\n",
       "\t<tr><th></th><th scope=col>&lt;chr&gt;</th><th scope=col>&lt;dbl&gt;</th><th scope=col>&lt;dbl&gt;</th><th scope=col>&lt;chr&gt;</th></tr>\n",
       "</thead>\n",
       "<tbody>\n",
       "\t<tr><th scope=row>1</th><td>time      </td><td>0.884</td><td>0.079</td><td></td></tr>\n",
       "\t<tr><th scope=row>2</th><td>group:time</td><td>0.884</td><td>0.079</td><td></td></tr>\n",
       "</tbody>\n",
       "</table>\n",
       "</dd>\n",
       "\t<dt>$`Sphericity Corrections`</dt>\n",
       "\t\t<dd><table class=\"dataframe\">\n",
       "<caption>A data.frame: 2 × 9</caption>\n",
       "<thead>\n",
       "\t<tr><th scope=col>Effect</th><th scope=col>GGe</th><th scope=col>DF[GG]</th><th scope=col>p[GG]</th><th scope=col>p[GG]&lt;.05</th><th scope=col>HFe</th><th scope=col>DF[HF]</th><th scope=col>p[HF]</th><th scope=col>p[HF]&lt;.05</th></tr>\n",
       "\t<tr><th scope=col>&lt;chr&gt;</th><th scope=col>&lt;dbl&gt;</th><th scope=col>&lt;chr&gt;</th><th scope=col>&lt;dbl&gt;</th><th scope=col>&lt;chr&gt;</th><th scope=col>&lt;dbl&gt;</th><th scope=col>&lt;chr&gt;</th><th scope=col>&lt;dbl&gt;</th><th scope=col>&lt;chr&gt;</th></tr>\n",
       "</thead>\n",
       "<tbody>\n",
       "\t<tr><td>time      </td><td>0.896</td><td>1.79, 75.24</td><td>3.48e-39</td><td>*</td><td>0.933</td><td>1.87, 78.38</td><td>1.04e-40</td><td>*</td></tr>\n",
       "\t<tr><td>group:time</td><td>0.896</td><td>3.58, 75.24</td><td>1.97e-29</td><td>*</td><td>0.933</td><td>3.73, 78.38</td><td>1.46e-30</td><td>*</td></tr>\n",
       "</tbody>\n",
       "</table>\n",
       "</dd>\n",
       "</dl>\n"
      ],
      "text/latex": [
       "\\begin{description}\n",
       "\\item[\\$ANOVA] A data.frame: 3 × 7\n",
       "\\begin{tabular}{lllllll}\n",
       " Effect & DFn & DFd & F & p & p<.05 & ges\\\\\n",
       " <chr> & <dbl> & <dbl> & <dbl> & <dbl> & <chr> & <dbl>\\\\\n",
       "\\hline\n",
       "\t group      & 2 & 42 &   4.352 & 1.90e-02 & * & 0.168\\\\\n",
       "\t time       & 2 & 84 & 394.909 & 1.91e-43 & * & 0.179\\\\\n",
       "\t group:time & 4 & 84 & 110.188 & 1.38e-32 & * & 0.108\\\\\n",
       "\\end{tabular}\n",
       "\n",
       "\\item[\\$`Mauchly's Test for Sphericity`] A data.frame: 2 × 4\n",
       "\\begin{tabular}{r|llll}\n",
       "  & Effect & W & p & p<.05\\\\\n",
       "  & <chr> & <dbl> & <dbl> & <chr>\\\\\n",
       "\\hline\n",
       "\t1 & time       & 0.884 & 0.079 & \\\\\n",
       "\t2 & group:time & 0.884 & 0.079 & \\\\\n",
       "\\end{tabular}\n",
       "\n",
       "\\item[\\$`Sphericity Corrections`] A data.frame: 2 × 9\n",
       "\\begin{tabular}{lllllllll}\n",
       " Effect & GGe & DF{[}GG{]} & p{[}GG{]} & p{[}GG{]}<.05 & HFe & DF{[}HF{]} & p{[}HF{]} & p{[}HF{]}<.05\\\\\n",
       " <chr> & <dbl> & <chr> & <dbl> & <chr> & <dbl> & <chr> & <dbl> & <chr>\\\\\n",
       "\\hline\n",
       "\t time       & 0.896 & 1.79, 75.24 & 3.48e-39 & * & 0.933 & 1.87, 78.38 & 1.04e-40 & *\\\\\n",
       "\t group:time & 0.896 & 3.58, 75.24 & 1.97e-29 & * & 0.933 & 3.73, 78.38 & 1.46e-30 & *\\\\\n",
       "\\end{tabular}\n",
       "\n",
       "\\end{description}\n"
      ],
      "text/markdown": [
       "$ANOVA\n",
       ":   \n",
       "A data.frame: 3 × 7\n",
       "\n",
       "| Effect &lt;chr&gt; | DFn &lt;dbl&gt; | DFd &lt;dbl&gt; | F &lt;dbl&gt; | p &lt;dbl&gt; | p&lt;.05 &lt;chr&gt; | ges &lt;dbl&gt; |\n",
       "|---|---|---|---|---|---|---|\n",
       "| group      | 2 | 42 |   4.352 | 1.90e-02 | * | 0.168 |\n",
       "| time       | 2 | 84 | 394.909 | 1.91e-43 | * | 0.179 |\n",
       "| group:time | 4 | 84 | 110.188 | 1.38e-32 | * | 0.108 |\n",
       "\n",
       "\n",
       "$`Mauchly's Test for Sphericity`\n",
       ":   \n",
       "A data.frame: 2 × 4\n",
       "\n",
       "| <!--/--> | Effect &lt;chr&gt; | W &lt;dbl&gt; | p &lt;dbl&gt; | p&lt;.05 &lt;chr&gt; |\n",
       "|---|---|---|---|---|\n",
       "| 1 | time       | 0.884 | 0.079 | <!----> |\n",
       "| 2 | group:time | 0.884 | 0.079 | <!----> |\n",
       "\n",
       "\n",
       "$`Sphericity Corrections`\n",
       ":   \n",
       "A data.frame: 2 × 9\n",
       "\n",
       "| Effect &lt;chr&gt; | GGe &lt;dbl&gt; | DF[GG] &lt;chr&gt; | p[GG] &lt;dbl&gt; | p[GG]&lt;.05 &lt;chr&gt; | HFe &lt;dbl&gt; | DF[HF] &lt;chr&gt; | p[HF] &lt;dbl&gt; | p[HF]&lt;.05 &lt;chr&gt; |\n",
       "|---|---|---|---|---|---|---|---|---|\n",
       "| time       | 0.896 | 1.79, 75.24 | 3.48e-39 | * | 0.933 | 1.87, 78.38 | 1.04e-40 | * |\n",
       "| group:time | 0.896 | 3.58, 75.24 | 1.97e-29 | * | 0.933 | 3.73, 78.38 | 1.46e-30 | * |\n",
       "\n",
       "\n",
       "\n",
       "\n"
      ],
      "text/plain": [
       "ANOVA Table (type II tests)\n",
       "\n",
       "$ANOVA\n",
       "      Effect DFn DFd       F        p p<.05   ges\n",
       "1      group   2  42   4.352 1.90e-02     * 0.168\n",
       "2       time   2  84 394.909 1.91e-43     * 0.179\n",
       "3 group:time   4  84 110.188 1.38e-32     * 0.108\n",
       "\n",
       "$`Mauchly's Test for Sphericity`\n",
       "      Effect     W     p p<.05\n",
       "1       time 0.884 0.079      \n",
       "2 group:time 0.884 0.079      \n",
       "\n",
       "$`Sphericity Corrections`\n",
       "      Effect   GGe      DF[GG]    p[GG] p[GG]<.05   HFe      DF[HF]    p[HF]\n",
       "1       time 0.896 1.79, 75.24 3.48e-39         * 0.933 1.87, 78.38 1.04e-40\n",
       "2 group:time 0.896 3.58, 75.24 1.97e-29         * 0.933 3.73, 78.38 1.46e-30\n",
       "  p[HF]<.05\n",
       "1         *\n",
       "2         *\n"
      ]
     },
     "metadata": {},
     "output_type": "display_data"
    }
   ],
   "source": [
    "#使用anova_test()自动给到球形检验结果\n",
    "res.aov"
   ]
  },
  {
   "cell_type": "code",
   "execution_count": 10,
   "id": "72f948f7",
   "metadata": {},
   "outputs": [
    {
     "data": {
      "text/html": [
       "<table class=\"dataframe\">\n",
       "<caption>A anova_test: 3 × 7</caption>\n",
       "<thead>\n",
       "\t<tr><th></th><th scope=col>Effect</th><th scope=col>DFn</th><th scope=col>DFd</th><th scope=col>F</th><th scope=col>p</th><th scope=col>p&lt;.05</th><th scope=col>ges</th></tr>\n",
       "\t<tr><th></th><th scope=col>&lt;chr&gt;</th><th scope=col>&lt;dbl&gt;</th><th scope=col>&lt;dbl&gt;</th><th scope=col>&lt;dbl&gt;</th><th scope=col>&lt;dbl&gt;</th><th scope=col>&lt;chr&gt;</th><th scope=col>&lt;dbl&gt;</th></tr>\n",
       "</thead>\n",
       "<tbody>\n",
       "\t<tr><th scope=row>1</th><td>group     </td><td>2</td><td>42</td><td>  4.352</td><td>1.90e-02</td><td>*</td><td>0.168</td></tr>\n",
       "\t<tr><th scope=row>2</th><td>time      </td><td>2</td><td>84</td><td>394.909</td><td>1.91e-43</td><td>*</td><td>0.179</td></tr>\n",
       "\t<tr><th scope=row>3</th><td>group:time</td><td>4</td><td>84</td><td>110.188</td><td>1.38e-32</td><td>*</td><td>0.108</td></tr>\n",
       "</tbody>\n",
       "</table>\n"
      ],
      "text/latex": [
       "A anova\\_test: 3 × 7\n",
       "\\begin{tabular}{r|lllllll}\n",
       "  & Effect & DFn & DFd & F & p & p<.05 & ges\\\\\n",
       "  & <chr> & <dbl> & <dbl> & <dbl> & <dbl> & <chr> & <dbl>\\\\\n",
       "\\hline\n",
       "\t1 & group      & 2 & 42 &   4.352 & 1.90e-02 & * & 0.168\\\\\n",
       "\t2 & time       & 2 & 84 & 394.909 & 1.91e-43 & * & 0.179\\\\\n",
       "\t3 & group:time & 4 & 84 & 110.188 & 1.38e-32 & * & 0.108\\\\\n",
       "\\end{tabular}\n"
      ],
      "text/markdown": [
       "\n",
       "A anova_test: 3 × 7\n",
       "\n",
       "| <!--/--> | Effect &lt;chr&gt; | DFn &lt;dbl&gt; | DFd &lt;dbl&gt; | F &lt;dbl&gt; | p &lt;dbl&gt; | p&lt;.05 &lt;chr&gt; | ges &lt;dbl&gt; |\n",
       "|---|---|---|---|---|---|---|---|\n",
       "| 1 | group      | 2 | 42 |   4.352 | 1.90e-02 | * | 0.168 |\n",
       "| 2 | time       | 2 | 84 | 394.909 | 1.91e-43 | * | 0.179 |\n",
       "| 3 | group:time | 4 | 84 | 110.188 | 1.38e-32 | * | 0.108 |\n",
       "\n"
      ],
      "text/plain": [
       "  Effect     DFn DFd F       p        p<.05 ges  \n",
       "1 group      2   42    4.352 1.90e-02 *     0.168\n",
       "2 time       2   84  394.909 1.91e-43 *     0.179\n",
       "3 group:time 4   84  110.188 1.38e-32 *     0.108"
      ]
     },
     "metadata": {},
     "output_type": "display_data"
    }
   ],
   "source": [
    "#主效应结果\n",
    "get_anova_table(res.aov)"
   ]
  },
  {
   "cell_type": "code",
   "execution_count": 11,
   "id": "1f618e9b",
   "metadata": {},
   "outputs": [
    {
     "data": {
      "text/html": [
       "<table class=\"dataframe\">\n",
       "<caption>A grouped_anova_test: 3 × 8</caption>\n",
       "<thead>\n",
       "\t<tr><th></th><th scope=col>time</th><th scope=col>Effect</th><th scope=col>DFn</th><th scope=col>DFd</th><th scope=col>F</th><th scope=col>p</th><th scope=col>p&lt;.05</th><th scope=col>ges</th></tr>\n",
       "\t<tr><th></th><th scope=col>&lt;fct&gt;</th><th scope=col>&lt;chr&gt;</th><th scope=col>&lt;dbl&gt;</th><th scope=col>&lt;dbl&gt;</th><th scope=col>&lt;dbl&gt;</th><th scope=col>&lt;dbl&gt;</th><th scope=col>&lt;chr&gt;</th><th scope=col>&lt;dbl&gt;</th></tr>\n",
       "</thead>\n",
       "<tbody>\n",
       "\t<tr><th scope=row>1</th><td>t1</td><td>group</td><td>2</td><td>42</td><td> 0.365</td><td>6.96e-01</td><td> </td><td>0.017</td></tr>\n",
       "\t<tr><th scope=row>2</th><td>t2</td><td>group</td><td>2</td><td>42</td><td> 5.845</td><td>6.00e-03</td><td>*</td><td>0.218</td></tr>\n",
       "\t<tr><th scope=row>3</th><td>t3</td><td>group</td><td>2</td><td>42</td><td>13.796</td><td>2.48e-05</td><td>*</td><td>0.396</td></tr>\n",
       "</tbody>\n",
       "</table>\n"
      ],
      "text/latex": [
       "A grouped\\_anova\\_test: 3 × 8\n",
       "\\begin{tabular}{r|llllllll}\n",
       "  & time & Effect & DFn & DFd & F & p & p<.05 & ges\\\\\n",
       "  & <fct> & <chr> & <dbl> & <dbl> & <dbl> & <dbl> & <chr> & <dbl>\\\\\n",
       "\\hline\n",
       "\t1 & t1 & group & 2 & 42 &  0.365 & 6.96e-01 &   & 0.017\\\\\n",
       "\t2 & t2 & group & 2 & 42 &  5.845 & 6.00e-03 & * & 0.218\\\\\n",
       "\t3 & t3 & group & 2 & 42 & 13.796 & 2.48e-05 & * & 0.396\\\\\n",
       "\\end{tabular}\n"
      ],
      "text/markdown": [
       "\n",
       "A grouped_anova_test: 3 × 8\n",
       "\n",
       "| <!--/--> | time &lt;fct&gt; | Effect &lt;chr&gt; | DFn &lt;dbl&gt; | DFd &lt;dbl&gt; | F &lt;dbl&gt; | p &lt;dbl&gt; | p&lt;.05 &lt;chr&gt; | ges &lt;dbl&gt; |\n",
       "|---|---|---|---|---|---|---|---|---|\n",
       "| 1 | t1 | group | 2 | 42 |  0.365 | 6.96e-01 | <!----> | 0.017 |\n",
       "| 2 | t2 | group | 2 | 42 |  5.845 | 6.00e-03 | * | 0.218 |\n",
       "| 3 | t3 | group | 2 | 42 | 13.796 | 2.48e-05 | * | 0.396 |\n",
       "\n"
      ],
      "text/plain": [
       "  time Effect DFn DFd F      p        p<.05 ges  \n",
       "1 t1   group  2   42   0.365 6.96e-01       0.017\n",
       "2 t2   group  2   42   5.845 6.00e-03 *     0.218\n",
       "3 t3   group  2   42  13.796 2.48e-05 *     0.396"
      ]
     },
     "metadata": {},
     "output_type": "display_data"
    }
   ],
   "source": [
    "#控制Time简单效应结果\n",
    "anxiety %>%\n",
    "  group_by(time) %>%\n",
    "  anova_test(dv = score, wid = id, between = group) %>%\n",
    "  get_anova_table() "
   ]
  },
  {
   "cell_type": "code",
   "execution_count": 12,
   "id": "01e0337d",
   "metadata": {
    "scrolled": true
   },
   "outputs": [
    {
     "name": "stderr",
     "output_type": "stream",
     "text": [
      "Warning message:\n",
      "\"The 'wid' column contains duplicate ids across between-subjects variables. Automatic unique id will be created\"\n",
      "Warning message:\n",
      "\"The 'wid' column contains duplicate ids across between-subjects variables. Automatic unique id will be created\"\n",
      "Warning message:\n",
      "\"The 'wid' column contains duplicate ids across between-subjects variables. Automatic unique id will be created\"\n"
     ]
    },
    {
     "data": {
      "text/html": [
       "<table class=\"dataframe\">\n",
       "<caption>A grouped_anova_test: 3 × 8</caption>\n",
       "<thead>\n",
       "\t<tr><th></th><th scope=col>group</th><th scope=col>Effect</th><th scope=col>DFn</th><th scope=col>DFd</th><th scope=col>F</th><th scope=col>p</th><th scope=col>p&lt;.05</th><th scope=col>ges</th></tr>\n",
       "\t<tr><th></th><th scope=col>&lt;fct&gt;</th><th scope=col>&lt;chr&gt;</th><th scope=col>&lt;dbl&gt;</th><th scope=col>&lt;dbl&gt;</th><th scope=col>&lt;dbl&gt;</th><th scope=col>&lt;dbl&gt;</th><th scope=col>&lt;chr&gt;</th><th scope=col>&lt;dbl&gt;</th></tr>\n",
       "</thead>\n",
       "<tbody>\n",
       "\t<tr><th scope=row>1</th><td>grp1</td><td>time</td><td>2</td><td>42</td><td> 0.508</td><td>6.05e-01</td><td> </td><td>0.024</td></tr>\n",
       "\t<tr><th scope=row>2</th><td>grp2</td><td>time</td><td>2</td><td>42</td><td> 1.980</td><td>1.51e-01</td><td> </td><td>0.086</td></tr>\n",
       "\t<tr><th scope=row>3</th><td>grp3</td><td>time</td><td>2</td><td>42</td><td>23.737</td><td>1.27e-07</td><td>*</td><td>0.531</td></tr>\n",
       "</tbody>\n",
       "</table>\n"
      ],
      "text/latex": [
       "A grouped\\_anova\\_test: 3 × 8\n",
       "\\begin{tabular}{r|llllllll}\n",
       "  & group & Effect & DFn & DFd & F & p & p<.05 & ges\\\\\n",
       "  & <fct> & <chr> & <dbl> & <dbl> & <dbl> & <dbl> & <chr> & <dbl>\\\\\n",
       "\\hline\n",
       "\t1 & grp1 & time & 2 & 42 &  0.508 & 6.05e-01 &   & 0.024\\\\\n",
       "\t2 & grp2 & time & 2 & 42 &  1.980 & 1.51e-01 &   & 0.086\\\\\n",
       "\t3 & grp3 & time & 2 & 42 & 23.737 & 1.27e-07 & * & 0.531\\\\\n",
       "\\end{tabular}\n"
      ],
      "text/markdown": [
       "\n",
       "A grouped_anova_test: 3 × 8\n",
       "\n",
       "| <!--/--> | group &lt;fct&gt; | Effect &lt;chr&gt; | DFn &lt;dbl&gt; | DFd &lt;dbl&gt; | F &lt;dbl&gt; | p &lt;dbl&gt; | p&lt;.05 &lt;chr&gt; | ges &lt;dbl&gt; |\n",
       "|---|---|---|---|---|---|---|---|---|\n",
       "| 1 | grp1 | time | 2 | 42 |  0.508 | 6.05e-01 | <!----> | 0.024 |\n",
       "| 2 | grp2 | time | 2 | 42 |  1.980 | 1.51e-01 | <!----> | 0.086 |\n",
       "| 3 | grp3 | time | 2 | 42 | 23.737 | 1.27e-07 | * | 0.531 |\n",
       "\n"
      ],
      "text/plain": [
       "  group Effect DFn DFd F      p        p<.05 ges  \n",
       "1 grp1  time   2   42   0.508 6.05e-01       0.024\n",
       "2 grp2  time   2   42   1.980 1.51e-01       0.086\n",
       "3 grp3  time   2   42  23.737 1.27e-07 *     0.531"
      ]
     },
     "metadata": {},
     "output_type": "display_data"
    }
   ],
   "source": [
    "#控制group简单效应结果\n",
    "anxiety %>%\n",
    "  group_by(group) %>%\n",
    "  anova_test(dv = score, wid = id, between = time) %>%\n",
    "  get_anova_table() "
   ]
  },
  {
   "cell_type": "code",
   "execution_count": 13,
   "id": "7c686542",
   "metadata": {},
   "outputs": [
    {
     "data": {
      "text/html": [
       "<table class=\"dataframe\">\n",
       "<caption>A rstatix_test: 9 × 10</caption>\n",
       "<thead>\n",
       "\t<tr><th></th><th scope=col>group</th><th scope=col>.y.</th><th scope=col>group1</th><th scope=col>group2</th><th scope=col>n1</th><th scope=col>n2</th><th scope=col>p</th><th scope=col>p.signif</th><th scope=col>p.adj</th><th scope=col>p.adj.signif</th></tr>\n",
       "\t<tr><th></th><th scope=col>&lt;fct&gt;</th><th scope=col>&lt;chr&gt;</th><th scope=col>&lt;chr&gt;</th><th scope=col>&lt;chr&gt;</th><th scope=col>&lt;int&gt;</th><th scope=col>&lt;int&gt;</th><th scope=col>&lt;dbl&gt;</th><th scope=col>&lt;chr&gt;</th><th scope=col>&lt;dbl&gt;</th><th scope=col>&lt;chr&gt;</th></tr>\n",
       "</thead>\n",
       "<tbody>\n",
       "\t<tr><th scope=row>1</th><td>grp1</td><td>score</td><td>t1</td><td>t2</td><td>15</td><td>15</td><td>7.89e-01</td><td>ns  </td><td>1.00e+00</td><td>ns  </td></tr>\n",
       "\t<tr><th scope=row>2</th><td>grp1</td><td>score</td><td>t1</td><td>t3</td><td>15</td><td>15</td><td>3.35e-01</td><td>ns  </td><td>1.00e+00</td><td>ns  </td></tr>\n",
       "\t<tr><th scope=row>3</th><td>grp1</td><td>score</td><td>t2</td><td>t3</td><td>15</td><td>15</td><td>4.84e-01</td><td>ns  </td><td>1.00e+00</td><td>ns  </td></tr>\n",
       "\t<tr><th scope=row>4</th><td>grp2</td><td>score</td><td>t1</td><td>t2</td><td>15</td><td>15</td><td>7.67e-01</td><td>ns  </td><td>7.67e-01</td><td>ns  </td></tr>\n",
       "\t<tr><th scope=row>5</th><td>grp2</td><td>score</td><td>t1</td><td>t3</td><td>15</td><td>15</td><td>7.10e-02</td><td>ns  </td><td>2.13e-01</td><td>ns  </td></tr>\n",
       "\t<tr><th scope=row>6</th><td>grp2</td><td>score</td><td>t2</td><td>t3</td><td>15</td><td>15</td><td>1.27e-01</td><td>ns  </td><td>2.55e-01</td><td>ns  </td></tr>\n",
       "\t<tr><th scope=row>7</th><td>grp3</td><td>score</td><td>t1</td><td>t2</td><td>15</td><td>15</td><td>2.72e-04</td><td>*** </td><td>5.45e-04</td><td>*** </td></tr>\n",
       "\t<tr><th scope=row>8</th><td>grp3</td><td>score</td><td>t1</td><td>t3</td><td>15</td><td>15</td><td>2.29e-08</td><td>****</td><td>6.88e-08</td><td>****</td></tr>\n",
       "\t<tr><th scope=row>9</th><td>grp3</td><td>score</td><td>t2</td><td>t3</td><td>15</td><td>15</td><td>6.11e-03</td><td>**  </td><td>6.11e-03</td><td>**  </td></tr>\n",
       "</tbody>\n",
       "</table>\n"
      ],
      "text/latex": [
       "A rstatix\\_test: 9 × 10\n",
       "\\begin{tabular}{r|llllllllll}\n",
       "  & group & .y. & group1 & group2 & n1 & n2 & p & p.signif & p.adj & p.adj.signif\\\\\n",
       "  & <fct> & <chr> & <chr> & <chr> & <int> & <int> & <dbl> & <chr> & <dbl> & <chr>\\\\\n",
       "\\hline\n",
       "\t1 & grp1 & score & t1 & t2 & 15 & 15 & 7.89e-01 & ns   & 1.00e+00 & ns  \\\\\n",
       "\t2 & grp1 & score & t1 & t3 & 15 & 15 & 3.35e-01 & ns   & 1.00e+00 & ns  \\\\\n",
       "\t3 & grp1 & score & t2 & t3 & 15 & 15 & 4.84e-01 & ns   & 1.00e+00 & ns  \\\\\n",
       "\t4 & grp2 & score & t1 & t2 & 15 & 15 & 7.67e-01 & ns   & 7.67e-01 & ns  \\\\\n",
       "\t5 & grp2 & score & t1 & t3 & 15 & 15 & 7.10e-02 & ns   & 2.13e-01 & ns  \\\\\n",
       "\t6 & grp2 & score & t2 & t3 & 15 & 15 & 1.27e-01 & ns   & 2.55e-01 & ns  \\\\\n",
       "\t7 & grp3 & score & t1 & t2 & 15 & 15 & 2.72e-04 & ***  & 5.45e-04 & *** \\\\\n",
       "\t8 & grp3 & score & t1 & t3 & 15 & 15 & 2.29e-08 & **** & 6.88e-08 & ****\\\\\n",
       "\t9 & grp3 & score & t2 & t3 & 15 & 15 & 6.11e-03 & **   & 6.11e-03 & **  \\\\\n",
       "\\end{tabular}\n"
      ],
      "text/markdown": [
       "\n",
       "A rstatix_test: 9 × 10\n",
       "\n",
       "| <!--/--> | group &lt;fct&gt; | .y. &lt;chr&gt; | group1 &lt;chr&gt; | group2 &lt;chr&gt; | n1 &lt;int&gt; | n2 &lt;int&gt; | p &lt;dbl&gt; | p.signif &lt;chr&gt; | p.adj &lt;dbl&gt; | p.adj.signif &lt;chr&gt; |\n",
       "|---|---|---|---|---|---|---|---|---|---|---|\n",
       "| 1 | grp1 | score | t1 | t2 | 15 | 15 | 7.89e-01 | ns   | 1.00e+00 | ns   |\n",
       "| 2 | grp1 | score | t1 | t3 | 15 | 15 | 3.35e-01 | ns   | 1.00e+00 | ns   |\n",
       "| 3 | grp1 | score | t2 | t3 | 15 | 15 | 4.84e-01 | ns   | 1.00e+00 | ns   |\n",
       "| 4 | grp2 | score | t1 | t2 | 15 | 15 | 7.67e-01 | ns   | 7.67e-01 | ns   |\n",
       "| 5 | grp2 | score | t1 | t3 | 15 | 15 | 7.10e-02 | ns   | 2.13e-01 | ns   |\n",
       "| 6 | grp2 | score | t2 | t3 | 15 | 15 | 1.27e-01 | ns   | 2.55e-01 | ns   |\n",
       "| 7 | grp3 | score | t1 | t2 | 15 | 15 | 2.72e-04 | ***  | 5.45e-04 | ***  |\n",
       "| 8 | grp3 | score | t1 | t3 | 15 | 15 | 2.29e-08 | **** | 6.88e-08 | **** |\n",
       "| 9 | grp3 | score | t2 | t3 | 15 | 15 | 6.11e-03 | **   | 6.11e-03 | **   |\n",
       "\n"
      ],
      "text/plain": [
       "  group .y.   group1 group2 n1 n2 p        p.signif p.adj    p.adj.signif\n",
       "1 grp1  score t1     t2     15 15 7.89e-01 ns       1.00e+00 ns          \n",
       "2 grp1  score t1     t3     15 15 3.35e-01 ns       1.00e+00 ns          \n",
       "3 grp1  score t2     t3     15 15 4.84e-01 ns       1.00e+00 ns          \n",
       "4 grp2  score t1     t2     15 15 7.67e-01 ns       7.67e-01 ns          \n",
       "5 grp2  score t1     t3     15 15 7.10e-02 ns       2.13e-01 ns          \n",
       "6 grp2  score t2     t3     15 15 1.27e-01 ns       2.55e-01 ns          \n",
       "7 grp3  score t1     t2     15 15 2.72e-04 ***      5.45e-04 ***         \n",
       "8 grp3  score t1     t3     15 15 2.29e-08 ****     6.88e-08 ****        \n",
       "9 grp3  score t2     t3     15 15 6.11e-03 **       6.11e-03 **          "
      ]
     },
     "metadata": {},
     "output_type": "display_data"
    }
   ],
   "source": [
    "#两两比较结果\n",
    "anxiety %>%\n",
    "  group_by(group) %>%\n",
    "  pairwise_t_test(score ~ time)"
   ]
  },
  {
   "cell_type": "code",
   "execution_count": null,
   "id": "5a3aeb6f",
   "metadata": {},
   "outputs": [],
   "source": []
  }
 ],
 "metadata": {
  "kernelspec": {
   "display_name": "R",
   "language": "R",
   "name": "ir"
  },
  "language_info": {
   "codemirror_mode": "r",
   "file_extension": ".r",
   "mimetype": "text/x-r-source",
   "name": "R",
   "pygments_lexer": "r",
   "version": "4.2.1"
  }
 },
 "nbformat": 4,
 "nbformat_minor": 5
}
