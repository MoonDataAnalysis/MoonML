{
 "cells": [
  {
   "cell_type": "markdown",
   "id": "c09094ad",
   "metadata": {},
   "source": [
    "## 如何选择出对Y最重要的变量？\n",
    "\n",
    "采用逐步回归思路： 以AIC为标准，选择或删除变量.AIC越低代表模型拟合整体越好"
   ]
  },
  {
   "cell_type": "code",
   "execution_count": 1,
   "id": "50d1af47",
   "metadata": {},
   "outputs": [],
   "source": [
    "#使用step()\n",
    "\n",
    "#举例：我们有4种水泥的指标（X1-X4），我们想确定这些指标哪些影响水泥凝固时放热情况（Y）\n",
    "cement<-data.frame(\n",
    "    X1=c( 7, 1, 11, 11, 7, 11, 3, 1, 2, 21, 1, 11, 10),\n",
    "    X2=c(26, 29, 56, 31, 52, 55, 71, 31, 54, 47, 40, 66, 68),\n",
    "    X3=c( 6, 15, 8, 8, 6, 9, 17, 22, 18, 4, 23, 9, 8),\n",
    "    X4=c(60, 52, 20, 47, 33, 22, 6, 44, 22, 26, 34, 12, 12),\n",
    "    Y =c(78.5, 74.3, 104.3, 87.6, 95.9, 109.2, 102.7, 72.5,\n",
    "    93.1,115.9, 83.8, 113.3, 109.4)\n",
    ")"
   ]
  },
  {
   "cell_type": "code",
   "execution_count": 2,
   "id": "404c0f7f",
   "metadata": {},
   "outputs": [
    {
     "data": {
      "text/html": [
       "<table class=\"dataframe\">\n",
       "<caption>A data.frame: 13 × 5</caption>\n",
       "<thead>\n",
       "\t<tr><th scope=col>X1</th><th scope=col>X2</th><th scope=col>X3</th><th scope=col>X4</th><th scope=col>Y</th></tr>\n",
       "\t<tr><th scope=col>&lt;dbl&gt;</th><th scope=col>&lt;dbl&gt;</th><th scope=col>&lt;dbl&gt;</th><th scope=col>&lt;dbl&gt;</th><th scope=col>&lt;dbl&gt;</th></tr>\n",
       "</thead>\n",
       "<tbody>\n",
       "\t<tr><td> 7</td><td>26</td><td> 6</td><td>60</td><td> 78.5</td></tr>\n",
       "\t<tr><td> 1</td><td>29</td><td>15</td><td>52</td><td> 74.3</td></tr>\n",
       "\t<tr><td>11</td><td>56</td><td> 8</td><td>20</td><td>104.3</td></tr>\n",
       "\t<tr><td>11</td><td>31</td><td> 8</td><td>47</td><td> 87.6</td></tr>\n",
       "\t<tr><td> 7</td><td>52</td><td> 6</td><td>33</td><td> 95.9</td></tr>\n",
       "\t<tr><td>11</td><td>55</td><td> 9</td><td>22</td><td>109.2</td></tr>\n",
       "\t<tr><td> 3</td><td>71</td><td>17</td><td> 6</td><td>102.7</td></tr>\n",
       "\t<tr><td> 1</td><td>31</td><td>22</td><td>44</td><td> 72.5</td></tr>\n",
       "\t<tr><td> 2</td><td>54</td><td>18</td><td>22</td><td> 93.1</td></tr>\n",
       "\t<tr><td>21</td><td>47</td><td> 4</td><td>26</td><td>115.9</td></tr>\n",
       "\t<tr><td> 1</td><td>40</td><td>23</td><td>34</td><td> 83.8</td></tr>\n",
       "\t<tr><td>11</td><td>66</td><td> 9</td><td>12</td><td>113.3</td></tr>\n",
       "\t<tr><td>10</td><td>68</td><td> 8</td><td>12</td><td>109.4</td></tr>\n",
       "</tbody>\n",
       "</table>\n"
      ],
      "text/latex": [
       "A data.frame: 13 × 5\n",
       "\\begin{tabular}{lllll}\n",
       " X1 & X2 & X3 & X4 & Y\\\\\n",
       " <dbl> & <dbl> & <dbl> & <dbl> & <dbl>\\\\\n",
       "\\hline\n",
       "\t  7 & 26 &  6 & 60 &  78.5\\\\\n",
       "\t  1 & 29 & 15 & 52 &  74.3\\\\\n",
       "\t 11 & 56 &  8 & 20 & 104.3\\\\\n",
       "\t 11 & 31 &  8 & 47 &  87.6\\\\\n",
       "\t  7 & 52 &  6 & 33 &  95.9\\\\\n",
       "\t 11 & 55 &  9 & 22 & 109.2\\\\\n",
       "\t  3 & 71 & 17 &  6 & 102.7\\\\\n",
       "\t  1 & 31 & 22 & 44 &  72.5\\\\\n",
       "\t  2 & 54 & 18 & 22 &  93.1\\\\\n",
       "\t 21 & 47 &  4 & 26 & 115.9\\\\\n",
       "\t  1 & 40 & 23 & 34 &  83.8\\\\\n",
       "\t 11 & 66 &  9 & 12 & 113.3\\\\\n",
       "\t 10 & 68 &  8 & 12 & 109.4\\\\\n",
       "\\end{tabular}\n"
      ],
      "text/markdown": [
       "\n",
       "A data.frame: 13 × 5\n",
       "\n",
       "| X1 &lt;dbl&gt; | X2 &lt;dbl&gt; | X3 &lt;dbl&gt; | X4 &lt;dbl&gt; | Y &lt;dbl&gt; |\n",
       "|---|---|---|---|---|\n",
       "|  7 | 26 |  6 | 60 |  78.5 |\n",
       "|  1 | 29 | 15 | 52 |  74.3 |\n",
       "| 11 | 56 |  8 | 20 | 104.3 |\n",
       "| 11 | 31 |  8 | 47 |  87.6 |\n",
       "|  7 | 52 |  6 | 33 |  95.9 |\n",
       "| 11 | 55 |  9 | 22 | 109.2 |\n",
       "|  3 | 71 | 17 |  6 | 102.7 |\n",
       "|  1 | 31 | 22 | 44 |  72.5 |\n",
       "|  2 | 54 | 18 | 22 |  93.1 |\n",
       "| 21 | 47 |  4 | 26 | 115.9 |\n",
       "|  1 | 40 | 23 | 34 |  83.8 |\n",
       "| 11 | 66 |  9 | 12 | 113.3 |\n",
       "| 10 | 68 |  8 | 12 | 109.4 |\n",
       "\n"
      ],
      "text/plain": [
       "   X1 X2 X3 X4 Y    \n",
       "1   7 26  6 60  78.5\n",
       "2   1 29 15 52  74.3\n",
       "3  11 56  8 20 104.3\n",
       "4  11 31  8 47  87.6\n",
       "5   7 52  6 33  95.9\n",
       "6  11 55  9 22 109.2\n",
       "7   3 71 17  6 102.7\n",
       "8   1 31 22 44  72.5\n",
       "9   2 54 18 22  93.1\n",
       "10 21 47  4 26 115.9\n",
       "11  1 40 23 34  83.8\n",
       "12 11 66  9 12 113.3\n",
       "13 10 68  8 12 109.4"
      ]
     },
     "metadata": {},
     "output_type": "display_data"
    }
   ],
   "source": [
    "cement"
   ]
  },
  {
   "cell_type": "code",
   "execution_count": 3,
   "id": "6156e974",
   "metadata": {},
   "outputs": [],
   "source": [
    "lm.fit<-lm(Y ~ X1+X2+X3+X4, data=cement)"
   ]
  },
  {
   "cell_type": "code",
   "execution_count": 4,
   "id": "aac459b0",
   "metadata": {},
   "outputs": [
    {
     "data": {
      "text/plain": [
       "\n",
       "Call:\n",
       "lm(formula = Y ~ X1 + X2 + X3 + X4, data = cement)\n",
       "\n",
       "Residuals:\n",
       "    Min      1Q  Median      3Q     Max \n",
       "-3.1750 -1.6709  0.2508  1.3783  3.9254 \n",
       "\n",
       "Coefficients:\n",
       "            Estimate Std. Error t value Pr(>|t|)  \n",
       "(Intercept)  62.4054    70.0710   0.891   0.3991  \n",
       "X1            1.5511     0.7448   2.083   0.0708 .\n",
       "X2            0.5102     0.7238   0.705   0.5009  \n",
       "X3            0.1019     0.7547   0.135   0.8959  \n",
       "X4           -0.1441     0.7091  -0.203   0.8441  \n",
       "---\n",
       "Signif. codes:  0 '***' 0.001 '**' 0.01 '*' 0.05 '.' 0.1 ' ' 1\n",
       "\n",
       "Residual standard error: 2.446 on 8 degrees of freedom\n",
       "Multiple R-squared:  0.9824,\tAdjusted R-squared:  0.9736 \n",
       "F-statistic: 111.5 on 4 and 8 DF,  p-value: 4.756e-07\n"
      ]
     },
     "metadata": {},
     "output_type": "display_data"
    }
   ],
   "source": [
    "summary(lm.fit)"
   ]
  },
  {
   "cell_type": "markdown",
   "id": "abd05d4d",
   "metadata": {},
   "source": [
    "我们直接放入所有自变量，结果回归方程系数没有一项通过检验！\n",
    "\n",
    "尝试用逐步回归的方式，放入step()函数"
   ]
  },
  {
   "cell_type": "code",
   "execution_count": 5,
   "id": "f780834d",
   "metadata": {
    "scrolled": true
   },
   "outputs": [
    {
     "name": "stdout",
     "output_type": "stream",
     "text": [
      "Start:  AIC=26.94\n",
      "Y ~ X1 + X2 + X3 + X4\n",
      "\n",
      "       Df Sum of Sq    RSS    AIC\n",
      "- X3    1    0.1091 47.973 24.974\n",
      "- X4    1    0.2470 48.111 25.011\n",
      "- X2    1    2.9725 50.836 25.728\n",
      "<none>              47.864 26.944\n",
      "- X1    1   25.9509 73.815 30.576\n",
      "\n",
      "Step:  AIC=24.97\n",
      "Y ~ X1 + X2 + X4\n",
      "\n",
      "       Df Sum of Sq    RSS    AIC\n",
      "<none>               47.97 24.974\n",
      "- X4    1      9.93  57.90 25.420\n",
      "- X2    1     26.79  74.76 28.742\n",
      "- X1    1    820.91 868.88 60.629\n"
     ]
    }
   ],
   "source": [
    "lm.step<-step(lm.fit)"
   ]
  },
  {
   "cell_type": "markdown",
   "id": "0965bb05",
   "metadata": {},
   "source": [
    "由上面可知，\n",
    "\n",
    "第一步删除中去掉X3，方程AIC最小，所以选择X3\n",
    "\n",
    "第二步删除中在删掉任何一个变量不会改善模型。"
   ]
  },
  {
   "cell_type": "code",
   "execution_count": 6,
   "id": "4b78159b",
   "metadata": {},
   "outputs": [
    {
     "data": {
      "text/plain": [
       "\n",
       "Call:\n",
       "lm(formula = Y ~ X1 + X2 + X4, data = cement)\n",
       "\n",
       "Residuals:\n",
       "    Min      1Q  Median      3Q     Max \n",
       "-3.0919 -1.8016  0.2562  1.2818  3.8982 \n",
       "\n",
       "Coefficients:\n",
       "            Estimate Std. Error t value Pr(>|t|)    \n",
       "(Intercept)  71.6483    14.1424   5.066 0.000675 ***\n",
       "X1            1.4519     0.1170  12.410 5.78e-07 ***\n",
       "X2            0.4161     0.1856   2.242 0.051687 .  \n",
       "X4           -0.2365     0.1733  -1.365 0.205395    \n",
       "---\n",
       "Signif. codes:  0 '***' 0.001 '**' 0.01 '*' 0.05 '.' 0.1 ' ' 1\n",
       "\n",
       "Residual standard error: 2.309 on 9 degrees of freedom\n",
       "Multiple R-squared:  0.9823,\tAdjusted R-squared:  0.9764 \n",
       "F-statistic: 166.8 on 3 and 9 DF,  p-value: 3.323e-08\n"
      ]
     },
     "metadata": {},
     "output_type": "display_data"
    }
   ],
   "source": [
    "summary(lm.step)"
   ]
  },
  {
   "cell_type": "markdown",
   "id": "a8ec4f9d",
   "metadata": {},
   "source": [
    "## 如何诊断回归模型潜在问题？——回归诊断\n",
    "\n",
    "潜在问题主要包括：\n",
    "\n",
    "1. 误差项是否满足独立性、等方差性、正态性？\n",
    "2. 线性模型假设是否合适？\n",
    "3. 是否存在异常样本？\n",
    "4. 回归结果是否对某些样本依赖过重，导致稳定性欠佳？\n",
    "5. 自变量是否存在多重共线性问题？"
   ]
  },
  {
   "cell_type": "code",
   "execution_count": 7,
   "id": "7a125bda",
   "metadata": {},
   "outputs": [],
   "source": [
    "#举例：有下面这样一组数据，求自变量与因变量关系\n",
    "A<-data.frame(\n",
    "    X=c(10.0, 8.0, 13.0, 9.0, 11.0, 14.0, 6.0, 4.0, 12.0, 7.0, 5.0),\n",
    "    Y1=c(8.04,6.95, 7.58,8.81,8.33,9.96,7.24,4.26,10.84,4.82,5.68),\n",
    "    Y2=c(9.14,8.14, 8.74,8.77,9.26,8.10,6.13,3.10, 9.13,7.26,4.74),\n",
    "    Y3=c(7.46,6.77,12.74,7.11,7.81,8.84,6.08,5.39, 8.15,6.44,5.73),\n",
    "    X4=c(rep(8,7), 19, rep(8,3)),\n",
    "    Y4=c(6.58,5.76,7.71,8.84,8.47,7.04,5.25,12.50, 5.56,7.91,6.89)\n",
    ")"
   ]
  },
  {
   "cell_type": "code",
   "execution_count": 8,
   "id": "79a60396",
   "metadata": {},
   "outputs": [
    {
     "data": {
      "text/html": [
       "<table class=\"dataframe\">\n",
       "<caption>A data.frame: 11 × 6</caption>\n",
       "<thead>\n",
       "\t<tr><th scope=col>X</th><th scope=col>Y1</th><th scope=col>Y2</th><th scope=col>Y3</th><th scope=col>X4</th><th scope=col>Y4</th></tr>\n",
       "\t<tr><th scope=col>&lt;dbl&gt;</th><th scope=col>&lt;dbl&gt;</th><th scope=col>&lt;dbl&gt;</th><th scope=col>&lt;dbl&gt;</th><th scope=col>&lt;dbl&gt;</th><th scope=col>&lt;dbl&gt;</th></tr>\n",
       "</thead>\n",
       "<tbody>\n",
       "\t<tr><td>10</td><td> 8.04</td><td>9.14</td><td> 7.46</td><td> 8</td><td> 6.58</td></tr>\n",
       "\t<tr><td> 8</td><td> 6.95</td><td>8.14</td><td> 6.77</td><td> 8</td><td> 5.76</td></tr>\n",
       "\t<tr><td>13</td><td> 7.58</td><td>8.74</td><td>12.74</td><td> 8</td><td> 7.71</td></tr>\n",
       "\t<tr><td> 9</td><td> 8.81</td><td>8.77</td><td> 7.11</td><td> 8</td><td> 8.84</td></tr>\n",
       "\t<tr><td>11</td><td> 8.33</td><td>9.26</td><td> 7.81</td><td> 8</td><td> 8.47</td></tr>\n",
       "\t<tr><td>14</td><td> 9.96</td><td>8.10</td><td> 8.84</td><td> 8</td><td> 7.04</td></tr>\n",
       "\t<tr><td> 6</td><td> 7.24</td><td>6.13</td><td> 6.08</td><td> 8</td><td> 5.25</td></tr>\n",
       "\t<tr><td> 4</td><td> 4.26</td><td>3.10</td><td> 5.39</td><td>19</td><td>12.50</td></tr>\n",
       "\t<tr><td>12</td><td>10.84</td><td>9.13</td><td> 8.15</td><td> 8</td><td> 5.56</td></tr>\n",
       "\t<tr><td> 7</td><td> 4.82</td><td>7.26</td><td> 6.44</td><td> 8</td><td> 7.91</td></tr>\n",
       "\t<tr><td> 5</td><td> 5.68</td><td>4.74</td><td> 5.73</td><td> 8</td><td> 6.89</td></tr>\n",
       "</tbody>\n",
       "</table>\n"
      ],
      "text/latex": [
       "A data.frame: 11 × 6\n",
       "\\begin{tabular}{llllll}\n",
       " X & Y1 & Y2 & Y3 & X4 & Y4\\\\\n",
       " <dbl> & <dbl> & <dbl> & <dbl> & <dbl> & <dbl>\\\\\n",
       "\\hline\n",
       "\t 10 &  8.04 & 9.14 &  7.46 &  8 &  6.58\\\\\n",
       "\t  8 &  6.95 & 8.14 &  6.77 &  8 &  5.76\\\\\n",
       "\t 13 &  7.58 & 8.74 & 12.74 &  8 &  7.71\\\\\n",
       "\t  9 &  8.81 & 8.77 &  7.11 &  8 &  8.84\\\\\n",
       "\t 11 &  8.33 & 9.26 &  7.81 &  8 &  8.47\\\\\n",
       "\t 14 &  9.96 & 8.10 &  8.84 &  8 &  7.04\\\\\n",
       "\t  6 &  7.24 & 6.13 &  6.08 &  8 &  5.25\\\\\n",
       "\t  4 &  4.26 & 3.10 &  5.39 & 19 & 12.50\\\\\n",
       "\t 12 & 10.84 & 9.13 &  8.15 &  8 &  5.56\\\\\n",
       "\t  7 &  4.82 & 7.26 &  6.44 &  8 &  7.91\\\\\n",
       "\t  5 &  5.68 & 4.74 &  5.73 &  8 &  6.89\\\\\n",
       "\\end{tabular}\n"
      ],
      "text/markdown": [
       "\n",
       "A data.frame: 11 × 6\n",
       "\n",
       "| X &lt;dbl&gt; | Y1 &lt;dbl&gt; | Y2 &lt;dbl&gt; | Y3 &lt;dbl&gt; | X4 &lt;dbl&gt; | Y4 &lt;dbl&gt; |\n",
       "|---|---|---|---|---|---|\n",
       "| 10 |  8.04 | 9.14 |  7.46 |  8 |  6.58 |\n",
       "|  8 |  6.95 | 8.14 |  6.77 |  8 |  5.76 |\n",
       "| 13 |  7.58 | 8.74 | 12.74 |  8 |  7.71 |\n",
       "|  9 |  8.81 | 8.77 |  7.11 |  8 |  8.84 |\n",
       "| 11 |  8.33 | 9.26 |  7.81 |  8 |  8.47 |\n",
       "| 14 |  9.96 | 8.10 |  8.84 |  8 |  7.04 |\n",
       "|  6 |  7.24 | 6.13 |  6.08 |  8 |  5.25 |\n",
       "|  4 |  4.26 | 3.10 |  5.39 | 19 | 12.50 |\n",
       "| 12 | 10.84 | 9.13 |  8.15 |  8 |  5.56 |\n",
       "|  7 |  4.82 | 7.26 |  6.44 |  8 |  7.91 |\n",
       "|  5 |  5.68 | 4.74 |  5.73 |  8 |  6.89 |\n",
       "\n"
      ],
      "text/plain": [
       "   X  Y1    Y2   Y3    X4 Y4   \n",
       "1  10  8.04 9.14  7.46  8  6.58\n",
       "2   8  6.95 8.14  6.77  8  5.76\n",
       "3  13  7.58 8.74 12.74  8  7.71\n",
       "4   9  8.81 8.77  7.11  8  8.84\n",
       "5  11  8.33 9.26  7.81  8  8.47\n",
       "6  14  9.96 8.10  8.84  8  7.04\n",
       "7   6  7.24 6.13  6.08  8  5.25\n",
       "8   4  4.26 3.10  5.39 19 12.50\n",
       "9  12 10.84 9.13  8.15  8  5.56\n",
       "10  7  4.82 7.26  6.44  8  7.91\n",
       "11  5  5.68 4.74  5.73  8  6.89"
      ]
     },
     "metadata": {},
     "output_type": "display_data"
    }
   ],
   "source": [
    "A"
   ]
  },
  {
   "attachments": {
    "image.png": {
     "image/png": "[encoded data removed]"
    }
   },
   "cell_type": "markdown",
   "id": "30d2c917",
   "metadata": {},
   "source": [
    "### 画四组数据的散点图和相应回归直线，见下图：\n",
    "![image.png](attachment:image.png)\n",
    "\n",
    "### 我们从图直观的感觉 b, c, d 用yi = β0 + β1xi + εi. 可能不正确！\n",
    "1. b看起来更符合曲线变化\n",
    "2. c看起来被一个异常点带偏了\n",
    "3. d拿掉异常点，模型会发生巨大变化\n",
    "\n",
    "### 但放入线性模型都得到了很好、且相似的结果"
   ]
  },
  {
   "cell_type": "code",
   "execution_count": 9,
   "id": "4eb7d32b",
   "metadata": {},
   "outputs": [
    {
     "data": {
      "text/plain": [
       "\n",
       "Call:\n",
       "lm(formula = Y1 ~ X, data = A)\n",
       "\n",
       "Residuals:\n",
       "     Min       1Q   Median       3Q      Max \n",
       "-1.92127 -0.45577 -0.04136  0.70941  1.83882 \n",
       "\n",
       "Coefficients:\n",
       "            Estimate Std. Error t value Pr(>|t|)   \n",
       "(Intercept)   3.0001     1.1247   2.667  0.02573 * \n",
       "X             0.5001     0.1179   4.241  0.00217 **\n",
       "---\n",
       "Signif. codes:  0 '***' 0.001 '**' 0.01 '*' 0.05 '.' 0.1 ' ' 1\n",
       "\n",
       "Residual standard error: 1.237 on 9 degrees of freedom\n",
       "Multiple R-squared:  0.6665,\tAdjusted R-squared:  0.6295 \n",
       "F-statistic: 17.99 on 1 and 9 DF,  p-value: 0.00217\n"
      ]
     },
     "metadata": {},
     "output_type": "display_data"
    },
    {
     "data": {
      "text/plain": [
       "\n",
       "Call:\n",
       "lm(formula = Y2 ~ X, data = A)\n",
       "\n",
       "Residuals:\n",
       "    Min      1Q  Median      3Q     Max \n",
       "-1.9009 -0.7609  0.1291  0.9491  1.2691 \n",
       "\n",
       "Coefficients:\n",
       "            Estimate Std. Error t value Pr(>|t|)   \n",
       "(Intercept)    3.001      1.125   2.667  0.02576 * \n",
       "X              0.500      0.118   4.239  0.00218 **\n",
       "---\n",
       "Signif. codes:  0 '***' 0.001 '**' 0.01 '*' 0.05 '.' 0.1 ' ' 1\n",
       "\n",
       "Residual standard error: 1.237 on 9 degrees of freedom\n",
       "Multiple R-squared:  0.6662,\tAdjusted R-squared:  0.6292 \n",
       "F-statistic: 17.97 on 1 and 9 DF,  p-value: 0.002179\n"
      ]
     },
     "metadata": {},
     "output_type": "display_data"
    },
    {
     "data": {
      "text/plain": [
       "\n",
       "Call:\n",
       "lm(formula = Y3 ~ X, data = A)\n",
       "\n",
       "Residuals:\n",
       "    Min      1Q  Median      3Q     Max \n",
       "-1.1586 -0.6159 -0.2325  0.1510  3.2407 \n",
       "\n",
       "Coefficients:\n",
       "            Estimate Std. Error t value Pr(>|t|)   \n",
       "(Intercept)   3.0075     1.1244   2.675  0.02542 * \n",
       "X             0.4994     0.1179   4.237  0.00218 **\n",
       "---\n",
       "Signif. codes:  0 '***' 0.001 '**' 0.01 '*' 0.05 '.' 0.1 ' ' 1\n",
       "\n",
       "Residual standard error: 1.236 on 9 degrees of freedom\n",
       "Multiple R-squared:  0.666,\tAdjusted R-squared:  0.6289 \n",
       "F-statistic: 17.95 on 1 and 9 DF,  p-value: 0.002185\n"
      ]
     },
     "metadata": {},
     "output_type": "display_data"
    },
    {
     "data": {
      "text/plain": [
       "\n",
       "Call:\n",
       "lm(formula = Y4 ~ X4, data = A)\n",
       "\n",
       "Residuals:\n",
       "   Min     1Q Median     3Q    Max \n",
       "-1.751 -0.831  0.000  0.809  1.839 \n",
       "\n",
       "Coefficients:\n",
       "            Estimate Std. Error t value Pr(>|t|)   \n",
       "(Intercept)   3.0017     1.1239   2.671  0.02559 * \n",
       "X4            0.4999     0.1178   4.243  0.00216 **\n",
       "---\n",
       "Signif. codes:  0 '***' 0.001 '**' 0.01 '*' 0.05 '.' 0.1 ' ' 1\n",
       "\n",
       "Residual standard error: 1.236 on 9 degrees of freedom\n",
       "Multiple R-squared:  0.6667,\tAdjusted R-squared:  0.6297 \n",
       "F-statistic:    18 on 1 and 9 DF,  p-value: 0.002165\n"
      ]
     },
     "metadata": {},
     "output_type": "display_data"
    }
   ],
   "source": [
    "summary(lm(Y1~X, data=A))\n",
    "summary(lm(Y2~X, data=A))\n",
    "summary(lm(Y3~X, data=A))\n",
    "summary(lm(Y4~X4,data=A))"
   ]
  },
  {
   "cell_type": "markdown",
   "id": "415833ab",
   "metadata": {},
   "source": [
    "#### 1、解决非线性问题"
   ]
  },
  {
   "cell_type": "code",
   "execution_count": 10,
   "id": "a6020a70",
   "metadata": {},
   "outputs": [
    {
     "data": {
      "text/plain": [
       "\n",
       "Call:\n",
       "lm(formula = Y2 ~ X + I(X^2), data = A)\n",
       "\n",
       "Residuals:\n",
       "       Min         1Q     Median         3Q        Max \n",
       "-0.0013287 -0.0011888 -0.0006294  0.0008741  0.0023776 \n",
       "\n",
       "Coefficients:\n",
       "              Estimate Std. Error t value Pr(>|t|)    \n",
       "(Intercept) -5.9957343  0.0043299   -1385   <2e-16 ***\n",
       "X            2.7808392  0.0010401    2674   <2e-16 ***\n",
       "I(X^2)      -0.1267133  0.0000571   -2219   <2e-16 ***\n",
       "---\n",
       "Signif. codes:  0 '***' 0.001 '**' 0.01 '*' 0.05 '.' 0.1 ' ' 1\n",
       "\n",
       "Residual standard error: 0.001672 on 8 degrees of freedom\n",
       "Multiple R-squared:      1,\tAdjusted R-squared:      1 \n",
       "F-statistic: 7.378e+06 on 2 and 8 DF,  p-value: < 2.2e-16\n"
      ]
     },
     "metadata": {},
     "output_type": "display_data"
    }
   ],
   "source": [
    "#由图我们基本判断这可能更符合一个二次方曲线模型，而非线性模型\n",
    "lm2.fit<-lm(Y2~X+I(X^2), data=A)\n",
    "\n",
    "summary(lm2.fit)"
   ]
  },
  {
   "cell_type": "code",
   "execution_count": 11,
   "id": "d8304fa7",
   "metadata": {},
   "outputs": [
    {
     "data": {
      "text/plain": [
       "\n",
       "Call:\n",
       "lm(formula = Y2 ~ X, data = A)\n",
       "\n",
       "Residuals:\n",
       "    Min      1Q  Median      3Q     Max \n",
       "-1.9009 -0.7609  0.1291  0.9491  1.2691 \n",
       "\n",
       "Coefficients:\n",
       "            Estimate Std. Error t value Pr(>|t|)   \n",
       "(Intercept)    3.001      1.125   2.667  0.02576 * \n",
       "X              0.500      0.118   4.239  0.00218 **\n",
       "---\n",
       "Signif. codes:  0 '***' 0.001 '**' 0.01 '*' 0.05 '.' 0.1 ' ' 1\n",
       "\n",
       "Residual standard error: 1.237 on 9 degrees of freedom\n",
       "Multiple R-squared:  0.6662,\tAdjusted R-squared:  0.6292 \n",
       "F-statistic: 17.97 on 1 and 9 DF,  p-value: 0.002179\n"
      ]
     },
     "metadata": {},
     "output_type": "display_data"
    }
   ],
   "source": [
    "summary(lm(Y2~X, data=A))"
   ]
  },
  {
   "cell_type": "markdown",
   "id": "e2d18351",
   "metadata": {},
   "source": [
    "#### 2. 解决异常点问题"
   ]
  },
  {
   "cell_type": "code",
   "execution_count": 12,
   "id": "422a13ec",
   "metadata": {},
   "outputs": [
    {
     "data": {
      "text/html": [
       "<table class=\"dataframe\">\n",
       "<caption>A data.frame: 10 × 6</caption>\n",
       "<thead>\n",
       "\t<tr><th></th><th scope=col>X</th><th scope=col>Y1</th><th scope=col>Y2</th><th scope=col>Y3</th><th scope=col>X4</th><th scope=col>Y4</th></tr>\n",
       "\t<tr><th></th><th scope=col>&lt;dbl&gt;</th><th scope=col>&lt;dbl&gt;</th><th scope=col>&lt;dbl&gt;</th><th scope=col>&lt;dbl&gt;</th><th scope=col>&lt;dbl&gt;</th><th scope=col>&lt;dbl&gt;</th></tr>\n",
       "</thead>\n",
       "<tbody>\n",
       "\t<tr><th scope=row>1</th><td>10</td><td> 8.04</td><td>9.14</td><td>7.46</td><td> 8</td><td> 6.58</td></tr>\n",
       "\t<tr><th scope=row>2</th><td> 8</td><td> 6.95</td><td>8.14</td><td>6.77</td><td> 8</td><td> 5.76</td></tr>\n",
       "\t<tr><th scope=row>4</th><td> 9</td><td> 8.81</td><td>8.77</td><td>7.11</td><td> 8</td><td> 8.84</td></tr>\n",
       "\t<tr><th scope=row>5</th><td>11</td><td> 8.33</td><td>9.26</td><td>7.81</td><td> 8</td><td> 8.47</td></tr>\n",
       "\t<tr><th scope=row>6</th><td>14</td><td> 9.96</td><td>8.10</td><td>8.84</td><td> 8</td><td> 7.04</td></tr>\n",
       "\t<tr><th scope=row>7</th><td> 6</td><td> 7.24</td><td>6.13</td><td>6.08</td><td> 8</td><td> 5.25</td></tr>\n",
       "\t<tr><th scope=row>8</th><td> 4</td><td> 4.26</td><td>3.10</td><td>5.39</td><td>19</td><td>12.50</td></tr>\n",
       "\t<tr><th scope=row>9</th><td>12</td><td>10.84</td><td>9.13</td><td>8.15</td><td> 8</td><td> 5.56</td></tr>\n",
       "\t<tr><th scope=row>10</th><td> 7</td><td> 4.82</td><td>7.26</td><td>6.44</td><td> 8</td><td> 7.91</td></tr>\n",
       "\t<tr><th scope=row>11</th><td> 5</td><td> 5.68</td><td>4.74</td><td>5.73</td><td> 8</td><td> 6.89</td></tr>\n",
       "</tbody>\n",
       "</table>\n"
      ],
      "text/latex": [
       "A data.frame: 10 × 6\n",
       "\\begin{tabular}{r|llllll}\n",
       "  & X & Y1 & Y2 & Y3 & X4 & Y4\\\\\n",
       "  & <dbl> & <dbl> & <dbl> & <dbl> & <dbl> & <dbl>\\\\\n",
       "\\hline\n",
       "\t1 & 10 &  8.04 & 9.14 & 7.46 &  8 &  6.58\\\\\n",
       "\t2 &  8 &  6.95 & 8.14 & 6.77 &  8 &  5.76\\\\\n",
       "\t4 &  9 &  8.81 & 8.77 & 7.11 &  8 &  8.84\\\\\n",
       "\t5 & 11 &  8.33 & 9.26 & 7.81 &  8 &  8.47\\\\\n",
       "\t6 & 14 &  9.96 & 8.10 & 8.84 &  8 &  7.04\\\\\n",
       "\t7 &  6 &  7.24 & 6.13 & 6.08 &  8 &  5.25\\\\\n",
       "\t8 &  4 &  4.26 & 3.10 & 5.39 & 19 & 12.50\\\\\n",
       "\t9 & 12 & 10.84 & 9.13 & 8.15 &  8 &  5.56\\\\\n",
       "\t10 &  7 &  4.82 & 7.26 & 6.44 &  8 &  7.91\\\\\n",
       "\t11 &  5 &  5.68 & 4.74 & 5.73 &  8 &  6.89\\\\\n",
       "\\end{tabular}\n"
      ],
      "text/markdown": [
       "\n",
       "A data.frame: 10 × 6\n",
       "\n",
       "| <!--/--> | X &lt;dbl&gt; | Y1 &lt;dbl&gt; | Y2 &lt;dbl&gt; | Y3 &lt;dbl&gt; | X4 &lt;dbl&gt; | Y4 &lt;dbl&gt; |\n",
       "|---|---|---|---|---|---|---|\n",
       "| 1 | 10 |  8.04 | 9.14 | 7.46 |  8 |  6.58 |\n",
       "| 2 |  8 |  6.95 | 8.14 | 6.77 |  8 |  5.76 |\n",
       "| 4 |  9 |  8.81 | 8.77 | 7.11 |  8 |  8.84 |\n",
       "| 5 | 11 |  8.33 | 9.26 | 7.81 |  8 |  8.47 |\n",
       "| 6 | 14 |  9.96 | 8.10 | 8.84 |  8 |  7.04 |\n",
       "| 7 |  6 |  7.24 | 6.13 | 6.08 |  8 |  5.25 |\n",
       "| 8 |  4 |  4.26 | 3.10 | 5.39 | 19 | 12.50 |\n",
       "| 9 | 12 | 10.84 | 9.13 | 8.15 |  8 |  5.56 |\n",
       "| 10 |  7 |  4.82 | 7.26 | 6.44 |  8 |  7.91 |\n",
       "| 11 |  5 |  5.68 | 4.74 | 5.73 |  8 |  6.89 |\n",
       "\n"
      ],
      "text/plain": [
       "   X  Y1    Y2   Y3   X4 Y4   \n",
       "1  10  8.04 9.14 7.46  8  6.58\n",
       "2   8  6.95 8.14 6.77  8  5.76\n",
       "4   9  8.81 8.77 7.11  8  8.84\n",
       "5  11  8.33 9.26 7.81  8  8.47\n",
       "6  14  9.96 8.10 8.84  8  7.04\n",
       "7   6  7.24 6.13 6.08  8  5.25\n",
       "8   4  4.26 3.10 5.39 19 12.50\n",
       "9  12 10.84 9.13 8.15  8  5.56\n",
       "10  7  4.82 7.26 6.44  8  7.91\n",
       "11  5  5.68 4.74 5.73  8  6.89"
      ]
     },
     "metadata": {},
     "output_type": "display_data"
    },
    {
     "data": {
      "text/plain": [
       "\n",
       "Call:\n",
       "lm(formula = Y3 ~ X, data = A[-3, ])\n",
       "\n",
       "Residuals:\n",
       "       Min         1Q     Median         3Q        Max \n",
       "-0.0060173 -0.0012121 -0.0010173 -0.0008225  0.0140693 \n",
       "\n",
       "Coefficients:\n",
       "             Estimate Std. Error t value Pr(>|t|)    \n",
       "(Intercept) 4.0106277  0.0057115   702.2   <2e-16 ***\n",
       "X           0.3450433  0.0006262   551.0   <2e-16 ***\n",
       "---\n",
       "Signif. codes:  0 '***' 0.001 '**' 0.01 '*' 0.05 '.' 0.1 ' ' 1\n",
       "\n",
       "Residual standard error: 0.006019 on 8 degrees of freedom\n",
       "Multiple R-squared:      1,\tAdjusted R-squared:      1 \n",
       "F-statistic: 3.036e+05 on 1 and 8 DF,  p-value: < 2.2e-16\n"
      ]
     },
     "metadata": {},
     "output_type": "display_data"
    }
   ],
   "source": [
    "#从图上判断异常点，直接从数据中删除。\n",
    "A[-3,]\n",
    "summary(lm(Y3~X, data=A[-3,]))"
   ]
  },
  {
   "cell_type": "code",
   "execution_count": 13,
   "id": "c3a79f77",
   "metadata": {},
   "outputs": [
    {
     "data": {
      "text/html": [
       "<table class=\"dataframe\">\n",
       "<caption>A data.frame: 10 × 6</caption>\n",
       "<thead>\n",
       "\t<tr><th></th><th scope=col>X</th><th scope=col>Y1</th><th scope=col>Y2</th><th scope=col>Y3</th><th scope=col>X4</th><th scope=col>Y4</th></tr>\n",
       "\t<tr><th></th><th scope=col>&lt;dbl&gt;</th><th scope=col>&lt;dbl&gt;</th><th scope=col>&lt;dbl&gt;</th><th scope=col>&lt;dbl&gt;</th><th scope=col>&lt;dbl&gt;</th><th scope=col>&lt;dbl&gt;</th></tr>\n",
       "</thead>\n",
       "<tbody>\n",
       "\t<tr><th scope=row>1</th><td>10</td><td> 8.04</td><td>9.14</td><td> 7.46</td><td>8</td><td>6.58</td></tr>\n",
       "\t<tr><th scope=row>2</th><td> 8</td><td> 6.95</td><td>8.14</td><td> 6.77</td><td>8</td><td>5.76</td></tr>\n",
       "\t<tr><th scope=row>3</th><td>13</td><td> 7.58</td><td>8.74</td><td>12.74</td><td>8</td><td>7.71</td></tr>\n",
       "\t<tr><th scope=row>4</th><td> 9</td><td> 8.81</td><td>8.77</td><td> 7.11</td><td>8</td><td>8.84</td></tr>\n",
       "\t<tr><th scope=row>5</th><td>11</td><td> 8.33</td><td>9.26</td><td> 7.81</td><td>8</td><td>8.47</td></tr>\n",
       "\t<tr><th scope=row>6</th><td>14</td><td> 9.96</td><td>8.10</td><td> 8.84</td><td>8</td><td>7.04</td></tr>\n",
       "\t<tr><th scope=row>7</th><td> 6</td><td> 7.24</td><td>6.13</td><td> 6.08</td><td>8</td><td>5.25</td></tr>\n",
       "\t<tr><th scope=row>9</th><td>12</td><td>10.84</td><td>9.13</td><td> 8.15</td><td>8</td><td>5.56</td></tr>\n",
       "\t<tr><th scope=row>10</th><td> 7</td><td> 4.82</td><td>7.26</td><td> 6.44</td><td>8</td><td>7.91</td></tr>\n",
       "\t<tr><th scope=row>11</th><td> 5</td><td> 5.68</td><td>4.74</td><td> 5.73</td><td>8</td><td>6.89</td></tr>\n",
       "</tbody>\n",
       "</table>\n"
      ],
      "text/latex": [
       "A data.frame: 10 × 6\n",
       "\\begin{tabular}{r|llllll}\n",
       "  & X & Y1 & Y2 & Y3 & X4 & Y4\\\\\n",
       "  & <dbl> & <dbl> & <dbl> & <dbl> & <dbl> & <dbl>\\\\\n",
       "\\hline\n",
       "\t1 & 10 &  8.04 & 9.14 &  7.46 & 8 & 6.58\\\\\n",
       "\t2 &  8 &  6.95 & 8.14 &  6.77 & 8 & 5.76\\\\\n",
       "\t3 & 13 &  7.58 & 8.74 & 12.74 & 8 & 7.71\\\\\n",
       "\t4 &  9 &  8.81 & 8.77 &  7.11 & 8 & 8.84\\\\\n",
       "\t5 & 11 &  8.33 & 9.26 &  7.81 & 8 & 8.47\\\\\n",
       "\t6 & 14 &  9.96 & 8.10 &  8.84 & 8 & 7.04\\\\\n",
       "\t7 &  6 &  7.24 & 6.13 &  6.08 & 8 & 5.25\\\\\n",
       "\t9 & 12 & 10.84 & 9.13 &  8.15 & 8 & 5.56\\\\\n",
       "\t10 &  7 &  4.82 & 7.26 &  6.44 & 8 & 7.91\\\\\n",
       "\t11 &  5 &  5.68 & 4.74 &  5.73 & 8 & 6.89\\\\\n",
       "\\end{tabular}\n"
      ],
      "text/markdown": [
       "\n",
       "A data.frame: 10 × 6\n",
       "\n",
       "| <!--/--> | X &lt;dbl&gt; | Y1 &lt;dbl&gt; | Y2 &lt;dbl&gt; | Y3 &lt;dbl&gt; | X4 &lt;dbl&gt; | Y4 &lt;dbl&gt; |\n",
       "|---|---|---|---|---|---|---|\n",
       "| 1 | 10 |  8.04 | 9.14 |  7.46 | 8 | 6.58 |\n",
       "| 2 |  8 |  6.95 | 8.14 |  6.77 | 8 | 5.76 |\n",
       "| 3 | 13 |  7.58 | 8.74 | 12.74 | 8 | 7.71 |\n",
       "| 4 |  9 |  8.81 | 8.77 |  7.11 | 8 | 8.84 |\n",
       "| 5 | 11 |  8.33 | 9.26 |  7.81 | 8 | 8.47 |\n",
       "| 6 | 14 |  9.96 | 8.10 |  8.84 | 8 | 7.04 |\n",
       "| 7 |  6 |  7.24 | 6.13 |  6.08 | 8 | 5.25 |\n",
       "| 9 | 12 | 10.84 | 9.13 |  8.15 | 8 | 5.56 |\n",
       "| 10 |  7 |  4.82 | 7.26 |  6.44 | 8 | 7.91 |\n",
       "| 11 |  5 |  5.68 | 4.74 |  5.73 | 8 | 6.89 |\n",
       "\n"
      ],
      "text/plain": [
       "   X  Y1    Y2   Y3    X4 Y4  \n",
       "1  10  8.04 9.14  7.46 8  6.58\n",
       "2   8  6.95 8.14  6.77 8  5.76\n",
       "3  13  7.58 8.74 12.74 8  7.71\n",
       "4   9  8.81 8.77  7.11 8  8.84\n",
       "5  11  8.33 9.26  7.81 8  8.47\n",
       "6  14  9.96 8.10  8.84 8  7.04\n",
       "7   6  7.24 6.13  6.08 8  5.25\n",
       "9  12 10.84 9.13  8.15 8  5.56\n",
       "10  7  4.82 7.26  6.44 8  7.91\n",
       "11  5  5.68 4.74  5.73 8  6.89"
      ]
     },
     "metadata": {},
     "output_type": "display_data"
    },
    {
     "data": {
      "text/plain": [
       "\n",
       "Call:\n",
       "lm(formula = Y4 ~ X4, data = A[-8, ])\n",
       "\n",
       "Residuals:\n",
       "   Min     1Q Median     3Q    Max \n",
       "-1.751 -1.036 -0.036  0.859  1.839 \n",
       "\n",
       "Coefficients: (1 not defined because of singularities)\n",
       "            Estimate Std. Error t value Pr(>|t|)    \n",
       "(Intercept)   7.0010     0.3908   17.92 2.39e-08 ***\n",
       "X4                NA         NA      NA       NA    \n",
       "---\n",
       "Signif. codes:  0 '***' 0.001 '**' 0.01 '*' 0.05 '.' 0.1 ' ' 1\n",
       "\n",
       "Residual standard error: 1.236 on 9 degrees of freedom\n"
      ]
     },
     "metadata": {},
     "output_type": "display_data"
    }
   ],
   "source": [
    "A[-8,]\n",
    "summary(lm(Y4~X4,data=A[-8,]))"
   ]
  },
  {
   "cell_type": "code",
   "execution_count": null,
   "id": "0cf8b4bf",
   "metadata": {},
   "outputs": [],
   "source": []
  }
 ],
 "metadata": {
  "kernelspec": {
   "display_name": "R",
   "language": "R",
   "name": "ir"
  },
  "language_info": {
   "codemirror_mode": "r",
   "file_extension": ".r",
   "mimetype": "text/x-r-source",
   "name": "R",
   "pygments_lexer": "r",
   "version": "4.2.1"
  }
 },
 "nbformat": 4,
 "nbformat_minor": 5
}
