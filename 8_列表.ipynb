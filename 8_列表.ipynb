{
 "cells": [
  {
   "cell_type": "markdown",
   "id": "4c33b80e",
   "metadata": {},
   "source": [
    "# 列表"
   ]
  },
  {
   "cell_type": "markdown",
   "id": "8aecc52e",
   "metadata": {},
   "source": [
    "### 列表的构造"
   ]
  },
  {
   "cell_type": "code",
   "execution_count": null,
   "id": "14bc58d1",
   "metadata": {},
   "outputs": [],
   "source": [
    "#列表是一种对象集合，有下标、各元素类型可以是任意对象"
   ]
  },
  {
   "cell_type": "code",
   "execution_count": 36,
   "id": "307cb98b",
   "metadata": {},
   "outputs": [
    {
     "data": {
      "text/html": [
       "<dl>\n",
       "\t<dt>$name</dt>\n",
       "\t\t<dd>'Fred'</dd>\n",
       "\t<dt>$wife</dt>\n",
       "\t\t<dd>'Mary'</dd>\n",
       "\t<dt>$no.childern</dt>\n",
       "\t\t<dd>3</dd>\n",
       "\t<dt>$chil.ages</dt>\n",
       "\t\t<dd><style>\n",
       ".list-inline {list-style: none; margin:0; padding: 0}\n",
       ".list-inline>li {display: inline-block}\n",
       ".list-inline>li:not(:last-child)::after {content: \"\\00b7\"; padding: 0 .5ex}\n",
       "</style>\n",
       "<ol class=list-inline><li>4</li><li>7</li><li>9</li></ol>\n",
       "</dd>\n",
       "</dl>\n"
      ],
      "text/latex": [
       "\\begin{description}\n",
       "\\item[\\$name] 'Fred'\n",
       "\\item[\\$wife] 'Mary'\n",
       "\\item[\\$no.childern] 3\n",
       "\\item[\\$chil.ages] \\begin{enumerate*}\n",
       "\\item 4\n",
       "\\item 7\n",
       "\\item 9\n",
       "\\end{enumerate*}\n",
       "\n",
       "\\end{description}\n"
      ],
      "text/markdown": [
       "$name\n",
       ":   'Fred'\n",
       "$wife\n",
       ":   'Mary'\n",
       "$no.childern\n",
       ":   3\n",
       "$chil.ages\n",
       ":   1. 4\n",
       "2. 7\n",
       "3. 9\n",
       "\n",
       "\n",
       "\n",
       "\n",
       "\n"
      ],
      "text/plain": [
       "$name\n",
       "[1] \"Fred\"\n",
       "\n",
       "$wife\n",
       "[1] \"Mary\"\n",
       "\n",
       "$no.childern\n",
       "[1] 3\n",
       "\n",
       "$chil.ages\n",
       "[1] 4 7 9\n"
      ]
     },
     "metadata": {},
     "output_type": "display_data"
    }
   ],
   "source": [
    "list(name='Fred', wife='Mary', no.childern=3, chil.ages=c(4,7,9))\n"
   ]
  },
  {
   "cell_type": "code",
   "execution_count": 37,
   "id": "dbf4f3a8",
   "metadata": {},
   "outputs": [],
   "source": [
    "#用列表名[[下标]]格式引用元素\n",
    "List <- list(name='Fred', wife='Mary', no.childern=3, chil.ages=c(4,7,9))"
   ]
  },
  {
   "cell_type": "code",
   "execution_count": 38,
   "id": "f98a275c",
   "metadata": {},
   "outputs": [
    {
     "data": {
      "text/html": [
       "<strong>$wife</strong> = 'Mary'"
      ],
      "text/latex": [
       "\\textbf{\\$wife} = 'Mary'"
      ],
      "text/markdown": [
       "**$wife** = 'Mary'"
      ],
      "text/plain": [
       "$wife\n",
       "[1] \"Mary\"\n"
      ]
     },
     "metadata": {},
     "output_type": "display_data"
    },
    {
     "data": {
      "text/html": [
       "'Mary'"
      ],
      "text/latex": [
       "'Mary'"
      ],
      "text/markdown": [
       "'Mary'"
      ],
      "text/plain": [
       "[1] \"Mary\""
      ]
     },
     "metadata": {},
     "output_type": "display_data"
    }
   ],
   "source": [
    "List[2]\n",
    "List[[2]]"
   ]
  },
  {
   "cell_type": "code",
   "execution_count": 39,
   "id": "93018adc",
   "metadata": {},
   "outputs": [
    {
     "data": {
      "text/html": [
       "<strong>$chil.ages</strong> = <style>\n",
       ".list-inline {list-style: none; margin:0; padding: 0}\n",
       ".list-inline>li {display: inline-block}\n",
       ".list-inline>li:not(:last-child)::after {content: \"\\00b7\"; padding: 0 .5ex}\n",
       "</style>\n",
       "<ol class=list-inline><li>4</li><li>7</li><li>9</li></ol>\n"
      ],
      "text/latex": [
       "\\textbf{\\$chil.ages} = \\begin{enumerate*}\n",
       "\\item 4\n",
       "\\item 7\n",
       "\\item 9\n",
       "\\end{enumerate*}\n"
      ],
      "text/markdown": [
       "**$chil.ages** = 1. 4\n",
       "2. 7\n",
       "3. 9\n",
       "\n",
       "\n"
      ],
      "text/plain": [
       "$chil.ages\n",
       "[1] 4 7 9\n"
      ]
     },
     "metadata": {},
     "output_type": "display_data"
    },
    {
     "data": {
      "text/html": [
       "<style>\n",
       ".list-inline {list-style: none; margin:0; padding: 0}\n",
       ".list-inline>li {display: inline-block}\n",
       ".list-inline>li:not(:last-child)::after {content: \"\\00b7\"; padding: 0 .5ex}\n",
       "</style>\n",
       "<ol class=list-inline><li>4</li><li>7</li><li>9</li></ol>\n"
      ],
      "text/latex": [
       "\\begin{enumerate*}\n",
       "\\item 4\n",
       "\\item 7\n",
       "\\item 9\n",
       "\\end{enumerate*}\n"
      ],
      "text/markdown": [
       "1. 4\n",
       "2. 7\n",
       "3. 9\n",
       "\n",
       "\n"
      ],
      "text/plain": [
       "[1] 4 7 9"
      ]
     },
     "metadata": {},
     "output_type": "display_data"
    }
   ],
   "source": [
    "List[4]\n",
    "List[[4]]"
   ]
  },
  {
   "cell_type": "code",
   "execution_count": 40,
   "id": "91b5501a",
   "metadata": {},
   "outputs": [
    {
     "data": {
      "text/html": [
       "7"
      ],
      "text/latex": [
       "7"
      ],
      "text/markdown": [
       "7"
      ],
      "text/plain": [
       "[1] 7"
      ]
     },
     "metadata": {},
     "output_type": "display_data"
    }
   ],
   "source": [
    "List[[4]][2]"
   ]
  },
  {
   "cell_type": "code",
   "execution_count": 41,
   "id": "b007d5da",
   "metadata": {},
   "outputs": [
    {
     "ename": "ERROR",
     "evalue": "Error in List[[1:2]]: 下标出界\n",
     "output_type": "error",
     "traceback": [
      "Error in List[[1:2]]: 下标出界\nTraceback:\n"
     ]
    }
   ],
   "source": [
    "#注意！列表不同于向量，每次只能引用一个元素\n",
    "List[[1:2]]"
   ]
  },
  {
   "cell_type": "code",
   "execution_count": 42,
   "id": "0dfbb1b1",
   "metadata": {},
   "outputs": [
    {
     "data": {
      "text/html": [
       "<dl>\n",
       "\t<dt>$name</dt>\n",
       "\t\t<dd>'Fred'</dd>\n",
       "\t<dt>$wife</dt>\n",
       "\t\t<dd>'Mary'</dd>\n",
       "</dl>\n"
      ],
      "text/latex": [
       "\\begin{description}\n",
       "\\item[\\$name] 'Fred'\n",
       "\\item[\\$wife] 'Mary'\n",
       "\\end{description}\n"
      ],
      "text/markdown": [
       "$name\n",
       ":   'Fred'\n",
       "$wife\n",
       ":   'Mary'\n",
       "\n",
       "\n"
      ],
      "text/plain": [
       "$name\n",
       "[1] \"Fred\"\n",
       "\n",
       "$wife\n",
       "[1] \"Mary\"\n"
      ]
     },
     "metadata": {},
     "output_type": "display_data"
    },
    {
     "data": {
      "text/html": [
       "'list'"
      ],
      "text/latex": [
       "'list'"
      ],
      "text/markdown": [
       "'list'"
      ],
      "text/plain": [
       "[1] \"list\""
      ]
     },
     "metadata": {},
     "output_type": "display_data"
    }
   ],
   "source": [
    "#但与特殊属性(名字)一起整体引用，可以！但结果返回的是原列表的一个子列表\n",
    "List[1:2]\n",
    "mode(List[1:2])"
   ]
  },
  {
   "cell_type": "code",
   "execution_count": 43,
   "id": "cd70bc43",
   "metadata": {},
   "outputs": [
    {
     "data": {
      "text/html": [
       "'Fred'"
      ],
      "text/latex": [
       "'Fred'"
      ],
      "text/markdown": [
       "'Fred'"
      ],
      "text/plain": [
       "[1] \"Fred\""
      ]
     },
     "metadata": {},
     "output_type": "display_data"
    }
   ],
   "source": [
    "#引用列表元素可以用名字作为下标\n",
    "List[[\"name\"]]"
   ]
  },
  {
   "cell_type": "code",
   "execution_count": 44,
   "id": "7447b594",
   "metadata": {},
   "outputs": [
    {
     "data": {
      "text/html": [
       "<style>\n",
       ".list-inline {list-style: none; margin:0; padding: 0}\n",
       ".list-inline>li {display: inline-block}\n",
       ".list-inline>li:not(:last-child)::after {content: \"\\00b7\"; padding: 0 .5ex}\n",
       "</style>\n",
       "<ol class=list-inline><li>4</li><li>7</li><li>9</li></ol>\n"
      ],
      "text/latex": [
       "\\begin{enumerate*}\n",
       "\\item 4\n",
       "\\item 7\n",
       "\\item 9\n",
       "\\end{enumerate*}\n"
      ],
      "text/markdown": [
       "1. 4\n",
       "2. 7\n",
       "3. 9\n",
       "\n",
       "\n"
      ],
      "text/plain": [
       "[1] 4 7 9"
      ]
     },
     "metadata": {},
     "output_type": "display_data"
    }
   ],
   "source": [
    "List[[\"chil.ages\"]]"
   ]
  },
  {
   "cell_type": "markdown",
   "id": "2e7dffb8",
   "metadata": {},
   "source": [
    "### 列表的修改"
   ]
  },
  {
   "cell_type": "code",
   "execution_count": 45,
   "id": "d047ab43",
   "metadata": {},
   "outputs": [
    {
     "data": {
      "text/html": [
       "<dl>\n",
       "\t<dt>$name</dt>\n",
       "\t\t<dd>'Fred'</dd>\n",
       "\t<dt>$wife</dt>\n",
       "\t\t<dd>'Mary'</dd>\n",
       "\t<dt>$no.childern</dt>\n",
       "\t\t<dd>3</dd>\n",
       "\t<dt>$chil.ages</dt>\n",
       "\t\t<dd><style>\n",
       ".list-inline {list-style: none; margin:0; padding: 0}\n",
       ".list-inline>li {display: inline-block}\n",
       ".list-inline>li:not(:last-child)::after {content: \"\\00b7\"; padding: 0 .5ex}\n",
       "</style>\n",
       "<ol class=list-inline><li>4</li><li>7</li><li>9</li></ol>\n",
       "</dd>\n",
       "</dl>\n"
      ],
      "text/latex": [
       "\\begin{description}\n",
       "\\item[\\$name] 'Fred'\n",
       "\\item[\\$wife] 'Mary'\n",
       "\\item[\\$no.childern] 3\n",
       "\\item[\\$chil.ages] \\begin{enumerate*}\n",
       "\\item 4\n",
       "\\item 7\n",
       "\\item 9\n",
       "\\end{enumerate*}\n",
       "\n",
       "\\end{description}\n"
      ],
      "text/markdown": [
       "$name\n",
       ":   'Fred'\n",
       "$wife\n",
       ":   'Mary'\n",
       "$no.childern\n",
       ":   3\n",
       "$chil.ages\n",
       ":   1. 4\n",
       "2. 7\n",
       "3. 9\n",
       "\n",
       "\n",
       "\n",
       "\n",
       "\n"
      ],
      "text/plain": [
       "$name\n",
       "[1] \"Fred\"\n",
       "\n",
       "$wife\n",
       "[1] \"Mary\"\n",
       "\n",
       "$no.childern\n",
       "[1] 3\n",
       "\n",
       "$chil.ages\n",
       "[1] 4 7 9\n"
      ]
     },
     "metadata": {},
     "output_type": "display_data"
    }
   ],
   "source": [
    "List"
   ]
  },
  {
   "cell_type": "code",
   "execution_count": 47,
   "id": "e8a77951",
   "metadata": {},
   "outputs": [
    {
     "name": "stdout",
     "output_type": "stream",
     "text": [
      "$name\n",
      "[1] \"John\"\n",
      "\n",
      "$wife\n",
      "[1] \"Mary\"\n",
      "\n",
      "$no.childern\n",
      "[1] 3\n",
      "\n",
      "$chil.ages\n",
      "[1] 4 7 9\n",
      "\n"
     ]
    }
   ],
   "source": [
    "List$name  <- \"John\"\n",
    "print(List)"
   ]
  },
  {
   "cell_type": "code",
   "execution_count": 49,
   "id": "d02518ce",
   "metadata": {},
   "outputs": [
    {
     "data": {
      "text/html": [
       "<ol>\n",
       "\t<li><style>\n",
       ".list-inline {list-style: none; margin:0; padding: 0}\n",
       ".list-inline>li {display: inline-block}\n",
       ".list-inline>li:not(:last-child)::after {content: \"\\00b7\"; padding: 0 .5ex}\n",
       "</style>\n",
       "<ol class=list-inline><li>123</li><li>123</li></ol>\n",
       "</li>\n",
       "\t<li>'星'</li>\n",
       "</ol>\n"
      ],
      "text/latex": [
       "\\begin{enumerate}\n",
       "\\item \\begin{enumerate*}\n",
       "\\item 123\n",
       "\\item 123\n",
       "\\end{enumerate*}\n",
       "\n",
       "\\item '星'\n",
       "\\end{enumerate}\n"
      ],
      "text/markdown": [
       "1. 1. 123\n",
       "2. 123\n",
       "\n",
       "\n",
       "\n",
       "2. '星'\n",
       "\n",
       "\n"
      ],
      "text/plain": [
       "[[1]]\n",
       "[1] 123 123\n",
       "\n",
       "[[2]]\n",
       "[1] \"星\"\n"
      ]
     },
     "metadata": {},
     "output_type": "display_data"
    },
    {
     "data": {
      "text/html": [
       "<ol>\n",
       "\t<li><style>\n",
       ".list-inline {list-style: none; margin:0; padding: 0}\n",
       ".list-inline>li {display: inline-block}\n",
       ".list-inline>li:not(:last-child)::after {content: \"\\00b7\"; padding: 0 .5ex}\n",
       "</style>\n",
       "<ol class=list-inline><li>123</li><li>123</li></ol>\n",
       "</li>\n",
       "\t<li>'xing'</li>\n",
       "</ol>\n"
      ],
      "text/latex": [
       "\\begin{enumerate}\n",
       "\\item \\begin{enumerate*}\n",
       "\\item 123\n",
       "\\item 123\n",
       "\\end{enumerate*}\n",
       "\n",
       "\\item 'xing'\n",
       "\\end{enumerate}\n"
      ],
      "text/markdown": [
       "1. 1. 123\n",
       "2. 123\n",
       "\n",
       "\n",
       "\n",
       "2. 'xing'\n",
       "\n",
       "\n"
      ],
      "text/plain": [
       "[[1]]\n",
       "[1] 123 123\n",
       "\n",
       "[[2]]\n",
       "[1] \"xing\"\n"
      ]
     },
     "metadata": {},
     "output_type": "display_data"
    }
   ],
   "source": [
    "#几个列表可以用链接函数c（）连接起来，结果仍是一个列表\n",
    "ListA <- list(c(123,123),\"星\")\n",
    "ListB <- list(c(123,123),\"xing\")\n",
    "ListA\n",
    "ListB"
   ]
  },
  {
   "cell_type": "code",
   "execution_count": 50,
   "id": "bac204be",
   "metadata": {
    "scrolled": true
   },
   "outputs": [
    {
     "data": {
      "text/html": [
       "<dl>\n",
       "\t<dt>$name</dt>\n",
       "\t\t<dd>'John'</dd>\n",
       "\t<dt>$wife</dt>\n",
       "\t\t<dd>'Mary'</dd>\n",
       "\t<dt>$no.childern</dt>\n",
       "\t\t<dd>3</dd>\n",
       "\t<dt>$chil.ages</dt>\n",
       "\t\t<dd><style>\n",
       ".list-inline {list-style: none; margin:0; padding: 0}\n",
       ".list-inline>li {display: inline-block}\n",
       ".list-inline>li:not(:last-child)::after {content: \"\\00b7\"; padding: 0 .5ex}\n",
       "</style>\n",
       "<ol class=list-inline><li>4</li><li>7</li><li>9</li></ol>\n",
       "</dd>\n",
       "\t<dt>[[5]]</dt>\n",
       "\t\t<dd><style>\n",
       ".list-inline {list-style: none; margin:0; padding: 0}\n",
       ".list-inline>li {display: inline-block}\n",
       ".list-inline>li:not(:last-child)::after {content: \"\\00b7\"; padding: 0 .5ex}\n",
       "</style>\n",
       "<ol class=list-inline><li>123</li><li>123</li></ol>\n",
       "</dd>\n",
       "\t<dt>[[6]]</dt>\n",
       "\t\t<dd>'星'</dd>\n",
       "\t<dt>[[7]]</dt>\n",
       "\t\t<dd><style>\n",
       ".list-inline {list-style: none; margin:0; padding: 0}\n",
       ".list-inline>li {display: inline-block}\n",
       ".list-inline>li:not(:last-child)::after {content: \"\\00b7\"; padding: 0 .5ex}\n",
       "</style>\n",
       "<ol class=list-inline><li>123</li><li>123</li></ol>\n",
       "</dd>\n",
       "\t<dt>[[8]]</dt>\n",
       "\t\t<dd>'xing'</dd>\n",
       "</dl>\n"
      ],
      "text/latex": [
       "\\begin{description}\n",
       "\\item[\\$name] 'John'\n",
       "\\item[\\$wife] 'Mary'\n",
       "\\item[\\$no.childern] 3\n",
       "\\item[\\$chil.ages] \\begin{enumerate*}\n",
       "\\item 4\n",
       "\\item 7\n",
       "\\item 9\n",
       "\\end{enumerate*}\n",
       "\n",
       "\\item[{[[5]]}] \\begin{enumerate*}\n",
       "\\item 123\n",
       "\\item 123\n",
       "\\end{enumerate*}\n",
       "\n",
       "\\item[{[[6]]}] '星'\n",
       "\\item[{[[7]]}] \\begin{enumerate*}\n",
       "\\item 123\n",
       "\\item 123\n",
       "\\end{enumerate*}\n",
       "\n",
       "\\item[{[[8]]}] 'xing'\n",
       "\\end{description}\n"
      ],
      "text/markdown": [
       "$name\n",
       ":   'John'\n",
       "$wife\n",
       ":   'Mary'\n",
       "$no.childern\n",
       ":   3\n",
       "$chil.ages\n",
       ":   1. 4\n",
       "2. 7\n",
       "3. 9\n",
       "\n",
       "\n",
       "\n",
       "[[5]]\n",
       ":   1. 123\n",
       "2. 123\n",
       "\n",
       "\n",
       "\n",
       "[[6]]\n",
       ":   '星'\n",
       "[[7]]\n",
       ":   1. 123\n",
       "2. 123\n",
       "\n",
       "\n",
       "\n",
       "[[8]]\n",
       ":   'xing'\n",
       "\n",
       "\n"
      ],
      "text/plain": [
       "$name\n",
       "[1] \"John\"\n",
       "\n",
       "$wife\n",
       "[1] \"Mary\"\n",
       "\n",
       "$no.childern\n",
       "[1] 3\n",
       "\n",
       "$chil.ages\n",
       "[1] 4 7 9\n",
       "\n",
       "[[5]]\n",
       "[1] 123 123\n",
       "\n",
       "[[6]]\n",
       "[1] \"星\"\n",
       "\n",
       "[[7]]\n",
       "[1] 123 123\n",
       "\n",
       "[[8]]\n",
       "[1] \"xing\"\n"
      ]
     },
     "metadata": {},
     "output_type": "display_data"
    }
   ],
   "source": [
    "c(List,ListA,ListB)"
   ]
  },
  {
   "cell_type": "code",
   "execution_count": 51,
   "id": "7e4f70f5",
   "metadata": {},
   "outputs": [
    {
     "data": {
      "text/html": [
       "'list'"
      ],
      "text/latex": [
       "'list'"
      ],
      "text/markdown": [
       "'list'"
      ],
      "text/plain": [
       "[1] \"list\""
      ]
     },
     "metadata": {},
     "output_type": "display_data"
    }
   ],
   "source": [
    "mode(c(List,ListA,ListB))"
   ]
  },
  {
   "cell_type": "code",
   "execution_count": null,
   "id": "636aecbf",
   "metadata": {},
   "outputs": [],
   "source": []
  }
 ],
 "metadata": {
  "kernelspec": {
   "display_name": "R",
   "language": "R",
   "name": "ir"
  },
  "language_info": {
   "codemirror_mode": "r",
   "file_extension": ".r",
   "mimetype": "text/x-r-source",
   "name": "R",
   "pygments_lexer": "r",
   "version": "3.6.3"
  }
 },
 "nbformat": 4,
 "nbformat_minor": 5
}
