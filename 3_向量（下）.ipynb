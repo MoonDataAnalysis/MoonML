{
 "cells": [
  {
   "cell_type": "markdown",
   "id": "a5558ebd",
   "metadata": {},
   "source": [
    "# 缺失数据"
   ]
  },
  {
   "cell_type": "code",
   "execution_count": null,
   "id": "92c5f4c8",
   "metadata": {},
   "outputs": [],
   "source": [
    "#三种常见的数据缺失：NaN, 无穷,NA,"
   ]
  },
  {
   "cell_type": "code",
   "execution_count": 71,
   "id": "1326498d",
   "metadata": {},
   "outputs": [
    {
     "name": "stdout",
     "output_type": "stream",
     "text": [
      "[1] NaN Inf  NA\n"
     ]
    }
   ],
   "source": [
    "a = c(NaN, Inf, NA)\n",
    "print(a)"
   ]
  },
  {
   "cell_type": "code",
   "execution_count": 72,
   "id": "f2513644",
   "metadata": {},
   "outputs": [
    {
     "data": {
      "text/html": [
       "<style>\n",
       ".list-inline {list-style: none; margin:0; padding: 0}\n",
       ".list-inline>li {display: inline-block}\n",
       ".list-inline>li:not(:last-child)::after {content: \"\\00b7\"; padding: 0 .5ex}\n",
       "</style>\n",
       "<ol class=list-inline><li>TRUE</li><li>FALSE</li><li>TRUE</li></ol>\n"
      ],
      "text/latex": [
       "\\begin{enumerate*}\n",
       "\\item TRUE\n",
       "\\item FALSE\n",
       "\\item TRUE\n",
       "\\end{enumerate*}\n"
      ],
      "text/markdown": [
       "1. TRUE\n",
       "2. FALSE\n",
       "3. TRUE\n",
       "\n",
       "\n"
      ],
      "text/plain": [
       "[1]  TRUE FALSE  TRUE"
      ]
     },
     "metadata": {},
     "output_type": "display_data"
    },
    {
     "data": {
      "text/html": [
       "<style>\n",
       ".list-inline {list-style: none; margin:0; padding: 0}\n",
       ".list-inline>li {display: inline-block}\n",
       ".list-inline>li:not(:last-child)::after {content: \"\\00b7\"; padding: 0 .5ex}\n",
       "</style>\n",
       "<ol class=list-inline><li>TRUE</li><li>FALSE</li><li>FALSE</li></ol>\n"
      ],
      "text/latex": [
       "\\begin{enumerate*}\n",
       "\\item TRUE\n",
       "\\item FALSE\n",
       "\\item FALSE\n",
       "\\end{enumerate*}\n"
      ],
      "text/markdown": [
       "1. TRUE\n",
       "2. FALSE\n",
       "3. FALSE\n",
       "\n",
       "\n"
      ],
      "text/plain": [
       "[1]  TRUE FALSE FALSE"
      ]
     },
     "metadata": {},
     "output_type": "display_data"
    },
    {
     "data": {
      "text/html": [
       "<style>\n",
       ".list-inline {list-style: none; margin:0; padding: 0}\n",
       ".list-inline>li {display: inline-block}\n",
       ".list-inline>li:not(:last-child)::after {content: \"\\00b7\"; padding: 0 .5ex}\n",
       "</style>\n",
       "<ol class=list-inline><li>FALSE</li><li>FALSE</li><li>FALSE</li></ol>\n"
      ],
      "text/latex": [
       "\\begin{enumerate*}\n",
       "\\item FALSE\n",
       "\\item FALSE\n",
       "\\item FALSE\n",
       "\\end{enumerate*}\n"
      ],
      "text/markdown": [
       "1. FALSE\n",
       "2. FALSE\n",
       "3. FALSE\n",
       "\n",
       "\n"
      ],
      "text/plain": [
       "[1] FALSE FALSE FALSE"
      ]
     },
     "metadata": {},
     "output_type": "display_data"
    }
   ],
   "source": [
    "#分别使用is.na(), is.finite(),is.nan()做判断\n",
    "is.na(a)\n",
    "is.nan(a)\n",
    "is.finite(a)"
   ]
  },
  {
   "cell_type": "markdown",
   "id": "e82a5886",
   "metadata": {},
   "source": [
    "# 字符型向量"
   ]
  },
  {
   "cell_type": "code",
   "execution_count": 73,
   "id": "067db761",
   "metadata": {},
   "outputs": [
    {
     "name": "stdout",
     "output_type": "stream",
     "text": [
      "[1] \"er\"  \"sdf\" \"eir\"\n"
     ]
    }
   ],
   "source": [
    "#向量元素可以取字符串值，例如\n",
    "y <- c('er','sdf','eir')\n",
    "print(y)"
   ]
  },
  {
   "cell_type": "code",
   "execution_count": 74,
   "id": "eacf7d2f",
   "metadata": {},
   "outputs": [
    {
     "name": "stdout",
     "output_type": "stream",
     "text": [
      "[1] \"er\"  \"sdf\" \"eir\"\n"
     ]
    }
   ],
   "source": [
    "#或者\n",
    " c('er','sdf','eir') -> y\n",
    "print(y)"
   ]
  },
  {
   "cell_type": "code",
   "execution_count": 75,
   "id": "9a1ca817",
   "metadata": {},
   "outputs": [
    {
     "data": {
      "text/html": [
       "'MY JOB'"
      ],
      "text/latex": [
       "'MY JOB'"
      ],
      "text/markdown": [
       "'MY JOB'"
      ],
      "text/plain": [
       "[1] \"MY JOB\""
      ]
     },
     "metadata": {},
     "output_type": "display_data"
    }
   ],
   "source": [
    "#可以使用paster函数把它的自变量连成一个字符串，中间用空格分开，例如\n",
    "paste('MY','JOB')"
   ]
  },
  {
   "cell_type": "code",
   "execution_count": null,
   "id": "5e56a1ca",
   "metadata": {},
   "outputs": [],
   "source": [
    "#连接的自变量可以是向量，这时各对应元素连接起来，长度不相同时较短的向量被重复使用。\n",
    "#自变量可以是数值向量，连接时紫铜转换成适当的字符串表示。"
   ]
  },
  {
   "cell_type": "code",
   "execution_count": 77,
   "id": "124b98d6",
   "metadata": {},
   "outputs": [
    {
     "data": {
      "text/html": [
       "<style>\n",
       ".list-inline {list-style: none; margin:0; padding: 0}\n",
       ".list-inline>li {display: inline-block}\n",
       ".list-inline>li:not(:last-child)::after {content: \"\\00b7\"; padding: 0 .5ex}\n",
       "</style>\n",
       "<ol class=list-inline><li>'X 1'</li><li>'X 2'</li><li>'X 3'</li><li>'X 4'</li><li>'X 5'</li><li>'X 6'</li></ol>\n"
      ],
      "text/latex": [
       "\\begin{enumerate*}\n",
       "\\item 'X 1'\n",
       "\\item 'X 2'\n",
       "\\item 'X 3'\n",
       "\\item 'X 4'\n",
       "\\item 'X 5'\n",
       "\\item 'X 6'\n",
       "\\end{enumerate*}\n"
      ],
      "text/markdown": [
       "1. 'X 1'\n",
       "2. 'X 2'\n",
       "3. 'X 3'\n",
       "4. 'X 4'\n",
       "5. 'X 5'\n",
       "6. 'X 6'\n",
       "\n",
       "\n"
      ],
      "text/plain": [
       "[1] \"X 1\" \"X 2\" \"X 3\" \"X 4\" \"X 5\" \"X 6\""
      ]
     },
     "metadata": {},
     "output_type": "display_data"
    }
   ],
   "source": [
    "paste(\"X\",1:6,sep=\" \")"
   ]
  },
  {
   "cell_type": "code",
   "execution_count": null,
   "id": "5d101c84",
   "metadata": {},
   "outputs": [],
   "source": [
    "#关于paste函数还有以下几种用法"
   ]
  },
  {
   "cell_type": "code",
   "execution_count": 78,
   "id": "cd1eb86a",
   "metadata": {},
   "outputs": [
    {
     "data": {
      "text/html": [
       "<style>\n",
       ".list-inline {list-style: none; margin:0; padding: 0}\n",
       ".list-inline>li {display: inline-block}\n",
       ".list-inline>li:not(:last-child)::after {content: \"\\00b7\"; padding: 0 .5ex}\n",
       "</style>\n",
       "<ol class=list-inline><li>'1'</li><li>'2'</li><li>'3'</li><li>'4'</li><li>'5'</li><li>'6'</li><li>'7'</li><li>'8'</li><li>'9'</li><li>'10'</li></ol>\n"
      ],
      "text/latex": [
       "\\begin{enumerate*}\n",
       "\\item '1'\n",
       "\\item '2'\n",
       "\\item '3'\n",
       "\\item '4'\n",
       "\\item '5'\n",
       "\\item '6'\n",
       "\\item '7'\n",
       "\\item '8'\n",
       "\\item '9'\n",
       "\\item '10'\n",
       "\\end{enumerate*}\n"
      ],
      "text/markdown": [
       "1. '1'\n",
       "2. '2'\n",
       "3. '3'\n",
       "4. '4'\n",
       "5. '5'\n",
       "6. '6'\n",
       "7. '7'\n",
       "8. '8'\n",
       "9. '9'\n",
       "10. '10'\n",
       "\n",
       "\n"
      ],
      "text/plain": [
       " [1] \"1\"  \"2\"  \"3\"  \"4\"  \"5\"  \"6\"  \"7\"  \"8\"  \"9\"  \"10\""
      ]
     },
     "metadata": {},
     "output_type": "display_data"
    },
    {
     "data": {
      "text/html": [
       "<style>\n",
       ".list-inline {list-style: none; margin:0; padding: 0}\n",
       ".list-inline>li {display: inline-block}\n",
       ".list-inline>li:not(:last-child)::after {content: \"\\00b7\"; padding: 0 .5ex}\n",
       "</style>\n",
       "<ol class=list-inline><li>'1'</li><li>'2'</li><li>'3'</li><li>'4'</li><li>'5'</li><li>'6'</li><li>'7'</li><li>'8'</li><li>'9'</li><li>'10'</li></ol>\n"
      ],
      "text/latex": [
       "\\begin{enumerate*}\n",
       "\\item '1'\n",
       "\\item '2'\n",
       "\\item '3'\n",
       "\\item '4'\n",
       "\\item '5'\n",
       "\\item '6'\n",
       "\\item '7'\n",
       "\\item '8'\n",
       "\\item '9'\n",
       "\\item '10'\n",
       "\\end{enumerate*}\n"
      ],
      "text/markdown": [
       "1. '1'\n",
       "2. '2'\n",
       "3. '3'\n",
       "4. '4'\n",
       "5. '5'\n",
       "6. '6'\n",
       "7. '7'\n",
       "8. '8'\n",
       "9. '9'\n",
       "10. '10'\n",
       "\n",
       "\n"
      ],
      "text/plain": [
       " [1] \"1\"  \"2\"  \"3\"  \"4\"  \"5\"  \"6\"  \"7\"  \"8\"  \"9\"  \"10\""
      ]
     },
     "metadata": {},
     "output_type": "display_data"
    }
   ],
   "source": [
    "paste(1:10)\n",
    "as.character(1:10)"
   ]
  },
  {
   "cell_type": "code",
   "execution_count": 79,
   "id": "b3dfb3c7",
   "metadata": {},
   "outputs": [
    {
     "data": {
      "text/html": [
       "'Today is Sun Oct 23 14:58:08 2022'"
      ],
      "text/latex": [
       "'Today is Sun Oct 23 14:58:08 2022'"
      ],
      "text/markdown": [
       "'Today is Sun Oct 23 14:58:08 2022'"
      ],
      "text/plain": [
       "[1] \"Today is Sun Oct 23 14:58:08 2022\""
      ]
     },
     "metadata": {},
     "output_type": "display_data"
    }
   ],
   "source": [
    "paste(\"Today is\", date())"
   ]
  },
  {
   "cell_type": "code",
   "execution_count": 87,
   "id": "bd1a2a84",
   "metadata": {},
   "outputs": [
    {
     "data": {
      "text/html": [
       "'a.b'"
      ],
      "text/latex": [
       "'a.b'"
      ],
      "text/markdown": [
       "'a.b'"
      ],
      "text/plain": [
       "[1] \"a.b\""
      ]
     },
     "metadata": {},
     "output_type": "display_data"
    },
    {
     "data": {
      "text/html": [
       "'a.b'"
      ],
      "text/latex": [
       "'a.b'"
      ],
      "text/markdown": [
       "'a.b'"
      ],
      "text/plain": [
       "[1] \"a.b\""
      ]
     },
     "metadata": {},
     "output_type": "display_data"
    }
   ],
   "source": [
    "paste(c('a','b'),collapse = '.')\n",
    "paste('a','b',sep = '.')"
   ]
  },
  {
   "cell_type": "markdown",
   "id": "451c6e7b",
   "metadata": {},
   "source": [
    "# 复数向量"
   ]
  },
  {
   "cell_type": "code",
   "execution_count": null,
   "id": "3ecce109",
   "metadata": {},
   "outputs": [],
   "source": [
    "# 复数常量只要用通常的格式，如 3.5+2.li. complex模式的向量为复数元素的向量，\n",
    "#可以用complex（）函数生成复数向量\n"
   ]
  },
  {
   "cell_type": "code",
   "execution_count": 88,
   "id": "b40f5366",
   "metadata": {},
   "outputs": [
    {
     "data": {
      "text/html": [
       "3.14159265358979"
      ],
      "text/latex": [
       "3.14159265358979"
      ],
      "text/markdown": [
       "3.14159265358979"
      ],
      "text/plain": [
       "[1] 3.141593"
      ]
     },
     "metadata": {},
     "output_type": "display_data"
    }
   ],
   "source": [
    "pi"
   ]
  },
  {
   "cell_type": "code",
   "execution_count": 89,
   "id": "3a9d0cc6",
   "metadata": {},
   "outputs": [
    {
     "name": "stdout",
     "output_type": "stream",
     "text": [
      " [1] -3.1415927 -2.8274334 -2.5132741 -2.1991149 -1.8849556 -1.5707963\n",
      " [7] -1.2566371 -0.9424778 -0.6283185 -0.3141593  0.0000000  0.3141593\n",
      "[13]  0.6283185  0.9424778  1.2566371  1.5707963  1.8849556  2.1991149\n",
      "[19]  2.5132741  2.8274334  3.1415927\n"
     ]
    }
   ],
   "source": [
    "x <- seq(-pi,pi,by=pi/10)\n",
    "print(x)"
   ]
  },
  {
   "cell_type": "code",
   "execution_count": 90,
   "id": "784f3995",
   "metadata": {},
   "outputs": [
    {
     "name": "stdout",
     "output_type": "stream",
     "text": [
      " [1] -1.224606e-16 -3.090170e-01 -5.877853e-01 -8.090170e-01 -9.510565e-01\n",
      " [6] -1.000000e+00 -9.510565e-01 -8.090170e-01 -5.877853e-01 -3.090170e-01\n",
      "[11]  0.000000e+00  3.090170e-01  5.877853e-01  8.090170e-01  9.510565e-01\n",
      "[16]  1.000000e+00  9.510565e-01  8.090170e-01  5.877853e-01  3.090170e-01\n",
      "[21]  1.224606e-16\n"
     ]
    }
   ],
   "source": [
    "y <- sin(x)\n",
    "print(y)"
   ]
  },
  {
   "cell_type": "code",
   "execution_count": 91,
   "id": "03a6ebb7",
   "metadata": {},
   "outputs": [
    {
     "name": "stdout",
     "output_type": "stream",
     "text": [
      " [1] -3.1415927-0.0000000i -2.8274334-0.3090170i -2.5132741-0.5877853i\n",
      " [4] -2.1991149-0.8090170i -1.8849556-0.9510565i -1.5707963-1.0000000i\n",
      " [7] -1.2566371-0.9510565i -0.9424778-0.8090170i -0.6283185-0.5877853i\n",
      "[10] -0.3141593-0.3090170i  0.0000000+0.0000000i  0.3141593+0.3090170i\n",
      "[13]  0.6283185+0.5877853i  0.9424778+0.8090170i  1.2566371+0.9510565i\n",
      "[16]  1.5707963+1.0000000i  1.8849556+0.9510565i  2.1991149+0.8090170i\n",
      "[19]  2.5132741+0.5877853i  2.8274334+0.3090170i  3.1415927+0.0000000i\n"
     ]
    }
   ],
   "source": [
    "z <- complex(re=x, im=y)\n",
    "print(z)"
   ]
  },
  {
   "cell_type": "code",
   "execution_count": 92,
   "id": "0725673d",
   "metadata": {},
   "outputs": [
    {
     "data": {
      "image/png": "[encoded data removed]",
      "text/plain": [
       "plot without title"
      ]
     },
     "metadata": {
      "image/png": {
       "height": 420,
       "width": 420
      },
      "text/plain": {
       "height": 420,
       "width": 420
      }
     },
     "output_type": "display_data"
    }
   ],
   "source": [
    "plot(z)\n",
    "lines(z)"
   ]
  },
  {
   "cell_type": "markdown",
   "id": "cc4ebff8",
   "metadata": {},
   "source": [
    "# 向量的下标运算"
   ]
  },
  {
   "cell_type": "code",
   "execution_count": null,
   "id": "1f36c777",
   "metadata": {},
   "outputs": [],
   "source": [
    "#R中提供了十分灵活的访问向量元素和向量子集的功能。某一个元素只要用x[i]的格式访问，\n",
    "#其中x是一个向量名，i是下标"
   ]
  },
  {
   "cell_type": "code",
   "execution_count": 93,
   "id": "7cdfa68d",
   "metadata": {},
   "outputs": [
    {
     "name": "stdout",
     "output_type": "stream",
     "text": [
      "[1] 1 4 7\n"
     ]
    }
   ],
   "source": [
    "x <- c(1,4,7)\n",
    "print(x)"
   ]
  },
  {
   "cell_type": "code",
   "execution_count": 94,
   "id": "640ac9a2",
   "metadata": {},
   "outputs": [
    {
     "data": {
      "text/html": [
       "4"
      ],
      "text/latex": [
       "4"
      ],
      "text/markdown": [
       "4"
      ],
      "text/plain": [
       "[1] 4"
      ]
     },
     "metadata": {},
     "output_type": "display_data"
    }
   ],
   "source": [
    "x[2]"
   ]
  },
  {
   "cell_type": "code",
   "execution_count": 95,
   "id": "e1026f98",
   "metadata": {},
   "outputs": [
    {
     "data": {
      "text/html": [
       "8"
      ],
      "text/latex": [
       "8"
      ],
      "text/markdown": [
       "8"
      ],
      "text/plain": [
       "[1] 8"
      ]
     },
     "metadata": {},
     "output_type": "display_data"
    }
   ],
   "source": [
    "(c(1,3,5)+5)[2]"
   ]
  },
  {
   "cell_type": "code",
   "execution_count": 96,
   "id": "036a7955",
   "metadata": {},
   "outputs": [
    {
     "data": {
      "text/html": [
       "<style>\n",
       ".list-inline {list-style: none; margin:0; padding: 0}\n",
       ".list-inline>li {display: inline-block}\n",
       ".list-inline>li:not(:last-child)::after {content: \"\\00b7\"; padding: 0 .5ex}\n",
       "</style>\n",
       "<ol class=list-inline><li>1</li><li>125</li><li>7</li></ol>\n"
      ],
      "text/latex": [
       "\\begin{enumerate*}\n",
       "\\item 1\n",
       "\\item 125\n",
       "\\item 7\n",
       "\\end{enumerate*}\n"
      ],
      "text/markdown": [
       "1. 1\n",
       "2. 125\n",
       "3. 7\n",
       "\n",
       "\n"
      ],
      "text/plain": [
       "[1]   1 125   7"
      ]
     },
     "metadata": {},
     "output_type": "display_data"
    }
   ],
   "source": [
    "x[2]<-125\n",
    "x"
   ]
  },
  {
   "cell_type": "code",
   "execution_count": 97,
   "id": "1fc327c5",
   "metadata": {},
   "outputs": [
    {
     "data": {
      "text/html": [
       "<style>\n",
       ".list-inline {list-style: none; margin:0; padding: 0}\n",
       ".list-inline>li {display: inline-block}\n",
       ".list-inline>li:not(:last-child)::after {content: \"\\00b7\"; padding: 0 .5ex}\n",
       "</style>\n",
       "<ol class=list-inline><li>144</li><li>125</li><li>169</li></ol>\n"
      ],
      "text/latex": [
       "\\begin{enumerate*}\n",
       "\\item 144\n",
       "\\item 125\n",
       "\\item 169\n",
       "\\end{enumerate*}\n"
      ],
      "text/markdown": [
       "1. 144\n",
       "2. 125\n",
       "3. 169\n",
       "\n",
       "\n"
      ],
      "text/plain": [
       "[1] 144 125 169"
      ]
     },
     "metadata": {},
     "output_type": "display_data"
    }
   ],
   "source": [
    "x[c(1,3)] <- c(144,169)\n",
    "x"
   ]
  },
  {
   "cell_type": "markdown",
   "id": "e7d67522",
   "metadata": {},
   "source": [
    "### 下标的逻辑向量"
   ]
  },
  {
   "cell_type": "code",
   "execution_count": 98,
   "id": "169bf7db",
   "metadata": {},
   "outputs": [
    {
     "name": "stdout",
     "output_type": "stream",
     "text": [
      "[1] 1 4 7\n"
     ]
    }
   ],
   "source": [
    "#v为x等长的逻辑向量， x[v]表示所有v为TRUE的元素\n",
    "x <- c(1,4,7)\n",
    "print(x)"
   ]
  },
  {
   "cell_type": "code",
   "execution_count": 99,
   "id": "0d781b3c",
   "metadata": {},
   "outputs": [
    {
     "data": {
      "text/html": [
       "1"
      ],
      "text/latex": [
       "1"
      ],
      "text/markdown": [
       "1"
      ],
      "text/plain": [
       "[1] 1"
      ]
     },
     "metadata": {},
     "output_type": "display_data"
    }
   ],
   "source": [
    "x[c(TRUE,FALSE,FALSE) ]"
   ]
  },
  {
   "cell_type": "markdown",
   "id": "828dd40b",
   "metadata": {},
   "source": [
    "### 下标的整数运算"
   ]
  },
  {
   "cell_type": "code",
   "execution_count": 101,
   "id": "7866bcf5",
   "metadata": {},
   "outputs": [
    {
     "data": {
      "text/html": [
       "<style>\n",
       ".list-inline {list-style: none; margin:0; padding: 0}\n",
       ".list-inline>li {display: inline-block}\n",
       ".list-inline>li:not(:last-child)::after {content: \"\\00b7\"; padding: 0 .5ex}\n",
       "</style>\n",
       "<ol class=list-inline><li>10</li><li>11</li><li>12</li><li>13</li><li>14</li><li>15</li><li>16</li><li>17</li><li>18</li><li>19</li><li>20</li></ol>\n"
      ],
      "text/latex": [
       "\\begin{enumerate*}\n",
       "\\item 10\n",
       "\\item 11\n",
       "\\item 12\n",
       "\\item 13\n",
       "\\item 14\n",
       "\\item 15\n",
       "\\item 16\n",
       "\\item 17\n",
       "\\item 18\n",
       "\\item 19\n",
       "\\item 20\n",
       "\\end{enumerate*}\n"
      ],
      "text/markdown": [
       "1. 10\n",
       "2. 11\n",
       "3. 12\n",
       "4. 13\n",
       "5. 14\n",
       "6. 15\n",
       "7. 16\n",
       "8. 17\n",
       "9. 18\n",
       "10. 19\n",
       "11. 20\n",
       "\n",
       "\n"
      ],
      "text/plain": [
       " [1] 10 11 12 13 14 15 16 17 18 19 20"
      ]
     },
     "metadata": {},
     "output_type": "display_data"
    }
   ],
   "source": [
    "v <- 10:20\n",
    "v"
   ]
  },
  {
   "cell_type": "code",
   "execution_count": 102,
   "id": "7fc77daa",
   "metadata": {},
   "outputs": [
    {
     "data": {
      "text/html": [
       "<style>\n",
       ".list-inline {list-style: none; margin:0; padding: 0}\n",
       ".list-inline>li {display: inline-block}\n",
       ".list-inline>li:not(:last-child)::after {content: \"\\00b7\"; padding: 0 .5ex}\n",
       "</style>\n",
       "<ol class=list-inline><li>10</li><li>12</li><li>14</li><li>18</li></ol>\n"
      ],
      "text/latex": [
       "\\begin{enumerate*}\n",
       "\\item 10\n",
       "\\item 12\n",
       "\\item 14\n",
       "\\item 18\n",
       "\\end{enumerate*}\n"
      ],
      "text/markdown": [
       "1. 10\n",
       "2. 12\n",
       "3. 14\n",
       "4. 18\n",
       "\n",
       "\n"
      ],
      "text/plain": [
       "[1] 10 12 14 18"
      ]
     },
     "metadata": {},
     "output_type": "display_data"
    }
   ],
   "source": [
    "v[c(1,3,5,9)]"
   ]
  },
  {
   "cell_type": "code",
   "execution_count": 103,
   "id": "f760bc0b",
   "metadata": {
    "scrolled": true
   },
   "outputs": [
    {
     "data": {
      "text/html": [
       "<style>\n",
       ".list-inline {list-style: none; margin:0; padding: 0}\n",
       ".list-inline>li {display: inline-block}\n",
       ".list-inline>li:not(:last-child)::after {content: \"\\00b7\"; padding: 0 .5ex}\n",
       "</style>\n",
       "<ol class=list-inline><li>'b'</li><li>'a'</li><li>'c'</li><li>'b'</li><li>'a'</li><li>'c'</li></ol>\n"
      ],
      "text/latex": [
       "\\begin{enumerate*}\n",
       "\\item 'b'\n",
       "\\item 'a'\n",
       "\\item 'c'\n",
       "\\item 'b'\n",
       "\\item 'a'\n",
       "\\item 'c'\n",
       "\\end{enumerate*}\n"
      ],
      "text/markdown": [
       "1. 'b'\n",
       "2. 'a'\n",
       "3. 'c'\n",
       "4. 'b'\n",
       "5. 'a'\n",
       "6. 'c'\n",
       "\n",
       "\n"
      ],
      "text/plain": [
       "[1] \"b\" \"a\" \"c\" \"b\" \"a\" \"c\""
      ]
     },
     "metadata": {},
     "output_type": "display_data"
    }
   ],
   "source": [
    "c('a','b','c')[c(2,1,3,2,1,3)]"
   ]
  },
  {
   "cell_type": "markdown",
   "id": "88020fc9",
   "metadata": {},
   "source": [
    "### 下标的负整数运算"
   ]
  },
  {
   "cell_type": "code",
   "execution_count": null,
   "id": "b14292df",
   "metadata": {},
   "outputs": [],
   "source": [
    "#v为一个向量，下标取值在-n到-1之间，如"
   ]
  },
  {
   "cell_type": "code",
   "execution_count": 104,
   "id": "cd3d1f8e",
   "metadata": {},
   "outputs": [
    {
     "data": {
      "text/html": [
       "<style>\n",
       ".list-inline {list-style: none; margin:0; padding: 0}\n",
       ".list-inline>li {display: inline-block}\n",
       ".list-inline>li:not(:last-child)::after {content: \"\\00b7\"; padding: 0 .5ex}\n",
       "</style>\n",
       "<ol class=list-inline><li>10</li><li>11</li><li>12</li><li>13</li><li>14</li><li>15</li><li>16</li><li>17</li><li>18</li><li>19</li><li>20</li></ol>\n"
      ],
      "text/latex": [
       "\\begin{enumerate*}\n",
       "\\item 10\n",
       "\\item 11\n",
       "\\item 12\n",
       "\\item 13\n",
       "\\item 14\n",
       "\\item 15\n",
       "\\item 16\n",
       "\\item 17\n",
       "\\item 18\n",
       "\\item 19\n",
       "\\item 20\n",
       "\\end{enumerate*}\n"
      ],
      "text/markdown": [
       "1. 10\n",
       "2. 11\n",
       "3. 12\n",
       "4. 13\n",
       "5. 14\n",
       "6. 15\n",
       "7. 16\n",
       "8. 17\n",
       "9. 18\n",
       "10. 19\n",
       "11. 20\n",
       "\n",
       "\n"
      ],
      "text/plain": [
       " [1] 10 11 12 13 14 15 16 17 18 19 20"
      ]
     },
     "metadata": {},
     "output_type": "display_data"
    }
   ],
   "source": [
    "v"
   ]
  },
  {
   "cell_type": "code",
   "execution_count": 105,
   "id": "f4d59879",
   "metadata": {},
   "outputs": [
    {
     "data": {
      "text/html": [
       "<style>\n",
       ".list-inline {list-style: none; margin:0; padding: 0}\n",
       ".list-inline>li {display: inline-block}\n",
       ".list-inline>li:not(:last-child)::after {content: \"\\00b7\"; padding: 0 .5ex}\n",
       "</style>\n",
       "<ol class=list-inline><li>15</li><li>16</li><li>17</li><li>18</li><li>19</li><li>20</li></ol>\n"
      ],
      "text/latex": [
       "\\begin{enumerate*}\n",
       "\\item 15\n",
       "\\item 16\n",
       "\\item 17\n",
       "\\item 18\n",
       "\\item 19\n",
       "\\item 20\n",
       "\\end{enumerate*}\n"
      ],
      "text/markdown": [
       "1. 15\n",
       "2. 16\n",
       "3. 17\n",
       "4. 18\n",
       "5. 19\n",
       "6. 20\n",
       "\n",
       "\n"
      ],
      "text/plain": [
       "[1] 15 16 17 18 19 20"
      ]
     },
     "metadata": {},
     "output_type": "display_data"
    }
   ],
   "source": [
    "v[-(1:5)]"
   ]
  },
  {
   "cell_type": "markdown",
   "id": "393341a4",
   "metadata": {},
   "source": [
    "### 取字符型值的下标向量"
   ]
  },
  {
   "cell_type": "code",
   "execution_count": 106,
   "id": "b03d7abd",
   "metadata": {},
   "outputs": [
    {
     "name": "stdout",
     "output_type": "stream",
     "text": [
      "   Li zhang   Liu \n",
      "   33    29    18 \n"
     ]
    }
   ],
   "source": [
    "ages <- c(Li=33,zhang=29,Liu=18)\n",
    "print(ages)"
   ]
  },
  {
   "cell_type": "code",
   "execution_count": 107,
   "id": "05f3fee7",
   "metadata": {},
   "outputs": [
    {
     "data": {
      "text/html": [
       "<strong>zhang:</strong> 29"
      ],
      "text/latex": [
       "\\textbf{zhang:} 29"
      ],
      "text/markdown": [
       "**zhang:** 29"
      ],
      "text/plain": [
       "zhang \n",
       "   29 "
      ]
     },
     "metadata": {},
     "output_type": "display_data"
    }
   ],
   "source": [
    "#直接可以通过元素名字来访问元素\n",
    "ages[\"zhang\"]"
   ]
  },
  {
   "cell_type": "code",
   "execution_count": 108,
   "id": "5e213b9f",
   "metadata": {},
   "outputs": [
    {
     "data": {
      "text/html": [
       "<style>\n",
       ".list-inline {list-style: none; margin:0; padding: 0}\n",
       ".list-inline>li {display: inline-block}\n",
       ".list-inline>li:not(:last-child)::after {content: \"\\00b7\"; padding: 0 .5ex}\n",
       "</style>\n",
       "<ol class=list-inline><li>5</li><li>10</li><li>1</li><li>20</li></ol>\n"
      ],
      "text/latex": [
       "\\begin{enumerate*}\n",
       "\\item 5\n",
       "\\item 10\n",
       "\\item 1\n",
       "\\item 20\n",
       "\\end{enumerate*}\n"
      ],
      "text/markdown": [
       "1. 5\n",
       "2. 10\n",
       "3. 1\n",
       "4. 20\n",
       "\n",
       "\n"
      ],
      "text/plain": [
       "[1]  5 10  1 20"
      ]
     },
     "metadata": {},
     "output_type": "display_data"
    }
   ],
   "source": [
    "#再比如\n",
    "fruit <- c(5,10,1,20)\n",
    "fruit"
   ]
  },
  {
   "cell_type": "code",
   "execution_count": 109,
   "id": "4f22efac",
   "metadata": {},
   "outputs": [
    {
     "name": "stdout",
     "output_type": "stream",
     "text": [
      "orange banana  apple  peach \n",
      "     5     10      1     20 \n"
     ]
    }
   ],
   "source": [
    "names(fruit) <- c('orange','banana','apple','peach')\n",
    "print(fruit)"
   ]
  },
  {
   "cell_type": "code",
   "execution_count": 110,
   "id": "542cd4a1",
   "metadata": {},
   "outputs": [
    {
     "data": {
      "text/html": [
       "<strong>orange:</strong> 5"
      ],
      "text/latex": [
       "\\textbf{orange:} 5"
      ],
      "text/markdown": [
       "**orange:** 5"
      ],
      "text/plain": [
       "orange \n",
       "     5 "
      ]
     },
     "metadata": {},
     "output_type": "display_data"
    }
   ],
   "source": [
    "fruit['orange']"
   ]
  },
  {
   "cell_type": "code",
   "execution_count": null,
   "id": "ffe6da09",
   "metadata": {},
   "outputs": [],
   "source": []
  }
 ],
 "metadata": {
  "kernelspec": {
   "display_name": "R",
   "language": "R",
   "name": "ir"
  },
  "language_info": {
   "codemirror_mode": "r",
   "file_extension": ".r",
   "mimetype": "text/x-r-source",
   "name": "R",
   "pygments_lexer": "r",
   "version": "3.6.3"
  }
 },
 "nbformat": 4,
 "nbformat_minor": 5
}
