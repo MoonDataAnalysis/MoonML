{
 "cells": [
  {
   "cell_type": "markdown",
   "id": "864d7ba0",
   "metadata": {},
   "source": [
    "# 数据框（data.frame）"
   ]
  },
  {
   "cell_type": "code",
   "execution_count": null,
   "id": "da5032c2",
   "metadata": {},
   "outputs": [],
   "source": [
    "# 数据框是一种列表， 以列表为对象，各列表成员必须是向量（数值型、字符型、逻辑型）、\n",
    "#因子、数值矩阵、列表、甚至其他数据框。"
   ]
  },
  {
   "cell_type": "markdown",
   "id": "2b171ec8",
   "metadata": {},
   "source": [
    "### 数据框的生成"
   ]
  },
  {
   "cell_type": "code",
   "execution_count": 43,
   "id": "9c30c68b",
   "metadata": {},
   "outputs": [
    {
     "data": {
      "text/html": [
       "<table>\n",
       "<caption>A data.frame: 5 × 5</caption>\n",
       "<thead>\n",
       "\t<tr><th scope=col>Name</th><th scope=col>Sex</th><th scope=col>Age</th><th scope=col>Height</th><th scope=col>Weight</th></tr>\n",
       "\t<tr><th scope=col>&lt;fct&gt;</th><th scope=col>&lt;fct&gt;</th><th scope=col>&lt;dbl&gt;</th><th scope=col>&lt;dbl&gt;</th><th scope=col>&lt;dbl&gt;</th></tr>\n",
       "</thead>\n",
       "<tbody>\n",
       "\t<tr><td>Alice  </td><td>F</td><td>13</td><td>56.5</td><td>84.0</td></tr>\n",
       "\t<tr><td>Becka  </td><td>F</td><td>13</td><td>65.3</td><td>98.0</td></tr>\n",
       "\t<tr><td>James  </td><td>M</td><td>12</td><td>57.3</td><td>83.0</td></tr>\n",
       "\t<tr><td>Jeffrey</td><td>M</td><td>13</td><td>62.5</td><td>84.0</td></tr>\n",
       "\t<tr><td>John   </td><td>M</td><td>12</td><td>59.0</td><td>99.5</td></tr>\n",
       "</tbody>\n",
       "</table>\n"
      ],
      "text/latex": [
       "A data.frame: 5 × 5\n",
       "\\begin{tabular}{lllll}\n",
       " Name & Sex & Age & Height & Weight\\\\\n",
       " <fct> & <fct> & <dbl> & <dbl> & <dbl>\\\\\n",
       "\\hline\n",
       "\t Alice   & F & 13 & 56.5 & 84.0\\\\\n",
       "\t Becka   & F & 13 & 65.3 & 98.0\\\\\n",
       "\t James   & M & 12 & 57.3 & 83.0\\\\\n",
       "\t Jeffrey & M & 13 & 62.5 & 84.0\\\\\n",
       "\t John    & M & 12 & 59.0 & 99.5\\\\\n",
       "\\end{tabular}\n"
      ],
      "text/markdown": [
       "\n",
       "A data.frame: 5 × 5\n",
       "\n",
       "| Name &lt;fct&gt; | Sex &lt;fct&gt; | Age &lt;dbl&gt; | Height &lt;dbl&gt; | Weight &lt;dbl&gt; |\n",
       "|---|---|---|---|---|\n",
       "| Alice   | F | 13 | 56.5 | 84.0 |\n",
       "| Becka   | F | 13 | 65.3 | 98.0 |\n",
       "| James   | M | 12 | 57.3 | 83.0 |\n",
       "| Jeffrey | M | 13 | 62.5 | 84.0 |\n",
       "| John    | M | 12 | 59.0 | 99.5 |\n",
       "\n"
      ],
      "text/plain": [
       "  Name    Sex Age Height Weight\n",
       "1 Alice   F   13  56.5   84.0  \n",
       "2 Becka   F   13  65.3   98.0  \n",
       "3 James   M   12  57.3   83.0  \n",
       "4 Jeffrey M   13  62.5   84.0  \n",
       "5 John    M   12  59.0   99.5  "
      ]
     },
     "metadata": {},
     "output_type": "display_data"
    }
   ],
   "source": [
    "#使用data.frame()函数,用法和list很相似\n",
    "df <- data.frame(\n",
    "Name = c('Alice','Becka', 'James', 'Jeffrey', 'John'),\n",
    "Sex = c(\"F\", \"F\", \"M\", \"M\", \"M\"),\n",
    "Age = c(13, 13, 12, 13, 12),\n",
    "Height=c(56.5, 65.3, 57.3, 62.5, 59.0),\n",
    "Weight=c(84.0, 98.0, 83.0, 84.0, 99.5)\n",
    ")\n",
    "\n",
    "df"
   ]
  },
  {
   "cell_type": "code",
   "execution_count": 44,
   "id": "731ee912",
   "metadata": {},
   "outputs": [
    {
     "data": {
      "text/html": [
       "<dl>\n",
       "\t<dt>$Name</dt>\n",
       "\t\t<dd><style>\n",
       ".list-inline {list-style: none; margin:0; padding: 0}\n",
       ".list-inline>li {display: inline-block}\n",
       ".list-inline>li:not(:last-child)::after {content: \"\\00b7\"; padding: 0 .5ex}\n",
       "</style>\n",
       "<ol class=list-inline><li>'Alice'</li><li>'Becka'</li><li>'James'</li><li>'Jeffrey'</li><li>'John'</li></ol>\n",
       "</dd>\n",
       "\t<dt>$Sex</dt>\n",
       "\t\t<dd><style>\n",
       ".list-inline {list-style: none; margin:0; padding: 0}\n",
       ".list-inline>li {display: inline-block}\n",
       ".list-inline>li:not(:last-child)::after {content: \"\\00b7\"; padding: 0 .5ex}\n",
       "</style>\n",
       "<ol class=list-inline><li>'F'</li><li>'F'</li><li>'M'</li><li>'M'</li><li>'M'</li></ol>\n",
       "</dd>\n",
       "\t<dt>$Age</dt>\n",
       "\t\t<dd><style>\n",
       ".list-inline {list-style: none; margin:0; padding: 0}\n",
       ".list-inline>li {display: inline-block}\n",
       ".list-inline>li:not(:last-child)::after {content: \"\\00b7\"; padding: 0 .5ex}\n",
       "</style>\n",
       "<ol class=list-inline><li>13</li><li>13</li><li>12</li><li>13</li><li>12</li></ol>\n",
       "</dd>\n",
       "\t<dt>$Height</dt>\n",
       "\t\t<dd><style>\n",
       ".list-inline {list-style: none; margin:0; padding: 0}\n",
       ".list-inline>li {display: inline-block}\n",
       ".list-inline>li:not(:last-child)::after {content: \"\\00b7\"; padding: 0 .5ex}\n",
       "</style>\n",
       "<ol class=list-inline><li>56.5</li><li>65.3</li><li>57.3</li><li>62.5</li><li>59</li></ol>\n",
       "</dd>\n",
       "\t<dt>$Weight</dt>\n",
       "\t\t<dd><style>\n",
       ".list-inline {list-style: none; margin:0; padding: 0}\n",
       ".list-inline>li {display: inline-block}\n",
       ".list-inline>li:not(:last-child)::after {content: \"\\00b7\"; padding: 0 .5ex}\n",
       "</style>\n",
       "<ol class=list-inline><li>84</li><li>98</li><li>83</li><li>84</li><li>99.5</li></ol>\n",
       "</dd>\n",
       "</dl>\n"
      ],
      "text/latex": [
       "\\begin{description}\n",
       "\\item[\\$Name] \\begin{enumerate*}\n",
       "\\item 'Alice'\n",
       "\\item 'Becka'\n",
       "\\item 'James'\n",
       "\\item 'Jeffrey'\n",
       "\\item 'John'\n",
       "\\end{enumerate*}\n",
       "\n",
       "\\item[\\$Sex] \\begin{enumerate*}\n",
       "\\item 'F'\n",
       "\\item 'F'\n",
       "\\item 'M'\n",
       "\\item 'M'\n",
       "\\item 'M'\n",
       "\\end{enumerate*}\n",
       "\n",
       "\\item[\\$Age] \\begin{enumerate*}\n",
       "\\item 13\n",
       "\\item 13\n",
       "\\item 12\n",
       "\\item 13\n",
       "\\item 12\n",
       "\\end{enumerate*}\n",
       "\n",
       "\\item[\\$Height] \\begin{enumerate*}\n",
       "\\item 56.5\n",
       "\\item 65.3\n",
       "\\item 57.3\n",
       "\\item 62.5\n",
       "\\item 59\n",
       "\\end{enumerate*}\n",
       "\n",
       "\\item[\\$Weight] \\begin{enumerate*}\n",
       "\\item 84\n",
       "\\item 98\n",
       "\\item 83\n",
       "\\item 84\n",
       "\\item 99.5\n",
       "\\end{enumerate*}\n",
       "\n",
       "\\end{description}\n"
      ],
      "text/markdown": [
       "$Name\n",
       ":   1. 'Alice'\n",
       "2. 'Becka'\n",
       "3. 'James'\n",
       "4. 'Jeffrey'\n",
       "5. 'John'\n",
       "\n",
       "\n",
       "\n",
       "$Sex\n",
       ":   1. 'F'\n",
       "2. 'F'\n",
       "3. 'M'\n",
       "4. 'M'\n",
       "5. 'M'\n",
       "\n",
       "\n",
       "\n",
       "$Age\n",
       ":   1. 13\n",
       "2. 13\n",
       "3. 12\n",
       "4. 13\n",
       "5. 12\n",
       "\n",
       "\n",
       "\n",
       "$Height\n",
       ":   1. 56.5\n",
       "2. 65.3\n",
       "3. 57.3\n",
       "4. 62.5\n",
       "5. 59\n",
       "\n",
       "\n",
       "\n",
       "$Weight\n",
       ":   1. 84\n",
       "2. 98\n",
       "3. 83\n",
       "4. 84\n",
       "5. 99.5\n",
       "\n",
       "\n",
       "\n",
       "\n",
       "\n"
      ],
      "text/plain": [
       "$Name\n",
       "[1] \"Alice\"   \"Becka\"   \"James\"   \"Jeffrey\" \"John\"   \n",
       "\n",
       "$Sex\n",
       "[1] \"F\" \"F\" \"M\" \"M\" \"M\"\n",
       "\n",
       "$Age\n",
       "[1] 13 13 12 13 12\n",
       "\n",
       "$Height\n",
       "[1] 56.5 65.3 57.3 62.5 59.0\n",
       "\n",
       "$Weight\n",
       "[1] 84.0 98.0 83.0 84.0 99.5\n"
      ]
     },
     "metadata": {},
     "output_type": "display_data"
    }
   ],
   "source": [
    "#如果一个列表，其变量（向量、因子、矩阵）有相同长度，可以使用as.data.frame()强制转换\n",
    "#为数据框\n",
    "Lst<-list(\n",
    "Name=c(\"Alice\", \"Becka\", \"James\", \"Jeffrey\", \"John\"),\n",
    "Sex=c(\"F\", \"F\", \"M\", \"M\", \"M\"),\n",
    "Age=c(13, 13, 12, 13, 12),\n",
    "Height=c(56.5, 65.3, 57.3, 62.5, 59.0),\n",
    "Weight=c(84.0, 98.0, 83.0, 84.0, 99.5)\n",
    ")\n",
    "\n",
    "Lst"
   ]
  },
  {
   "cell_type": "code",
   "execution_count": 45,
   "id": "58f62062",
   "metadata": {},
   "outputs": [
    {
     "data": {
      "text/html": [
       "<table>\n",
       "<caption>A data.frame: 5 × 5</caption>\n",
       "<thead>\n",
       "\t<tr><th scope=col>Name</th><th scope=col>Sex</th><th scope=col>Age</th><th scope=col>Height</th><th scope=col>Weight</th></tr>\n",
       "\t<tr><th scope=col>&lt;fct&gt;</th><th scope=col>&lt;fct&gt;</th><th scope=col>&lt;dbl&gt;</th><th scope=col>&lt;dbl&gt;</th><th scope=col>&lt;dbl&gt;</th></tr>\n",
       "</thead>\n",
       "<tbody>\n",
       "\t<tr><td>Alice  </td><td>F</td><td>13</td><td>56.5</td><td>84.0</td></tr>\n",
       "\t<tr><td>Becka  </td><td>F</td><td>13</td><td>65.3</td><td>98.0</td></tr>\n",
       "\t<tr><td>James  </td><td>M</td><td>12</td><td>57.3</td><td>83.0</td></tr>\n",
       "\t<tr><td>Jeffrey</td><td>M</td><td>13</td><td>62.5</td><td>84.0</td></tr>\n",
       "\t<tr><td>John   </td><td>M</td><td>12</td><td>59.0</td><td>99.5</td></tr>\n",
       "</tbody>\n",
       "</table>\n"
      ],
      "text/latex": [
       "A data.frame: 5 × 5\n",
       "\\begin{tabular}{lllll}\n",
       " Name & Sex & Age & Height & Weight\\\\\n",
       " <fct> & <fct> & <dbl> & <dbl> & <dbl>\\\\\n",
       "\\hline\n",
       "\t Alice   & F & 13 & 56.5 & 84.0\\\\\n",
       "\t Becka   & F & 13 & 65.3 & 98.0\\\\\n",
       "\t James   & M & 12 & 57.3 & 83.0\\\\\n",
       "\t Jeffrey & M & 13 & 62.5 & 84.0\\\\\n",
       "\t John    & M & 12 & 59.0 & 99.5\\\\\n",
       "\\end{tabular}\n"
      ],
      "text/markdown": [
       "\n",
       "A data.frame: 5 × 5\n",
       "\n",
       "| Name &lt;fct&gt; | Sex &lt;fct&gt; | Age &lt;dbl&gt; | Height &lt;dbl&gt; | Weight &lt;dbl&gt; |\n",
       "|---|---|---|---|---|\n",
       "| Alice   | F | 13 | 56.5 | 84.0 |\n",
       "| Becka   | F | 13 | 65.3 | 98.0 |\n",
       "| James   | M | 12 | 57.3 | 83.0 |\n",
       "| Jeffrey | M | 13 | 62.5 | 84.0 |\n",
       "| John    | M | 12 | 59.0 | 99.5 |\n",
       "\n"
      ],
      "text/plain": [
       "  Name    Sex Age Height Weight\n",
       "1 Alice   F   13  56.5   84.0  \n",
       "2 Becka   F   13  65.3   98.0  \n",
       "3 James   M   12  57.3   83.0  \n",
       "4 Jeffrey M   13  62.5   84.0  \n",
       "5 John    M   12  59.0   99.5  "
      ]
     },
     "metadata": {},
     "output_type": "display_data"
    }
   ],
   "source": [
    "df <- as.data.frame(Lst)\n",
    "df"
   ]
  },
  {
   "cell_type": "code",
   "execution_count": 46,
   "id": "48789642",
   "metadata": {},
   "outputs": [
    {
     "data": {
      "text/html": [
       "'data.frame'"
      ],
      "text/latex": [
       "'data.frame'"
      ],
      "text/markdown": [
       "'data.frame'"
      ],
      "text/plain": [
       "[1] \"data.frame\""
      ]
     },
     "metadata": {},
     "output_type": "display_data"
    }
   ],
   "source": [
    "class(df)"
   ]
  },
  {
   "cell_type": "code",
   "execution_count": 47,
   "id": "4a9823b4",
   "metadata": {},
   "outputs": [
    {
     "data": {
      "text/html": [
       "'list'"
      ],
      "text/latex": [
       "'list'"
      ],
      "text/markdown": [
       "'list'"
      ],
      "text/plain": [
       "[1] \"list\""
      ]
     },
     "metadata": {},
     "output_type": "display_data"
    }
   ],
   "source": [
    "mode(df)"
   ]
  },
  {
   "cell_type": "markdown",
   "id": "23bf942a",
   "metadata": {},
   "source": [
    "### 数据框的引用"
   ]
  },
  {
   "cell_type": "code",
   "execution_count": 49,
   "id": "6c213443",
   "metadata": {},
   "outputs": [
    {
     "data": {
      "text/html": [
       "<table>\n",
       "<caption>A data.frame: 5 × 5</caption>\n",
       "<thead>\n",
       "\t<tr><th scope=col>Name</th><th scope=col>Sex</th><th scope=col>Age</th><th scope=col>Height</th><th scope=col>Weight</th></tr>\n",
       "\t<tr><th scope=col>&lt;fct&gt;</th><th scope=col>&lt;fct&gt;</th><th scope=col>&lt;dbl&gt;</th><th scope=col>&lt;dbl&gt;</th><th scope=col>&lt;dbl&gt;</th></tr>\n",
       "</thead>\n",
       "<tbody>\n",
       "\t<tr><td>Alice  </td><td>F</td><td>13</td><td>56.5</td><td>84.0</td></tr>\n",
       "\t<tr><td>Becka  </td><td>F</td><td>13</td><td>65.3</td><td>98.0</td></tr>\n",
       "\t<tr><td>James  </td><td>M</td><td>12</td><td>57.3</td><td>83.0</td></tr>\n",
       "\t<tr><td>Jeffrey</td><td>M</td><td>13</td><td>62.5</td><td>84.0</td></tr>\n",
       "\t<tr><td>John   </td><td>M</td><td>12</td><td>59.0</td><td>99.5</td></tr>\n",
       "</tbody>\n",
       "</table>\n"
      ],
      "text/latex": [
       "A data.frame: 5 × 5\n",
       "\\begin{tabular}{lllll}\n",
       " Name & Sex & Age & Height & Weight\\\\\n",
       " <fct> & <fct> & <dbl> & <dbl> & <dbl>\\\\\n",
       "\\hline\n",
       "\t Alice   & F & 13 & 56.5 & 84.0\\\\\n",
       "\t Becka   & F & 13 & 65.3 & 98.0\\\\\n",
       "\t James   & M & 12 & 57.3 & 83.0\\\\\n",
       "\t Jeffrey & M & 13 & 62.5 & 84.0\\\\\n",
       "\t John    & M & 12 & 59.0 & 99.5\\\\\n",
       "\\end{tabular}\n"
      ],
      "text/markdown": [
       "\n",
       "A data.frame: 5 × 5\n",
       "\n",
       "| Name &lt;fct&gt; | Sex &lt;fct&gt; | Age &lt;dbl&gt; | Height &lt;dbl&gt; | Weight &lt;dbl&gt; |\n",
       "|---|---|---|---|---|\n",
       "| Alice   | F | 13 | 56.5 | 84.0 |\n",
       "| Becka   | F | 13 | 65.3 | 98.0 |\n",
       "| James   | M | 12 | 57.3 | 83.0 |\n",
       "| Jeffrey | M | 13 | 62.5 | 84.0 |\n",
       "| John    | M | 12 | 59.0 | 99.5 |\n",
       "\n"
      ],
      "text/plain": [
       "  Name    Sex Age Height Weight\n",
       "1 Alice   F   13  56.5   84.0  \n",
       "2 Becka   F   13  65.3   98.0  \n",
       "3 James   M   12  57.3   83.0  \n",
       "4 Jeffrey M   13  62.5   84.0  \n",
       "5 John    M   12  59.0   99.5  "
      ]
     },
     "metadata": {},
     "output_type": "display_data"
    },
    {
     "data": {
      "text/html": [
       "<table>\n",
       "<caption>A data.frame: 2 × 3</caption>\n",
       "<thead>\n",
       "\t<tr><th></th><th scope=col>Age</th><th scope=col>Height</th><th scope=col>Weight</th></tr>\n",
       "\t<tr><th></th><th scope=col>&lt;dbl&gt;</th><th scope=col>&lt;dbl&gt;</th><th scope=col>&lt;dbl&gt;</th></tr>\n",
       "</thead>\n",
       "<tbody>\n",
       "\t<tr><th scope=row>1</th><td>13</td><td>56.5</td><td>84</td></tr>\n",
       "\t<tr><th scope=row>2</th><td>13</td><td>65.3</td><td>98</td></tr>\n",
       "</tbody>\n",
       "</table>\n"
      ],
      "text/latex": [
       "A data.frame: 2 × 3\n",
       "\\begin{tabular}{r|lll}\n",
       "  & Age & Height & Weight\\\\\n",
       "  & <dbl> & <dbl> & <dbl>\\\\\n",
       "\\hline\n",
       "\t1 & 13 & 56.5 & 84\\\\\n",
       "\t2 & 13 & 65.3 & 98\\\\\n",
       "\\end{tabular}\n"
      ],
      "text/markdown": [
       "\n",
       "A data.frame: 2 × 3\n",
       "\n",
       "| <!--/--> | Age &lt;dbl&gt; | Height &lt;dbl&gt; | Weight &lt;dbl&gt; |\n",
       "|---|---|---|---|\n",
       "| 1 | 13 | 56.5 | 84 |\n",
       "| 2 | 13 | 65.3 | 98 |\n",
       "\n"
      ],
      "text/plain": [
       "  Age Height Weight\n",
       "1 13  56.5   84    \n",
       "2 13  65.3   98    "
      ]
     },
     "metadata": {},
     "output_type": "display_data"
    }
   ],
   "source": [
    "#使用下标、下标向量，名字、名字向量 引用元素\n",
    "df\n",
    "df[1:2, 3:5]"
   ]
  },
  {
   "cell_type": "code",
   "execution_count": 50,
   "id": "fc773a3d",
   "metadata": {},
   "outputs": [
    {
     "data": {
      "text/html": [
       "<style>\n",
       ".list-inline {list-style: none; margin:0; padding: 0}\n",
       ".list-inline>li {display: inline-block}\n",
       ".list-inline>li:not(:last-child)::after {content: \"\\00b7\"; padding: 0 .5ex}\n",
       "</style>\n",
       "<ol class=list-inline><li>56.5</li><li>65.3</li><li>57.3</li><li>62.5</li><li>59</li></ol>\n"
      ],
      "text/latex": [
       "\\begin{enumerate*}\n",
       "\\item 56.5\n",
       "\\item 65.3\n",
       "\\item 57.3\n",
       "\\item 62.5\n",
       "\\item 59\n",
       "\\end{enumerate*}\n"
      ],
      "text/markdown": [
       "1. 56.5\n",
       "2. 65.3\n",
       "3. 57.3\n",
       "4. 62.5\n",
       "5. 59\n",
       "\n",
       "\n"
      ],
      "text/plain": [
       "[1] 56.5 65.3 57.3 62.5 59.0"
      ]
     },
     "metadata": {},
     "output_type": "display_data"
    }
   ],
   "source": [
    "#用[[变量名]]引用数据框变量数据\n",
    "df[[\"Height\"]]"
   ]
  },
  {
   "cell_type": "code",
   "execution_count": 51,
   "id": "3aca0ad6",
   "metadata": {},
   "outputs": [
    {
     "data": {
      "text/html": [
       "<style>\n",
       ".list-inline {list-style: none; margin:0; padding: 0}\n",
       ".list-inline>li {display: inline-block}\n",
       ".list-inline>li:not(:last-child)::after {content: \"\\00b7\"; padding: 0 .5ex}\n",
       "</style>\n",
       "<ol class=list-inline><li>56.5</li><li>65.3</li><li>57.3</li><li>62.5</li><li>59</li></ol>\n"
      ],
      "text/latex": [
       "\\begin{enumerate*}\n",
       "\\item 56.5\n",
       "\\item 65.3\n",
       "\\item 57.3\n",
       "\\item 62.5\n",
       "\\item 59\n",
       "\\end{enumerate*}\n"
      ],
      "text/markdown": [
       "1. 56.5\n",
       "2. 65.3\n",
       "3. 57.3\n",
       "4. 62.5\n",
       "5. 59\n",
       "\n",
       "\n"
      ],
      "text/plain": [
       "[1] 56.5 65.3 57.3 62.5 59.0"
      ]
     },
     "metadata": {},
     "output_type": "display_data"
    }
   ],
   "source": [
    "#或用 $,引用效果相同\n",
    "df$Height"
   ]
  },
  {
   "cell_type": "code",
   "execution_count": 52,
   "id": "548bc057",
   "metadata": {},
   "outputs": [
    {
     "data": {
      "text/html": [
       "<table>\n",
       "<caption>A data.frame: 5 × 1</caption>\n",
       "<thead>\n",
       "\t<tr><th scope=col>Height</th></tr>\n",
       "\t<tr><th scope=col>&lt;dbl&gt;</th></tr>\n",
       "</thead>\n",
       "<tbody>\n",
       "\t<tr><td>56.5</td></tr>\n",
       "\t<tr><td>65.3</td></tr>\n",
       "\t<tr><td>57.3</td></tr>\n",
       "\t<tr><td>62.5</td></tr>\n",
       "\t<tr><td>59.0</td></tr>\n",
       "</tbody>\n",
       "</table>\n"
      ],
      "text/latex": [
       "A data.frame: 5 × 1\n",
       "\\begin{tabular}{l}\n",
       " Height\\\\\n",
       " <dbl>\\\\\n",
       "\\hline\n",
       "\t 56.5\\\\\n",
       "\t 65.3\\\\\n",
       "\t 57.3\\\\\n",
       "\t 62.5\\\\\n",
       "\t 59.0\\\\\n",
       "\\end{tabular}\n"
      ],
      "text/markdown": [
       "\n",
       "A data.frame: 5 × 1\n",
       "\n",
       "| Height &lt;dbl&gt; |\n",
       "|---|\n",
       "| 56.5 |\n",
       "| 65.3 |\n",
       "| 57.3 |\n",
       "| 62.5 |\n",
       "| 59.0 |\n",
       "\n"
      ],
      "text/plain": [
       "  Height\n",
       "1 56.5  \n",
       "2 65.3  \n",
       "3 57.3  \n",
       "4 62.5  \n",
       "5 59.0  "
      ]
     },
     "metadata": {},
     "output_type": "display_data"
    },
    {
     "data": {
      "text/html": [
       "'data.frame'"
      ],
      "text/latex": [
       "'data.frame'"
      ],
      "text/markdown": [
       "'data.frame'"
      ],
      "text/plain": [
       "[1] \"data.frame\""
      ]
     },
     "metadata": {},
     "output_type": "display_data"
    }
   ],
   "source": [
    "#用[变量名]，引用子数据框\n",
    "df[\"Height\"]\n",
    "class(df[\"Height\"])"
   ]
  },
  {
   "cell_type": "code",
   "execution_count": 53,
   "id": "b2b9feb5",
   "metadata": {},
   "outputs": [
    {
     "data": {
      "text/html": [
       "<style>\n",
       ".list-inline {list-style: none; margin:0; padding: 0}\n",
       ".list-inline>li {display: inline-block}\n",
       ".list-inline>li:not(:last-child)::after {content: \"\\00b7\"; padding: 0 .5ex}\n",
       "</style>\n",
       "<ol class=list-inline><li>'Name'</li><li>'Sex'</li><li>'Age'</li><li>'Height'</li><li>'Weight'</li></ol>\n"
      ],
      "text/latex": [
       "\\begin{enumerate*}\n",
       "\\item 'Name'\n",
       "\\item 'Sex'\n",
       "\\item 'Age'\n",
       "\\item 'Height'\n",
       "\\item 'Weight'\n",
       "\\end{enumerate*}\n"
      ],
      "text/markdown": [
       "1. 'Name'\n",
       "2. 'Sex'\n",
       "3. 'Age'\n",
       "4. 'Height'\n",
       "5. 'Weight'\n",
       "\n",
       "\n"
      ],
      "text/plain": [
       "[1] \"Name\"   \"Sex\"    \"Age\"    \"Height\" \"Weight\""
      ]
     },
     "metadata": {},
     "output_type": "display_data"
    }
   ],
   "source": [
    "#数据框的变量名，是由属性names定义的，可以用names查看和定义变量名\n",
    "names(df)"
   ]
  },
  {
   "cell_type": "code",
   "execution_count": 54,
   "id": "8e499047",
   "metadata": {},
   "outputs": [
    {
     "data": {
      "text/html": [
       "<table>\n",
       "<caption>A data.frame: 5 × 5</caption>\n",
       "<thead>\n",
       "\t<tr><th scope=col>Name2</th><th scope=col>Sex2</th><th scope=col>Age2</th><th scope=col>Height2</th><th scope=col>Weight2</th></tr>\n",
       "\t<tr><th scope=col>&lt;fct&gt;</th><th scope=col>&lt;fct&gt;</th><th scope=col>&lt;dbl&gt;</th><th scope=col>&lt;dbl&gt;</th><th scope=col>&lt;dbl&gt;</th></tr>\n",
       "</thead>\n",
       "<tbody>\n",
       "\t<tr><td>Alice  </td><td>F</td><td>13</td><td>56.5</td><td>84.0</td></tr>\n",
       "\t<tr><td>Becka  </td><td>F</td><td>13</td><td>65.3</td><td>98.0</td></tr>\n",
       "\t<tr><td>James  </td><td>M</td><td>12</td><td>57.3</td><td>83.0</td></tr>\n",
       "\t<tr><td>Jeffrey</td><td>M</td><td>13</td><td>62.5</td><td>84.0</td></tr>\n",
       "\t<tr><td>John   </td><td>M</td><td>12</td><td>59.0</td><td>99.5</td></tr>\n",
       "</tbody>\n",
       "</table>\n"
      ],
      "text/latex": [
       "A data.frame: 5 × 5\n",
       "\\begin{tabular}{lllll}\n",
       " Name2 & Sex2 & Age2 & Height2 & Weight2\\\\\n",
       " <fct> & <fct> & <dbl> & <dbl> & <dbl>\\\\\n",
       "\\hline\n",
       "\t Alice   & F & 13 & 56.5 & 84.0\\\\\n",
       "\t Becka   & F & 13 & 65.3 & 98.0\\\\\n",
       "\t James   & M & 12 & 57.3 & 83.0\\\\\n",
       "\t Jeffrey & M & 13 & 62.5 & 84.0\\\\\n",
       "\t John    & M & 12 & 59.0 & 99.5\\\\\n",
       "\\end{tabular}\n"
      ],
      "text/markdown": [
       "\n",
       "A data.frame: 5 × 5\n",
       "\n",
       "| Name2 &lt;fct&gt; | Sex2 &lt;fct&gt; | Age2 &lt;dbl&gt; | Height2 &lt;dbl&gt; | Weight2 &lt;dbl&gt; |\n",
       "|---|---|---|---|---|\n",
       "| Alice   | F | 13 | 56.5 | 84.0 |\n",
       "| Becka   | F | 13 | 65.3 | 98.0 |\n",
       "| James   | M | 12 | 57.3 | 83.0 |\n",
       "| Jeffrey | M | 13 | 62.5 | 84.0 |\n",
       "| John    | M | 12 | 59.0 | 99.5 |\n",
       "\n"
      ],
      "text/plain": [
       "  Name2   Sex2 Age2 Height2 Weight2\n",
       "1 Alice   F    13   56.5    84.0   \n",
       "2 Becka   F    13   65.3    98.0   \n",
       "3 James   M    12   57.3    83.0   \n",
       "4 Jeffrey M    13   62.5    84.0   \n",
       "5 John    M    12   59.0    99.5   "
      ]
     },
     "metadata": {},
     "output_type": "display_data"
    }
   ],
   "source": [
    "names(df) <- c('Name2','Sex2','Age2','Height2','Weight2')\n",
    "df"
   ]
  },
  {
   "cell_type": "code",
   "execution_count": 55,
   "id": "1765200a",
   "metadata": {},
   "outputs": [
    {
     "data": {
      "text/html": [
       "<style>\n",
       ".list-inline {list-style: none; margin:0; padding: 0}\n",
       ".list-inline>li {display: inline-block}\n",
       ".list-inline>li:not(:last-child)::after {content: \"\\00b7\"; padding: 0 .5ex}\n",
       "</style>\n",
       "<ol class=list-inline><li>'1'</li><li>'2'</li><li>'3'</li><li>'4'</li><li>'5'</li></ol>\n"
      ],
      "text/latex": [
       "\\begin{enumerate*}\n",
       "\\item '1'\n",
       "\\item '2'\n",
       "\\item '3'\n",
       "\\item '4'\n",
       "\\item '5'\n",
       "\\end{enumerate*}\n"
      ],
      "text/markdown": [
       "1. '1'\n",
       "2. '2'\n",
       "3. '3'\n",
       "4. '4'\n",
       "5. '5'\n",
       "\n",
       "\n"
      ],
      "text/plain": [
       "[1] \"1\" \"2\" \"3\" \"4\" \"5\""
      ]
     },
     "metadata": {},
     "output_type": "display_data"
    }
   ],
   "source": [
    "#使用rownames还可以定义行名\n",
    "rownames(df)"
   ]
  },
  {
   "cell_type": "code",
   "execution_count": 56,
   "id": "37427372",
   "metadata": {},
   "outputs": [
    {
     "data": {
      "text/html": [
       "<table>\n",
       "<caption>A data.frame: 5 × 5</caption>\n",
       "<thead>\n",
       "\t<tr><th></th><th scope=col>Name2</th><th scope=col>Sex2</th><th scope=col>Age2</th><th scope=col>Height2</th><th scope=col>Weight2</th></tr>\n",
       "\t<tr><th></th><th scope=col>&lt;fct&gt;</th><th scope=col>&lt;fct&gt;</th><th scope=col>&lt;dbl&gt;</th><th scope=col>&lt;dbl&gt;</th><th scope=col>&lt;dbl&gt;</th></tr>\n",
       "</thead>\n",
       "<tbody>\n",
       "\t<tr><th scope=row>one</th><td>Alice  </td><td>F</td><td>13</td><td>56.5</td><td>84.0</td></tr>\n",
       "\t<tr><th scope=row>two</th><td>Becka  </td><td>F</td><td>13</td><td>65.3</td><td>98.0</td></tr>\n",
       "\t<tr><th scope=row>three</th><td>James  </td><td>M</td><td>12</td><td>57.3</td><td>83.0</td></tr>\n",
       "\t<tr><th scope=row>four</th><td>Jeffrey</td><td>M</td><td>13</td><td>62.5</td><td>84.0</td></tr>\n",
       "\t<tr><th scope=row>five</th><td>John   </td><td>M</td><td>12</td><td>59.0</td><td>99.5</td></tr>\n",
       "</tbody>\n",
       "</table>\n"
      ],
      "text/latex": [
       "A data.frame: 5 × 5\n",
       "\\begin{tabular}{r|lllll}\n",
       "  & Name2 & Sex2 & Age2 & Height2 & Weight2\\\\\n",
       "  & <fct> & <fct> & <dbl> & <dbl> & <dbl>\\\\\n",
       "\\hline\n",
       "\tone & Alice   & F & 13 & 56.5 & 84.0\\\\\n",
       "\ttwo & Becka   & F & 13 & 65.3 & 98.0\\\\\n",
       "\tthree & James   & M & 12 & 57.3 & 83.0\\\\\n",
       "\tfour & Jeffrey & M & 13 & 62.5 & 84.0\\\\\n",
       "\tfive & John    & M & 12 & 59.0 & 99.5\\\\\n",
       "\\end{tabular}\n"
      ],
      "text/markdown": [
       "\n",
       "A data.frame: 5 × 5\n",
       "\n",
       "| <!--/--> | Name2 &lt;fct&gt; | Sex2 &lt;fct&gt; | Age2 &lt;dbl&gt; | Height2 &lt;dbl&gt; | Weight2 &lt;dbl&gt; |\n",
       "|---|---|---|---|---|---|\n",
       "| one | Alice   | F | 13 | 56.5 | 84.0 |\n",
       "| two | Becka   | F | 13 | 65.3 | 98.0 |\n",
       "| three | James   | M | 12 | 57.3 | 83.0 |\n",
       "| four | Jeffrey | M | 13 | 62.5 | 84.0 |\n",
       "| five | John    | M | 12 | 59.0 | 99.5 |\n",
       "\n"
      ],
      "text/plain": [
       "      Name2   Sex2 Age2 Height2 Weight2\n",
       "one   Alice   F    13   56.5    84.0   \n",
       "two   Becka   F    13   65.3    98.0   \n",
       "three James   M    12   57.3    83.0   \n",
       "four  Jeffrey M    13   62.5    84.0   \n",
       "five  John    M    12   59.0    99.5   "
      ]
     },
     "metadata": {},
     "output_type": "display_data"
    }
   ],
   "source": [
    "rownames(df) <-c(\"one\", \"two\", \"three\", \"four\", \"five\")\n",
    "df"
   ]
  },
  {
   "cell_type": "markdown",
   "id": "0e8633b8",
   "metadata": {},
   "source": [
    "### attach 函数"
   ]
  },
  {
   "cell_type": "code",
   "execution_count": 57,
   "id": "1d96decb",
   "metadata": {},
   "outputs": [],
   "source": [
    "#使用attach可以把数据框的变量直接“连接”到内存中\n",
    "attach(df)"
   ]
  },
  {
   "cell_type": "code",
   "execution_count": 58,
   "id": "47b8c493",
   "metadata": {
    "scrolled": true
   },
   "outputs": [
    {
     "data": {
      "text/html": [
       "<style>\n",
       ".list-inline {list-style: none; margin:0; padding: 0}\n",
       ".list-inline>li {display: inline-block}\n",
       ".list-inline>li:not(:last-child)::after {content: \"\\00b7\"; padding: 0 .5ex}\n",
       "</style>\n",
       "<ol class=list-inline><li>Alice</li><li>Becka</li><li>James</li><li>Jeffrey</li><li>John</li></ol>\n",
       "\n",
       "<details>\n",
       "\t<summary style=display:list-item;cursor:pointer>\n",
       "\t\t<strong>Levels</strong>:\n",
       "\t</summary>\n",
       "\t<style>\n",
       "\t.list-inline {list-style: none; margin:0; padding: 0}\n",
       "\t.list-inline>li {display: inline-block}\n",
       "\t.list-inline>li:not(:last-child)::after {content: \"\\00b7\"; padding: 0 .5ex}\n",
       "\t</style>\n",
       "\t<ol class=list-inline><li>'Alice'</li><li>'Becka'</li><li>'James'</li><li>'Jeffrey'</li><li>'John'</li></ol>\n",
       "</details>"
      ],
      "text/latex": [
       "\\begin{enumerate*}\n",
       "\\item Alice\n",
       "\\item Becka\n",
       "\\item James\n",
       "\\item Jeffrey\n",
       "\\item John\n",
       "\\end{enumerate*}\n",
       "\n",
       "\\emph{Levels}: \\begin{enumerate*}\n",
       "\\item 'Alice'\n",
       "\\item 'Becka'\n",
       "\\item 'James'\n",
       "\\item 'Jeffrey'\n",
       "\\item 'John'\n",
       "\\end{enumerate*}\n"
      ],
      "text/markdown": [
       "1. Alice\n",
       "2. Becka\n",
       "3. James\n",
       "4. Jeffrey\n",
       "5. John\n",
       "\n",
       "\n",
       "\n",
       "**Levels**: 1. 'Alice'\n",
       "2. 'Becka'\n",
       "3. 'James'\n",
       "4. 'Jeffrey'\n",
       "5. 'John'\n",
       "\n",
       "\n"
      ],
      "text/plain": [
       "[1] Alice   Becka   James   Jeffrey John   \n",
       "Levels: Alice Becka James Jeffrey John"
      ]
     },
     "metadata": {},
     "output_type": "display_data"
    },
    {
     "data": {
      "text/html": [
       "'numeric'"
      ],
      "text/latex": [
       "'numeric'"
      ],
      "text/markdown": [
       "'numeric'"
      ],
      "text/plain": [
       "[1] \"numeric\""
      ]
     },
     "metadata": {},
     "output_type": "display_data"
    },
    {
     "data": {
      "text/html": [
       "'factor'"
      ],
      "text/latex": [
       "'factor'"
      ],
      "text/markdown": [
       "'factor'"
      ],
      "text/plain": [
       "[1] \"factor\""
      ]
     },
     "metadata": {},
     "output_type": "display_data"
    }
   ],
   "source": [
    "Name2   \n",
    "mode(Name2)\n",
    "class(Name2)  #数据框中非数值型变量会强制转化为因子"
   ]
  },
  {
   "cell_type": "code",
   "execution_count": 59,
   "id": "16090322",
   "metadata": {},
   "outputs": [
    {
     "data": {
      "text/html": [
       "<style>\n",
       ".list-inline {list-style: none; margin:0; padding: 0}\n",
       ".list-inline>li {display: inline-block}\n",
       ".list-inline>li:not(:last-child)::after {content: \"\\00b7\"; padding: 0 .5ex}\n",
       "</style>\n",
       "<ol class=list-inline><li>F</li><li>F</li><li>M</li><li>M</li><li>M</li></ol>\n",
       "\n",
       "<details>\n",
       "\t<summary style=display:list-item;cursor:pointer>\n",
       "\t\t<strong>Levels</strong>:\n",
       "\t</summary>\n",
       "\t<style>\n",
       "\t.list-inline {list-style: none; margin:0; padding: 0}\n",
       "\t.list-inline>li {display: inline-block}\n",
       "\t.list-inline>li:not(:last-child)::after {content: \"\\00b7\"; padding: 0 .5ex}\n",
       "\t</style>\n",
       "\t<ol class=list-inline><li>'F'</li><li>'M'</li></ol>\n",
       "</details>"
      ],
      "text/latex": [
       "\\begin{enumerate*}\n",
       "\\item F\n",
       "\\item F\n",
       "\\item M\n",
       "\\item M\n",
       "\\item M\n",
       "\\end{enumerate*}\n",
       "\n",
       "\\emph{Levels}: \\begin{enumerate*}\n",
       "\\item 'F'\n",
       "\\item 'M'\n",
       "\\end{enumerate*}\n"
      ],
      "text/markdown": [
       "1. F\n",
       "2. F\n",
       "3. M\n",
       "4. M\n",
       "5. M\n",
       "\n",
       "\n",
       "\n",
       "**Levels**: 1. 'F'\n",
       "2. 'M'\n",
       "\n",
       "\n"
      ],
      "text/plain": [
       "[1] F F M M M\n",
       "Levels: F M"
      ]
     },
     "metadata": {},
     "output_type": "display_data"
    },
    {
     "data": {
      "text/html": [
       "'numeric'"
      ],
      "text/latex": [
       "'numeric'"
      ],
      "text/markdown": [
       "'numeric'"
      ],
      "text/plain": [
       "[1] \"numeric\""
      ]
     },
     "metadata": {},
     "output_type": "display_data"
    },
    {
     "data": {
      "text/html": [
       "'factor'"
      ],
      "text/latex": [
       "'factor'"
      ],
      "text/markdown": [
       "'factor'"
      ],
      "text/plain": [
       "[1] \"factor\""
      ]
     },
     "metadata": {},
     "output_type": "display_data"
    }
   ],
   "source": [
    "Sex2   \n",
    "mode(Sex2)\n",
    "class(Sex2)"
   ]
  },
  {
   "cell_type": "code",
   "execution_count": 60,
   "id": "7996ef83",
   "metadata": {},
   "outputs": [
    {
     "data": {
      "text/html": [
       "<style>\n",
       ".list-inline {list-style: none; margin:0; padding: 0}\n",
       ".list-inline>li {display: inline-block}\n",
       ".list-inline>li:not(:last-child)::after {content: \"\\00b7\"; padding: 0 .5ex}\n",
       "</style>\n",
       "<ol class=list-inline><li>13</li><li>13</li><li>12</li><li>13</li><li>12</li></ol>\n"
      ],
      "text/latex": [
       "\\begin{enumerate*}\n",
       "\\item 13\n",
       "\\item 13\n",
       "\\item 12\n",
       "\\item 13\n",
       "\\item 12\n",
       "\\end{enumerate*}\n"
      ],
      "text/markdown": [
       "1. 13\n",
       "2. 13\n",
       "3. 12\n",
       "4. 13\n",
       "5. 12\n",
       "\n",
       "\n"
      ],
      "text/plain": [
       "[1] 13 13 12 13 12"
      ]
     },
     "metadata": {},
     "output_type": "display_data"
    },
    {
     "data": {
      "text/html": [
       "'numeric'"
      ],
      "text/latex": [
       "'numeric'"
      ],
      "text/markdown": [
       "'numeric'"
      ],
      "text/plain": [
       "[1] \"numeric\""
      ]
     },
     "metadata": {},
     "output_type": "display_data"
    },
    {
     "data": {
      "text/html": [
       "'numeric'"
      ],
      "text/latex": [
       "'numeric'"
      ],
      "text/markdown": [
       "'numeric'"
      ],
      "text/plain": [
       "[1] \"numeric\""
      ]
     },
     "metadata": {},
     "output_type": "display_data"
    }
   ],
   "source": [
    "Age2   \n",
    "mode(Age2)\n",
    "class(Age2)"
   ]
  },
  {
   "cell_type": "code",
   "execution_count": 61,
   "id": "ce72469f",
   "metadata": {},
   "outputs": [],
   "source": [
    "#用attach函数是可以提供一些方便的\n",
    "df$rate <- Height2/Weight2"
   ]
  },
  {
   "cell_type": "code",
   "execution_count": 62,
   "id": "5d62f814",
   "metadata": {},
   "outputs": [
    {
     "data": {
      "text/html": [
       "<table>\n",
       "<caption>A data.frame: 5 × 6</caption>\n",
       "<thead>\n",
       "\t<tr><th></th><th scope=col>Name2</th><th scope=col>Sex2</th><th scope=col>Age2</th><th scope=col>Height2</th><th scope=col>Weight2</th><th scope=col>rate</th></tr>\n",
       "\t<tr><th></th><th scope=col>&lt;fct&gt;</th><th scope=col>&lt;fct&gt;</th><th scope=col>&lt;dbl&gt;</th><th scope=col>&lt;dbl&gt;</th><th scope=col>&lt;dbl&gt;</th><th scope=col>&lt;dbl&gt;</th></tr>\n",
       "</thead>\n",
       "<tbody>\n",
       "\t<tr><th scope=row>one</th><td>Alice  </td><td>F</td><td>13</td><td>56.5</td><td>84.0</td><td>0.6726190</td></tr>\n",
       "\t<tr><th scope=row>two</th><td>Becka  </td><td>F</td><td>13</td><td>65.3</td><td>98.0</td><td>0.6663265</td></tr>\n",
       "\t<tr><th scope=row>three</th><td>James  </td><td>M</td><td>12</td><td>57.3</td><td>83.0</td><td>0.6903614</td></tr>\n",
       "\t<tr><th scope=row>four</th><td>Jeffrey</td><td>M</td><td>13</td><td>62.5</td><td>84.0</td><td>0.7440476</td></tr>\n",
       "\t<tr><th scope=row>five</th><td>John   </td><td>M</td><td>12</td><td>59.0</td><td>99.5</td><td>0.5929648</td></tr>\n",
       "</tbody>\n",
       "</table>\n"
      ],
      "text/latex": [
       "A data.frame: 5 × 6\n",
       "\\begin{tabular}{r|llllll}\n",
       "  & Name2 & Sex2 & Age2 & Height2 & Weight2 & rate\\\\\n",
       "  & <fct> & <fct> & <dbl> & <dbl> & <dbl> & <dbl>\\\\\n",
       "\\hline\n",
       "\tone & Alice   & F & 13 & 56.5 & 84.0 & 0.6726190\\\\\n",
       "\ttwo & Becka   & F & 13 & 65.3 & 98.0 & 0.6663265\\\\\n",
       "\tthree & James   & M & 12 & 57.3 & 83.0 & 0.6903614\\\\\n",
       "\tfour & Jeffrey & M & 13 & 62.5 & 84.0 & 0.7440476\\\\\n",
       "\tfive & John    & M & 12 & 59.0 & 99.5 & 0.5929648\\\\\n",
       "\\end{tabular}\n"
      ],
      "text/markdown": [
       "\n",
       "A data.frame: 5 × 6\n",
       "\n",
       "| <!--/--> | Name2 &lt;fct&gt; | Sex2 &lt;fct&gt; | Age2 &lt;dbl&gt; | Height2 &lt;dbl&gt; | Weight2 &lt;dbl&gt; | rate &lt;dbl&gt; |\n",
       "|---|---|---|---|---|---|---|\n",
       "| one | Alice   | F | 13 | 56.5 | 84.0 | 0.6726190 |\n",
       "| two | Becka   | F | 13 | 65.3 | 98.0 | 0.6663265 |\n",
       "| three | James   | M | 12 | 57.3 | 83.0 | 0.6903614 |\n",
       "| four | Jeffrey | M | 13 | 62.5 | 84.0 | 0.7440476 |\n",
       "| five | John    | M | 12 | 59.0 | 99.5 | 0.5929648 |\n",
       "\n"
      ],
      "text/plain": [
       "      Name2   Sex2 Age2 Height2 Weight2 rate     \n",
       "one   Alice   F    13   56.5    84.0    0.6726190\n",
       "two   Becka   F    13   65.3    98.0    0.6663265\n",
       "three James   M    12   57.3    83.0    0.6903614\n",
       "four  Jeffrey M    13   62.5    84.0    0.7440476\n",
       "five  John    M    12   59.0    99.5    0.5929648"
      ]
     },
     "metadata": {},
     "output_type": "display_data"
    }
   ],
   "source": [
    "df"
   ]
  },
  {
   "cell_type": "code",
   "execution_count": null,
   "id": "a26b488e",
   "metadata": {},
   "outputs": [],
   "source": [
    "#否则\n",
    "df$rate <- df$Height2/df$Weight2\n",
    "df"
   ]
  },
  {
   "cell_type": "code",
   "execution_count": 63,
   "id": "0d6ab611",
   "metadata": {},
   "outputs": [],
   "source": [
    "#如果需要取消这种连接，使用detach()\n",
    "detach()"
   ]
  },
  {
   "cell_type": "code",
   "execution_count": 64,
   "id": "53fc887c",
   "metadata": {},
   "outputs": [
    {
     "ename": "ERROR",
     "evalue": "Error in eval(expr, envir, enclos): 找不到对象'Height2'\n",
     "output_type": "error",
     "traceback": [
      "Error in eval(expr, envir, enclos): 找不到对象'Height2'\nTraceback:\n"
     ]
    }
   ],
   "source": [
    "Height2"
   ]
  },
  {
   "cell_type": "code",
   "execution_count": null,
   "id": "38873aa0",
   "metadata": {},
   "outputs": [],
   "source": []
  }
 ],
 "metadata": {
  "kernelspec": {
   "display_name": "R",
   "language": "R",
   "name": "ir"
  },
  "language_info": {
   "codemirror_mode": "r",
   "file_extension": ".r",
   "mimetype": "text/x-r-source",
   "name": "R",
   "pygments_lexer": "r",
   "version": "4.2.1"
  }
 },
 "nbformat": 4,
 "nbformat_minor": 5
}
