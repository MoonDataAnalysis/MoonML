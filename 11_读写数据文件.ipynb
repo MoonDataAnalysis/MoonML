{
 "cells": [
  {
   "cell_type": "markdown",
   "id": "114e172e",
   "metadata": {},
   "source": [
    "# 读写数据文件"
   ]
  },
  {
   "cell_type": "code",
   "execution_count": null,
   "id": "0e57ebc1",
   "metadata": {},
   "outputs": [],
   "source": [
    "#统计工作中，更多情况是外部导入数据，而非在R中敲键盘输入，\n",
    "#这节课教大家如何导入数据、保存数据"
   ]
  },
  {
   "cell_type": "markdown",
   "id": "ebcf6748",
   "metadata": {},
   "source": [
    "### 读纯文本文件"
   ]
  },
  {
   "cell_type": "code",
   "execution_count": 23,
   "id": "4bd6fa65",
   "metadata": {},
   "outputs": [
    {
     "data": {
      "text/html": [
       "<table class=\"dataframe\">\n",
       "<caption>A data.frame: 5 × 6</caption>\n",
       "<thead>\n",
       "\t<tr><th></th><th scope=col>Price</th><th scope=col>Floor</th><th scope=col>Area</th><th scope=col>Rooms</th><th scope=col>Age</th><th scope=col>Cent.heat</th></tr>\n",
       "\t<tr><th></th><th scope=col>&lt;dbl&gt;</th><th scope=col>&lt;dbl&gt;</th><th scope=col>&lt;int&gt;</th><th scope=col>&lt;int&gt;</th><th scope=col>&lt;dbl&gt;</th><th scope=col>&lt;chr&gt;</th></tr>\n",
       "</thead>\n",
       "<tbody>\n",
       "\t<tr><th scope=row>01</th><td>52.00</td><td>111</td><td> 830</td><td>5</td><td>6.2</td><td>no </td></tr>\n",
       "\t<tr><th scope=row>02</th><td>54.75</td><td>128</td><td> 710</td><td>5</td><td>7.5</td><td>no </td></tr>\n",
       "\t<tr><th scope=row>03</th><td>57.50</td><td>101</td><td>1000</td><td>5</td><td>4.2</td><td>no </td></tr>\n",
       "\t<tr><th scope=row>04</th><td>57.50</td><td>131</td><td> 690</td><td>6</td><td>8.8</td><td>no </td></tr>\n",
       "\t<tr><th scope=row>05</th><td>59.75</td><td> 93</td><td> 900</td><td>5</td><td>1.9</td><td>yes</td></tr>\n",
       "</tbody>\n",
       "</table>\n"
      ],
      "text/latex": [
       "A data.frame: 5 × 6\n",
       "\\begin{tabular}{r|llllll}\n",
       "  & Price & Floor & Area & Rooms & Age & Cent.heat\\\\\n",
       "  & <dbl> & <dbl> & <int> & <int> & <dbl> & <chr>\\\\\n",
       "\\hline\n",
       "\t01 & 52.00 & 111 &  830 & 5 & 6.2 & no \\\\\n",
       "\t02 & 54.75 & 128 &  710 & 5 & 7.5 & no \\\\\n",
       "\t03 & 57.50 & 101 & 1000 & 5 & 4.2 & no \\\\\n",
       "\t04 & 57.50 & 131 &  690 & 6 & 8.8 & no \\\\\n",
       "\t05 & 59.75 &  93 &  900 & 5 & 1.9 & yes\\\\\n",
       "\\end{tabular}\n"
      ],
      "text/markdown": [
       "\n",
       "A data.frame: 5 × 6\n",
       "\n",
       "| <!--/--> | Price &lt;dbl&gt; | Floor &lt;dbl&gt; | Area &lt;int&gt; | Rooms &lt;int&gt; | Age &lt;dbl&gt; | Cent.heat &lt;chr&gt; |\n",
       "|---|---|---|---|---|---|---|\n",
       "| 01 | 52.00 | 111 |  830 | 5 | 6.2 | no  |\n",
       "| 02 | 54.75 | 128 |  710 | 5 | 7.5 | no  |\n",
       "| 03 | 57.50 | 101 | 1000 | 5 | 4.2 | no  |\n",
       "| 04 | 57.50 | 131 |  690 | 6 | 8.8 | no  |\n",
       "| 05 | 59.75 |  93 |  900 | 5 | 1.9 | yes |\n",
       "\n"
      ],
      "text/plain": [
       "   Price Floor Area Rooms Age Cent.heat\n",
       "01 52.00 111    830 5     6.2 no       \n",
       "02 54.75 128    710 5     7.5 no       \n",
       "03 57.50 101   1000 5     4.2 no       \n",
       "04 57.50 131    690 6     8.8 no       \n",
       "05 59.75  93    900 5     1.9 yes      "
      ]
     },
     "metadata": {},
     "output_type": "display_data"
    }
   ],
   "source": [
    "#常用的函数有，read.table（）和scan（）\n",
    "\n",
    "#read.table()读表格文件，现有一个“house.data”文件\n",
    "rt <- read.table(\"house.data\")\n",
    "rt"
   ]
  },
  {
   "cell_type": "code",
   "execution_count": 24,
   "id": "d0d5443f",
   "metadata": {},
   "outputs": [
    {
     "data": {
      "text/html": [
       "'data.frame'"
      ],
      "text/latex": [
       "'data.frame'"
      ],
      "text/markdown": [
       "'data.frame'"
      ],
      "text/plain": [
       "[1] \"data.frame\""
      ]
     },
     "metadata": {},
     "output_type": "display_data"
    }
   ],
   "source": [
    "#此时rt是一个数据框，与“house.data”格式一致\n",
    "class(rt)"
   ]
  },
  {
   "cell_type": "code",
   "execution_count": 25,
   "id": "7e3cf102",
   "metadata": {},
   "outputs": [
    {
     "data": {
      "text/html": [
       "<table class=\"dataframe\">\n",
       "<caption>A data.frame: 5 × 6</caption>\n",
       "<thead>\n",
       "\t<tr><th></th><th scope=col>Price</th><th scope=col>Floor</th><th scope=col>Area</th><th scope=col>Rooms</th><th scope=col>Age</th><th scope=col>Cent.heat</th></tr>\n",
       "\t<tr><th></th><th scope=col>&lt;dbl&gt;</th><th scope=col>&lt;dbl&gt;</th><th scope=col>&lt;int&gt;</th><th scope=col>&lt;int&gt;</th><th scope=col>&lt;dbl&gt;</th><th scope=col>&lt;chr&gt;</th></tr>\n",
       "</thead>\n",
       "<tbody>\n",
       "\t<tr><th scope=row>01</th><td>52.00</td><td>111</td><td> 830</td><td>5</td><td>6.2</td><td>no </td></tr>\n",
       "\t<tr><th scope=row>02</th><td>54.75</td><td>128</td><td> 710</td><td>5</td><td>7.5</td><td>no </td></tr>\n",
       "\t<tr><th scope=row>03</th><td>57.50</td><td>101</td><td>1000</td><td>5</td><td>4.2</td><td>no </td></tr>\n",
       "\t<tr><th scope=row>04</th><td>57.50</td><td>131</td><td> 690</td><td>6</td><td>8.8</td><td>no </td></tr>\n",
       "\t<tr><th scope=row>05</th><td>59.75</td><td> 93</td><td> 900</td><td>5</td><td>1.9</td><td>yes</td></tr>\n",
       "</tbody>\n",
       "</table>\n"
      ],
      "text/latex": [
       "A data.frame: 5 × 6\n",
       "\\begin{tabular}{r|llllll}\n",
       "  & Price & Floor & Area & Rooms & Age & Cent.heat\\\\\n",
       "  & <dbl> & <dbl> & <int> & <int> & <dbl> & <chr>\\\\\n",
       "\\hline\n",
       "\t01 & 52.00 & 111 &  830 & 5 & 6.2 & no \\\\\n",
       "\t02 & 54.75 & 128 &  710 & 5 & 7.5 & no \\\\\n",
       "\t03 & 57.50 & 101 & 1000 & 5 & 4.2 & no \\\\\n",
       "\t04 & 57.50 & 131 &  690 & 6 & 8.8 & no \\\\\n",
       "\t05 & 59.75 &  93 &  900 & 5 & 1.9 & yes\\\\\n",
       "\\end{tabular}\n"
      ],
      "text/markdown": [
       "\n",
       "A data.frame: 5 × 6\n",
       "\n",
       "| <!--/--> | Price &lt;dbl&gt; | Floor &lt;dbl&gt; | Area &lt;int&gt; | Rooms &lt;int&gt; | Age &lt;dbl&gt; | Cent.heat &lt;chr&gt; |\n",
       "|---|---|---|---|---|---|---|\n",
       "| 01 | 52.00 | 111 |  830 | 5 | 6.2 | no  |\n",
       "| 02 | 54.75 | 128 |  710 | 5 | 7.5 | no  |\n",
       "| 03 | 57.50 | 101 | 1000 | 5 | 4.2 | no  |\n",
       "| 04 | 57.50 | 131 |  690 | 6 | 8.8 | no  |\n",
       "| 05 | 59.75 |  93 |  900 | 5 | 1.9 | yes |\n",
       "\n"
      ],
      "text/plain": [
       "   Price Floor Area Rooms Age Cent.heat\n",
       "01 52.00 111    830 5     6.2 no       \n",
       "02 54.75 128    710 5     7.5 no       \n",
       "03 57.50 101   1000 5     4.2 no       \n",
       "04 57.50 131    690 6     8.8 no       \n",
       "05 59.75  93    900 5     1.9 yes      "
      ]
     },
     "metadata": {},
     "output_type": "display_data"
    }
   ],
   "source": [
    "#如果数据中没有第一列序号,则 header = T,填充序号\n",
    "read.table(\"house.data\",header = T)"
   ]
  },
  {
   "cell_type": "markdown",
   "id": "c110cc6b",
   "metadata": {},
   "source": [
    "read.table()使用格式：\n",
    "\n",
    "read.table(file, header = FALSE, sep = \"\", quote = \"\\\"’\",\n",
    "dec = \".\", row.names, col.names, as.is = FALSE,\n",
    "na.strings = \"NA\", colClasses = NA, nrows = -1,\n",
    "skip = 0, check.names = TRUE,\n",
    "fill = !blank.lines.skip, strip.white = FALSE,\n",
    "blank.lines.skip = TRUE, comment.char = \"#\")\n",
    "\n",
    "file是文件名路径， header表示第一行是否为变量名，sep是数据分隔字符（默认用空格分隔）\n",
    "skip表示读数据时跳过的行数"
   ]
  },
  {
   "cell_type": "code",
   "execution_count": 26,
   "id": "143fff1c",
   "metadata": {},
   "outputs": [
    {
     "data": {
      "text/html": [
       "<style>\n",
       ".list-inline {list-style: none; margin:0; padding: 0}\n",
       ".list-inline>li {display: inline-block}\n",
       ".list-inline>li:not(:last-child)::after {content: \"\\00b7\"; padding: 0 .5ex}\n",
       "</style>\n",
       "<ol class=list-inline><li>75</li><li>64</li><li>47.4</li><li>66.9</li><li>62.2</li><li>62.2</li><li>58.7</li><li>63.5</li><li>66.6</li><li>64</li><li>57</li><li>69</li><li>56.9</li><li>50</li><li>72</li></ol>\n"
      ],
      "text/latex": [
       "\\begin{enumerate*}\n",
       "\\item 75\n",
       "\\item 64\n",
       "\\item 47.4\n",
       "\\item 66.9\n",
       "\\item 62.2\n",
       "\\item 62.2\n",
       "\\item 58.7\n",
       "\\item 63.5\n",
       "\\item 66.6\n",
       "\\item 64\n",
       "\\item 57\n",
       "\\item 69\n",
       "\\item 56.9\n",
       "\\item 50\n",
       "\\item 72\n",
       "\\end{enumerate*}\n"
      ],
      "text/markdown": [
       "1. 75\n",
       "2. 64\n",
       "3. 47.4\n",
       "4. 66.9\n",
       "5. 62.2\n",
       "6. 62.2\n",
       "7. 58.7\n",
       "8. 63.5\n",
       "9. 66.6\n",
       "10. 64\n",
       "11. 57\n",
       "12. 69\n",
       "13. 56.9\n",
       "14. 50\n",
       "15. 72\n",
       "\n",
       "\n"
      ],
      "text/plain": [
       " [1] 75.0 64.0 47.4 66.9 62.2 62.2 58.7 63.5 66.6 64.0 57.0 69.0 56.9 50.0 72.0"
      ]
     },
     "metadata": {},
     "output_type": "display_data"
    },
    {
     "data": {
      "text/html": [
       "15"
      ],
      "text/latex": [
       "15"
      ],
      "text/markdown": [
       "15"
      ],
      "text/plain": [
       "[1] 15"
      ]
     },
     "metadata": {},
     "output_type": "display_data"
    }
   ],
   "source": [
    "#scan()函数直接读纯文本文件\n",
    "inp <- scan(\"weight.data\")\n",
    "inp\n",
    "length(inp)"
   ]
  },
  {
   "cell_type": "code",
   "execution_count": 27,
   "id": "e77f8e3a",
   "metadata": {},
   "outputs": [
    {
     "name": "stderr",
     "output_type": "stream",
     "text": [
      "Warning message in scan(\"weight.data\", list(boy = 0, girl = 0)):\n",
      "\"读取的项目数必需是列数的倍数\"\n"
     ]
    },
    {
     "data": {
      "text/html": [
       "<dl>\n",
       "\t<dt>$boy</dt>\n",
       "\t\t<dd><style>\n",
       ".list-inline {list-style: none; margin:0; padding: 0}\n",
       ".list-inline>li {display: inline-block}\n",
       ".list-inline>li:not(:last-child)::after {content: \"\\00b7\"; padding: 0 .5ex}\n",
       "</style>\n",
       "<ol class=list-inline><li>75</li><li>47.4</li><li>62.2</li><li>58.7</li><li>66.6</li><li>57</li><li>56.9</li><li>72</li></ol>\n",
       "</dd>\n",
       "\t<dt>$girl</dt>\n",
       "\t\t<dd><style>\n",
       ".list-inline {list-style: none; margin:0; padding: 0}\n",
       ".list-inline>li {display: inline-block}\n",
       ".list-inline>li:not(:last-child)::after {content: \"\\00b7\"; padding: 0 .5ex}\n",
       "</style>\n",
       "<ol class=list-inline><li>64</li><li>66.9</li><li>62.2</li><li>63.5</li><li>64</li><li>69</li><li>50</li><li>&lt;NA&gt;</li></ol>\n",
       "</dd>\n",
       "</dl>\n"
      ],
      "text/latex": [
       "\\begin{description}\n",
       "\\item[\\$boy] \\begin{enumerate*}\n",
       "\\item 75\n",
       "\\item 47.4\n",
       "\\item 62.2\n",
       "\\item 58.7\n",
       "\\item 66.6\n",
       "\\item 57\n",
       "\\item 56.9\n",
       "\\item 72\n",
       "\\end{enumerate*}\n",
       "\n",
       "\\item[\\$girl] \\begin{enumerate*}\n",
       "\\item 64\n",
       "\\item 66.9\n",
       "\\item 62.2\n",
       "\\item 63.5\n",
       "\\item 64\n",
       "\\item 69\n",
       "\\item 50\n",
       "\\item <NA>\n",
       "\\end{enumerate*}\n",
       "\n",
       "\\end{description}\n"
      ],
      "text/markdown": [
       "$boy\n",
       ":   1. 75\n",
       "2. 47.4\n",
       "3. 62.2\n",
       "4. 58.7\n",
       "5. 66.6\n",
       "6. 57\n",
       "7. 56.9\n",
       "8. 72\n",
       "\n",
       "\n",
       "\n",
       "$girl\n",
       ":   1. 64\n",
       "2. 66.9\n",
       "3. 62.2\n",
       "4. 63.5\n",
       "5. 64\n",
       "6. 69\n",
       "7. 50\n",
       "8. &lt;NA&gt;\n",
       "\n",
       "\n",
       "\n",
       "\n",
       "\n"
      ],
      "text/plain": [
       "$boy\n",
       "[1] 75.0 47.4 62.2 58.7 66.6 57.0 56.9 72.0\n",
       "\n",
       "$girl\n",
       "[1] 64.0 66.9 62.2 63.5 64.0 69.0 50.0   NA\n"
      ]
     },
     "metadata": {},
     "output_type": "display_data"
    }
   ],
   "source": [
    "#如果数据有不同属性,男、女相隔放置\n",
    "scan(\"weight.data\", list(boy = 0, girl=0))"
   ]
  },
  {
   "cell_type": "code",
   "execution_count": 28,
   "id": "7ebe8229",
   "metadata": {},
   "outputs": [
    {
     "data": {
      "text/html": [
       "<table class=\"dataframe\">\n",
       "<caption>A matrix: 3 × 5 of type dbl</caption>\n",
       "<tbody>\n",
       "\t<tr><td>75.0</td><td>64.0</td><td>47.4</td><td>66.9</td><td>62.2</td></tr>\n",
       "\t<tr><td>62.2</td><td>58.7</td><td>63.5</td><td>66.6</td><td>64.0</td></tr>\n",
       "\t<tr><td>57.0</td><td>69.0</td><td>56.9</td><td>50.0</td><td>72.0</td></tr>\n",
       "</tbody>\n",
       "</table>\n"
      ],
      "text/latex": [
       "A matrix: 3 × 5 of type dbl\n",
       "\\begin{tabular}{lllll}\n",
       "\t 75.0 & 64.0 & 47.4 & 66.9 & 62.2\\\\\n",
       "\t 62.2 & 58.7 & 63.5 & 66.6 & 64.0\\\\\n",
       "\t 57.0 & 69.0 & 56.9 & 50.0 & 72.0\\\\\n",
       "\\end{tabular}\n"
      ],
      "text/markdown": [
       "\n",
       "A matrix: 3 × 5 of type dbl\n",
       "\n",
       "| 75.0 | 64.0 | 47.4 | 66.9 | 62.2 |\n",
       "| 62.2 | 58.7 | 63.5 | 66.6 | 64.0 |\n",
       "| 57.0 | 69.0 | 56.9 | 50.0 | 72.0 |\n",
       "\n"
      ],
      "text/plain": [
       "     [,1] [,2] [,3] [,4] [,5]\n",
       "[1,] 75.0 64.0 47.4 66.9 62.2\n",
       "[2,] 62.2 58.7 63.5 66.6 64.0\n",
       "[3,] 57.0 69.0 56.9 50.0 72.0"
      ]
     },
     "metadata": {},
     "output_type": "display_data"
    }
   ],
   "source": [
    "#用scan()把15个元素放入到3行5列的矩阵中\n",
    "\n",
    "matrix(scan(\"weight.data\"),nrow = 3,ncol = 5,byrow = T)"
   ]
  },
  {
   "cell_type": "markdown",
   "id": "3c5670ad",
   "metadata": {},
   "source": [
    "scan()的一般格式：\n",
    "scan(file = \"\", what = double(0), nmax = -1,\n",
    "n = -1, sep = \"\",\n",
    "quote = if(identical(sep, \"\\n\")) \"\" else \"’\\\"\",\n",
    "dec = \".\", skip = 0, nlines = 0, na.strings = \"NA\",\n",
    "flush = FALSE, fill = FALSE, strip.white = FALSE,\n",
    "quiet = FALSE, blank.lines.skip = TRUE,\n",
    "multi.line = TRUE, comment.char = \"\",\n",
    "allowEscapes = TRUE)\n",
    "\n",
    "file为文件路径，what指定列表，则列表每项的类型为读取类型， skip为跳过文件多少行，再开始读， sep控制数据间分割符"
   ]
  },
  {
   "cell_type": "markdown",
   "id": "bbcc0a03",
   "metadata": {},
   "source": [
    "### 读取SPSS，SAS, S-PLUS, Stata数据文件"
   ]
  },
  {
   "cell_type": "code",
   "execution_count": 29,
   "id": "d60154e2",
   "metadata": {},
   "outputs": [],
   "source": [
    "#载入“foregin”包\n",
    "#install.packages('foregin')#未有的install.packages一下\n",
    "library(foreign)"
   ]
  },
  {
   "cell_type": "markdown",
   "id": "1f4ff6e9",
   "metadata": {},
   "source": [
    "#读取SPSS文件\n",
    "rs <- read.spss(\"文件路径及名称.sav\")\n",
    "#读取SAS文件\n",
    "rx <- read.xport(\"文件路径及名称.xpt\")\n",
    "#读取S-PLUS文件\n",
    "rs <- read.S(\"文件路径及名称\")\n",
    "#读取Stata文件\n",
    "rd <- read.dta(\"文件路径及名称.dta\")"
   ]
  },
  {
   "cell_type": "markdown",
   "id": "8137fcb9",
   "metadata": {},
   "source": [
    "### 读取Excel数据文件"
   ]
  },
  {
   "cell_type": "markdown",
   "id": "c11934a4",
   "metadata": {},
   "source": [
    "#读取.csv\n",
    "read.csv(\"文件路径及名称.csv\")\n"
   ]
  },
  {
   "cell_type": "code",
   "execution_count": 30,
   "id": "0079e190",
   "metadata": {},
   "outputs": [],
   "source": [
    "library(\"readxl\")"
   ]
  },
  {
   "cell_type": "markdown",
   "id": "8c5702ea",
   "metadata": {},
   "source": [
    "readxl::read_xlsx(\"文件路径及名称.xlsx\")\n",
    "readxl::read_xls(\"文件路径及名称.xls\")\n",
    "readxl::read_excel(\"文件路径及名称.xlsx/xls\")"
   ]
  },
  {
   "cell_type": "markdown",
   "id": "e65a2956",
   "metadata": {},
   "source": [
    "### 链接嵌入的数据库"
   ]
  },
  {
   "cell_type": "code",
   "execution_count": 31,
   "id": "9a5552df",
   "metadata": {},
   "outputs": [],
   "source": [
    "#R 本身提供了50多个数据库，还有很多附带数据库的package\n",
    "data()"
   ]
  },
  {
   "cell_type": "code",
   "execution_count": 32,
   "id": "3dea2b6e",
   "metadata": {},
   "outputs": [
    {
     "data": {
      "text/html": [
       "<table class=\"dataframe\">\n",
       "<caption>A Time Series: 12 × 12</caption>\n",
       "<thead>\n",
       "\t<tr><th></th><th scope=col>Jan</th><th scope=col>Feb</th><th scope=col>Mar</th><th scope=col>Apr</th><th scope=col>May</th><th scope=col>Jun</th><th scope=col>Jul</th><th scope=col>Aug</th><th scope=col>Sep</th><th scope=col>Oct</th><th scope=col>Nov</th><th scope=col>Dec</th></tr>\n",
       "</thead>\n",
       "<tbody>\n",
       "\t<tr><th scope=row>1949</th><td>112</td><td>118</td><td>132</td><td>129</td><td>121</td><td>135</td><td>148</td><td>148</td><td>136</td><td>119</td><td>104</td><td>118</td></tr>\n",
       "\t<tr><th scope=row>1950</th><td>115</td><td>126</td><td>141</td><td>135</td><td>125</td><td>149</td><td>170</td><td>170</td><td>158</td><td>133</td><td>114</td><td>140</td></tr>\n",
       "\t<tr><th scope=row>1951</th><td>145</td><td>150</td><td>178</td><td>163</td><td>172</td><td>178</td><td>199</td><td>199</td><td>184</td><td>162</td><td>146</td><td>166</td></tr>\n",
       "\t<tr><th scope=row>1952</th><td>171</td><td>180</td><td>193</td><td>181</td><td>183</td><td>218</td><td>230</td><td>242</td><td>209</td><td>191</td><td>172</td><td>194</td></tr>\n",
       "\t<tr><th scope=row>1953</th><td>196</td><td>196</td><td>236</td><td>235</td><td>229</td><td>243</td><td>264</td><td>272</td><td>237</td><td>211</td><td>180</td><td>201</td></tr>\n",
       "\t<tr><th scope=row>1954</th><td>204</td><td>188</td><td>235</td><td>227</td><td>234</td><td>264</td><td>302</td><td>293</td><td>259</td><td>229</td><td>203</td><td>229</td></tr>\n",
       "\t<tr><th scope=row>1955</th><td>242</td><td>233</td><td>267</td><td>269</td><td>270</td><td>315</td><td>364</td><td>347</td><td>312</td><td>274</td><td>237</td><td>278</td></tr>\n",
       "\t<tr><th scope=row>1956</th><td>284</td><td>277</td><td>317</td><td>313</td><td>318</td><td>374</td><td>413</td><td>405</td><td>355</td><td>306</td><td>271</td><td>306</td></tr>\n",
       "\t<tr><th scope=row>1957</th><td>315</td><td>301</td><td>356</td><td>348</td><td>355</td><td>422</td><td>465</td><td>467</td><td>404</td><td>347</td><td>305</td><td>336</td></tr>\n",
       "\t<tr><th scope=row>1958</th><td>340</td><td>318</td><td>362</td><td>348</td><td>363</td><td>435</td><td>491</td><td>505</td><td>404</td><td>359</td><td>310</td><td>337</td></tr>\n",
       "\t<tr><th scope=row>1959</th><td>360</td><td>342</td><td>406</td><td>396</td><td>420</td><td>472</td><td>548</td><td>559</td><td>463</td><td>407</td><td>362</td><td>405</td></tr>\n",
       "\t<tr><th scope=row>1960</th><td>417</td><td>391</td><td>419</td><td>461</td><td>472</td><td>535</td><td>622</td><td>606</td><td>508</td><td>461</td><td>390</td><td>432</td></tr>\n",
       "</tbody>\n",
       "</table>\n"
      ],
      "text/latex": [
       "A Time Series: 12 × 12\n",
       "\\begin{tabular}{r|llllllllllll}\n",
       "  & Jan & Feb & Mar & Apr & May & Jun & Jul & Aug & Sep & Oct & Nov & Dec\\\\\n",
       "\\hline\n",
       "\t1949 & 112 & 118 & 132 & 129 & 121 & 135 & 148 & 148 & 136 & 119 & 104 & 118\\\\\n",
       "\t1950 & 115 & 126 & 141 & 135 & 125 & 149 & 170 & 170 & 158 & 133 & 114 & 140\\\\\n",
       "\t1951 & 145 & 150 & 178 & 163 & 172 & 178 & 199 & 199 & 184 & 162 & 146 & 166\\\\\n",
       "\t1952 & 171 & 180 & 193 & 181 & 183 & 218 & 230 & 242 & 209 & 191 & 172 & 194\\\\\n",
       "\t1953 & 196 & 196 & 236 & 235 & 229 & 243 & 264 & 272 & 237 & 211 & 180 & 201\\\\\n",
       "\t1954 & 204 & 188 & 235 & 227 & 234 & 264 & 302 & 293 & 259 & 229 & 203 & 229\\\\\n",
       "\t1955 & 242 & 233 & 267 & 269 & 270 & 315 & 364 & 347 & 312 & 274 & 237 & 278\\\\\n",
       "\t1956 & 284 & 277 & 317 & 313 & 318 & 374 & 413 & 405 & 355 & 306 & 271 & 306\\\\\n",
       "\t1957 & 315 & 301 & 356 & 348 & 355 & 422 & 465 & 467 & 404 & 347 & 305 & 336\\\\\n",
       "\t1958 & 340 & 318 & 362 & 348 & 363 & 435 & 491 & 505 & 404 & 359 & 310 & 337\\\\\n",
       "\t1959 & 360 & 342 & 406 & 396 & 420 & 472 & 548 & 559 & 463 & 407 & 362 & 405\\\\\n",
       "\t1960 & 417 & 391 & 419 & 461 & 472 & 535 & 622 & 606 & 508 & 461 & 390 & 432\\\\\n",
       "\\end{tabular}\n"
      ],
      "text/markdown": [
       "\n",
       "A Time Series: 12 × 12\n",
       "\n",
       "| <!--/--> | Jan | Feb | Mar | Apr | May | Jun | Jul | Aug | Sep | Oct | Nov | Dec |\n",
       "|---|---|---|---|---|---|---|---|---|---|---|---|---|\n",
       "| 1949 | 112 | 118 | 132 | 129 | 121 | 135 | 148 | 148 | 136 | 119 | 104 | 118 |\n",
       "| 1950 | 115 | 126 | 141 | 135 | 125 | 149 | 170 | 170 | 158 | 133 | 114 | 140 |\n",
       "| 1951 | 145 | 150 | 178 | 163 | 172 | 178 | 199 | 199 | 184 | 162 | 146 | 166 |\n",
       "| 1952 | 171 | 180 | 193 | 181 | 183 | 218 | 230 | 242 | 209 | 191 | 172 | 194 |\n",
       "| 1953 | 196 | 196 | 236 | 235 | 229 | 243 | 264 | 272 | 237 | 211 | 180 | 201 |\n",
       "| 1954 | 204 | 188 | 235 | 227 | 234 | 264 | 302 | 293 | 259 | 229 | 203 | 229 |\n",
       "| 1955 | 242 | 233 | 267 | 269 | 270 | 315 | 364 | 347 | 312 | 274 | 237 | 278 |\n",
       "| 1956 | 284 | 277 | 317 | 313 | 318 | 374 | 413 | 405 | 355 | 306 | 271 | 306 |\n",
       "| 1957 | 315 | 301 | 356 | 348 | 355 | 422 | 465 | 467 | 404 | 347 | 305 | 336 |\n",
       "| 1958 | 340 | 318 | 362 | 348 | 363 | 435 | 491 | 505 | 404 | 359 | 310 | 337 |\n",
       "| 1959 | 360 | 342 | 406 | 396 | 420 | 472 | 548 | 559 | 463 | 407 | 362 | 405 |\n",
       "| 1960 | 417 | 391 | 419 | 461 | 472 | 535 | 622 | 606 | 508 | 461 | 390 | 432 |\n",
       "\n"
      ],
      "text/plain": [
       "     Jan Feb Mar Apr May Jun Jul Aug Sep Oct Nov Dec\n",
       "1949 112 118 132 129 121 135 148 148 136 119 104 118\n",
       "1950 115 126 141 135 125 149 170 170 158 133 114 140\n",
       "1951 145 150 178 163 172 178 199 199 184 162 146 166\n",
       "1952 171 180 193 181 183 218 230 242 209 191 172 194\n",
       "1953 196 196 236 235 229 243 264 272 237 211 180 201\n",
       "1954 204 188 235 227 234 264 302 293 259 229 203 229\n",
       "1955 242 233 267 269 270 315 364 347 312 274 237 278\n",
       "1956 284 277 317 313 318 374 413 405 355 306 271 306\n",
       "1957 315 301 356 348 355 422 465 467 404 347 305 336\n",
       "1958 340 318 362 348 363 435 491 505 404 359 310 337\n",
       "1959 360 342 406 396 420 472 548 559 463 407 362 405\n",
       "1960 417 391 419 461 472 535 622 606 508 461 390 432"
      ]
     },
     "metadata": {},
     "output_type": "display_data"
    }
   ],
   "source": [
    "data(AirPassengers)\n",
    "AirPassengers"
   ]
  },
  {
   "cell_type": "code",
   "execution_count": 33,
   "id": "197add1b",
   "metadata": {},
   "outputs": [],
   "source": [
    "#如果需要从其他包获取数据\n",
    "data(package = 'lme4')\n"
   ]
  },
  {
   "cell_type": "code",
   "execution_count": 34,
   "id": "0b371f81",
   "metadata": {},
   "outputs": [
    {
     "data": {
      "text/html": [
       "<table class=\"dataframe\">\n",
       "<caption>A data.frame: 625 × 8</caption>\n",
       "<thead>\n",
       "\t<tr><th scope=col>reg</th><th scope=col>popu</th><th scope=col>gen</th><th scope=col>rack</th><th scope=col>nutrient</th><th scope=col>amd</th><th scope=col>status</th><th scope=col>total.fruits</th></tr>\n",
       "\t<tr><th scope=col>&lt;fct&gt;</th><th scope=col>&lt;fct&gt;</th><th scope=col>&lt;int&gt;</th><th scope=col>&lt;int&gt;</th><th scope=col>&lt;int&gt;</th><th scope=col>&lt;fct&gt;</th><th scope=col>&lt;fct&gt;</th><th scope=col>&lt;int&gt;</th></tr>\n",
       "</thead>\n",
       "<tbody>\n",
       "\t<tr><td>NL</td><td>3.NL</td><td> 4</td><td>2</td><td>1</td><td>clipped  </td><td>Transplant </td><td> 0</td></tr>\n",
       "\t<tr><td>NL</td><td>3.NL</td><td> 4</td><td>1</td><td>1</td><td>clipped  </td><td>Petri.Plate</td><td> 0</td></tr>\n",
       "\t<tr><td>NL</td><td>3.NL</td><td> 4</td><td>1</td><td>1</td><td>clipped  </td><td>Normal     </td><td> 0</td></tr>\n",
       "\t<tr><td>NL</td><td>3.NL</td><td> 4</td><td>2</td><td>1</td><td>clipped  </td><td>Normal     </td><td> 0</td></tr>\n",
       "\t<tr><td>NL</td><td>3.NL</td><td> 4</td><td>2</td><td>8</td><td>clipped  </td><td>Transplant </td><td> 0</td></tr>\n",
       "\t<tr><td>NL</td><td>3.NL</td><td> 4</td><td>2</td><td>1</td><td>unclipped</td><td>Petri.Plate</td><td> 0</td></tr>\n",
       "\t<tr><td>NL</td><td>3.NL</td><td> 4</td><td>2</td><td>1</td><td>clipped  </td><td>Normal     </td><td> 0</td></tr>\n",
       "\t<tr><td>NL</td><td>3.NL</td><td> 4</td><td>1</td><td>1</td><td>clipped  </td><td>Normal     </td><td> 3</td></tr>\n",
       "\t<tr><td>NL</td><td>3.NL</td><td> 4</td><td>2</td><td>8</td><td>unclipped</td><td>Normal     </td><td> 2</td></tr>\n",
       "\t<tr><td>NL</td><td>3.NL</td><td> 5</td><td>1</td><td>1</td><td>clipped  </td><td>Petri.Plate</td><td> 0</td></tr>\n",
       "\t<tr><td>NL</td><td>3.NL</td><td> 5</td><td>2</td><td>1</td><td>clipped  </td><td>Transplant </td><td> 0</td></tr>\n",
       "\t<tr><td>NL</td><td>3.NL</td><td> 5</td><td>2</td><td>8</td><td>unclipped</td><td>Transplant </td><td> 0</td></tr>\n",
       "\t<tr><td>NL</td><td>3.NL</td><td> 5</td><td>2</td><td>8</td><td>clipped  </td><td>Normal     </td><td> 1</td></tr>\n",
       "\t<tr><td>NL</td><td>3.NL</td><td> 5</td><td>1</td><td>1</td><td>unclipped</td><td>Petri.Plate</td><td>15</td></tr>\n",
       "\t<tr><td>NL</td><td>3.NL</td><td> 5</td><td>1</td><td>8</td><td>clipped  </td><td>Normal     </td><td>33</td></tr>\n",
       "\t<tr><td>NL</td><td>3.NL</td><td> 6</td><td>1</td><td>1</td><td>clipped  </td><td>Petri.Plate</td><td> 0</td></tr>\n",
       "\t<tr><td>NL</td><td>3.NL</td><td> 6</td><td>1</td><td>1</td><td>clipped  </td><td>Normal     </td><td> 0</td></tr>\n",
       "\t<tr><td>NL</td><td>3.NL</td><td> 6</td><td>2</td><td>1</td><td>clipped  </td><td>Normal     </td><td> 0</td></tr>\n",
       "\t<tr><td>NL</td><td>3.NL</td><td> 6</td><td>2</td><td>1</td><td>unclipped</td><td>Petri.Plate</td><td> 7</td></tr>\n",
       "\t<tr><td>NL</td><td>3.NL</td><td> 6</td><td>2</td><td>8</td><td>clipped  </td><td>Normal     </td><td> 8</td></tr>\n",
       "\t<tr><td>NL</td><td>5.NL</td><td>11</td><td>2</td><td>1</td><td>clipped  </td><td>Petri.Plate</td><td> 0</td></tr>\n",
       "\t<tr><td>NL</td><td>5.NL</td><td>11</td><td>1</td><td>1</td><td>clipped  </td><td>Petri.Plate</td><td> 0</td></tr>\n",
       "\t<tr><td>NL</td><td>5.NL</td><td>11</td><td>2</td><td>1</td><td>unclipped</td><td>Transplant </td><td> 0</td></tr>\n",
       "\t<tr><td>NL</td><td>5.NL</td><td>11</td><td>2</td><td>1</td><td>clipped  </td><td>Normal     </td><td> 0</td></tr>\n",
       "\t<tr><td>NL</td><td>5.NL</td><td>11</td><td>1</td><td>8</td><td>unclipped</td><td>Transplant </td><td>50</td></tr>\n",
       "\t<tr><td>NL</td><td>5.NL</td><td>12</td><td>2</td><td>1</td><td>unclipped</td><td>Transplant </td><td> 0</td></tr>\n",
       "\t<tr><td>NL</td><td>5.NL</td><td>12</td><td>1</td><td>1</td><td>unclipped</td><td>Petri.Plate</td><td> 1</td></tr>\n",
       "\t<tr><td>NL</td><td>5.NL</td><td>12</td><td>1</td><td>8</td><td>clipped  </td><td>Normal     </td><td>85</td></tr>\n",
       "\t<tr><td>NL</td><td>5.NL</td><td>12</td><td>2</td><td>8</td><td>unclipped</td><td>Normal     </td><td> 8</td></tr>\n",
       "\t<tr><td>NL</td><td>5.NL</td><td>12</td><td>1</td><td>1</td><td>clipped  </td><td>Petri.Plate</td><td> 8</td></tr>\n",
       "\t<tr><td>⋮</td><td>⋮</td><td>⋮</td><td>⋮</td><td>⋮</td><td>⋮</td><td>⋮</td><td>⋮</td></tr>\n",
       "\t<tr><td>SP</td><td>5.SP</td><td>16</td><td>2</td><td>8</td><td>unclipped</td><td>Transplant </td><td> 90</td></tr>\n",
       "\t<tr><td>SW</td><td>1.SW</td><td>25</td><td>1</td><td>8</td><td>unclipped</td><td>Normal     </td><td> 77</td></tr>\n",
       "\t<tr><td>NL</td><td>5.NL</td><td>11</td><td>2</td><td>8</td><td>clipped  </td><td>Transplant </td><td> 91</td></tr>\n",
       "\t<tr><td>NL</td><td>5.NL</td><td>11</td><td>1</td><td>1</td><td>unclipped</td><td>Normal     </td><td>123</td></tr>\n",
       "\t<tr><td>SW</td><td>1.SW</td><td>27</td><td>2</td><td>8</td><td>unclipped</td><td>Transplant </td><td>105</td></tr>\n",
       "\t<tr><td>SP</td><td>5.SP</td><td>16</td><td>1</td><td>1</td><td>clipped  </td><td>Normal     </td><td>144</td></tr>\n",
       "\t<tr><td>SP</td><td>5.SP</td><td>17</td><td>1</td><td>8</td><td>clipped  </td><td>Normal     </td><td>238</td></tr>\n",
       "\t<tr><td>SP</td><td>5.SP</td><td>18</td><td>2</td><td>8</td><td>unclipped</td><td>Normal     </td><td>131</td></tr>\n",
       "\t<tr><td>SP</td><td>5.SP</td><td>17</td><td>1</td><td>8</td><td>clipped  </td><td>Normal     </td><td>121</td></tr>\n",
       "\t<tr><td>SP</td><td>6.SP</td><td>21</td><td>1</td><td>8</td><td>unclipped</td><td>Normal     </td><td>114</td></tr>\n",
       "\t<tr><td>SP</td><td>5.SP</td><td>18</td><td>1</td><td>8</td><td>clipped  </td><td>Normal     </td><td>145</td></tr>\n",
       "\t<tr><td>SP</td><td>6.SP</td><td>20</td><td>1</td><td>8</td><td>clipped  </td><td>Normal     </td><td>191</td></tr>\n",
       "\t<tr><td>NL</td><td>3.NL</td><td> 4</td><td>2</td><td>1</td><td>clipped  </td><td>Normal     </td><td>  1</td></tr>\n",
       "\t<tr><td>NL</td><td>3.NL</td><td> 4</td><td>2</td><td>1</td><td>unclipped</td><td>Normal     </td><td>  2</td></tr>\n",
       "\t<tr><td>NL</td><td>3.NL</td><td> 4</td><td>1</td><td>8</td><td>clipped  </td><td>Normal     </td><td>  5</td></tr>\n",
       "\t<tr><td>NL</td><td>3.NL</td><td> 5</td><td>1</td><td>8</td><td>clipped  </td><td>Petri.Plate</td><td> 26</td></tr>\n",
       "\t<tr><td>NL</td><td>5.NL</td><td>11</td><td>2</td><td>8</td><td>clipped  </td><td>Normal     </td><td>  5</td></tr>\n",
       "\t<tr><td>NL</td><td>5.NL</td><td>11</td><td>1</td><td>1</td><td>clipped  </td><td>Normal     </td><td> 40</td></tr>\n",
       "\t<tr><td>NL</td><td>5.NL</td><td>11</td><td>2</td><td>1</td><td>clipped  </td><td>Petri.Plate</td><td> 72</td></tr>\n",
       "\t<tr><td>SP</td><td>1.SP</td><td>13</td><td>1</td><td>8</td><td>unclipped</td><td>Normal     </td><td>  5</td></tr>\n",
       "\t<tr><td>SP</td><td>1.SP</td><td>14</td><td>2</td><td>8</td><td>clipped  </td><td>Normal     </td><td>103</td></tr>\n",
       "\t<tr><td>SP</td><td>1.SP</td><td>15</td><td>2</td><td>1</td><td>unclipped</td><td>Transplant </td><td>  6</td></tr>\n",
       "\t<tr><td>SP</td><td>5.SP</td><td>16</td><td>2</td><td>8</td><td>clipped  </td><td>Normal     </td><td>  5</td></tr>\n",
       "\t<tr><td>SP</td><td>5.SP</td><td>16</td><td>2</td><td>1</td><td>unclipped</td><td>Normal     </td><td>  5</td></tr>\n",
       "\t<tr><td>SP</td><td>5.SP</td><td>16</td><td>1</td><td>8</td><td>unclipped</td><td>Petri.Plate</td><td>  5</td></tr>\n",
       "\t<tr><td>SW</td><td>1.SW</td><td>25</td><td>2</td><td>8</td><td>unclipped</td><td>Normal     </td><td>  5</td></tr>\n",
       "\t<tr><td>SW</td><td>1.SW</td><td>25</td><td>1</td><td>1</td><td>clipped  </td><td>Transplant </td><td>  3</td></tr>\n",
       "\t<tr><td>SW</td><td>1.SW</td><td>27</td><td>2</td><td>8</td><td>unclipped</td><td>Normal     </td><td>  5</td></tr>\n",
       "\t<tr><td>SW</td><td>1.SW</td><td>27</td><td>2</td><td>8</td><td>clipped  </td><td>Transplant </td><td>  5</td></tr>\n",
       "\t<tr><td>SW</td><td>7.SW</td><td>35</td><td>2</td><td>1</td><td>clipped  </td><td>Normal     </td><td>  3</td></tr>\n",
       "</tbody>\n",
       "</table>\n"
      ],
      "text/latex": [
       "A data.frame: 625 × 8\n",
       "\\begin{tabular}{llllllll}\n",
       " reg & popu & gen & rack & nutrient & amd & status & total.fruits\\\\\n",
       " <fct> & <fct> & <int> & <int> & <int> & <fct> & <fct> & <int>\\\\\n",
       "\\hline\n",
       "\t NL & 3.NL &  4 & 2 & 1 & clipped   & Transplant  &  0\\\\\n",
       "\t NL & 3.NL &  4 & 1 & 1 & clipped   & Petri.Plate &  0\\\\\n",
       "\t NL & 3.NL &  4 & 1 & 1 & clipped   & Normal      &  0\\\\\n",
       "\t NL & 3.NL &  4 & 2 & 1 & clipped   & Normal      &  0\\\\\n",
       "\t NL & 3.NL &  4 & 2 & 8 & clipped   & Transplant  &  0\\\\\n",
       "\t NL & 3.NL &  4 & 2 & 1 & unclipped & Petri.Plate &  0\\\\\n",
       "\t NL & 3.NL &  4 & 2 & 1 & clipped   & Normal      &  0\\\\\n",
       "\t NL & 3.NL &  4 & 1 & 1 & clipped   & Normal      &  3\\\\\n",
       "\t NL & 3.NL &  4 & 2 & 8 & unclipped & Normal      &  2\\\\\n",
       "\t NL & 3.NL &  5 & 1 & 1 & clipped   & Petri.Plate &  0\\\\\n",
       "\t NL & 3.NL &  5 & 2 & 1 & clipped   & Transplant  &  0\\\\\n",
       "\t NL & 3.NL &  5 & 2 & 8 & unclipped & Transplant  &  0\\\\\n",
       "\t NL & 3.NL &  5 & 2 & 8 & clipped   & Normal      &  1\\\\\n",
       "\t NL & 3.NL &  5 & 1 & 1 & unclipped & Petri.Plate & 15\\\\\n",
       "\t NL & 3.NL &  5 & 1 & 8 & clipped   & Normal      & 33\\\\\n",
       "\t NL & 3.NL &  6 & 1 & 1 & clipped   & Petri.Plate &  0\\\\\n",
       "\t NL & 3.NL &  6 & 1 & 1 & clipped   & Normal      &  0\\\\\n",
       "\t NL & 3.NL &  6 & 2 & 1 & clipped   & Normal      &  0\\\\\n",
       "\t NL & 3.NL &  6 & 2 & 1 & unclipped & Petri.Plate &  7\\\\\n",
       "\t NL & 3.NL &  6 & 2 & 8 & clipped   & Normal      &  8\\\\\n",
       "\t NL & 5.NL & 11 & 2 & 1 & clipped   & Petri.Plate &  0\\\\\n",
       "\t NL & 5.NL & 11 & 1 & 1 & clipped   & Petri.Plate &  0\\\\\n",
       "\t NL & 5.NL & 11 & 2 & 1 & unclipped & Transplant  &  0\\\\\n",
       "\t NL & 5.NL & 11 & 2 & 1 & clipped   & Normal      &  0\\\\\n",
       "\t NL & 5.NL & 11 & 1 & 8 & unclipped & Transplant  & 50\\\\\n",
       "\t NL & 5.NL & 12 & 2 & 1 & unclipped & Transplant  &  0\\\\\n",
       "\t NL & 5.NL & 12 & 1 & 1 & unclipped & Petri.Plate &  1\\\\\n",
       "\t NL & 5.NL & 12 & 1 & 8 & clipped   & Normal      & 85\\\\\n",
       "\t NL & 5.NL & 12 & 2 & 8 & unclipped & Normal      &  8\\\\\n",
       "\t NL & 5.NL & 12 & 1 & 1 & clipped   & Petri.Plate &  8\\\\\n",
       "\t ⋮ & ⋮ & ⋮ & ⋮ & ⋮ & ⋮ & ⋮ & ⋮\\\\\n",
       "\t SP & 5.SP & 16 & 2 & 8 & unclipped & Transplant  &  90\\\\\n",
       "\t SW & 1.SW & 25 & 1 & 8 & unclipped & Normal      &  77\\\\\n",
       "\t NL & 5.NL & 11 & 2 & 8 & clipped   & Transplant  &  91\\\\\n",
       "\t NL & 5.NL & 11 & 1 & 1 & unclipped & Normal      & 123\\\\\n",
       "\t SW & 1.SW & 27 & 2 & 8 & unclipped & Transplant  & 105\\\\\n",
       "\t SP & 5.SP & 16 & 1 & 1 & clipped   & Normal      & 144\\\\\n",
       "\t SP & 5.SP & 17 & 1 & 8 & clipped   & Normal      & 238\\\\\n",
       "\t SP & 5.SP & 18 & 2 & 8 & unclipped & Normal      & 131\\\\\n",
       "\t SP & 5.SP & 17 & 1 & 8 & clipped   & Normal      & 121\\\\\n",
       "\t SP & 6.SP & 21 & 1 & 8 & unclipped & Normal      & 114\\\\\n",
       "\t SP & 5.SP & 18 & 1 & 8 & clipped   & Normal      & 145\\\\\n",
       "\t SP & 6.SP & 20 & 1 & 8 & clipped   & Normal      & 191\\\\\n",
       "\t NL & 3.NL &  4 & 2 & 1 & clipped   & Normal      &   1\\\\\n",
       "\t NL & 3.NL &  4 & 2 & 1 & unclipped & Normal      &   2\\\\\n",
       "\t NL & 3.NL &  4 & 1 & 8 & clipped   & Normal      &   5\\\\\n",
       "\t NL & 3.NL &  5 & 1 & 8 & clipped   & Petri.Plate &  26\\\\\n",
       "\t NL & 5.NL & 11 & 2 & 8 & clipped   & Normal      &   5\\\\\n",
       "\t NL & 5.NL & 11 & 1 & 1 & clipped   & Normal      &  40\\\\\n",
       "\t NL & 5.NL & 11 & 2 & 1 & clipped   & Petri.Plate &  72\\\\\n",
       "\t SP & 1.SP & 13 & 1 & 8 & unclipped & Normal      &   5\\\\\n",
       "\t SP & 1.SP & 14 & 2 & 8 & clipped   & Normal      & 103\\\\\n",
       "\t SP & 1.SP & 15 & 2 & 1 & unclipped & Transplant  &   6\\\\\n",
       "\t SP & 5.SP & 16 & 2 & 8 & clipped   & Normal      &   5\\\\\n",
       "\t SP & 5.SP & 16 & 2 & 1 & unclipped & Normal      &   5\\\\\n",
       "\t SP & 5.SP & 16 & 1 & 8 & unclipped & Petri.Plate &   5\\\\\n",
       "\t SW & 1.SW & 25 & 2 & 8 & unclipped & Normal      &   5\\\\\n",
       "\t SW & 1.SW & 25 & 1 & 1 & clipped   & Transplant  &   3\\\\\n",
       "\t SW & 1.SW & 27 & 2 & 8 & unclipped & Normal      &   5\\\\\n",
       "\t SW & 1.SW & 27 & 2 & 8 & clipped   & Transplant  &   5\\\\\n",
       "\t SW & 7.SW & 35 & 2 & 1 & clipped   & Normal      &   3\\\\\n",
       "\\end{tabular}\n"
      ],
      "text/markdown": [
       "\n",
       "A data.frame: 625 × 8\n",
       "\n",
       "| reg &lt;fct&gt; | popu &lt;fct&gt; | gen &lt;int&gt; | rack &lt;int&gt; | nutrient &lt;int&gt; | amd &lt;fct&gt; | status &lt;fct&gt; | total.fruits &lt;int&gt; |\n",
       "|---|---|---|---|---|---|---|---|\n",
       "| NL | 3.NL |  4 | 2 | 1 | clipped   | Transplant  |  0 |\n",
       "| NL | 3.NL |  4 | 1 | 1 | clipped   | Petri.Plate |  0 |\n",
       "| NL | 3.NL |  4 | 1 | 1 | clipped   | Normal      |  0 |\n",
       "| NL | 3.NL |  4 | 2 | 1 | clipped   | Normal      |  0 |\n",
       "| NL | 3.NL |  4 | 2 | 8 | clipped   | Transplant  |  0 |\n",
       "| NL | 3.NL |  4 | 2 | 1 | unclipped | Petri.Plate |  0 |\n",
       "| NL | 3.NL |  4 | 2 | 1 | clipped   | Normal      |  0 |\n",
       "| NL | 3.NL |  4 | 1 | 1 | clipped   | Normal      |  3 |\n",
       "| NL | 3.NL |  4 | 2 | 8 | unclipped | Normal      |  2 |\n",
       "| NL | 3.NL |  5 | 1 | 1 | clipped   | Petri.Plate |  0 |\n",
       "| NL | 3.NL |  5 | 2 | 1 | clipped   | Transplant  |  0 |\n",
       "| NL | 3.NL |  5 | 2 | 8 | unclipped | Transplant  |  0 |\n",
       "| NL | 3.NL |  5 | 2 | 8 | clipped   | Normal      |  1 |\n",
       "| NL | 3.NL |  5 | 1 | 1 | unclipped | Petri.Plate | 15 |\n",
       "| NL | 3.NL |  5 | 1 | 8 | clipped   | Normal      | 33 |\n",
       "| NL | 3.NL |  6 | 1 | 1 | clipped   | Petri.Plate |  0 |\n",
       "| NL | 3.NL |  6 | 1 | 1 | clipped   | Normal      |  0 |\n",
       "| NL | 3.NL |  6 | 2 | 1 | clipped   | Normal      |  0 |\n",
       "| NL | 3.NL |  6 | 2 | 1 | unclipped | Petri.Plate |  7 |\n",
       "| NL | 3.NL |  6 | 2 | 8 | clipped   | Normal      |  8 |\n",
       "| NL | 5.NL | 11 | 2 | 1 | clipped   | Petri.Plate |  0 |\n",
       "| NL | 5.NL | 11 | 1 | 1 | clipped   | Petri.Plate |  0 |\n",
       "| NL | 5.NL | 11 | 2 | 1 | unclipped | Transplant  |  0 |\n",
       "| NL | 5.NL | 11 | 2 | 1 | clipped   | Normal      |  0 |\n",
       "| NL | 5.NL | 11 | 1 | 8 | unclipped | Transplant  | 50 |\n",
       "| NL | 5.NL | 12 | 2 | 1 | unclipped | Transplant  |  0 |\n",
       "| NL | 5.NL | 12 | 1 | 1 | unclipped | Petri.Plate |  1 |\n",
       "| NL | 5.NL | 12 | 1 | 8 | clipped   | Normal      | 85 |\n",
       "| NL | 5.NL | 12 | 2 | 8 | unclipped | Normal      |  8 |\n",
       "| NL | 5.NL | 12 | 1 | 1 | clipped   | Petri.Plate |  8 |\n",
       "| ⋮ | ⋮ | ⋮ | ⋮ | ⋮ | ⋮ | ⋮ | ⋮ |\n",
       "| SP | 5.SP | 16 | 2 | 8 | unclipped | Transplant  |  90 |\n",
       "| SW | 1.SW | 25 | 1 | 8 | unclipped | Normal      |  77 |\n",
       "| NL | 5.NL | 11 | 2 | 8 | clipped   | Transplant  |  91 |\n",
       "| NL | 5.NL | 11 | 1 | 1 | unclipped | Normal      | 123 |\n",
       "| SW | 1.SW | 27 | 2 | 8 | unclipped | Transplant  | 105 |\n",
       "| SP | 5.SP | 16 | 1 | 1 | clipped   | Normal      | 144 |\n",
       "| SP | 5.SP | 17 | 1 | 8 | clipped   | Normal      | 238 |\n",
       "| SP | 5.SP | 18 | 2 | 8 | unclipped | Normal      | 131 |\n",
       "| SP | 5.SP | 17 | 1 | 8 | clipped   | Normal      | 121 |\n",
       "| SP | 6.SP | 21 | 1 | 8 | unclipped | Normal      | 114 |\n",
       "| SP | 5.SP | 18 | 1 | 8 | clipped   | Normal      | 145 |\n",
       "| SP | 6.SP | 20 | 1 | 8 | clipped   | Normal      | 191 |\n",
       "| NL | 3.NL |  4 | 2 | 1 | clipped   | Normal      |   1 |\n",
       "| NL | 3.NL |  4 | 2 | 1 | unclipped | Normal      |   2 |\n",
       "| NL | 3.NL |  4 | 1 | 8 | clipped   | Normal      |   5 |\n",
       "| NL | 3.NL |  5 | 1 | 8 | clipped   | Petri.Plate |  26 |\n",
       "| NL | 5.NL | 11 | 2 | 8 | clipped   | Normal      |   5 |\n",
       "| NL | 5.NL | 11 | 1 | 1 | clipped   | Normal      |  40 |\n",
       "| NL | 5.NL | 11 | 2 | 1 | clipped   | Petri.Plate |  72 |\n",
       "| SP | 1.SP | 13 | 1 | 8 | unclipped | Normal      |   5 |\n",
       "| SP | 1.SP | 14 | 2 | 8 | clipped   | Normal      | 103 |\n",
       "| SP | 1.SP | 15 | 2 | 1 | unclipped | Transplant  |   6 |\n",
       "| SP | 5.SP | 16 | 2 | 8 | clipped   | Normal      |   5 |\n",
       "| SP | 5.SP | 16 | 2 | 1 | unclipped | Normal      |   5 |\n",
       "| SP | 5.SP | 16 | 1 | 8 | unclipped | Petri.Plate |   5 |\n",
       "| SW | 1.SW | 25 | 2 | 8 | unclipped | Normal      |   5 |\n",
       "| SW | 1.SW | 25 | 1 | 1 | clipped   | Transplant  |   3 |\n",
       "| SW | 1.SW | 27 | 2 | 8 | unclipped | Normal      |   5 |\n",
       "| SW | 1.SW | 27 | 2 | 8 | clipped   | Transplant  |   5 |\n",
       "| SW | 7.SW | 35 | 2 | 1 | clipped   | Normal      |   3 |\n",
       "\n"
      ],
      "text/plain": [
       "    reg popu gen rack nutrient amd       status      total.fruits\n",
       "1   NL  3.NL  4  2    1        clipped   Transplant   0          \n",
       "2   NL  3.NL  4  1    1        clipped   Petri.Plate  0          \n",
       "3   NL  3.NL  4  1    1        clipped   Normal       0          \n",
       "4   NL  3.NL  4  2    1        clipped   Normal       0          \n",
       "5   NL  3.NL  4  2    8        clipped   Transplant   0          \n",
       "6   NL  3.NL  4  2    1        unclipped Petri.Plate  0          \n",
       "7   NL  3.NL  4  2    1        clipped   Normal       0          \n",
       "8   NL  3.NL  4  1    1        clipped   Normal       3          \n",
       "9   NL  3.NL  4  2    8        unclipped Normal       2          \n",
       "10  NL  3.NL  5  1    1        clipped   Petri.Plate  0          \n",
       "11  NL  3.NL  5  2    1        clipped   Transplant   0          \n",
       "12  NL  3.NL  5  2    8        unclipped Transplant   0          \n",
       "13  NL  3.NL  5  2    8        clipped   Normal       1          \n",
       "14  NL  3.NL  5  1    1        unclipped Petri.Plate 15          \n",
       "15  NL  3.NL  5  1    8        clipped   Normal      33          \n",
       "16  NL  3.NL  6  1    1        clipped   Petri.Plate  0          \n",
       "17  NL  3.NL  6  1    1        clipped   Normal       0          \n",
       "18  NL  3.NL  6  2    1        clipped   Normal       0          \n",
       "19  NL  3.NL  6  2    1        unclipped Petri.Plate  7          \n",
       "20  NL  3.NL  6  2    8        clipped   Normal       8          \n",
       "21  NL  5.NL 11  2    1        clipped   Petri.Plate  0          \n",
       "22  NL  5.NL 11  1    1        clipped   Petri.Plate  0          \n",
       "23  NL  5.NL 11  2    1        unclipped Transplant   0          \n",
       "24  NL  5.NL 11  2    1        clipped   Normal       0          \n",
       "25  NL  5.NL 11  1    8        unclipped Transplant  50          \n",
       "26  NL  5.NL 12  2    1        unclipped Transplant   0          \n",
       "27  NL  5.NL 12  1    1        unclipped Petri.Plate  1          \n",
       "28  NL  5.NL 12  1    8        clipped   Normal      85          \n",
       "29  NL  5.NL 12  2    8        unclipped Normal       8          \n",
       "30  NL  5.NL 12  1    1        clipped   Petri.Plate  8          \n",
       "<U+22EE>   <U+22EE> <U+22EE> <U+22EE> <U+22EE> <U+22EE> <U+22EE>  <U+22EE>    <U+22EE>    \n",
       "596 SP  5.SP 16  2    8        unclipped Transplant   90         \n",
       "597 SW  1.SW 25  1    8        unclipped Normal       77         \n",
       "598 NL  5.NL 11  2    8        clipped   Transplant   91         \n",
       "599 NL  5.NL 11  1    1        unclipped Normal      123         \n",
       "600 SW  1.SW 27  2    8        unclipped Transplant  105         \n",
       "601 SP  5.SP 16  1    1        clipped   Normal      144         \n",
       "602 SP  5.SP 17  1    8        clipped   Normal      238         \n",
       "603 SP  5.SP 18  2    8        unclipped Normal      131         \n",
       "604 SP  5.SP 17  1    8        clipped   Normal      121         \n",
       "605 SP  6.SP 21  1    8        unclipped Normal      114         \n",
       "606 SP  5.SP 18  1    8        clipped   Normal      145         \n",
       "607 SP  6.SP 20  1    8        clipped   Normal      191         \n",
       "608 NL  3.NL  4  2    1        clipped   Normal        1         \n",
       "609 NL  3.NL  4  2    1        unclipped Normal        2         \n",
       "610 NL  3.NL  4  1    8        clipped   Normal        5         \n",
       "611 NL  3.NL  5  1    8        clipped   Petri.Plate  26         \n",
       "612 NL  5.NL 11  2    8        clipped   Normal        5         \n",
       "613 NL  5.NL 11  1    1        clipped   Normal       40         \n",
       "614 NL  5.NL 11  2    1        clipped   Petri.Plate  72         \n",
       "615 SP  1.SP 13  1    8        unclipped Normal        5         \n",
       "616 SP  1.SP 14  2    8        clipped   Normal      103         \n",
       "617 SP  1.SP 15  2    1        unclipped Transplant    6         \n",
       "618 SP  5.SP 16  2    8        clipped   Normal        5         \n",
       "619 SP  5.SP 16  2    1        unclipped Normal        5         \n",
       "620 SP  5.SP 16  1    8        unclipped Petri.Plate   5         \n",
       "621 SW  1.SW 25  2    8        unclipped Normal        5         \n",
       "622 SW  1.SW 25  1    1        clipped   Transplant    3         \n",
       "623 SW  1.SW 27  2    8        unclipped Normal        5         \n",
       "624 SW  1.SW 27  2    8        clipped   Transplant    5         \n",
       "625 SW  7.SW 35  2    1        clipped   Normal        3         "
      ]
     },
     "metadata": {},
     "output_type": "display_data"
    }
   ],
   "source": [
    "data(Arabidopsis,package = 'lme4')\n",
    "Arabidopsis"
   ]
  },
  {
   "cell_type": "code",
   "execution_count": 35,
   "id": "f8619213",
   "metadata": {},
   "outputs": [],
   "source": [
    "#同理，也可以\n",
    "library(lme4)"
   ]
  },
  {
   "cell_type": "code",
   "execution_count": 36,
   "id": "8dfe4eb9",
   "metadata": {},
   "outputs": [],
   "source": [
    "data(Dyestuff)"
   ]
  },
  {
   "cell_type": "code",
   "execution_count": 37,
   "id": "e2ebac0e",
   "metadata": {},
   "outputs": [
    {
     "data": {
      "text/html": [
       "<table class=\"dataframe\">\n",
       "<caption>A data.frame: 30 × 2</caption>\n",
       "<thead>\n",
       "\t<tr><th scope=col>Batch</th><th scope=col>Yield</th></tr>\n",
       "\t<tr><th scope=col>&lt;fct&gt;</th><th scope=col>&lt;dbl&gt;</th></tr>\n",
       "</thead>\n",
       "<tbody>\n",
       "\t<tr><td>A</td><td>1545</td></tr>\n",
       "\t<tr><td>A</td><td>1440</td></tr>\n",
       "\t<tr><td>A</td><td>1440</td></tr>\n",
       "\t<tr><td>A</td><td>1520</td></tr>\n",
       "\t<tr><td>A</td><td>1580</td></tr>\n",
       "\t<tr><td>B</td><td>1540</td></tr>\n",
       "\t<tr><td>B</td><td>1555</td></tr>\n",
       "\t<tr><td>B</td><td>1490</td></tr>\n",
       "\t<tr><td>B</td><td>1560</td></tr>\n",
       "\t<tr><td>B</td><td>1495</td></tr>\n",
       "\t<tr><td>C</td><td>1595</td></tr>\n",
       "\t<tr><td>C</td><td>1550</td></tr>\n",
       "\t<tr><td>C</td><td>1605</td></tr>\n",
       "\t<tr><td>C</td><td>1510</td></tr>\n",
       "\t<tr><td>C</td><td>1560</td></tr>\n",
       "\t<tr><td>D</td><td>1445</td></tr>\n",
       "\t<tr><td>D</td><td>1440</td></tr>\n",
       "\t<tr><td>D</td><td>1595</td></tr>\n",
       "\t<tr><td>D</td><td>1465</td></tr>\n",
       "\t<tr><td>D</td><td>1545</td></tr>\n",
       "\t<tr><td>E</td><td>1595</td></tr>\n",
       "\t<tr><td>E</td><td>1630</td></tr>\n",
       "\t<tr><td>E</td><td>1515</td></tr>\n",
       "\t<tr><td>E</td><td>1635</td></tr>\n",
       "\t<tr><td>E</td><td>1625</td></tr>\n",
       "\t<tr><td>F</td><td>1520</td></tr>\n",
       "\t<tr><td>F</td><td>1455</td></tr>\n",
       "\t<tr><td>F</td><td>1450</td></tr>\n",
       "\t<tr><td>F</td><td>1480</td></tr>\n",
       "\t<tr><td>F</td><td>1445</td></tr>\n",
       "</tbody>\n",
       "</table>\n"
      ],
      "text/latex": [
       "A data.frame: 30 × 2\n",
       "\\begin{tabular}{ll}\n",
       " Batch & Yield\\\\\n",
       " <fct> & <dbl>\\\\\n",
       "\\hline\n",
       "\t A & 1545\\\\\n",
       "\t A & 1440\\\\\n",
       "\t A & 1440\\\\\n",
       "\t A & 1520\\\\\n",
       "\t A & 1580\\\\\n",
       "\t B & 1540\\\\\n",
       "\t B & 1555\\\\\n",
       "\t B & 1490\\\\\n",
       "\t B & 1560\\\\\n",
       "\t B & 1495\\\\\n",
       "\t C & 1595\\\\\n",
       "\t C & 1550\\\\\n",
       "\t C & 1605\\\\\n",
       "\t C & 1510\\\\\n",
       "\t C & 1560\\\\\n",
       "\t D & 1445\\\\\n",
       "\t D & 1440\\\\\n",
       "\t D & 1595\\\\\n",
       "\t D & 1465\\\\\n",
       "\t D & 1545\\\\\n",
       "\t E & 1595\\\\\n",
       "\t E & 1630\\\\\n",
       "\t E & 1515\\\\\n",
       "\t E & 1635\\\\\n",
       "\t E & 1625\\\\\n",
       "\t F & 1520\\\\\n",
       "\t F & 1455\\\\\n",
       "\t F & 1450\\\\\n",
       "\t F & 1480\\\\\n",
       "\t F & 1445\\\\\n",
       "\\end{tabular}\n"
      ],
      "text/markdown": [
       "\n",
       "A data.frame: 30 × 2\n",
       "\n",
       "| Batch &lt;fct&gt; | Yield &lt;dbl&gt; |\n",
       "|---|---|\n",
       "| A | 1545 |\n",
       "| A | 1440 |\n",
       "| A | 1440 |\n",
       "| A | 1520 |\n",
       "| A | 1580 |\n",
       "| B | 1540 |\n",
       "| B | 1555 |\n",
       "| B | 1490 |\n",
       "| B | 1560 |\n",
       "| B | 1495 |\n",
       "| C | 1595 |\n",
       "| C | 1550 |\n",
       "| C | 1605 |\n",
       "| C | 1510 |\n",
       "| C | 1560 |\n",
       "| D | 1445 |\n",
       "| D | 1440 |\n",
       "| D | 1595 |\n",
       "| D | 1465 |\n",
       "| D | 1545 |\n",
       "| E | 1595 |\n",
       "| E | 1630 |\n",
       "| E | 1515 |\n",
       "| E | 1635 |\n",
       "| E | 1625 |\n",
       "| F | 1520 |\n",
       "| F | 1455 |\n",
       "| F | 1450 |\n",
       "| F | 1480 |\n",
       "| F | 1445 |\n",
       "\n"
      ],
      "text/plain": [
       "   Batch Yield\n",
       "1  A     1545 \n",
       "2  A     1440 \n",
       "3  A     1440 \n",
       "4  A     1520 \n",
       "5  A     1580 \n",
       "6  B     1540 \n",
       "7  B     1555 \n",
       "8  B     1490 \n",
       "9  B     1560 \n",
       "10 B     1495 \n",
       "11 C     1595 \n",
       "12 C     1550 \n",
       "13 C     1605 \n",
       "14 C     1510 \n",
       "15 C     1560 \n",
       "16 D     1445 \n",
       "17 D     1440 \n",
       "18 D     1595 \n",
       "19 D     1465 \n",
       "20 D     1545 \n",
       "21 E     1595 \n",
       "22 E     1630 \n",
       "23 E     1515 \n",
       "24 E     1635 \n",
       "25 E     1625 \n",
       "26 F     1520 \n",
       "27 F     1455 \n",
       "28 F     1450 \n",
       "29 F     1480 \n",
       "30 F     1445 "
      ]
     },
     "metadata": {},
     "output_type": "display_data"
    }
   ],
   "source": [
    "Dyestuff"
   ]
  },
  {
   "cell_type": "markdown",
   "id": "15cc6bed",
   "metadata": {},
   "source": [
    "### 写数据文件"
   ]
  },
  {
   "cell_type": "code",
   "execution_count": 38,
   "id": "302b8de9",
   "metadata": {},
   "outputs": [],
   "source": [
    "### write.table()函数和write.csv()\n",
    "\n",
    " df <- data.frame(\n",
    "Name=c(\"Alice\", \"Becka\", \"James\", \"Jeffrey\", \"John\"),\n",
    "Sex=c(\"F\", \"F\", \"M\", \"M\", \"M\"),\n",
    "Age=c(13, 13, 12, 13, 12),\n",
    "Height=c(56.5, 65.3, 57.3, 62.5, 59.0),\n",
    "Weight=c(84.0, 98.0, 83.0, 84.0, 99.5)\n",
    ")"
   ]
  },
  {
   "cell_type": "code",
   "execution_count": 39,
   "id": "142d6f36",
   "metadata": {},
   "outputs": [],
   "source": [
    "write.table(df,file = 'practice.txt')"
   ]
  },
  {
   "cell_type": "code",
   "execution_count": 42,
   "id": "35dc019c",
   "metadata": {},
   "outputs": [],
   "source": [
    "write.table(df,file = 'practice.csv')"
   ]
  },
  {
   "cell_type": "markdown",
   "id": "58ba1add",
   "metadata": {},
   "source": [
    "write.table(x, file = \"\", append = FALSE, quote = TRUE,\n",
    "sep = \" \", eol = \"\\n\", na = \"NA\", dec = \".\",\n",
    "row.names = TRUE, col.names = TRUE,\n",
    "qmethod = c(\"escape\", \"double\"))\n",
    "\n",
    "write.csv(..., col.names = NA, sep = \",\",\n",
    "qmethod = \"double\")\n",
    "\n",
    "x是对象，file是路径， append=T是不覆盖，在原文基础上添加， sep是间隔符"
   ]
  },
  {
   "cell_type": "code",
   "execution_count": null,
   "id": "7ee591da",
   "metadata": {},
   "outputs": [],
   "source": []
  }
 ],
 "metadata": {
  "kernelspec": {
   "display_name": "R",
   "language": "R",
   "name": "ir"
  },
  "language_info": {
   "codemirror_mode": "r",
   "file_extension": ".r",
   "mimetype": "text/x-r-source",
   "name": "R",
   "pygments_lexer": "r",
   "version": "4.2.1"
  }
 },
 "nbformat": 4,
 "nbformat_minor": 5
}
