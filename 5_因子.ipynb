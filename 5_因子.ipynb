{
 "cells": [
  {
   "cell_type": "markdown",
   "id": "8c09ad78",
   "metadata": {},
   "source": [
    "# 因子"
   ]
  },
  {
   "cell_type": "code",
   "execution_count": null,
   "id": "0ee97ce5",
   "metadata": {},
   "outputs": [],
   "source": [
    "#统计学中的变量有几种重要类别：区间变量、名义变量和有序变量。区间变量取连续的数值，\n",
    "#可以进行求和、平均等各种运算。名义变量和有序变量取离散值，可以用数值来代表，\n",
    "#也可以用字符数值来代表，其不可做加减乘除远端。\n",
    "\n",
    "#因为离散变量有各种不同表示方法，R 中为了统一起见，使用因子来表示这种类型的变量。"
   ]
  },
  {
   "cell_type": "code",
   "execution_count": 24,
   "id": "9bcc217e",
   "metadata": {},
   "outputs": [
    {
     "name": "stdout",
     "output_type": "stream",
     "text": [
      "[1] \"M\" \"F\" \"M\" \"M\" \"F\"\n"
     ]
    }
   ],
   "source": [
    "sex <- c('M','F','M','M','F')\n",
    "print(sex)"
   ]
  },
  {
   "cell_type": "code",
   "execution_count": 25,
   "id": "93972235",
   "metadata": {},
   "outputs": [
    {
     "name": "stdout",
     "output_type": "stream",
     "text": [
      "[1] M F M M F\n",
      "Levels: F M\n"
     ]
    }
   ],
   "source": [
    "#函数factor（x, levels = c()）\n",
    "sexf <-  factor(sex)\n",
    "print(sexf)"
   ]
  },
  {
   "cell_type": "code",
   "execution_count": 26,
   "id": "776a97cd",
   "metadata": {},
   "outputs": [
    {
     "data": {
      "text/html": [
       "'factor'"
      ],
      "text/latex": [
       "'factor'"
      ],
      "text/markdown": [
       "'factor'"
      ],
      "text/plain": [
       "[1] \"factor\""
      ]
     },
     "metadata": {},
     "output_type": "display_data"
    }
   ],
   "source": [
    "class(sexf)"
   ]
  },
  {
   "cell_type": "code",
   "execution_count": 27,
   "id": "b70c14b0",
   "metadata": {},
   "outputs": [
    {
     "data": {
      "text/html": [
       "'numeric'"
      ],
      "text/latex": [
       "'numeric'"
      ],
      "text/markdown": [
       "'numeric'"
      ],
      "text/plain": [
       "[1] \"numeric\""
      ]
     },
     "metadata": {},
     "output_type": "display_data"
    }
   ],
   "source": [
    "mode(sexf)"
   ]
  },
  {
   "cell_type": "code",
   "execution_count": 28,
   "id": "2be94506",
   "metadata": {},
   "outputs": [
    {
     "data": {
      "text/html": [
       "TRUE"
      ],
      "text/latex": [
       "TRUE"
      ],
      "text/markdown": [
       "TRUE"
      ],
      "text/plain": [
       "[1] TRUE"
      ]
     },
     "metadata": {},
     "output_type": "display_data"
    }
   ],
   "source": [
    "#判断是不是一个factor\n",
    "is.factor(sexf)"
   ]
  },
  {
   "cell_type": "code",
   "execution_count": 29,
   "id": "24dc7378",
   "metadata": {},
   "outputs": [
    {
     "data": {
      "text/html": [
       "<style>\n",
       ".list-inline {list-style: none; margin:0; padding: 0}\n",
       ".list-inline>li {display: inline-block}\n",
       ".list-inline>li:not(:last-child)::after {content: \"\\00b7\"; padding: 0 .5ex}\n",
       "</style>\n",
       "<ol class=list-inline><li>'F'</li><li>'M'</li></ol>\n"
      ],
      "text/latex": [
       "\\begin{enumerate*}\n",
       "\\item 'F'\n",
       "\\item 'M'\n",
       "\\end{enumerate*}\n"
      ],
      "text/markdown": [
       "1. 'F'\n",
       "2. 'M'\n",
       "\n",
       "\n"
      ],
      "text/plain": [
       "[1] \"F\" \"M\""
      ]
     },
     "metadata": {},
     "output_type": "display_data"
    }
   ],
   "source": [
    "#使用函数levels（）可以得到因子的水平\n",
    "levels(sexf)"
   ]
  },
  {
   "cell_type": "code",
   "execution_count": 30,
   "id": "e2dbbf4a",
   "metadata": {},
   "outputs": [
    {
     "data": {
      "text/html": [
       "<style>\n",
       ".list-inline {list-style: none; margin:0; padding: 0}\n",
       ".list-inline>li {display: inline-block}\n",
       ".list-inline>li:not(:last-child)::after {content: \"\\00b7\"; padding: 0 .5ex}\n",
       "</style>\n",
       "<ol class=list-inline><li>'M'</li><li>'F'</li></ol>\n"
      ],
      "text/latex": [
       "\\begin{enumerate*}\n",
       "\\item 'M'\n",
       "\\item 'F'\n",
       "\\end{enumerate*}\n"
      ],
      "text/markdown": [
       "1. 'M'\n",
       "2. 'F'\n",
       "\n",
       "\n"
      ],
      "text/plain": [
       "[1] \"M\" \"F\""
      ]
     },
     "metadata": {},
     "output_type": "display_data"
    }
   ],
   "source": [
    "#当然也可以调整levels顺序\n",
    "levels(sexf) <- c('M','F')\n",
    "levels(sexf)"
   ]
  },
  {
   "cell_type": "code",
   "execution_count": 31,
   "id": "cc08015a",
   "metadata": {},
   "outputs": [
    {
     "data": {
      "text/plain": [
       "sexf\n",
       "M F \n",
       "2 3 "
      ]
     },
     "metadata": {},
     "output_type": "display_data"
    }
   ],
   "source": [
    "#使用table（）来统计各类数据的频数\n",
    "table(sexf)"
   ]
  },
  {
   "cell_type": "markdown",
   "id": "83cb9f7c",
   "metadata": {},
   "source": [
    "### tapply函数"
   ]
  },
  {
   "cell_type": "code",
   "execution_count": 32,
   "id": "8cc5acf2",
   "metadata": {},
   "outputs": [
    {
     "name": "stdout",
     "output_type": "stream",
     "text": [
      "[1] 174 165 180 171 160\n",
      "[1] \"M\" \"F\" \"M\" \"M\" \"F\"\n"
     ]
    }
   ],
   "source": [
    "#我们除了知道5位学生的性别，还知道5位学生的身高，分组求身高平均值\n",
    "height <- c(174,165,180,171,160)\n",
    "print(height)\n",
    "print(sex)"
   ]
  },
  {
   "cell_type": "code",
   "execution_count": 33,
   "id": "c8174123",
   "metadata": {},
   "outputs": [
    {
     "data": {
      "text/html": [
       "<style>\n",
       ".dl-inline {width: auto; margin:0; padding: 0}\n",
       ".dl-inline>dt, .dl-inline>dd {float: none; width: auto; display: inline-block}\n",
       ".dl-inline>dt::after {content: \":\\0020\"; padding-right: .5ex}\n",
       ".dl-inline>dt:not(:first-of-type) {padding-left: .5ex}\n",
       "</style><dl class=dl-inline><dt>F</dt><dd>162.5</dd><dt>M</dt><dd>175</dd></dl>\n"
      ],
      "text/latex": [
       "\\begin{description*}\n",
       "\\item[F] 162.5\n",
       "\\item[M] 175\n",
       "\\end{description*}\n"
      ],
      "text/markdown": [
       "F\n",
       ":   162.5M\n",
       ":   175\n",
       "\n"
      ],
      "text/plain": [
       "    F     M \n",
       "162.5 175.0 "
      ]
     },
     "metadata": {},
     "output_type": "display_data"
    }
   ],
   "source": [
    "#tapply() 的一般使用格式为：tapply(X , INDEX, FUN)\n",
    "#X是向量数据， INDEX是与向量数据同长的因子， FUN是需要计算的函数\n",
    "tapply(height, sex, mean)"
   ]
  },
  {
   "cell_type": "markdown",
   "id": "572448ff",
   "metadata": {},
   "source": [
    "### gl函数"
   ]
  },
  {
   "cell_type": "code",
   "execution_count": 35,
   "id": "5465c7a2",
   "metadata": {},
   "outputs": [
    {
     "name": "stdout",
     "output_type": "stream",
     "text": [
      " [1] 1 1 1 1 1 2 2 2 2 2 3 3 3 3 3\n",
      "Levels: 1 2 3\n"
     ]
    }
   ],
   "source": [
    "#gl()函数可以方便地产生因子，一般的用法是\n",
    "#gl(n, k, length = n*k, labels=1:n, ordered = F)\n",
    "#其中n为水平， k为重复次数， length为结果长度， labels是一个一维向量，\n",
    "#表示因子水平， ordered是逻辑变量，表示是否为有序因子。\n",
    " print(gl(3, 5))"
   ]
  },
  {
   "cell_type": "code",
   "execution_count": 36,
   "id": "6f7aedaa",
   "metadata": {},
   "outputs": [
    {
     "name": "stdout",
     "output_type": "stream",
     "text": [
      " [1] 1 2 3 1 2 3 1 2 3 1 2 3 1 2 3\n",
      "Levels: 1 2 3\n"
     ]
    }
   ],
   "source": [
    "print(gl(3,1,15))"
   ]
  },
  {
   "cell_type": "code",
   "execution_count": 37,
   "id": "e2acec91",
   "metadata": {},
   "outputs": [
    {
     "name": "stdout",
     "output_type": "stream",
     "text": [
      " [1] 3 2 1 3 2 1 3 2 1 3 2 1 3 2 1\n",
      "Levels: 3 2 1\n"
     ]
    }
   ],
   "source": [
    "print(gl(3,1,15,c(3,2,1)))"
   ]
  },
  {
   "cell_type": "code",
   "execution_count": null,
   "id": "ab927e6c",
   "metadata": {},
   "outputs": [],
   "source": []
  }
 ],
 "metadata": {
  "kernelspec": {
   "display_name": "R",
   "language": "R",
   "name": "ir"
  },
  "language_info": {
   "codemirror_mode": "r",
   "file_extension": ".r",
   "mimetype": "text/x-r-source",
   "name": "R",
   "pygments_lexer": "r",
   "version": "3.6.3"
  }
 },
 "nbformat": 4,
 "nbformat_minor": 5
}
