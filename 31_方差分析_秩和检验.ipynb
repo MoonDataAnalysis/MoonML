{
 "cells": [
  {
   "cell_type": "markdown",
   "id": "4f5c33c1",
   "metadata": {},
   "source": [
    "### 方差分析的正态性检验、方差齐性检验没通过怎么办？\n",
    "#### 使用秩和检验代替"
   ]
  },
  {
   "cell_type": "code",
   "execution_count": 60,
   "id": "5a508c32",
   "metadata": {},
   "outputs": [],
   "source": [
    "# 小白鼠接种3种病毒，存活天数如下\n",
    "mouse<-data.frame(\n",
    "    X=c( 2, 4, 3, 2, 4, 7, 7, 2, 2, 5, 4, 5, 6, 8, 5, 10, 7,\n",
    "    12, 12, 6, 6, 7, 11, 6, 6, 7, 9, 5, 5, 10, 6, 3, 10),\n",
    "    A=factor(c(rep(1,11),rep(2,10), rep(3,12)))\n",
    ")"
   ]
  },
  {
   "cell_type": "code",
   "execution_count": 61,
   "id": "285e4a85",
   "metadata": {},
   "outputs": [
    {
     "data": {
      "text/plain": [
       "\n",
       "\tShapiro-Wilk normality test\n",
       "\n",
       "data:  mouse[mouse$A == 1, \"X\"]\n",
       "W = 0.84638, p-value = 0.03828\n"
      ]
     },
     "metadata": {},
     "output_type": "display_data"
    }
   ],
   "source": [
    "shapiro.test(mouse[mouse$A==1,'X'])"
   ]
  },
  {
   "cell_type": "code",
   "execution_count": 62,
   "id": "0660377c",
   "metadata": {},
   "outputs": [
    {
     "data": {
      "text/plain": [
       "\n",
       "\tShapiro-Wilk normality test\n",
       "\n",
       "data:  mouse[mouse$A == 2, \"X\"]\n",
       "W = 0.84235, p-value = 0.04708\n"
      ]
     },
     "metadata": {},
     "output_type": "display_data"
    }
   ],
   "source": [
    "shapiro.test(mouse[mouse$A==2,'X'])"
   ]
  },
  {
   "cell_type": "code",
   "execution_count": 63,
   "id": "5021c99e",
   "metadata": {},
   "outputs": [
    {
     "data": {
      "text/plain": [
       "\n",
       "\tShapiro-Wilk normality test\n",
       "\n",
       "data:  mouse[mouse$A == 3, \"X\"]\n",
       "W = 0.94067, p-value = 0.5068\n"
      ]
     },
     "metadata": {},
     "output_type": "display_data"
    }
   ],
   "source": [
    "shapiro.test(mouse[mouse$A==3,'X'])"
   ]
  },
  {
   "cell_type": "code",
   "execution_count": 64,
   "id": "b5dd9536",
   "metadata": {},
   "outputs": [
    {
     "name": "stderr",
     "output_type": "stream",
     "text": [
      "The following object is masked _by_ .GlobalEnv:\n",
      "\n",
      "    X\n",
      "\n",
      "\n",
      "The following objects are masked from mouse (pos = 3):\n",
      "\n",
      "    A, X\n",
      "\n",
      "\n",
      "The following objects are masked from mouse (pos = 4):\n",
      "\n",
      "    A, X\n",
      "\n",
      "\n",
      "The following objects are masked from mouse (pos = 5):\n",
      "\n",
      "    A, X\n",
      "\n",
      "\n",
      "The following objects are masked from mouse (pos = 6):\n",
      "\n",
      "    A, X\n",
      "\n",
      "\n",
      "The following objects are masked from mouse (pos = 7):\n",
      "\n",
      "    A, X\n",
      "\n",
      "\n",
      "The following objects are masked from mouse (pos = 8):\n",
      "\n",
      "    A, X\n",
      "\n",
      "\n"
     ]
    }
   ],
   "source": [
    "attach(mouse)"
   ]
  },
  {
   "cell_type": "code",
   "execution_count": 65,
   "id": "087e8dbc",
   "metadata": {},
   "outputs": [
    {
     "data": {
      "text/plain": [
       "\n",
       "\tBartlett test of homogeneity of variances\n",
       "\n",
       "data:  X by A\n",
       "Bartlett's K-squared = 1.2068, df = 2, p-value = 0.5469\n"
      ]
     },
     "metadata": {},
     "output_type": "display_data"
    }
   ],
   "source": [
    " bartlett.test(X~A, data=mouse)"
   ]
  },
  {
   "cell_type": "code",
   "execution_count": 66,
   "id": "e5b4a116",
   "metadata": {},
   "outputs": [
    {
     "data": {
      "text/plain": [
       "\n",
       "\tKruskal-Wallis rank sum test\n",
       "\n",
       "data:  X by A\n",
       "Kruskal-Wallis chi-squared = 12.026, df = 2, p-value = 0.002447\n"
      ]
     },
     "metadata": {},
     "output_type": "display_data"
    }
   ],
   "source": [
    "#使用秩和检验替代\n",
    "kruskal.test(X~A, data=mouse)"
   ]
  },
  {
   "cell_type": "code",
   "execution_count": 67,
   "id": "1191e522",
   "metadata": {},
   "outputs": [],
   "source": [
    "# Friedman 秩和检验处理配对样本情况\n",
    "mouse<-data.frame(\n",
    "    x=c(1.00, 1.01, 1.13, 1.14, 1.70, 2.01, 2.23, 2.63,\n",
    "    0.96, 1.23, 1.54, 1.96, 2.94, 3.68, 5.59, 6.96,\n",
    "    2.07, 3.72, 4.50, 4.90, 6.00, 6.84, 8.23, 10.33),\n",
    "    g=gl(3,8),\n",
    "    b=gl(8,1,24)\n",
    ")"
   ]
  },
  {
   "cell_type": "code",
   "execution_count": 68,
   "id": "68032bef",
   "metadata": {},
   "outputs": [
    {
     "data": {
      "text/html": [
       "<table class=\"dataframe\">\n",
       "<caption>A data.frame: 24 × 3</caption>\n",
       "<thead>\n",
       "\t<tr><th scope=col>x</th><th scope=col>g</th><th scope=col>b</th></tr>\n",
       "\t<tr><th scope=col>&lt;dbl&gt;</th><th scope=col>&lt;fct&gt;</th><th scope=col>&lt;fct&gt;</th></tr>\n",
       "</thead>\n",
       "<tbody>\n",
       "\t<tr><td> 1.00</td><td>1</td><td>1</td></tr>\n",
       "\t<tr><td> 1.01</td><td>1</td><td>2</td></tr>\n",
       "\t<tr><td> 1.13</td><td>1</td><td>3</td></tr>\n",
       "\t<tr><td> 1.14</td><td>1</td><td>4</td></tr>\n",
       "\t<tr><td> 1.70</td><td>1</td><td>5</td></tr>\n",
       "\t<tr><td> 2.01</td><td>1</td><td>6</td></tr>\n",
       "\t<tr><td> 2.23</td><td>1</td><td>7</td></tr>\n",
       "\t<tr><td> 2.63</td><td>1</td><td>8</td></tr>\n",
       "\t<tr><td> 0.96</td><td>2</td><td>1</td></tr>\n",
       "\t<tr><td> 1.23</td><td>2</td><td>2</td></tr>\n",
       "\t<tr><td> 1.54</td><td>2</td><td>3</td></tr>\n",
       "\t<tr><td> 1.96</td><td>2</td><td>4</td></tr>\n",
       "\t<tr><td> 2.94</td><td>2</td><td>5</td></tr>\n",
       "\t<tr><td> 3.68</td><td>2</td><td>6</td></tr>\n",
       "\t<tr><td> 5.59</td><td>2</td><td>7</td></tr>\n",
       "\t<tr><td> 6.96</td><td>2</td><td>8</td></tr>\n",
       "\t<tr><td> 2.07</td><td>3</td><td>1</td></tr>\n",
       "\t<tr><td> 3.72</td><td>3</td><td>2</td></tr>\n",
       "\t<tr><td> 4.50</td><td>3</td><td>3</td></tr>\n",
       "\t<tr><td> 4.90</td><td>3</td><td>4</td></tr>\n",
       "\t<tr><td> 6.00</td><td>3</td><td>5</td></tr>\n",
       "\t<tr><td> 6.84</td><td>3</td><td>6</td></tr>\n",
       "\t<tr><td> 8.23</td><td>3</td><td>7</td></tr>\n",
       "\t<tr><td>10.33</td><td>3</td><td>8</td></tr>\n",
       "</tbody>\n",
       "</table>\n"
      ],
      "text/latex": [
       "A data.frame: 24 × 3\n",
       "\\begin{tabular}{lll}\n",
       " x & g & b\\\\\n",
       " <dbl> & <fct> & <fct>\\\\\n",
       "\\hline\n",
       "\t  1.00 & 1 & 1\\\\\n",
       "\t  1.01 & 1 & 2\\\\\n",
       "\t  1.13 & 1 & 3\\\\\n",
       "\t  1.14 & 1 & 4\\\\\n",
       "\t  1.70 & 1 & 5\\\\\n",
       "\t  2.01 & 1 & 6\\\\\n",
       "\t  2.23 & 1 & 7\\\\\n",
       "\t  2.63 & 1 & 8\\\\\n",
       "\t  0.96 & 2 & 1\\\\\n",
       "\t  1.23 & 2 & 2\\\\\n",
       "\t  1.54 & 2 & 3\\\\\n",
       "\t  1.96 & 2 & 4\\\\\n",
       "\t  2.94 & 2 & 5\\\\\n",
       "\t  3.68 & 2 & 6\\\\\n",
       "\t  5.59 & 2 & 7\\\\\n",
       "\t  6.96 & 2 & 8\\\\\n",
       "\t  2.07 & 3 & 1\\\\\n",
       "\t  3.72 & 3 & 2\\\\\n",
       "\t  4.50 & 3 & 3\\\\\n",
       "\t  4.90 & 3 & 4\\\\\n",
       "\t  6.00 & 3 & 5\\\\\n",
       "\t  6.84 & 3 & 6\\\\\n",
       "\t  8.23 & 3 & 7\\\\\n",
       "\t 10.33 & 3 & 8\\\\\n",
       "\\end{tabular}\n"
      ],
      "text/markdown": [
       "\n",
       "A data.frame: 24 × 3\n",
       "\n",
       "| x &lt;dbl&gt; | g &lt;fct&gt; | b &lt;fct&gt; |\n",
       "|---|---|---|\n",
       "|  1.00 | 1 | 1 |\n",
       "|  1.01 | 1 | 2 |\n",
       "|  1.13 | 1 | 3 |\n",
       "|  1.14 | 1 | 4 |\n",
       "|  1.70 | 1 | 5 |\n",
       "|  2.01 | 1 | 6 |\n",
       "|  2.23 | 1 | 7 |\n",
       "|  2.63 | 1 | 8 |\n",
       "|  0.96 | 2 | 1 |\n",
       "|  1.23 | 2 | 2 |\n",
       "|  1.54 | 2 | 3 |\n",
       "|  1.96 | 2 | 4 |\n",
       "|  2.94 | 2 | 5 |\n",
       "|  3.68 | 2 | 6 |\n",
       "|  5.59 | 2 | 7 |\n",
       "|  6.96 | 2 | 8 |\n",
       "|  2.07 | 3 | 1 |\n",
       "|  3.72 | 3 | 2 |\n",
       "|  4.50 | 3 | 3 |\n",
       "|  4.90 | 3 | 4 |\n",
       "|  6.00 | 3 | 5 |\n",
       "|  6.84 | 3 | 6 |\n",
       "|  8.23 | 3 | 7 |\n",
       "| 10.33 | 3 | 8 |\n",
       "\n"
      ],
      "text/plain": [
       "   x     g b\n",
       "1   1.00 1 1\n",
       "2   1.01 1 2\n",
       "3   1.13 1 3\n",
       "4   1.14 1 4\n",
       "5   1.70 1 5\n",
       "6   2.01 1 6\n",
       "7   2.23 1 7\n",
       "8   2.63 1 8\n",
       "9   0.96 2 1\n",
       "10  1.23 2 2\n",
       "11  1.54 2 3\n",
       "12  1.96 2 4\n",
       "13  2.94 2 5\n",
       "14  3.68 2 6\n",
       "15  5.59 2 7\n",
       "16  6.96 2 8\n",
       "17  2.07 3 1\n",
       "18  3.72 3 2\n",
       "19  4.50 3 3\n",
       "20  4.90 3 4\n",
       "21  6.00 3 5\n",
       "22  6.84 3 6\n",
       "23  8.23 3 7\n",
       "24 10.33 3 8"
      ]
     },
     "metadata": {},
     "output_type": "display_data"
    }
   ],
   "source": [
    "mouse"
   ]
  },
  {
   "cell_type": "code",
   "execution_count": 69,
   "id": "d5c752c4",
   "metadata": {},
   "outputs": [
    {
     "data": {
      "text/plain": [
       "\n",
       "\tFriedman rank sum test\n",
       "\n",
       "data:  x and g and b\n",
       "Friedman chi-squared = 14.25, df = 2, p-value = 0.0008047\n"
      ]
     },
     "metadata": {},
     "output_type": "display_data"
    }
   ],
   "source": [
    "friedman.test(x~g|b, data=mouse)"
   ]
  },
  {
   "cell_type": "code",
   "execution_count": null,
   "id": "21694786",
   "metadata": {},
   "outputs": [],
   "source": []
  }
 ],
 "metadata": {
  "kernelspec": {
   "display_name": "R",
   "language": "R",
   "name": "ir"
  },
  "language_info": {
   "codemirror_mode": "r",
   "file_extension": ".r",
   "mimetype": "text/x-r-source",
   "name": "R",
   "pygments_lexer": "r",
   "version": "4.2.1"
  }
 },
 "nbformat": 4,
 "nbformat_minor": 5
}
