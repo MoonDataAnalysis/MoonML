{
 "cells": [
  {
   "cell_type": "markdown",
   "id": "b64cf371",
   "metadata": {},
   "source": [
    "# 情况1：有1个个体内因素和两个个体间因素"
   ]
  },
  {
   "cell_type": "code",
   "execution_count": 56,
   "id": "3d778da7",
   "metadata": {},
   "outputs": [],
   "source": [
    "library(tidyverse)\n",
    "library(ggpubr)\n",
    "library(rstatix)"
   ]
  },
  {
   "cell_type": "code",
   "execution_count": 57,
   "id": "ba67868d",
   "metadata": {},
   "outputs": [
    {
     "data": {
      "text/html": [
       "<table class=\"dataframe\">\n",
       "<caption>A tibble: 6 × 5</caption>\n",
       "<thead>\n",
       "\t<tr><th scope=col>id</th><th scope=col>gender</th><th scope=col>stress</th><th scope=col>t1</th><th scope=col>t2</th></tr>\n",
       "\t<tr><th scope=col>&lt;int&gt;</th><th scope=col>&lt;fct&gt;</th><th scope=col>&lt;fct&gt;</th><th scope=col>&lt;dbl&gt;</th><th scope=col>&lt;dbl&gt;</th></tr>\n",
       "</thead>\n",
       "<tbody>\n",
       "\t<tr><td> 3</td><td>male  </td><td>low     </td><td>5.625011</td><td>5.471414</td></tr>\n",
       "\t<tr><td>13</td><td>male  </td><td>moderate</td><td>5.580000</td><td>5.528082</td></tr>\n",
       "\t<tr><td>30</td><td>male  </td><td>high    </td><td>5.380364</td><td>5.827769</td></tr>\n",
       "\t<tr><td>32</td><td>female</td><td>low     </td><td>5.768068</td><td>5.908012</td></tr>\n",
       "\t<tr><td>46</td><td>female</td><td>moderate</td><td>5.703230</td><td>5.916776</td></tr>\n",
       "\t<tr><td>55</td><td>female</td><td>high    </td><td>5.273704</td><td>5.245224</td></tr>\n",
       "</tbody>\n",
       "</table>\n"
      ],
      "text/latex": [
       "A tibble: 6 × 5\n",
       "\\begin{tabular}{lllll}\n",
       " id & gender & stress & t1 & t2\\\\\n",
       " <int> & <fct> & <fct> & <dbl> & <dbl>\\\\\n",
       "\\hline\n",
       "\t  3 & male   & low      & 5.625011 & 5.471414\\\\\n",
       "\t 13 & male   & moderate & 5.580000 & 5.528082\\\\\n",
       "\t 30 & male   & high     & 5.380364 & 5.827769\\\\\n",
       "\t 32 & female & low      & 5.768068 & 5.908012\\\\\n",
       "\t 46 & female & moderate & 5.703230 & 5.916776\\\\\n",
       "\t 55 & female & high     & 5.273704 & 5.245224\\\\\n",
       "\\end{tabular}\n"
      ],
      "text/markdown": [
       "\n",
       "A tibble: 6 × 5\n",
       "\n",
       "| id &lt;int&gt; | gender &lt;fct&gt; | stress &lt;fct&gt; | t1 &lt;dbl&gt; | t2 &lt;dbl&gt; |\n",
       "|---|---|---|---|---|\n",
       "|  3 | male   | low      | 5.625011 | 5.471414 |\n",
       "| 13 | male   | moderate | 5.580000 | 5.528082 |\n",
       "| 30 | male   | high     | 5.380364 | 5.827769 |\n",
       "| 32 | female | low      | 5.768068 | 5.908012 |\n",
       "| 46 | female | moderate | 5.703230 | 5.916776 |\n",
       "| 55 | female | high     | 5.273704 | 5.245224 |\n",
       "\n"
      ],
      "text/plain": [
       "  id gender stress   t1       t2      \n",
       "1  3 male   low      5.625011 5.471414\n",
       "2 13 male   moderate 5.580000 5.528082\n",
       "3 30 male   high     5.380364 5.827769\n",
       "4 32 female low      5.768068 5.908012\n",
       "5 46 female moderate 5.703230 5.916776\n",
       "6 55 female high     5.273704 5.245224"
      ]
     },
     "metadata": {},
     "output_type": "display_data"
    }
   ],
   "source": [
    "# 举例： 我们想了解性别(男、女)和压力（高、中、低）与成绩的关系，\n",
    "#我们重复测量的两次（测试前，测试后）\n",
    "\n",
    "data(\"performance\", package = \"datarium\")\n",
    "performance %>% sample_n_by(gender, stress, size = 1)"
   ]
  },
  {
   "cell_type": "code",
   "execution_count": 58,
   "id": "a94d6aef",
   "metadata": {},
   "outputs": [],
   "source": [
    "#宽数据转化为长数据\n",
    "performance <- performance %>%\n",
    "  gather(key = \"time\", value = \"score\", t1, t2) %>%\n",
    "  convert_as_factor(id, time)"
   ]
  },
  {
   "cell_type": "code",
   "execution_count": 59,
   "id": "8c19ae03",
   "metadata": {},
   "outputs": [
    {
     "data": {
      "text/html": [
       "<table class=\"dataframe\">\n",
       "<caption>A tibble: 6 × 5</caption>\n",
       "<thead>\n",
       "\t<tr><th scope=col>id</th><th scope=col>gender</th><th scope=col>stress</th><th scope=col>time</th><th scope=col>score</th></tr>\n",
       "\t<tr><th scope=col>&lt;fct&gt;</th><th scope=col>&lt;fct&gt;</th><th scope=col>&lt;fct&gt;</th><th scope=col>&lt;fct&gt;</th><th scope=col>&lt;dbl&gt;</th></tr>\n",
       "</thead>\n",
       "<tbody>\n",
       "\t<tr><td>1</td><td>male</td><td>low</td><td>t1</td><td>5.964417</td></tr>\n",
       "\t<tr><td>2</td><td>male</td><td>low</td><td>t1</td><td>5.506574</td></tr>\n",
       "\t<tr><td>3</td><td>male</td><td>low</td><td>t1</td><td>5.625011</td></tr>\n",
       "\t<tr><td>4</td><td>male</td><td>low</td><td>t1</td><td>5.710243</td></tr>\n",
       "\t<tr><td>5</td><td>male</td><td>low</td><td>t1</td><td>5.736350</td></tr>\n",
       "\t<tr><td>6</td><td>male</td><td>low</td><td>t1</td><td>5.616418</td></tr>\n",
       "</tbody>\n",
       "</table>\n"
      ],
      "text/latex": [
       "A tibble: 6 × 5\n",
       "\\begin{tabular}{lllll}\n",
       " id & gender & stress & time & score\\\\\n",
       " <fct> & <fct> & <fct> & <fct> & <dbl>\\\\\n",
       "\\hline\n",
       "\t 1 & male & low & t1 & 5.964417\\\\\n",
       "\t 2 & male & low & t1 & 5.506574\\\\\n",
       "\t 3 & male & low & t1 & 5.625011\\\\\n",
       "\t 4 & male & low & t1 & 5.710243\\\\\n",
       "\t 5 & male & low & t1 & 5.736350\\\\\n",
       "\t 6 & male & low & t1 & 5.616418\\\\\n",
       "\\end{tabular}\n"
      ],
      "text/markdown": [
       "\n",
       "A tibble: 6 × 5\n",
       "\n",
       "| id &lt;fct&gt; | gender &lt;fct&gt; | stress &lt;fct&gt; | time &lt;fct&gt; | score &lt;dbl&gt; |\n",
       "|---|---|---|---|---|\n",
       "| 1 | male | low | t1 | 5.964417 |\n",
       "| 2 | male | low | t1 | 5.506574 |\n",
       "| 3 | male | low | t1 | 5.625011 |\n",
       "| 4 | male | low | t1 | 5.710243 |\n",
       "| 5 | male | low | t1 | 5.736350 |\n",
       "| 6 | male | low | t1 | 5.616418 |\n",
       "\n"
      ],
      "text/plain": [
       "  id gender stress time score   \n",
       "1 1  male   low    t1   5.964417\n",
       "2 2  male   low    t1   5.506574\n",
       "3 3  male   low    t1   5.625011\n",
       "4 4  male   low    t1   5.710243\n",
       "5 5  male   low    t1   5.736350\n",
       "6 6  male   low    t1   5.616418"
      ]
     },
     "metadata": {},
     "output_type": "display_data"
    }
   ],
   "source": [
    "head(performance)"
   ]
  },
  {
   "cell_type": "code",
   "execution_count": 60,
   "id": "a58ffcb4",
   "metadata": {},
   "outputs": [
    {
     "data": {
      "image/png": "[encoded data removed]",
      "text/plain": [
       "plot without title"
      ]
     },
     "metadata": {
      "image/png": {
       "height": 420,
       "width": 420
      }
     },
     "output_type": "display_data"
    }
   ],
   "source": [
    "ggboxplot(\n",
    "  performance, x = \"gender\", y = \"score\",\n",
    "  color = \"stress\", palette = \"jco\",\n",
    "  facet.by =  \"time\"\n",
    "  )"
   ]
  },
  {
   "cell_type": "code",
   "execution_count": 61,
   "id": "745c9c68",
   "metadata": {},
   "outputs": [
    {
     "data": {
      "text/html": [
       "<table class=\"dataframe\">\n",
       "<caption>A tibble: 12 × 6</caption>\n",
       "<thead>\n",
       "\t<tr><th scope=col>gender</th><th scope=col>stress</th><th scope=col>time</th><th scope=col>variable</th><th scope=col>statistic</th><th scope=col>p</th></tr>\n",
       "\t<tr><th scope=col>&lt;fct&gt;</th><th scope=col>&lt;fct&gt;</th><th scope=col>&lt;fct&gt;</th><th scope=col>&lt;chr&gt;</th><th scope=col>&lt;dbl&gt;</th><th scope=col>&lt;dbl&gt;</th></tr>\n",
       "</thead>\n",
       "<tbody>\n",
       "\t<tr><td>male  </td><td>low     </td><td>t1</td><td>score</td><td>0.9418346</td><td>0.57360198</td></tr>\n",
       "\t<tr><td>male  </td><td>low     </td><td>t2</td><td>score</td><td>0.9657807</td><td>0.84920900</td></tr>\n",
       "\t<tr><td>male  </td><td>moderate</td><td>t1</td><td>score</td><td>0.8478102</td><td>0.05470369</td></tr>\n",
       "\t<tr><td>male  </td><td>moderate</td><td>t2</td><td>score</td><td>0.9578821</td><td>0.76147966</td></tr>\n",
       "\t<tr><td>male  </td><td>high    </td><td>t1</td><td>score</td><td>0.9152654</td><td>0.31915073</td></tr>\n",
       "\t<tr><td>male  </td><td>high    </td><td>t2</td><td>score</td><td>0.9252528</td><td>0.40285205</td></tr>\n",
       "\t<tr><td>female</td><td>low     </td><td>t1</td><td>score</td><td>0.8977701</td><td>0.20704911</td></tr>\n",
       "\t<tr><td>female</td><td>low     </td><td>t2</td><td>score</td><td>0.8863373</td><td>0.15415318</td></tr>\n",
       "\t<tr><td>female</td><td>moderate</td><td>t1</td><td>score</td><td>0.9463814</td><td>0.62592990</td></tr>\n",
       "\t<tr><td>female</td><td>moderate</td><td>t2</td><td>score</td><td>0.8652560</td><td>0.08798011</td></tr>\n",
       "\t<tr><td>female</td><td>high    </td><td>t1</td><td>score</td><td>0.9891626</td><td>0.99569096</td></tr>\n",
       "\t<tr><td>female</td><td>high    </td><td>t2</td><td>score</td><td>0.9304105</td><td>0.45194229</td></tr>\n",
       "</tbody>\n",
       "</table>\n"
      ],
      "text/latex": [
       "A tibble: 12 × 6\n",
       "\\begin{tabular}{llllll}\n",
       " gender & stress & time & variable & statistic & p\\\\\n",
       " <fct> & <fct> & <fct> & <chr> & <dbl> & <dbl>\\\\\n",
       "\\hline\n",
       "\t male   & low      & t1 & score & 0.9418346 & 0.57360198\\\\\n",
       "\t male   & low      & t2 & score & 0.9657807 & 0.84920900\\\\\n",
       "\t male   & moderate & t1 & score & 0.8478102 & 0.05470369\\\\\n",
       "\t male   & moderate & t2 & score & 0.9578821 & 0.76147966\\\\\n",
       "\t male   & high     & t1 & score & 0.9152654 & 0.31915073\\\\\n",
       "\t male   & high     & t2 & score & 0.9252528 & 0.40285205\\\\\n",
       "\t female & low      & t1 & score & 0.8977701 & 0.20704911\\\\\n",
       "\t female & low      & t2 & score & 0.8863373 & 0.15415318\\\\\n",
       "\t female & moderate & t1 & score & 0.9463814 & 0.62592990\\\\\n",
       "\t female & moderate & t2 & score & 0.8652560 & 0.08798011\\\\\n",
       "\t female & high     & t1 & score & 0.9891626 & 0.99569096\\\\\n",
       "\t female & high     & t2 & score & 0.9304105 & 0.45194229\\\\\n",
       "\\end{tabular}\n"
      ],
      "text/markdown": [
       "\n",
       "A tibble: 12 × 6\n",
       "\n",
       "| gender &lt;fct&gt; | stress &lt;fct&gt; | time &lt;fct&gt; | variable &lt;chr&gt; | statistic &lt;dbl&gt; | p &lt;dbl&gt; |\n",
       "|---|---|---|---|---|---|\n",
       "| male   | low      | t1 | score | 0.9418346 | 0.57360198 |\n",
       "| male   | low      | t2 | score | 0.9657807 | 0.84920900 |\n",
       "| male   | moderate | t1 | score | 0.8478102 | 0.05470369 |\n",
       "| male   | moderate | t2 | score | 0.9578821 | 0.76147966 |\n",
       "| male   | high     | t1 | score | 0.9152654 | 0.31915073 |\n",
       "| male   | high     | t2 | score | 0.9252528 | 0.40285205 |\n",
       "| female | low      | t1 | score | 0.8977701 | 0.20704911 |\n",
       "| female | low      | t2 | score | 0.8863373 | 0.15415318 |\n",
       "| female | moderate | t1 | score | 0.9463814 | 0.62592990 |\n",
       "| female | moderate | t2 | score | 0.8652560 | 0.08798011 |\n",
       "| female | high     | t1 | score | 0.9891626 | 0.99569096 |\n",
       "| female | high     | t2 | score | 0.9304105 | 0.45194229 |\n",
       "\n"
      ],
      "text/plain": [
       "   gender stress   time variable statistic p         \n",
       "1  male   low      t1   score    0.9418346 0.57360198\n",
       "2  male   low      t2   score    0.9657807 0.84920900\n",
       "3  male   moderate t1   score    0.8478102 0.05470369\n",
       "4  male   moderate t2   score    0.9578821 0.76147966\n",
       "5  male   high     t1   score    0.9152654 0.31915073\n",
       "6  male   high     t2   score    0.9252528 0.40285205\n",
       "7  female low      t1   score    0.8977701 0.20704911\n",
       "8  female low      t2   score    0.8863373 0.15415318\n",
       "9  female moderate t1   score    0.9463814 0.62592990\n",
       "10 female moderate t2   score    0.8652560 0.08798011\n",
       "11 female high     t1   score    0.9891626 0.99569096\n",
       "12 female high     t2   score    0.9304105 0.45194229"
      ]
     },
     "metadata": {},
     "output_type": "display_data"
    }
   ],
   "source": [
    "# 检验正态性\n",
    "performance %>%\n",
    "  group_by(gender, stress, time ) %>%\n",
    "  shapiro_test(score)"
   ]
  },
  {
   "cell_type": "code",
   "execution_count": 62,
   "id": "3f883ee5",
   "metadata": {},
   "outputs": [
    {
     "data": {
      "text/html": [
       "<table class=\"dataframe\">\n",
       "<caption>A tibble: 1 × 4</caption>\n",
       "<thead>\n",
       "\t<tr><th scope=col>df1</th><th scope=col>df2</th><th scope=col>statistic</th><th scope=col>p</th></tr>\n",
       "\t<tr><th scope=col>&lt;int&gt;</th><th scope=col>&lt;int&gt;</th><th scope=col>&lt;dbl&gt;</th><th scope=col>&lt;dbl&gt;</th></tr>\n",
       "</thead>\n",
       "<tbody>\n",
       "\t<tr><td>11</td><td>108</td><td>0.7730336</td><td>0.6660286</td></tr>\n",
       "</tbody>\n",
       "</table>\n"
      ],
      "text/latex": [
       "A tibble: 1 × 4\n",
       "\\begin{tabular}{llll}\n",
       " df1 & df2 & statistic & p\\\\\n",
       " <int> & <int> & <dbl> & <dbl>\\\\\n",
       "\\hline\n",
       "\t 11 & 108 & 0.7730336 & 0.6660286\\\\\n",
       "\\end{tabular}\n"
      ],
      "text/markdown": [
       "\n",
       "A tibble: 1 × 4\n",
       "\n",
       "| df1 &lt;int&gt; | df2 &lt;int&gt; | statistic &lt;dbl&gt; | p &lt;dbl&gt; |\n",
       "|---|---|---|---|\n",
       "| 11 | 108 | 0.7730336 | 0.6660286 |\n",
       "\n"
      ],
      "text/plain": [
       "  df1 df2 statistic p        \n",
       "1 11  108 0.7730336 0.6660286"
      ]
     },
     "metadata": {},
     "output_type": "display_data"
    }
   ],
   "source": [
    "#检验方差齐性\n",
    "levene_test(score ~ gender*stress*time, data=performance)"
   ]
  },
  {
   "cell_type": "code",
   "execution_count": 63,
   "id": "f863cc17",
   "metadata": {},
   "outputs": [
    {
     "data": {
      "text/html": [
       "<table class=\"dataframe\">\n",
       "<caption>A anova_test: 7 × 7</caption>\n",
       "<thead>\n",
       "\t<tr><th></th><th scope=col>Effect</th><th scope=col>DFn</th><th scope=col>DFd</th><th scope=col>F</th><th scope=col>p</th><th scope=col>p&lt;.05</th><th scope=col>ges</th></tr>\n",
       "\t<tr><th></th><th scope=col>&lt;chr&gt;</th><th scope=col>&lt;dbl&gt;</th><th scope=col>&lt;dbl&gt;</th><th scope=col>&lt;dbl&gt;</th><th scope=col>&lt;dbl&gt;</th><th scope=col>&lt;chr&gt;</th><th scope=col>&lt;dbl&gt;</th></tr>\n",
       "</thead>\n",
       "<tbody>\n",
       "\t<tr><th scope=row>1</th><td>gender            </td><td>1</td><td>54</td><td> 2.406</td><td>1.27e-01</td><td> </td><td>0.023000</td></tr>\n",
       "\t<tr><th scope=row>2</th><td>stress            </td><td>2</td><td>54</td><td>21.166</td><td>1.63e-07</td><td>*</td><td>0.288000</td></tr>\n",
       "\t<tr><th scope=row>3</th><td>time              </td><td>1</td><td>54</td><td> 0.063</td><td>8.03e-01</td><td> </td><td>0.000564</td></tr>\n",
       "\t<tr><th scope=row>4</th><td>gender:stress     </td><td>2</td><td>54</td><td> 1.554</td><td>2.21e-01</td><td> </td><td>0.029000</td></tr>\n",
       "\t<tr><th scope=row>5</th><td>gender:time       </td><td>1</td><td>54</td><td> 4.730</td><td>3.40e-02</td><td>*</td><td>0.041000</td></tr>\n",
       "\t<tr><th scope=row>6</th><td>stress:time       </td><td>2</td><td>54</td><td> 1.821</td><td>1.72e-01</td><td> </td><td>0.032000</td></tr>\n",
       "\t<tr><th scope=row>7</th><td>gender:stress:time</td><td>2</td><td>54</td><td> 6.101</td><td>4.00e-03</td><td>*</td><td>0.098000</td></tr>\n",
       "</tbody>\n",
       "</table>\n"
      ],
      "text/latex": [
       "A anova\\_test: 7 × 7\n",
       "\\begin{tabular}{r|lllllll}\n",
       "  & Effect & DFn & DFd & F & p & p<.05 & ges\\\\\n",
       "  & <chr> & <dbl> & <dbl> & <dbl> & <dbl> & <chr> & <dbl>\\\\\n",
       "\\hline\n",
       "\t1 & gender             & 1 & 54 &  2.406 & 1.27e-01 &   & 0.023000\\\\\n",
       "\t2 & stress             & 2 & 54 & 21.166 & 1.63e-07 & * & 0.288000\\\\\n",
       "\t3 & time               & 1 & 54 &  0.063 & 8.03e-01 &   & 0.000564\\\\\n",
       "\t4 & gender:stress      & 2 & 54 &  1.554 & 2.21e-01 &   & 0.029000\\\\\n",
       "\t5 & gender:time        & 1 & 54 &  4.730 & 3.40e-02 & * & 0.041000\\\\\n",
       "\t6 & stress:time        & 2 & 54 &  1.821 & 1.72e-01 &   & 0.032000\\\\\n",
       "\t7 & gender:stress:time & 2 & 54 &  6.101 & 4.00e-03 & * & 0.098000\\\\\n",
       "\\end{tabular}\n"
      ],
      "text/markdown": [
       "\n",
       "A anova_test: 7 × 7\n",
       "\n",
       "| <!--/--> | Effect &lt;chr&gt; | DFn &lt;dbl&gt; | DFd &lt;dbl&gt; | F &lt;dbl&gt; | p &lt;dbl&gt; | p&lt;.05 &lt;chr&gt; | ges &lt;dbl&gt; |\n",
       "|---|---|---|---|---|---|---|---|\n",
       "| 1 | gender             | 1 | 54 |  2.406 | 1.27e-01 | <!----> | 0.023000 |\n",
       "| 2 | stress             | 2 | 54 | 21.166 | 1.63e-07 | * | 0.288000 |\n",
       "| 3 | time               | 1 | 54 |  0.063 | 8.03e-01 | <!----> | 0.000564 |\n",
       "| 4 | gender:stress      | 2 | 54 |  1.554 | 2.21e-01 | <!----> | 0.029000 |\n",
       "| 5 | gender:time        | 1 | 54 |  4.730 | 3.40e-02 | * | 0.041000 |\n",
       "| 6 | stress:time        | 2 | 54 |  1.821 | 1.72e-01 | <!----> | 0.032000 |\n",
       "| 7 | gender:stress:time | 2 | 54 |  6.101 | 4.00e-03 | * | 0.098000 |\n",
       "\n"
      ],
      "text/plain": [
       "  Effect             DFn DFd F      p        p<.05 ges     \n",
       "1 gender             1   54   2.406 1.27e-01       0.023000\n",
       "2 stress             2   54  21.166 1.63e-07 *     0.288000\n",
       "3 time               1   54   0.063 8.03e-01       0.000564\n",
       "4 gender:stress      2   54   1.554 2.21e-01       0.029000\n",
       "5 gender:time        1   54   4.730 3.40e-02 *     0.041000\n",
       "6 stress:time        2   54   1.821 1.72e-01       0.032000\n",
       "7 gender:stress:time 2   54   6.101 4.00e-03 *     0.098000"
      ]
     },
     "metadata": {},
     "output_type": "display_data"
    }
   ],
   "source": [
    "# 球形检验:组数不能小于3，否则做不了这个检验\n",
    "res.avo <- anova_test(\n",
    "  data = performance, dv = score, wid = id,\n",
    "  within = time, between = c(gender, stress)\n",
    "  )\n",
    "res.avo"
   ]
  },
  {
   "cell_type": "code",
   "execution_count": 64,
   "id": "1721bf45",
   "metadata": {},
   "outputs": [
    {
     "data": {
      "text/html": [
       "<table class=\"dataframe\">\n",
       "<caption>A anova_test: 7 × 7</caption>\n",
       "<thead>\n",
       "\t<tr><th></th><th scope=col>Effect</th><th scope=col>DFn</th><th scope=col>DFd</th><th scope=col>F</th><th scope=col>p</th><th scope=col>p&lt;.05</th><th scope=col>ges</th></tr>\n",
       "\t<tr><th></th><th scope=col>&lt;chr&gt;</th><th scope=col>&lt;dbl&gt;</th><th scope=col>&lt;dbl&gt;</th><th scope=col>&lt;dbl&gt;</th><th scope=col>&lt;dbl&gt;</th><th scope=col>&lt;chr&gt;</th><th scope=col>&lt;dbl&gt;</th></tr>\n",
       "</thead>\n",
       "<tbody>\n",
       "\t<tr><th scope=row>1</th><td>gender            </td><td>1</td><td>54</td><td> 2.406</td><td>1.27e-01</td><td> </td><td>0.023000</td></tr>\n",
       "\t<tr><th scope=row>2</th><td>stress            </td><td>2</td><td>54</td><td>21.166</td><td>1.63e-07</td><td>*</td><td>0.288000</td></tr>\n",
       "\t<tr><th scope=row>3</th><td>time              </td><td>1</td><td>54</td><td> 0.063</td><td>8.03e-01</td><td> </td><td>0.000564</td></tr>\n",
       "\t<tr><th scope=row>4</th><td>gender:stress     </td><td>2</td><td>54</td><td> 1.554</td><td>2.21e-01</td><td> </td><td>0.029000</td></tr>\n",
       "\t<tr><th scope=row>5</th><td>gender:time       </td><td>1</td><td>54</td><td> 4.730</td><td>3.40e-02</td><td>*</td><td>0.041000</td></tr>\n",
       "\t<tr><th scope=row>6</th><td>stress:time       </td><td>2</td><td>54</td><td> 1.821</td><td>1.72e-01</td><td> </td><td>0.032000</td></tr>\n",
       "\t<tr><th scope=row>7</th><td>gender:stress:time</td><td>2</td><td>54</td><td> 6.101</td><td>4.00e-03</td><td>*</td><td>0.098000</td></tr>\n",
       "</tbody>\n",
       "</table>\n"
      ],
      "text/latex": [
       "A anova\\_test: 7 × 7\n",
       "\\begin{tabular}{r|lllllll}\n",
       "  & Effect & DFn & DFd & F & p & p<.05 & ges\\\\\n",
       "  & <chr> & <dbl> & <dbl> & <dbl> & <dbl> & <chr> & <dbl>\\\\\n",
       "\\hline\n",
       "\t1 & gender             & 1 & 54 &  2.406 & 1.27e-01 &   & 0.023000\\\\\n",
       "\t2 & stress             & 2 & 54 & 21.166 & 1.63e-07 & * & 0.288000\\\\\n",
       "\t3 & time               & 1 & 54 &  0.063 & 8.03e-01 &   & 0.000564\\\\\n",
       "\t4 & gender:stress      & 2 & 54 &  1.554 & 2.21e-01 &   & 0.029000\\\\\n",
       "\t5 & gender:time        & 1 & 54 &  4.730 & 3.40e-02 & * & 0.041000\\\\\n",
       "\t6 & stress:time        & 2 & 54 &  1.821 & 1.72e-01 &   & 0.032000\\\\\n",
       "\t7 & gender:stress:time & 2 & 54 &  6.101 & 4.00e-03 & * & 0.098000\\\\\n",
       "\\end{tabular}\n"
      ],
      "text/markdown": [
       "\n",
       "A anova_test: 7 × 7\n",
       "\n",
       "| <!--/--> | Effect &lt;chr&gt; | DFn &lt;dbl&gt; | DFd &lt;dbl&gt; | F &lt;dbl&gt; | p &lt;dbl&gt; | p&lt;.05 &lt;chr&gt; | ges &lt;dbl&gt; |\n",
       "|---|---|---|---|---|---|---|---|\n",
       "| 1 | gender             | 1 | 54 |  2.406 | 1.27e-01 | <!----> | 0.023000 |\n",
       "| 2 | stress             | 2 | 54 | 21.166 | 1.63e-07 | * | 0.288000 |\n",
       "| 3 | time               | 1 | 54 |  0.063 | 8.03e-01 | <!----> | 0.000564 |\n",
       "| 4 | gender:stress      | 2 | 54 |  1.554 | 2.21e-01 | <!----> | 0.029000 |\n",
       "| 5 | gender:time        | 1 | 54 |  4.730 | 3.40e-02 | * | 0.041000 |\n",
       "| 6 | stress:time        | 2 | 54 |  1.821 | 1.72e-01 | <!----> | 0.032000 |\n",
       "| 7 | gender:stress:time | 2 | 54 |  6.101 | 4.00e-03 | * | 0.098000 |\n",
       "\n"
      ],
      "text/plain": [
       "  Effect             DFn DFd F      p        p<.05 ges     \n",
       "1 gender             1   54   2.406 1.27e-01       0.023000\n",
       "2 stress             2   54  21.166 1.63e-07 *     0.288000\n",
       "3 time               1   54   0.063 8.03e-01       0.000564\n",
       "4 gender:stress      2   54   1.554 2.21e-01       0.029000\n",
       "5 gender:time        1   54   4.730 3.40e-02 *     0.041000\n",
       "6 stress:time        2   54   1.821 1.72e-01       0.032000\n",
       "7 gender:stress:time 2   54   6.101 4.00e-03 *     0.098000"
      ]
     },
     "metadata": {},
     "output_type": "display_data"
    }
   ],
   "source": [
    "#主效应\n",
    "get_anova_table(res.avo)"
   ]
  },
  {
   "cell_type": "code",
   "execution_count": 65,
   "id": "28fa2023",
   "metadata": {},
   "outputs": [
    {
     "data": {
      "text/html": [
       "<table class=\"dataframe\">\n",
       "<caption>A grouped_anova_test: 4 × 9</caption>\n",
       "<thead>\n",
       "\t<tr><th></th><th scope=col>gender</th><th scope=col>time</th><th scope=col>Effect</th><th scope=col>DFn</th><th scope=col>DFd</th><th scope=col>F</th><th scope=col>p</th><th scope=col>p&lt;.05</th><th scope=col>ges</th></tr>\n",
       "\t<tr><th></th><th scope=col>&lt;fct&gt;</th><th scope=col>&lt;fct&gt;</th><th scope=col>&lt;chr&gt;</th><th scope=col>&lt;dbl&gt;</th><th scope=col>&lt;dbl&gt;</th><th scope=col>&lt;dbl&gt;</th><th scope=col>&lt;dbl&gt;</th><th scope=col>&lt;chr&gt;</th><th scope=col>&lt;dbl&gt;</th></tr>\n",
       "</thead>\n",
       "<tbody>\n",
       "\t<tr><th scope=row>1</th><td>male  </td><td>t1</td><td>stress</td><td>2</td><td>27</td><td> 6.530</td><td>0.005000</td><td>*</td><td>0.326</td></tr>\n",
       "\t<tr><th scope=row>2</th><td>female</td><td>t1</td><td>stress</td><td>2</td><td>27</td><td>10.677</td><td>0.000383</td><td>*</td><td>0.442</td></tr>\n",
       "\t<tr><th scope=row>3</th><td>male  </td><td>t2</td><td>stress</td><td>2</td><td>27</td><td> 1.566</td><td>0.227000</td><td> </td><td>0.104</td></tr>\n",
       "\t<tr><th scope=row>4</th><td>female</td><td>t2</td><td>stress</td><td>2</td><td>27</td><td>10.530</td><td>0.000416</td><td>*</td><td>0.438</td></tr>\n",
       "</tbody>\n",
       "</table>\n"
      ],
      "text/latex": [
       "A grouped\\_anova\\_test: 4 × 9\n",
       "\\begin{tabular}{r|lllllllll}\n",
       "  & gender & time & Effect & DFn & DFd & F & p & p<.05 & ges\\\\\n",
       "  & <fct> & <fct> & <chr> & <dbl> & <dbl> & <dbl> & <dbl> & <chr> & <dbl>\\\\\n",
       "\\hline\n",
       "\t1 & male   & t1 & stress & 2 & 27 &  6.530 & 0.005000 & * & 0.326\\\\\n",
       "\t2 & female & t1 & stress & 2 & 27 & 10.677 & 0.000383 & * & 0.442\\\\\n",
       "\t3 & male   & t2 & stress & 2 & 27 &  1.566 & 0.227000 &   & 0.104\\\\\n",
       "\t4 & female & t2 & stress & 2 & 27 & 10.530 & 0.000416 & * & 0.438\\\\\n",
       "\\end{tabular}\n"
      ],
      "text/markdown": [
       "\n",
       "A grouped_anova_test: 4 × 9\n",
       "\n",
       "| <!--/--> | gender &lt;fct&gt; | time &lt;fct&gt; | Effect &lt;chr&gt; | DFn &lt;dbl&gt; | DFd &lt;dbl&gt; | F &lt;dbl&gt; | p &lt;dbl&gt; | p&lt;.05 &lt;chr&gt; | ges &lt;dbl&gt; |\n",
       "|---|---|---|---|---|---|---|---|---|---|\n",
       "| 1 | male   | t1 | stress | 2 | 27 |  6.530 | 0.005000 | * | 0.326 |\n",
       "| 2 | female | t1 | stress | 2 | 27 | 10.677 | 0.000383 | * | 0.442 |\n",
       "| 3 | male   | t2 | stress | 2 | 27 |  1.566 | 0.227000 | <!----> | 0.104 |\n",
       "| 4 | female | t2 | stress | 2 | 27 | 10.530 | 0.000416 | * | 0.438 |\n",
       "\n"
      ],
      "text/plain": [
       "  gender time Effect DFn DFd F      p        p<.05 ges  \n",
       "1 male   t1   stress 2   27   6.530 0.005000 *     0.326\n",
       "2 female t1   stress 2   27  10.677 0.000383 *     0.442\n",
       "3 male   t2   stress 2   27   1.566 0.227000       0.104\n",
       "4 female t2   stress 2   27  10.530 0.000416 *     0.438"
      ]
     },
     "metadata": {},
     "output_type": "display_data"
    }
   ],
   "source": [
    "# stress，控制其他变量计算其简单效应\n",
    "performance %>%\n",
    "  group_by(time, gender) %>%\n",
    "  anova_test(dv = score, wid = id, between = stress)"
   ]
  },
  {
   "cell_type": "code",
   "execution_count": null,
   "id": "d18e7c4b",
   "metadata": {},
   "outputs": [],
   "source": [
    "# 两两比较\n",
    "performance %>%\n",
    "  group_by(time, gender) %>%\n",
    "  pairwise_t_test(score ~ stress)"
   ]
  },
  {
   "cell_type": "markdown",
   "id": "2792d303",
   "metadata": {},
   "source": [
    "# 情况2：有两个个体内因素"
   ]
  },
  {
   "cell_type": "code",
   "execution_count": null,
   "id": "74a39b16",
   "metadata": {},
   "outputs": [],
   "source": [
    "# 我们想了解测量时间（t1，t2,t3）、锻炼与否（不锻炼，锻炼）和\n",
    "#节食程度(先节食，后不节食/先不节食，后节食)对减肥效果的影响"
   ]
  },
  {
   "cell_type": "code",
   "execution_count": 46,
   "id": "6821f98b",
   "metadata": {},
   "outputs": [
    {
     "data": {
      "text/html": [
       "<table class=\"dataframe\">\n",
       "<caption>A tibble: 6 × 6</caption>\n",
       "<thead>\n",
       "\t<tr><th scope=col>id</th><th scope=col>diet</th><th scope=col>exercises</th><th scope=col>t1</th><th scope=col>t2</th><th scope=col>t3</th></tr>\n",
       "\t<tr><th scope=col>&lt;fct&gt;</th><th scope=col>&lt;fct&gt;</th><th scope=col>&lt;fct&gt;</th><th scope=col>&lt;dbl&gt;</th><th scope=col>&lt;dbl&gt;</th><th scope=col>&lt;dbl&gt;</th></tr>\n",
       "</thead>\n",
       "<tbody>\n",
       "\t<tr><td>1</td><td>no</td><td>no</td><td>10.43</td><td>13.21</td><td>11.59</td></tr>\n",
       "\t<tr><td>2</td><td>no</td><td>no</td><td>11.59</td><td>10.66</td><td>13.21</td></tr>\n",
       "\t<tr><td>3</td><td>no</td><td>no</td><td>11.35</td><td>11.12</td><td>11.35</td></tr>\n",
       "\t<tr><td>4</td><td>no</td><td>no</td><td>11.12</td><td> 9.50</td><td>11.12</td></tr>\n",
       "\t<tr><td>5</td><td>no</td><td>no</td><td> 9.50</td><td> 9.73</td><td>12.28</td></tr>\n",
       "\t<tr><td>6</td><td>no</td><td>no</td><td> 9.50</td><td>12.74</td><td>10.43</td></tr>\n",
       "</tbody>\n",
       "</table>\n"
      ],
      "text/latex": [
       "A tibble: 6 × 6\n",
       "\\begin{tabular}{llllll}\n",
       " id & diet & exercises & t1 & t2 & t3\\\\\n",
       " <fct> & <fct> & <fct> & <dbl> & <dbl> & <dbl>\\\\\n",
       "\\hline\n",
       "\t 1 & no & no & 10.43 & 13.21 & 11.59\\\\\n",
       "\t 2 & no & no & 11.59 & 10.66 & 13.21\\\\\n",
       "\t 3 & no & no & 11.35 & 11.12 & 11.35\\\\\n",
       "\t 4 & no & no & 11.12 &  9.50 & 11.12\\\\\n",
       "\t 5 & no & no &  9.50 &  9.73 & 12.28\\\\\n",
       "\t 6 & no & no &  9.50 & 12.74 & 10.43\\\\\n",
       "\\end{tabular}\n"
      ],
      "text/markdown": [
       "\n",
       "A tibble: 6 × 6\n",
       "\n",
       "| id &lt;fct&gt; | diet &lt;fct&gt; | exercises &lt;fct&gt; | t1 &lt;dbl&gt; | t2 &lt;dbl&gt; | t3 &lt;dbl&gt; |\n",
       "|---|---|---|---|---|---|\n",
       "| 1 | no | no | 10.43 | 13.21 | 11.59 |\n",
       "| 2 | no | no | 11.59 | 10.66 | 13.21 |\n",
       "| 3 | no | no | 11.35 | 11.12 | 11.35 |\n",
       "| 4 | no | no | 11.12 |  9.50 | 11.12 |\n",
       "| 5 | no | no |  9.50 |  9.73 | 12.28 |\n",
       "| 6 | no | no |  9.50 | 12.74 | 10.43 |\n",
       "\n"
      ],
      "text/plain": [
       "  id diet exercises t1    t2    t3   \n",
       "1 1  no   no        10.43 13.21 11.59\n",
       "2 2  no   no        11.59 10.66 13.21\n",
       "3 3  no   no        11.35 11.12 11.35\n",
       "4 4  no   no        11.12  9.50 11.12\n",
       "5 5  no   no         9.50  9.73 12.28\n",
       "6 6  no   no         9.50 12.74 10.43"
      ]
     },
     "metadata": {},
     "output_type": "display_data"
    }
   ],
   "source": [
    "data(\"weightloss\", package = \"datarium\")\n",
    "head(weightloss)"
   ]
  },
  {
   "cell_type": "code",
   "execution_count": 47,
   "id": "fb501254",
   "metadata": {},
   "outputs": [],
   "source": [
    "#转化为长数据\n",
    "weightloss <- weightloss %>%\n",
    "  gather(key = \"time\", value = \"score\", t1, t2, t3) %>%\n",
    "  convert_as_factor(id, time)"
   ]
  },
  {
   "cell_type": "code",
   "execution_count": 48,
   "id": "29d981f8",
   "metadata": {},
   "outputs": [
    {
     "data": {
      "text/html": [
       "<table class=\"dataframe\">\n",
       "<caption>A tibble: 6 × 5</caption>\n",
       "<thead>\n",
       "\t<tr><th scope=col>id</th><th scope=col>diet</th><th scope=col>exercises</th><th scope=col>time</th><th scope=col>score</th></tr>\n",
       "\t<tr><th scope=col>&lt;fct&gt;</th><th scope=col>&lt;fct&gt;</th><th scope=col>&lt;fct&gt;</th><th scope=col>&lt;fct&gt;</th><th scope=col>&lt;dbl&gt;</th></tr>\n",
       "</thead>\n",
       "<tbody>\n",
       "\t<tr><td>1</td><td>no</td><td>no</td><td>t1</td><td>10.43</td></tr>\n",
       "\t<tr><td>2</td><td>no</td><td>no</td><td>t1</td><td>11.59</td></tr>\n",
       "\t<tr><td>3</td><td>no</td><td>no</td><td>t1</td><td>11.35</td></tr>\n",
       "\t<tr><td>4</td><td>no</td><td>no</td><td>t1</td><td>11.12</td></tr>\n",
       "\t<tr><td>5</td><td>no</td><td>no</td><td>t1</td><td> 9.50</td></tr>\n",
       "\t<tr><td>6</td><td>no</td><td>no</td><td>t1</td><td> 9.50</td></tr>\n",
       "</tbody>\n",
       "</table>\n"
      ],
      "text/latex": [
       "A tibble: 6 × 5\n",
       "\\begin{tabular}{lllll}\n",
       " id & diet & exercises & time & score\\\\\n",
       " <fct> & <fct> & <fct> & <fct> & <dbl>\\\\\n",
       "\\hline\n",
       "\t 1 & no & no & t1 & 10.43\\\\\n",
       "\t 2 & no & no & t1 & 11.59\\\\\n",
       "\t 3 & no & no & t1 & 11.35\\\\\n",
       "\t 4 & no & no & t1 & 11.12\\\\\n",
       "\t 5 & no & no & t1 &  9.50\\\\\n",
       "\t 6 & no & no & t1 &  9.50\\\\\n",
       "\\end{tabular}\n"
      ],
      "text/markdown": [
       "\n",
       "A tibble: 6 × 5\n",
       "\n",
       "| id &lt;fct&gt; | diet &lt;fct&gt; | exercises &lt;fct&gt; | time &lt;fct&gt; | score &lt;dbl&gt; |\n",
       "|---|---|---|---|---|\n",
       "| 1 | no | no | t1 | 10.43 |\n",
       "| 2 | no | no | t1 | 11.59 |\n",
       "| 3 | no | no | t1 | 11.35 |\n",
       "| 4 | no | no | t1 | 11.12 |\n",
       "| 5 | no | no | t1 |  9.50 |\n",
       "| 6 | no | no | t1 |  9.50 |\n",
       "\n"
      ],
      "text/plain": [
       "  id diet exercises time score\n",
       "1 1  no   no        t1   10.43\n",
       "2 2  no   no        t1   11.59\n",
       "3 3  no   no        t1   11.35\n",
       "4 4  no   no        t1   11.12\n",
       "5 5  no   no        t1    9.50\n",
       "6 6  no   no        t1    9.50"
      ]
     },
     "metadata": {},
     "output_type": "display_data"
    }
   ],
   "source": [
    "head(weightloss)"
   ]
  },
  {
   "cell_type": "code",
   "execution_count": 49,
   "id": "1112899d",
   "metadata": {},
   "outputs": [
    {
     "data": {
      "image/png": "[encoded data removed]",
      "text/plain": [
       "plot without title"
      ]
     },
     "metadata": {
      "image/png": {
       "height": 420,
       "width": 420
      }
     },
     "output_type": "display_data"
    }
   ],
   "source": [
    "ggboxplot(\n",
    "  weightloss, x = \"exercises\", y = \"score\",\n",
    "  color = \"time\", palette = \"jco\",\n",
    "  facet.by = \"diet\", short.panel.labs = FALSE\n",
    "  )"
   ]
  },
  {
   "cell_type": "code",
   "execution_count": 50,
   "id": "7e4b4d61",
   "metadata": {},
   "outputs": [
    {
     "data": {
      "text/html": [
       "<table class=\"dataframe\">\n",
       "<caption>A tibble: 12 × 6</caption>\n",
       "<thead>\n",
       "\t<tr><th scope=col>diet</th><th scope=col>exercises</th><th scope=col>time</th><th scope=col>variable</th><th scope=col>statistic</th><th scope=col>p</th></tr>\n",
       "\t<tr><th scope=col>&lt;fct&gt;</th><th scope=col>&lt;fct&gt;</th><th scope=col>&lt;fct&gt;</th><th scope=col>&lt;chr&gt;</th><th scope=col>&lt;dbl&gt;</th><th scope=col>&lt;dbl&gt;</th></tr>\n",
       "</thead>\n",
       "<tbody>\n",
       "\t<tr><td>no </td><td>no </td><td>t1</td><td>score</td><td>0.9173082</td><td>0.2643971</td></tr>\n",
       "\t<tr><td>no </td><td>no </td><td>t2</td><td>score</td><td>0.9571979</td><td>0.7432089</td></tr>\n",
       "\t<tr><td>no </td><td>no </td><td>t3</td><td>score</td><td>0.9649090</td><td>0.8509028</td></tr>\n",
       "\t<tr><td>no </td><td>yes</td><td>t1</td><td>score</td><td>0.9223457</td><td>0.3059440</td></tr>\n",
       "\t<tr><td>no </td><td>yes</td><td>t2</td><td>score</td><td>0.9123400</td><td>0.2285804</td></tr>\n",
       "\t<tr><td>no </td><td>yes</td><td>t3</td><td>score</td><td>0.9525447</td><td>0.6744326</td></tr>\n",
       "\t<tr><td>yes</td><td>no </td><td>t1</td><td>score</td><td>0.9422786</td><td>0.5281443</td></tr>\n",
       "\t<tr><td>yes</td><td>no </td><td>t2</td><td>score</td><td>0.9816773</td><td>0.9894564</td></tr>\n",
       "\t<tr><td>yes</td><td>no </td><td>t3</td><td>score</td><td>0.9313724</td><td>0.3948864</td></tr>\n",
       "\t<tr><td>yes</td><td>yes</td><td>t1</td><td>score</td><td>0.9141565</td><td>0.2411125</td></tr>\n",
       "\t<tr><td>yes</td><td>yes</td><td>t2</td><td>score</td><td>0.9472878</td><td>0.5977346</td></tr>\n",
       "\t<tr><td>yes</td><td>yes</td><td>t3</td><td>score</td><td>0.9373215</td><td>0.4641723</td></tr>\n",
       "</tbody>\n",
       "</table>\n"
      ],
      "text/latex": [
       "A tibble: 12 × 6\n",
       "\\begin{tabular}{llllll}\n",
       " diet & exercises & time & variable & statistic & p\\\\\n",
       " <fct> & <fct> & <fct> & <chr> & <dbl> & <dbl>\\\\\n",
       "\\hline\n",
       "\t no  & no  & t1 & score & 0.9173082 & 0.2643971\\\\\n",
       "\t no  & no  & t2 & score & 0.9571979 & 0.7432089\\\\\n",
       "\t no  & no  & t3 & score & 0.9649090 & 0.8509028\\\\\n",
       "\t no  & yes & t1 & score & 0.9223457 & 0.3059440\\\\\n",
       "\t no  & yes & t2 & score & 0.9123400 & 0.2285804\\\\\n",
       "\t no  & yes & t3 & score & 0.9525447 & 0.6744326\\\\\n",
       "\t yes & no  & t1 & score & 0.9422786 & 0.5281443\\\\\n",
       "\t yes & no  & t2 & score & 0.9816773 & 0.9894564\\\\\n",
       "\t yes & no  & t3 & score & 0.9313724 & 0.3948864\\\\\n",
       "\t yes & yes & t1 & score & 0.9141565 & 0.2411125\\\\\n",
       "\t yes & yes & t2 & score & 0.9472878 & 0.5977346\\\\\n",
       "\t yes & yes & t3 & score & 0.9373215 & 0.4641723\\\\\n",
       "\\end{tabular}\n"
      ],
      "text/markdown": [
       "\n",
       "A tibble: 12 × 6\n",
       "\n",
       "| diet &lt;fct&gt; | exercises &lt;fct&gt; | time &lt;fct&gt; | variable &lt;chr&gt; | statistic &lt;dbl&gt; | p &lt;dbl&gt; |\n",
       "|---|---|---|---|---|---|\n",
       "| no  | no  | t1 | score | 0.9173082 | 0.2643971 |\n",
       "| no  | no  | t2 | score | 0.9571979 | 0.7432089 |\n",
       "| no  | no  | t3 | score | 0.9649090 | 0.8509028 |\n",
       "| no  | yes | t1 | score | 0.9223457 | 0.3059440 |\n",
       "| no  | yes | t2 | score | 0.9123400 | 0.2285804 |\n",
       "| no  | yes | t3 | score | 0.9525447 | 0.6744326 |\n",
       "| yes | no  | t1 | score | 0.9422786 | 0.5281443 |\n",
       "| yes | no  | t2 | score | 0.9816773 | 0.9894564 |\n",
       "| yes | no  | t3 | score | 0.9313724 | 0.3948864 |\n",
       "| yes | yes | t1 | score | 0.9141565 | 0.2411125 |\n",
       "| yes | yes | t2 | score | 0.9472878 | 0.5977346 |\n",
       "| yes | yes | t3 | score | 0.9373215 | 0.4641723 |\n",
       "\n"
      ],
      "text/plain": [
       "   diet exercises time variable statistic p        \n",
       "1  no   no        t1   score    0.9173082 0.2643971\n",
       "2  no   no        t2   score    0.9571979 0.7432089\n",
       "3  no   no        t3   score    0.9649090 0.8509028\n",
       "4  no   yes       t1   score    0.9223457 0.3059440\n",
       "5  no   yes       t2   score    0.9123400 0.2285804\n",
       "6  no   yes       t3   score    0.9525447 0.6744326\n",
       "7  yes  no        t1   score    0.9422786 0.5281443\n",
       "8  yes  no        t2   score    0.9816773 0.9894564\n",
       "9  yes  no        t3   score    0.9313724 0.3948864\n",
       "10 yes  yes       t1   score    0.9141565 0.2411125\n",
       "11 yes  yes       t2   score    0.9472878 0.5977346\n",
       "12 yes  yes       t3   score    0.9373215 0.4641723"
      ]
     },
     "metadata": {},
     "output_type": "display_data"
    }
   ],
   "source": [
    "#正态性\n",
    "weightloss %>%\n",
    "  group_by(diet, exercises, time) %>%\n",
    "  shapiro_test(score)"
   ]
  },
  {
   "cell_type": "code",
   "execution_count": 51,
   "id": "b892683a",
   "metadata": {},
   "outputs": [
    {
     "data": {
      "text/html": [
       "<table class=\"dataframe\">\n",
       "<caption>A tibble: 1 × 4</caption>\n",
       "<thead>\n",
       "\t<tr><th scope=col>df1</th><th scope=col>df2</th><th scope=col>statistic</th><th scope=col>p</th></tr>\n",
       "\t<tr><th scope=col>&lt;int&gt;</th><th scope=col>&lt;int&gt;</th><th scope=col>&lt;dbl&gt;</th><th scope=col>&lt;dbl&gt;</th></tr>\n",
       "</thead>\n",
       "<tbody>\n",
       "\t<tr><td>11</td><td>132</td><td>1.311458</td><td>0.2248131</td></tr>\n",
       "</tbody>\n",
       "</table>\n"
      ],
      "text/latex": [
       "A tibble: 1 × 4\n",
       "\\begin{tabular}{llll}\n",
       " df1 & df2 & statistic & p\\\\\n",
       " <int> & <int> & <dbl> & <dbl>\\\\\n",
       "\\hline\n",
       "\t 11 & 132 & 1.311458 & 0.2248131\\\\\n",
       "\\end{tabular}\n"
      ],
      "text/markdown": [
       "\n",
       "A tibble: 1 × 4\n",
       "\n",
       "| df1 &lt;int&gt; | df2 &lt;int&gt; | statistic &lt;dbl&gt; | p &lt;dbl&gt; |\n",
       "|---|---|---|---|\n",
       "| 11 | 132 | 1.311458 | 0.2248131 |\n",
       "\n"
      ],
      "text/plain": [
       "  df1 df2 statistic p        \n",
       "1 11  132 1.311458  0.2248131"
      ]
     },
     "metadata": {},
     "output_type": "display_data"
    }
   ],
   "source": [
    "#方差齐性\n",
    "levene_test(score ~ exercises*diet*time, data=weightloss)"
   ]
  },
  {
   "cell_type": "code",
   "execution_count": 52,
   "id": "2dde6b16",
   "metadata": {},
   "outputs": [
    {
     "name": "stderr",
     "output_type": "stream",
     "text": [
      "Warning message:\n",
      "\"The 'wid' column contains duplicate ids across between-subjects variables. Automatic unique id will be created\"\n"
     ]
    }
   ],
   "source": [
    "res.aov <- anova_test(\n",
    "  data = weightloss, dv = score, wid = id,\n",
    "  within = c(time,diet), between =exercises\n",
    "  )"
   ]
  },
  {
   "cell_type": "code",
   "execution_count": 53,
   "id": "a70adb6d",
   "metadata": {},
   "outputs": [
    {
     "data": {
      "text/html": [
       "<table class=\"dataframe\">\n",
       "<caption>A anova_test: 7 × 7</caption>\n",
       "<thead>\n",
       "\t<tr><th></th><th scope=col>Effect</th><th scope=col>DFn</th><th scope=col>DFd</th><th scope=col>F</th><th scope=col>p</th><th scope=col>p&lt;.05</th><th scope=col>ges</th></tr>\n",
       "\t<tr><th></th><th scope=col>&lt;chr&gt;</th><th scope=col>&lt;dbl&gt;</th><th scope=col>&lt;dbl&gt;</th><th scope=col>&lt;dbl&gt;</th><th scope=col>&lt;dbl&gt;</th><th scope=col>&lt;chr&gt;</th><th scope=col>&lt;dbl&gt;</th></tr>\n",
       "</thead>\n",
       "<tbody>\n",
       "\t<tr><th scope=row>1</th><td>exercises          </td><td>1</td><td>22</td><td>38.771</td><td>2.88e-06</td><td>*</td><td>0.284</td></tr>\n",
       "\t<tr><th scope=row>2</th><td>time               </td><td>2</td><td>44</td><td>82.199</td><td>1.38e-15</td><td>*</td><td>0.541</td></tr>\n",
       "\t<tr><th scope=row>3</th><td>diet               </td><td>1</td><td>22</td><td> 7.912</td><td>1.00e-02</td><td>*</td><td>0.028</td></tr>\n",
       "\t<tr><th scope=row>4</th><td>exercises:time     </td><td>2</td><td>44</td><td>26.222</td><td>3.18e-08</td><td>*</td><td>0.274</td></tr>\n",
       "\t<tr><th scope=row>5</th><td>exercises:diet     </td><td>1</td><td>22</td><td>51.698</td><td>3.31e-07</td><td>*</td><td>0.157</td></tr>\n",
       "\t<tr><th scope=row>6</th><td>time:diet          </td><td>2</td><td>44</td><td> 0.784</td><td>4.63e-01</td><td> </td><td>0.013</td></tr>\n",
       "\t<tr><th scope=row>7</th><td>exercises:time:diet</td><td>2</td><td>44</td><td> 9.966</td><td>2.69e-04</td><td>*</td><td>0.147</td></tr>\n",
       "</tbody>\n",
       "</table>\n"
      ],
      "text/latex": [
       "A anova\\_test: 7 × 7\n",
       "\\begin{tabular}{r|lllllll}\n",
       "  & Effect & DFn & DFd & F & p & p<.05 & ges\\\\\n",
       "  & <chr> & <dbl> & <dbl> & <dbl> & <dbl> & <chr> & <dbl>\\\\\n",
       "\\hline\n",
       "\t1 & exercises           & 1 & 22 & 38.771 & 2.88e-06 & * & 0.284\\\\\n",
       "\t2 & time                & 2 & 44 & 82.199 & 1.38e-15 & * & 0.541\\\\\n",
       "\t3 & diet                & 1 & 22 &  7.912 & 1.00e-02 & * & 0.028\\\\\n",
       "\t4 & exercises:time      & 2 & 44 & 26.222 & 3.18e-08 & * & 0.274\\\\\n",
       "\t5 & exercises:diet      & 1 & 22 & 51.698 & 3.31e-07 & * & 0.157\\\\\n",
       "\t6 & time:diet           & 2 & 44 &  0.784 & 4.63e-01 &   & 0.013\\\\\n",
       "\t7 & exercises:time:diet & 2 & 44 &  9.966 & 2.69e-04 & * & 0.147\\\\\n",
       "\\end{tabular}\n"
      ],
      "text/markdown": [
       "\n",
       "A anova_test: 7 × 7\n",
       "\n",
       "| <!--/--> | Effect &lt;chr&gt; | DFn &lt;dbl&gt; | DFd &lt;dbl&gt; | F &lt;dbl&gt; | p &lt;dbl&gt; | p&lt;.05 &lt;chr&gt; | ges &lt;dbl&gt; |\n",
       "|---|---|---|---|---|---|---|---|\n",
       "| 1 | exercises           | 1 | 22 | 38.771 | 2.88e-06 | * | 0.284 |\n",
       "| 2 | time                | 2 | 44 | 82.199 | 1.38e-15 | * | 0.541 |\n",
       "| 3 | diet                | 1 | 22 |  7.912 | 1.00e-02 | * | 0.028 |\n",
       "| 4 | exercises:time      | 2 | 44 | 26.222 | 3.18e-08 | * | 0.274 |\n",
       "| 5 | exercises:diet      | 1 | 22 | 51.698 | 3.31e-07 | * | 0.157 |\n",
       "| 6 | time:diet           | 2 | 44 |  0.784 | 4.63e-01 | <!----> | 0.013 |\n",
       "| 7 | exercises:time:diet | 2 | 44 |  9.966 | 2.69e-04 | * | 0.147 |\n",
       "\n"
      ],
      "text/plain": [
       "  Effect              DFn DFd F      p        p<.05 ges  \n",
       "1 exercises           1   22  38.771 2.88e-06 *     0.284\n",
       "2 time                2   44  82.199 1.38e-15 *     0.541\n",
       "3 diet                1   22   7.912 1.00e-02 *     0.028\n",
       "4 exercises:time      2   44  26.222 3.18e-08 *     0.274\n",
       "5 exercises:diet      1   22  51.698 3.31e-07 *     0.157\n",
       "6 time:diet           2   44   0.784 4.63e-01       0.013\n",
       "7 exercises:time:diet 2   44   9.966 2.69e-04 *     0.147"
      ]
     },
     "metadata": {},
     "output_type": "display_data"
    }
   ],
   "source": [
    "#主效应\n",
    "get_anova_table(res.aov)"
   ]
  },
  {
   "cell_type": "code",
   "execution_count": 54,
   "id": "f98c7295",
   "metadata": {},
   "outputs": [
    {
     "name": "stderr",
     "output_type": "stream",
     "text": [
      "Warning message:\n",
      "\"The 'wid' column contains duplicate ids across between-subjects variables. Automatic unique id will be created\"\n",
      "Warning message:\n",
      "\"The 'wid' column contains duplicate ids across between-subjects variables. Automatic unique id will be created\"\n",
      "Warning message:\n",
      "\"The 'wid' column contains duplicate ids across between-subjects variables. Automatic unique id will be created\"\n"
     ]
    },
    {
     "data": {
      "text/html": [
       "<table class=\"dataframe\">\n",
       "<caption>A grouped_anova_test: 9 × 8</caption>\n",
       "<thead>\n",
       "\t<tr><th></th><th scope=col>time</th><th scope=col>Effect</th><th scope=col>DFn</th><th scope=col>DFd</th><th scope=col>F</th><th scope=col>p</th><th scope=col>p&lt;.05</th><th scope=col>ges</th></tr>\n",
       "\t<tr><th></th><th scope=col>&lt;fct&gt;</th><th scope=col>&lt;chr&gt;</th><th scope=col>&lt;dbl&gt;</th><th scope=col>&lt;dbl&gt;</th><th scope=col>&lt;dbl&gt;</th><th scope=col>&lt;dbl&gt;</th><th scope=col>&lt;chr&gt;</th><th scope=col>&lt;dbl&gt;</th></tr>\n",
       "</thead>\n",
       "<tbody>\n",
       "\t<tr><th scope=row>1</th><td>t1</td><td>diet          </td><td>1</td><td>44</td><td> 5.565</td><td>2.30e-02</td><td>*</td><td>0.112</td></tr>\n",
       "\t<tr><th scope=row>2</th><td>t1</td><td>exercises     </td><td>1</td><td>44</td><td> 0.584</td><td>4.49e-01</td><td> </td><td>0.013</td></tr>\n",
       "\t<tr><th scope=row>3</th><td>t1</td><td>diet:exercises</td><td>1</td><td>44</td><td> 0.149</td><td>7.02e-01</td><td> </td><td>0.003</td></tr>\n",
       "\t<tr><th scope=row>4</th><td>t2</td><td>diet          </td><td>1</td><td>44</td><td> 0.828</td><td>3.68e-01</td><td> </td><td>0.018</td></tr>\n",
       "\t<tr><th scope=row>5</th><td>t2</td><td>exercises     </td><td>1</td><td>44</td><td>13.736</td><td>5.85e-04</td><td>*</td><td>0.238</td></tr>\n",
       "\t<tr><th scope=row>6</th><td>t2</td><td>diet:exercises</td><td>1</td><td>44</td><td> 2.117</td><td>1.53e-01</td><td> </td><td>0.046</td></tr>\n",
       "\t<tr><th scope=row>7</th><td>t3</td><td>diet          </td><td>1</td><td>44</td><td> 0.064</td><td>8.01e-01</td><td> </td><td>0.001</td></tr>\n",
       "\t<tr><th scope=row>8</th><td>t3</td><td>exercises     </td><td>1</td><td>44</td><td>82.493</td><td>1.19e-11</td><td>*</td><td>0.652</td></tr>\n",
       "\t<tr><th scope=row>9</th><td>t3</td><td>diet:exercises</td><td>1</td><td>44</td><td>42.943</td><td>5.18e-08</td><td>*</td><td>0.494</td></tr>\n",
       "</tbody>\n",
       "</table>\n"
      ],
      "text/latex": [
       "A grouped\\_anova\\_test: 9 × 8\n",
       "\\begin{tabular}{r|llllllll}\n",
       "  & time & Effect & DFn & DFd & F & p & p<.05 & ges\\\\\n",
       "  & <fct> & <chr> & <dbl> & <dbl> & <dbl> & <dbl> & <chr> & <dbl>\\\\\n",
       "\\hline\n",
       "\t1 & t1 & diet           & 1 & 44 &  5.565 & 2.30e-02 & * & 0.112\\\\\n",
       "\t2 & t1 & exercises      & 1 & 44 &  0.584 & 4.49e-01 &   & 0.013\\\\\n",
       "\t3 & t1 & diet:exercises & 1 & 44 &  0.149 & 7.02e-01 &   & 0.003\\\\\n",
       "\t4 & t2 & diet           & 1 & 44 &  0.828 & 3.68e-01 &   & 0.018\\\\\n",
       "\t5 & t2 & exercises      & 1 & 44 & 13.736 & 5.85e-04 & * & 0.238\\\\\n",
       "\t6 & t2 & diet:exercises & 1 & 44 &  2.117 & 1.53e-01 &   & 0.046\\\\\n",
       "\t7 & t3 & diet           & 1 & 44 &  0.064 & 8.01e-01 &   & 0.001\\\\\n",
       "\t8 & t3 & exercises      & 1 & 44 & 82.493 & 1.19e-11 & * & 0.652\\\\\n",
       "\t9 & t3 & diet:exercises & 1 & 44 & 42.943 & 5.18e-08 & * & 0.494\\\\\n",
       "\\end{tabular}\n"
      ],
      "text/markdown": [
       "\n",
       "A grouped_anova_test: 9 × 8\n",
       "\n",
       "| <!--/--> | time &lt;fct&gt; | Effect &lt;chr&gt; | DFn &lt;dbl&gt; | DFd &lt;dbl&gt; | F &lt;dbl&gt; | p &lt;dbl&gt; | p&lt;.05 &lt;chr&gt; | ges &lt;dbl&gt; |\n",
       "|---|---|---|---|---|---|---|---|---|\n",
       "| 1 | t1 | diet           | 1 | 44 |  5.565 | 2.30e-02 | * | 0.112 |\n",
       "| 2 | t1 | exercises      | 1 | 44 |  0.584 | 4.49e-01 | <!----> | 0.013 |\n",
       "| 3 | t1 | diet:exercises | 1 | 44 |  0.149 | 7.02e-01 | <!----> | 0.003 |\n",
       "| 4 | t2 | diet           | 1 | 44 |  0.828 | 3.68e-01 | <!----> | 0.018 |\n",
       "| 5 | t2 | exercises      | 1 | 44 | 13.736 | 5.85e-04 | * | 0.238 |\n",
       "| 6 | t2 | diet:exercises | 1 | 44 |  2.117 | 1.53e-01 | <!----> | 0.046 |\n",
       "| 7 | t3 | diet           | 1 | 44 |  0.064 | 8.01e-01 | <!----> | 0.001 |\n",
       "| 8 | t3 | exercises      | 1 | 44 | 82.493 | 1.19e-11 | * | 0.652 |\n",
       "| 9 | t3 | diet:exercises | 1 | 44 | 42.943 | 5.18e-08 | * | 0.494 |\n",
       "\n"
      ],
      "text/plain": [
       "  time Effect         DFn DFd F      p        p<.05 ges  \n",
       "1 t1   diet           1   44   5.565 2.30e-02 *     0.112\n",
       "2 t1   exercises      1   44   0.584 4.49e-01       0.013\n",
       "3 t1   diet:exercises 1   44   0.149 7.02e-01       0.003\n",
       "4 t2   diet           1   44   0.828 3.68e-01       0.018\n",
       "5 t2   exercises      1   44  13.736 5.85e-04 *     0.238\n",
       "6 t2   diet:exercises 1   44   2.117 1.53e-01       0.046\n",
       "7 t3   diet           1   44   0.064 8.01e-01       0.001\n",
       "8 t3   exercises      1   44  82.493 1.19e-11 *     0.652\n",
       "9 t3   diet:exercises 1   44  42.943 5.18e-08 *     0.494"
      ]
     },
     "metadata": {},
     "output_type": "display_data"
    }
   ],
   "source": [
    "#简单效应分析\n",
    "two.way <- weightloss %>%\n",
    "  group_by(time) %>%\n",
    "  anova_test(dv = score, wid = id, between = c(diet,exercises))\n",
    "two.way"
   ]
  },
  {
   "cell_type": "code",
   "execution_count": 55,
   "id": "bcdec62c",
   "metadata": {},
   "outputs": [
    {
     "data": {
      "text/html": [
       "<table class=\"dataframe\">\n",
       "<caption>A rstatix_test: 6 × 11</caption>\n",
       "<thead>\n",
       "\t<tr><th></th><th scope=col>exercises</th><th scope=col>time</th><th scope=col>.y.</th><th scope=col>group1</th><th scope=col>group2</th><th scope=col>n1</th><th scope=col>n2</th><th scope=col>p</th><th scope=col>p.signif</th><th scope=col>p.adj</th><th scope=col>p.adj.signif</th></tr>\n",
       "\t<tr><th></th><th scope=col>&lt;fct&gt;</th><th scope=col>&lt;fct&gt;</th><th scope=col>&lt;chr&gt;</th><th scope=col>&lt;chr&gt;</th><th scope=col>&lt;chr&gt;</th><th scope=col>&lt;int&gt;</th><th scope=col>&lt;int&gt;</th><th scope=col>&lt;dbl&gt;</th><th scope=col>&lt;chr&gt;</th><th scope=col>&lt;dbl&gt;</th><th scope=col>&lt;chr&gt;</th></tr>\n",
       "</thead>\n",
       "<tbody>\n",
       "\t<tr><th scope=row>1</th><td>no </td><td>t1</td><td>score</td><td>no</td><td>yes</td><td>12</td><td>12</td><td>0.034200</td><td>*  </td><td>0.034200</td><td>*  </td></tr>\n",
       "\t<tr><th scope=row>2</th><td>yes</td><td>t1</td><td>score</td><td>no</td><td>yes</td><td>12</td><td>12</td><td>0.227000</td><td>ns </td><td>0.227000</td><td>ns </td></tr>\n",
       "\t<tr><th scope=row>3</th><td>no </td><td>t2</td><td>score</td><td>no</td><td>yes</td><td>12</td><td>12</td><td>0.140000</td><td>ns </td><td>0.140000</td><td>ns </td></tr>\n",
       "\t<tr><th scope=row>4</th><td>yes</td><td>t2</td><td>score</td><td>no</td><td>yes</td><td>12</td><td>12</td><td>0.672000</td><td>ns </td><td>0.672000</td><td>ns </td></tr>\n",
       "\t<tr><th scope=row>5</th><td>no </td><td>t3</td><td>score</td><td>no</td><td>yes</td><td>12</td><td>12</td><td>0.000101</td><td>***</td><td>0.000101</td><td>***</td></tr>\n",
       "\t<tr><th scope=row>6</th><td>yes</td><td>t3</td><td>score</td><td>no</td><td>yes</td><td>12</td><td>12</td><td>0.000164</td><td>***</td><td>0.000164</td><td>***</td></tr>\n",
       "</tbody>\n",
       "</table>\n"
      ],
      "text/latex": [
       "A rstatix\\_test: 6 × 11\n",
       "\\begin{tabular}{r|lllllllllll}\n",
       "  & exercises & time & .y. & group1 & group2 & n1 & n2 & p & p.signif & p.adj & p.adj.signif\\\\\n",
       "  & <fct> & <fct> & <chr> & <chr> & <chr> & <int> & <int> & <dbl> & <chr> & <dbl> & <chr>\\\\\n",
       "\\hline\n",
       "\t1 & no  & t1 & score & no & yes & 12 & 12 & 0.034200 & *   & 0.034200 & *  \\\\\n",
       "\t2 & yes & t1 & score & no & yes & 12 & 12 & 0.227000 & ns  & 0.227000 & ns \\\\\n",
       "\t3 & no  & t2 & score & no & yes & 12 & 12 & 0.140000 & ns  & 0.140000 & ns \\\\\n",
       "\t4 & yes & t2 & score & no & yes & 12 & 12 & 0.672000 & ns  & 0.672000 & ns \\\\\n",
       "\t5 & no  & t3 & score & no & yes & 12 & 12 & 0.000101 & *** & 0.000101 & ***\\\\\n",
       "\t6 & yes & t3 & score & no & yes & 12 & 12 & 0.000164 & *** & 0.000164 & ***\\\\\n",
       "\\end{tabular}\n"
      ],
      "text/markdown": [
       "\n",
       "A rstatix_test: 6 × 11\n",
       "\n",
       "| <!--/--> | exercises &lt;fct&gt; | time &lt;fct&gt; | .y. &lt;chr&gt; | group1 &lt;chr&gt; | group2 &lt;chr&gt; | n1 &lt;int&gt; | n2 &lt;int&gt; | p &lt;dbl&gt; | p.signif &lt;chr&gt; | p.adj &lt;dbl&gt; | p.adj.signif &lt;chr&gt; |\n",
       "|---|---|---|---|---|---|---|---|---|---|---|---|\n",
       "| 1 | no  | t1 | score | no | yes | 12 | 12 | 0.034200 | *   | 0.034200 | *   |\n",
       "| 2 | yes | t1 | score | no | yes | 12 | 12 | 0.227000 | ns  | 0.227000 | ns  |\n",
       "| 3 | no  | t2 | score | no | yes | 12 | 12 | 0.140000 | ns  | 0.140000 | ns  |\n",
       "| 4 | yes | t2 | score | no | yes | 12 | 12 | 0.672000 | ns  | 0.672000 | ns  |\n",
       "| 5 | no  | t3 | score | no | yes | 12 | 12 | 0.000101 | *** | 0.000101 | *** |\n",
       "| 6 | yes | t3 | score | no | yes | 12 | 12 | 0.000164 | *** | 0.000164 | *** |\n",
       "\n"
      ],
      "text/plain": [
       "  exercises time .y.   group1 group2 n1 n2 p        p.signif p.adj   \n",
       "1 no        t1   score no     yes    12 12 0.034200 *        0.034200\n",
       "2 yes       t1   score no     yes    12 12 0.227000 ns       0.227000\n",
       "3 no        t2   score no     yes    12 12 0.140000 ns       0.140000\n",
       "4 yes       t2   score no     yes    12 12 0.672000 ns       0.672000\n",
       "5 no        t3   score no     yes    12 12 0.000101 ***      0.000101\n",
       "6 yes       t3   score no     yes    12 12 0.000164 ***      0.000164\n",
       "  p.adj.signif\n",
       "1 *           \n",
       "2 ns          \n",
       "3 ns          \n",
       "4 ns          \n",
       "5 ***         \n",
       "6 ***         "
      ]
     },
     "metadata": {},
     "output_type": "display_data"
    }
   ],
   "source": [
    "#两两比较\n",
    "weightloss %>%\n",
    "  group_by(time,exercises) %>%\n",
    "  pairwise_t_test(score ~ diet)\n"
   ]
  },
  {
   "cell_type": "code",
   "execution_count": null,
   "id": "b055f02a",
   "metadata": {},
   "outputs": [],
   "source": []
  }
 ],
 "metadata": {
  "kernelspec": {
   "display_name": "R",
   "language": "R",
   "name": "ir"
  },
  "language_info": {
   "codemirror_mode": "r",
   "file_extension": ".r",
   "mimetype": "text/x-r-source",
   "name": "R",
   "pygments_lexer": "r",
   "version": "4.2.1"
  }
 },
 "nbformat": 4,
 "nbformat_minor": 5
}
